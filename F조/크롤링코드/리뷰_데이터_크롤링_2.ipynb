{
  "cells": [
    {
      "cell_type": "markdown",
      "id": "57afe049",
      "metadata": {
        "id": "57afe049"
      },
      "source": [
        "# 리뷰 데이터 크롤링 코드"
      ]
    },
    {
      "cell_type": "code",
      "execution_count": null,
      "id": "d7a22679",
      "metadata": {
        "id": "d7a22679"
      },
      "outputs": [],
      "source": [
        "#셀레늄 라이브러리 불러오기\n",
        "from selenium import webdriver\n",
        "\n",
        "#셀레늄에서 html문서가 생성될 때까지 대기하는 함수 불러오기\n",
        "from selenium.webdriver.support.ui import WebDriverWait\n",
        "\n",
        "#셀레늄에서 조건을 걸어줄 수 있는 함수 불러오기\n",
        "from selenium.webdriver.support import expected_conditions as EC\n",
        "from selenium.webdriver.common.by import By"
      ]
    },
    {
      "cell_type": "code",
      "execution_count": null,
      "id": "ade0178a",
      "metadata": {
        "id": "ade0178a"
      },
      "outputs": [],
      "source": [
        "import re\n",
        "from pandas import DataFrame\n",
        "import pandas as pd\n",
        "import time\n",
        "import random"
      ]
    },
    {
      "cell_type": "code",
      "execution_count": null,
      "id": "e4f49bc3",
      "metadata": {
        "id": "e4f49bc3"
      },
      "outputs": [],
      "source": [
        "def scrolling():\n",
        "    try:        \n",
        "        # 스크롤 높이 받아오기\n",
        "        last_height = browser.execute_script(\"return document.body.scrollHeight\")\n",
        "        while True:\n",
        "            pause_time = 2\n",
        "            # 최하단까지 스크롤\n",
        "            browser.execute_script(\"window.scrollTo(0, document.body.scrollHeight);\")\n",
        "            # 페이지 로딩 대기\n",
        "            time.sleep(pause_time)\n",
        "            # 무한 스크롤 동작을 위해 살짝 위로 스크롤\n",
        "            browser.execute_script(\"window.scrollTo(0, document.body.scrollHeight-50);\")\n",
        "            time.sleep(pause_time)\n",
        "            # 스크롤 높이 새롭게 받아오기\n",
        "            new_height = browser.execute_script(\"return document.body.scrollHeight\")\n",
        "            try:\n",
        "                # '더보기' 버튼 있을 경우 클릭\n",
        "                more_btn = browser.find_element_by_xpath('/html/body/div[1]/div[4]/c-wiz/div/div[2]/div/div/main/div/div[1]/div[2]/div[2]/div/span/span').click()\n",
        "            except:\n",
        "                # 스크롤 완료 경우\n",
        "                if new_height == last_height:\n",
        "                    print(\"Scrolling is completed!!!\")\n",
        "                    break\n",
        "                last_height = new_height\n",
        "                \n",
        "    except Exception as e:\n",
        "        print(\"error occurred: \", e)"
      ]
    },
    {
      "cell_type": "markdown",
      "id": "7e611d76",
      "metadata": {
        "id": "7e611d76"
      },
      "source": [
        "# 슬립사이클 플레이스토어 한국어 리뷰 크롤링"
      ]
    },
    {
      "cell_type": "code",
      "execution_count": null,
      "id": "34af1e54",
      "metadata": {
        "id": "34af1e54",
        "outputId": "40b024a0-b625-4dab-a3bf-22e5d8058d84"
      },
      "outputs": [
        {
          "name": "stderr",
          "output_type": "stream",
          "text": [
            "C:\\Users\\rnjst\\AppData\\Local\\Temp/ipykernel_28540/4131515114.py:5: DeprecationWarning: executable_path has been deprecated, please pass in a Service object\n",
            "  browser = webdriver.Chrome(path)\n"
          ]
        }
      ],
      "source": [
        "#크롬드라이버 경로 설정\n",
        "path = './chromedriver'\n",
        "\n",
        "#드라이버 객체 생성\n",
        "browser = webdriver.Chrome(path)"
      ]
    },
    {
      "cell_type": "code",
      "execution_count": null,
      "id": "a852c10a",
      "metadata": {
        "id": "a852c10a"
      },
      "outputs": [],
      "source": [
        "browser.get('https://play.google.com/store/apps/details?id=com.northcube.sleepcycle')\n",
        "#플레이스토어에서 해당 어플 쳤을 때 보이는 화면.\n",
        "#&showAllReviews=true는 없어도 되는 부분\n",
        "#여기서 리뷰 3개 정도가 샘플로 보일 것!!!\n",
        "#해당 어플 쳤을 때 리뷰 샘플이 안보인다면, 그 어플 이름을 클릭할 수 있을텐데 그를 눌러주세요."
      ]
    },
    {
      "cell_type": "code",
      "execution_count": null,
      "id": "c3ca34e8",
      "metadata": {
        "id": "c3ca34e8",
        "outputId": "06098e95-8c91-43da-aa92-6afd0db21325"
      },
      "outputs": [
        {
          "name": "stderr",
          "output_type": "stream",
          "text": [
            "C:\\Users\\rnjst\\AppData\\Local\\Temp/ipykernel_28540/361740696.py:1: DeprecationWarning: find_element_by_* commands are deprecated. Please use find_element() instead\n",
            "  browser.find_element_by_xpath('//*[@id=\"yDmH0d\"]/c-wiz[2]/div/div/div[1]/div[2]/div/div[1]/c-wiz[3]/section/header/div/div[2]/button/i').click()\n"
          ]
        }
      ],
      "source": [
        "browser.find_element_by_xpath('//*[@id=\"yDmH0d\"]/c-wiz[2]/div/div/div[1]/div[2]/div/div[1]/c-wiz[3]/section/header/div/div[2]/button/i').click()\n",
        "#리뷰 더 확인할 수 있는 버튼 누르기\n",
        "#여기서부터는 [3] 링크 뒤로는 어떤 링크에 대해서도 모든 xpath가 전부 똑같습니다."
      ]
    },
    {
      "cell_type": "code",
      "execution_count": null,
      "id": "47f79104",
      "metadata": {
        "id": "47f79104"
      },
      "outputs": [],
      "source": [
        "sleepcycle = DataFrame(index=range(500), columns=['날짜','리뷰','별점'])"
      ]
    },
    {
      "cell_type": "code",
      "execution_count": null,
      "id": "84060c4e",
      "metadata": {
        "id": "84060c4e",
        "outputId": "5b20cd85-9e46-41bb-93c1-576e9375013a"
      },
      "outputs": [
        {
          "name": "stderr",
          "output_type": "stream",
          "text": [
            "C:\\Users\\rnjst\\AppData\\Local\\Temp/ipykernel_28540/1895745981.py:3: DeprecationWarning: find_element_by_* commands are deprecated. Please use find_element() instead\n",
            "  elem1 = browser.find_element_by_xpath('//*[@id=\"yDmH0d\"]/div[4]/div[2]/div/div/div/div/div[2]/div/div[1]/div[%d]/header/div[2]/span'%t)\n",
            "C:\\Users\\rnjst\\AppData\\Local\\Temp/ipykernel_28540/1895745981.py:5: DeprecationWarning: find_element_by_* commands are deprecated. Please use find_element() instead\n",
            "  elem2 = browser.find_element_by_xpath('//*[@id=\"yDmH0d\"]/div[4]/div[2]/div/div/div/div/div[2]/div/div[1]/div[%d]/div[1]'%t)\n",
            "C:\\Users\\rnjst\\AppData\\Local\\Temp/ipykernel_28540/1895745981.py:7: DeprecationWarning: find_element_by_* commands are deprecated. Please use find_element() instead\n",
            "  elem3 = browser.find_element_by_xpath('//*[@id=\"yDmH0d\"]/div[4]/div[2]/div/div/div/div/div[2]/div/div[1]/div[%d]/header/div[2]/div'%t)\n"
          ]
        }
      ],
      "source": [
        "for i in range(500):\n",
        "    t=i+1\n",
        "    elem1 = browser.find_element_by_xpath('//*[@id=\"yDmH0d\"]/div[4]/div[2]/div/div/div/div/div[2]/div/div[1]/div[%d]/header/div[2]/span'%t)\n",
        "    #날짜 텍스트를 뽑아내기 위한 xpath\n",
        "    elem2 = browser.find_element_by_xpath('//*[@id=\"yDmH0d\"]/div[4]/div[2]/div/div/div/div/div[2]/div/div[1]/div[%d]/div[1]'%t)\n",
        "    #리뷰 텍스트를 뽑아내기 위한 xpath\n",
        "    elem3 = browser.find_element_by_xpath('//*[@id=\"yDmH0d\"]/div[4]/div[2]/div/div/div/div/div[2]/div/div[1]/div[%d]/header/div[2]/div'%t)\n",
        "    #별점을 뽑아내기 위한 xpath\n",
        "        \n",
        "    sleepcycle['날짜'][i] = elem1.text\n",
        "    #여기서 날짜를... pd.date_range로 못했어요...\n",
        "    #필요하면 시도해보겠습니다...!\n",
        "    sleepcycle['리뷰'][i] = elem2.text\n",
        "    sleepcycle['별점'][i] = int(elem3.get_attribute('aria-label')[10])\n",
        "    #별점의 경우 elem3의 text가 아닌 attribute로 들어가있음. 해당 내용은 \"별 5점 만점에 5점을 받았습니다\" 이런 글귀!\n",
        "    #그래서 인덱싱을 통해서 5점 만점에 *점을 받았는지 뽑아서, 이를 정수형으로 만들어줌."
      ]
    },
    {
      "cell_type": "code",
      "execution_count": null,
      "id": "3dd9ad60",
      "metadata": {
        "id": "3dd9ad60",
        "outputId": "480dd58a-457b-4c93-855c-a69c746584f2"
      },
      "outputs": [
        {
          "data": {
            "text/html": [
              "<div>\n",
              "<style scoped>\n",
              "    .dataframe tbody tr th:only-of-type {\n",
              "        vertical-align: middle;\n",
              "    }\n",
              "\n",
              "    .dataframe tbody tr th {\n",
              "        vertical-align: top;\n",
              "    }\n",
              "\n",
              "    .dataframe thead th {\n",
              "        text-align: right;\n",
              "    }\n",
              "</style>\n",
              "<table border=\"1\" class=\"dataframe\">\n",
              "  <thead>\n",
              "    <tr style=\"text-align: right;\">\n",
              "      <th></th>\n",
              "      <th>날짜</th>\n",
              "      <th>리뷰</th>\n",
              "      <th>별점</th>\n",
              "    </tr>\n",
              "  </thead>\n",
              "  <tbody>\n",
              "    <tr>\n",
              "      <th>0</th>\n",
              "      <td>2022년 1월 9일</td>\n",
              "      <td>최근 몇달동안 유료로 구독해서 쓰고있는데 왜 저는 잠꼬대나 기침 이런게 녹음이 안되...</td>\n",
              "      <td>1</td>\n",
              "    </tr>\n",
              "    <tr>\n",
              "      <th>1</th>\n",
              "      <td>2022년 1월 15일</td>\n",
              "      <td>효과는 확실하여 만족하면서 쓰고있습니다. 일년씩이 아닌 한달마다 돈을 낼수있도록 구...</td>\n",
              "      <td>5</td>\n",
              "    </tr>\n",
              "    <tr>\n",
              "      <th>2</th>\n",
              "      <td>2022년 1월 5일</td>\n",
              "      <td>오늘 1시간전 2주 무료구독 신청했으나 지금 구독 철회합니다. 전혀 무료체험않고 구...</td>\n",
              "      <td>2</td>\n",
              "    </tr>\n",
              "    <tr>\n",
              "      <th>3</th>\n",
              "      <td>2022년 1월 21일</td>\n",
              "      <td>하루 써봤는데 괜찮은거같애용 근데 돈 내고 쓰긴 좀 그런데 구독취소? 는 어떻게하나요ㅠㅠ</td>\n",
              "      <td>4</td>\n",
              "    </tr>\n",
              "    <tr>\n",
              "      <th>4</th>\n",
              "      <td>2021년 12월 28일</td>\n",
              "      <td>취소방법 &gt;&gt; 플레이스토어 상단 내 프로필 - 구독 및 정기결제 - 정기결제 에서 ...</td>\n",
              "      <td>4</td>\n",
              "    </tr>\n",
              "    <tr>\n",
              "      <th>...</th>\n",
              "      <td>...</td>\n",
              "      <td>...</td>\n",
              "      <td>...</td>\n",
              "    </tr>\n",
              "    <tr>\n",
              "      <th>495</th>\n",
              "      <td>2019년 10월 4일</td>\n",
              "      <td>아직까진 좋음</td>\n",
              "      <td>5</td>\n",
              "    </tr>\n",
              "    <tr>\n",
              "      <th>496</th>\n",
              "      <td>2019년 9월 10일</td>\n",
              "      <td>환불해주세요</td>\n",
              "      <td>2</td>\n",
              "    </tr>\n",
              "    <tr>\n",
              "      <th>497</th>\n",
              "      <td>2019년 10월 19일</td>\n",
              "      <td>진짜 너무좋아요</td>\n",
              "      <td>5</td>\n",
              "    </tr>\n",
              "    <tr>\n",
              "      <th>498</th>\n",
              "      <td>2020년 4월 1일</td>\n",
              "      <td>유용해요</td>\n",
              "      <td>5</td>\n",
              "    </tr>\n",
              "    <tr>\n",
              "      <th>499</th>\n",
              "      <td>2019년 8월 25일</td>\n",
              "      <td>정말 좋아요</td>\n",
              "      <td>5</td>\n",
              "    </tr>\n",
              "  </tbody>\n",
              "</table>\n",
              "<p>500 rows × 3 columns</p>\n",
              "</div>"
            ],
            "text/plain": [
              "                날짜                                                 리뷰 별점\n",
              "0      2022년 1월 9일  최근 몇달동안 유료로 구독해서 쓰고있는데 왜 저는 잠꼬대나 기침 이런게 녹음이 안되...  1\n",
              "1     2022년 1월 15일  효과는 확실하여 만족하면서 쓰고있습니다. 일년씩이 아닌 한달마다 돈을 낼수있도록 구...  5\n",
              "2      2022년 1월 5일  오늘 1시간전 2주 무료구독 신청했으나 지금 구독 철회합니다. 전혀 무료체험않고 구...  2\n",
              "3     2022년 1월 21일  하루 써봤는데 괜찮은거같애용 근데 돈 내고 쓰긴 좀 그런데 구독취소? 는 어떻게하나요ㅠㅠ  4\n",
              "4    2021년 12월 28일  취소방법 >> 플레이스토어 상단 내 프로필 - 구독 및 정기결제 - 정기결제 에서 ...  4\n",
              "..             ...                                                ... ..\n",
              "495   2019년 10월 4일                                            아직까진 좋음  5\n",
              "496   2019년 9월 10일                                             환불해주세요  2\n",
              "497  2019년 10월 19일                                           진짜 너무좋아요  5\n",
              "498    2020년 4월 1일                                               유용해요  5\n",
              "499   2019년 8월 25일                                             정말 좋아요  5\n",
              "\n",
              "[500 rows x 3 columns]"
            ]
          },
          "execution_count": 10,
          "metadata": {},
          "output_type": "execute_result"
        }
      ],
      "source": [
        "sleepcycle"
      ]
    },
    {
      "cell_type": "code",
      "execution_count": null,
      "id": "77f3199d",
      "metadata": {
        "id": "77f3199d"
      },
      "outputs": [],
      "source": [
        "sleepcycle.to_csv('sleepcycle_gg.csv',encoding='utf-8-sig', index=False)"
      ]
    },
    {
      "cell_type": "code",
      "execution_count": null,
      "id": "e0f9b3e6",
      "metadata": {
        "id": "e0f9b3e6"
      },
      "outputs": [],
      "source": [
        "browser.quit()"
      ]
    },
    {
      "cell_type": "markdown",
      "id": "4d78a5f3",
      "metadata": {
        "id": "4d78a5f3"
      },
      "source": [
        "# 슬립지(sleepzy) 플레이스토어 한국어 리뷰 크롤링"
      ]
    },
    {
      "cell_type": "code",
      "execution_count": null,
      "id": "b71b3057",
      "metadata": {
        "id": "b71b3057",
        "outputId": "ff5f39a0-b79f-4a72-82cb-08aa1be2436e"
      },
      "outputs": [
        {
          "name": "stderr",
          "output_type": "stream",
          "text": [
            "C:\\Users\\rnjst\\AppData\\Local\\Temp/ipykernel_28540/4131515114.py:5: DeprecationWarning: executable_path has been deprecated, please pass in a Service object\n",
            "  browser = webdriver.Chrome(path)\n"
          ]
        }
      ],
      "source": [
        "#크롬드라이버 경로 설정\n",
        "path = './chromedriver'\n",
        "\n",
        "#드라이버 객체 생성\n",
        "browser = webdriver.Chrome(path)"
      ]
    },
    {
      "cell_type": "code",
      "execution_count": null,
      "id": "35acb831",
      "metadata": {
        "id": "35acb831"
      },
      "outputs": [],
      "source": [
        "browser.get('https://play.google.com/store/apps/details?id=com.apalon.alarmclock.smart')\n",
        "#플레이스토어에서 해당 어플 쳤을 때 보이는 화면.\n",
        "#&showAllReviews=true는 없어도 되는 부분\n",
        "#여기서 리뷰 3개 정도가 샘플로 보일 것!!!\n",
        "#해당 어플 쳤을 때 리뷰 샘플이 안보인다면, 그 어플 이름을 클릭할 수 있을텐데 그를 눌러주세요."
      ]
    },
    {
      "cell_type": "code",
      "execution_count": null,
      "id": "c8e49adb",
      "metadata": {
        "id": "c8e49adb",
        "outputId": "77f41075-1712-466a-fe11-eea1e00e78b1"
      },
      "outputs": [
        {
          "name": "stderr",
          "output_type": "stream",
          "text": [
            "C:\\Users\\rnjst\\AppData\\Local\\Temp/ipykernel_28540/361740696.py:1: DeprecationWarning: find_element_by_* commands are deprecated. Please use find_element() instead\n",
            "  browser.find_element_by_xpath('//*[@id=\"yDmH0d\"]/c-wiz[2]/div/div/div[1]/div[2]/div/div[1]/c-wiz[3]/section/header/div/div[2]/button/i').click()\n"
          ]
        }
      ],
      "source": [
        "browser.find_element_by_xpath('//*[@id=\"yDmH0d\"]/c-wiz[2]/div/div/div[1]/div[2]/div/div[1]/c-wiz[3]/section/header/div/div[2]/button/i').click()\n",
        "#리뷰 더 확인할 수 있는 버튼 누르기\n",
        "#여기서부터는 [3] 링크 뒤로는 어떤 링크에 대해서도 모든 xpath가 전부 똑같습니다."
      ]
    },
    {
      "cell_type": "code",
      "execution_count": null,
      "id": "1d02116c",
      "metadata": {
        "id": "1d02116c"
      },
      "outputs": [],
      "source": [
        "sleepzy = DataFrame(index=range(500), columns=['날짜','리뷰','별점'])"
      ]
    },
    {
      "cell_type": "code",
      "execution_count": null,
      "id": "0090d154",
      "metadata": {
        "id": "0090d154",
        "outputId": "7a6841b3-8e75-45b5-b541-57c6d7040414"
      },
      "outputs": [
        {
          "name": "stderr",
          "output_type": "stream",
          "text": [
            "C:\\Users\\rnjst\\AppData\\Local\\Temp/ipykernel_28540/2563542325.py:3: DeprecationWarning: find_element_by_* commands are deprecated. Please use find_element() instead\n",
            "  elem1 = browser.find_element_by_xpath('//*[@id=\"yDmH0d\"]/div[4]/div[2]/div/div/div/div/div[2]/div/div[1]/div[%d]/header/div[2]/span'%t)\n",
            "C:\\Users\\rnjst\\AppData\\Local\\Temp/ipykernel_28540/2563542325.py:5: DeprecationWarning: find_element_by_* commands are deprecated. Please use find_element() instead\n",
            "  elem2 = browser.find_element_by_xpath('//*[@id=\"yDmH0d\"]/div[4]/div[2]/div/div/div/div/div[2]/div/div[1]/div[%d]/div[1]'%t)\n",
            "C:\\Users\\rnjst\\AppData\\Local\\Temp/ipykernel_28540/2563542325.py:7: DeprecationWarning: find_element_by_* commands are deprecated. Please use find_element() instead\n",
            "  elem3 = browser.find_element_by_xpath('//*[@id=\"yDmH0d\"]/div[4]/div[2]/div/div/div/div/div[2]/div/div[1]/div[%d]/header/div[2]/div'%t)\n"
          ]
        },
        {
          "ename": "NoSuchElementException",
          "evalue": "Message: no such element: Unable to locate element: {\"method\":\"xpath\",\"selector\":\"//*[@id=\"yDmH0d\"]/div[4]/div[2]/div/div/div/div/div[2]/div/div[1]/div[248]/header/div[2]/span\"}\n  (Session info: chrome=97.0.4692.99)\nStacktrace:\nBacktrace:\n\tOrdinal0 [0x00C2FDC3+2555331]\n\tOrdinal0 [0x00BC77F1+2127857]\n\tOrdinal0 [0x00AC2E08+1060360]\n\tOrdinal0 [0x00AEE49E+1238174]\n\tOrdinal0 [0x00AEE69B+1238683]\n\tOrdinal0 [0x00B19252+1413714]\n\tOrdinal0 [0x00B07B54+1342292]\n\tOrdinal0 [0x00B175FA+1406458]\n\tOrdinal0 [0x00B07976+1341814]\n\tOrdinal0 [0x00AE36B6+1193654]\n\tOrdinal0 [0x00AE4546+1197382]\n\tGetHandleVerifier [0x00DC9622+1619522]\n\tGetHandleVerifier [0x00E7882C+2336844]\n\tGetHandleVerifier [0x00CC23E1+541697]\n\tGetHandleVerifier [0x00CC1443+537699]\n\tOrdinal0 [0x00BCD18E+2150798]\n\tOrdinal0 [0x00BD1518+2168088]\n\tOrdinal0 [0x00BD1660+2168416]\n\tOrdinal0 [0x00BDB330+2208560]\n\tBaseThreadInitThunk [0x76FCFA29+25]\n\tRtlGetAppContainerNamedObjectPath [0x77367A9E+286]\n\tRtlGetAppContainerNamedObjectPath [0x77367A6E+238]\n",
          "output_type": "error",
          "traceback": [
            "\u001b[1;31m---------------------------------------------------------------------------\u001b[0m",
            "\u001b[1;31mNoSuchElementException\u001b[0m                    Traceback (most recent call last)",
            "\u001b[1;32m~\\AppData\\Local\\Temp/ipykernel_28540/2563542325.py\u001b[0m in \u001b[0;36m<module>\u001b[1;34m\u001b[0m\n\u001b[0;32m      1\u001b[0m \u001b[1;32mfor\u001b[0m \u001b[0mi\u001b[0m \u001b[1;32min\u001b[0m \u001b[0mrange\u001b[0m\u001b[1;33m(\u001b[0m\u001b[1;36m500\u001b[0m\u001b[1;33m)\u001b[0m\u001b[1;33m:\u001b[0m\u001b[1;33m\u001b[0m\u001b[1;33m\u001b[0m\u001b[0m\n\u001b[0;32m      2\u001b[0m     \u001b[0mt\u001b[0m\u001b[1;33m=\u001b[0m\u001b[0mi\u001b[0m\u001b[1;33m+\u001b[0m\u001b[1;36m1\u001b[0m\u001b[1;33m\u001b[0m\u001b[1;33m\u001b[0m\u001b[0m\n\u001b[1;32m----> 3\u001b[1;33m     \u001b[0melem1\u001b[0m \u001b[1;33m=\u001b[0m \u001b[0mbrowser\u001b[0m\u001b[1;33m.\u001b[0m\u001b[0mfind_element_by_xpath\u001b[0m\u001b[1;33m(\u001b[0m\u001b[1;34m'//*[@id=\"yDmH0d\"]/div[4]/div[2]/div/div/div/div/div[2]/div/div[1]/div[%d]/header/div[2]/span'\u001b[0m\u001b[1;33m%\u001b[0m\u001b[0mt\u001b[0m\u001b[1;33m)\u001b[0m\u001b[1;33m\u001b[0m\u001b[1;33m\u001b[0m\u001b[0m\n\u001b[0m\u001b[0;32m      4\u001b[0m     \u001b[1;31m#날짜 텍스트를 뽑아내기 위한 xpath\u001b[0m\u001b[1;33m\u001b[0m\u001b[1;33m\u001b[0m\u001b[1;33m\u001b[0m\u001b[0m\n\u001b[0;32m      5\u001b[0m     \u001b[0melem2\u001b[0m \u001b[1;33m=\u001b[0m \u001b[0mbrowser\u001b[0m\u001b[1;33m.\u001b[0m\u001b[0mfind_element_by_xpath\u001b[0m\u001b[1;33m(\u001b[0m\u001b[1;34m'//*[@id=\"yDmH0d\"]/div[4]/div[2]/div/div/div/div/div[2]/div/div[1]/div[%d]/div[1]'\u001b[0m\u001b[1;33m%\u001b[0m\u001b[0mt\u001b[0m\u001b[1;33m)\u001b[0m\u001b[1;33m\u001b[0m\u001b[1;33m\u001b[0m\u001b[0m\n",
            "\u001b[1;32m~\\anaconda3\\lib\\site-packages\\selenium\\webdriver\\remote\\webdriver.py\u001b[0m in \u001b[0;36mfind_element_by_xpath\u001b[1;34m(self, xpath)\u001b[0m\n\u001b[0;32m    518\u001b[0m             \u001b[0mstacklevel\u001b[0m\u001b[1;33m=\u001b[0m\u001b[1;36m2\u001b[0m\u001b[1;33m,\u001b[0m\u001b[1;33m\u001b[0m\u001b[1;33m\u001b[0m\u001b[0m\n\u001b[0;32m    519\u001b[0m         )\n\u001b[1;32m--> 520\u001b[1;33m         \u001b[1;32mreturn\u001b[0m \u001b[0mself\u001b[0m\u001b[1;33m.\u001b[0m\u001b[0mfind_element\u001b[0m\u001b[1;33m(\u001b[0m\u001b[0mby\u001b[0m\u001b[1;33m=\u001b[0m\u001b[0mBy\u001b[0m\u001b[1;33m.\u001b[0m\u001b[0mXPATH\u001b[0m\u001b[1;33m,\u001b[0m \u001b[0mvalue\u001b[0m\u001b[1;33m=\u001b[0m\u001b[0mxpath\u001b[0m\u001b[1;33m)\u001b[0m\u001b[1;33m\u001b[0m\u001b[1;33m\u001b[0m\u001b[0m\n\u001b[0m\u001b[0;32m    521\u001b[0m \u001b[1;33m\u001b[0m\u001b[0m\n\u001b[0;32m    522\u001b[0m     \u001b[1;32mdef\u001b[0m \u001b[0mfind_elements_by_xpath\u001b[0m\u001b[1;33m(\u001b[0m\u001b[0mself\u001b[0m\u001b[1;33m,\u001b[0m \u001b[0mxpath\u001b[0m\u001b[1;33m)\u001b[0m \u001b[1;33m->\u001b[0m \u001b[0mWebElement\u001b[0m\u001b[1;33m:\u001b[0m\u001b[1;33m\u001b[0m\u001b[1;33m\u001b[0m\u001b[0m\n",
            "\u001b[1;32m~\\anaconda3\\lib\\site-packages\\selenium\\webdriver\\remote\\webdriver.py\u001b[0m in \u001b[0;36mfind_element\u001b[1;34m(self, by, value)\u001b[0m\n\u001b[0;32m   1242\u001b[0m             \u001b[0mvalue\u001b[0m \u001b[1;33m=\u001b[0m \u001b[1;34m'[name=\"%s\"]'\u001b[0m \u001b[1;33m%\u001b[0m \u001b[0mvalue\u001b[0m\u001b[1;33m\u001b[0m\u001b[1;33m\u001b[0m\u001b[0m\n\u001b[0;32m   1243\u001b[0m \u001b[1;33m\u001b[0m\u001b[0m\n\u001b[1;32m-> 1244\u001b[1;33m         return self.execute(Command.FIND_ELEMENT, {\n\u001b[0m\u001b[0;32m   1245\u001b[0m             \u001b[1;34m'using'\u001b[0m\u001b[1;33m:\u001b[0m \u001b[0mby\u001b[0m\u001b[1;33m,\u001b[0m\u001b[1;33m\u001b[0m\u001b[1;33m\u001b[0m\u001b[0m\n\u001b[0;32m   1246\u001b[0m             'value': value})['value']\n",
            "\u001b[1;32m~\\anaconda3\\lib\\site-packages\\selenium\\webdriver\\remote\\webdriver.py\u001b[0m in \u001b[0;36mexecute\u001b[1;34m(self, driver_command, params)\u001b[0m\n\u001b[0;32m    422\u001b[0m         \u001b[0mresponse\u001b[0m \u001b[1;33m=\u001b[0m \u001b[0mself\u001b[0m\u001b[1;33m.\u001b[0m\u001b[0mcommand_executor\u001b[0m\u001b[1;33m.\u001b[0m\u001b[0mexecute\u001b[0m\u001b[1;33m(\u001b[0m\u001b[0mdriver_command\u001b[0m\u001b[1;33m,\u001b[0m \u001b[0mparams\u001b[0m\u001b[1;33m)\u001b[0m\u001b[1;33m\u001b[0m\u001b[1;33m\u001b[0m\u001b[0m\n\u001b[0;32m    423\u001b[0m         \u001b[1;32mif\u001b[0m \u001b[0mresponse\u001b[0m\u001b[1;33m:\u001b[0m\u001b[1;33m\u001b[0m\u001b[1;33m\u001b[0m\u001b[0m\n\u001b[1;32m--> 424\u001b[1;33m             \u001b[0mself\u001b[0m\u001b[1;33m.\u001b[0m\u001b[0merror_handler\u001b[0m\u001b[1;33m.\u001b[0m\u001b[0mcheck_response\u001b[0m\u001b[1;33m(\u001b[0m\u001b[0mresponse\u001b[0m\u001b[1;33m)\u001b[0m\u001b[1;33m\u001b[0m\u001b[1;33m\u001b[0m\u001b[0m\n\u001b[0m\u001b[0;32m    425\u001b[0m             response['value'] = self._unwrap_value(\n\u001b[0;32m    426\u001b[0m                 response.get('value', None))\n",
            "\u001b[1;32m~\\anaconda3\\lib\\site-packages\\selenium\\webdriver\\remote\\errorhandler.py\u001b[0m in \u001b[0;36mcheck_response\u001b[1;34m(self, response)\u001b[0m\n\u001b[0;32m    245\u001b[0m                 \u001b[0malert_text\u001b[0m \u001b[1;33m=\u001b[0m \u001b[0mvalue\u001b[0m\u001b[1;33m[\u001b[0m\u001b[1;34m'alert'\u001b[0m\u001b[1;33m]\u001b[0m\u001b[1;33m.\u001b[0m\u001b[0mget\u001b[0m\u001b[1;33m(\u001b[0m\u001b[1;34m'text'\u001b[0m\u001b[1;33m)\u001b[0m\u001b[1;33m\u001b[0m\u001b[1;33m\u001b[0m\u001b[0m\n\u001b[0;32m    246\u001b[0m             \u001b[1;32mraise\u001b[0m \u001b[0mexception_class\u001b[0m\u001b[1;33m(\u001b[0m\u001b[0mmessage\u001b[0m\u001b[1;33m,\u001b[0m \u001b[0mscreen\u001b[0m\u001b[1;33m,\u001b[0m \u001b[0mstacktrace\u001b[0m\u001b[1;33m,\u001b[0m \u001b[0malert_text\u001b[0m\u001b[1;33m)\u001b[0m  \u001b[1;31m# type: ignore[call-arg]  # mypy is not smart enough here\u001b[0m\u001b[1;33m\u001b[0m\u001b[1;33m\u001b[0m\u001b[0m\n\u001b[1;32m--> 247\u001b[1;33m         \u001b[1;32mraise\u001b[0m \u001b[0mexception_class\u001b[0m\u001b[1;33m(\u001b[0m\u001b[0mmessage\u001b[0m\u001b[1;33m,\u001b[0m \u001b[0mscreen\u001b[0m\u001b[1;33m,\u001b[0m \u001b[0mstacktrace\u001b[0m\u001b[1;33m)\u001b[0m\u001b[1;33m\u001b[0m\u001b[1;33m\u001b[0m\u001b[0m\n\u001b[0m\u001b[0;32m    248\u001b[0m \u001b[1;33m\u001b[0m\u001b[0m\n\u001b[0;32m    249\u001b[0m     \u001b[1;32mdef\u001b[0m \u001b[0m_value_or_default\u001b[0m\u001b[1;33m(\u001b[0m\u001b[0mself\u001b[0m\u001b[1;33m,\u001b[0m \u001b[0mobj\u001b[0m\u001b[1;33m:\u001b[0m \u001b[0mMapping\u001b[0m\u001b[1;33m[\u001b[0m\u001b[0m_KT\u001b[0m\u001b[1;33m,\u001b[0m \u001b[0m_VT\u001b[0m\u001b[1;33m]\u001b[0m\u001b[1;33m,\u001b[0m \u001b[0mkey\u001b[0m\u001b[1;33m:\u001b[0m \u001b[0m_KT\u001b[0m\u001b[1;33m,\u001b[0m \u001b[0mdefault\u001b[0m\u001b[1;33m:\u001b[0m \u001b[0m_VT\u001b[0m\u001b[1;33m)\u001b[0m \u001b[1;33m->\u001b[0m \u001b[0m_VT\u001b[0m\u001b[1;33m:\u001b[0m\u001b[1;33m\u001b[0m\u001b[1;33m\u001b[0m\u001b[0m\n",
            "\u001b[1;31mNoSuchElementException\u001b[0m: Message: no such element: Unable to locate element: {\"method\":\"xpath\",\"selector\":\"//*[@id=\"yDmH0d\"]/div[4]/div[2]/div/div/div/div/div[2]/div/div[1]/div[248]/header/div[2]/span\"}\n  (Session info: chrome=97.0.4692.99)\nStacktrace:\nBacktrace:\n\tOrdinal0 [0x00C2FDC3+2555331]\n\tOrdinal0 [0x00BC77F1+2127857]\n\tOrdinal0 [0x00AC2E08+1060360]\n\tOrdinal0 [0x00AEE49E+1238174]\n\tOrdinal0 [0x00AEE69B+1238683]\n\tOrdinal0 [0x00B19252+1413714]\n\tOrdinal0 [0x00B07B54+1342292]\n\tOrdinal0 [0x00B175FA+1406458]\n\tOrdinal0 [0x00B07976+1341814]\n\tOrdinal0 [0x00AE36B6+1193654]\n\tOrdinal0 [0x00AE4546+1197382]\n\tGetHandleVerifier [0x00DC9622+1619522]\n\tGetHandleVerifier [0x00E7882C+2336844]\n\tGetHandleVerifier [0x00CC23E1+541697]\n\tGetHandleVerifier [0x00CC1443+537699]\n\tOrdinal0 [0x00BCD18E+2150798]\n\tOrdinal0 [0x00BD1518+2168088]\n\tOrdinal0 [0x00BD1660+2168416]\n\tOrdinal0 [0x00BDB330+2208560]\n\tBaseThreadInitThunk [0x76FCFA29+25]\n\tRtlGetAppContainerNamedObjectPath [0x77367A9E+286]\n\tRtlGetAppContainerNamedObjectPath [0x77367A6E+238]\n"
          ]
        }
      ],
      "source": [
        "# 한국어 리뷰가 500개가 되지 않아 오류가 난 것. 있는 만큼만 크롤링함.\n",
        "for i in range(500):\n",
        "    t=i+1\n",
        "    elem1 = browser.find_element_by_xpath('//*[@id=\"yDmH0d\"]/div[4]/div[2]/div/div/div/div/div[2]/div/div[1]/div[%d]/header/div[2]/span'%t)\n",
        "    #날짜 텍스트를 뽑아내기 위한 xpath\n",
        "    elem2 = browser.find_element_by_xpath('//*[@id=\"yDmH0d\"]/div[4]/div[2]/div/div/div/div/div[2]/div/div[1]/div[%d]/div[1]'%t)\n",
        "    #리뷰 텍스트를 뽑아내기 위한 xpath\n",
        "    elem3 = browser.find_element_by_xpath('//*[@id=\"yDmH0d\"]/div[4]/div[2]/div/div/div/div/div[2]/div/div[1]/div[%d]/header/div[2]/div'%t)\n",
        "    #별점을 뽑아내기 위한 xpath\n",
        "        \n",
        "    sleepzy['날짜'][i] = elem1.text\n",
        "    #여기서 날짜를... pd.date_range로 못했어요...\n",
        "    #필요하면 시도해보겠습니다...!\n",
        "    sleepzy['리뷰'][i] = elem2.text\n",
        "    sleepzy['별점'][i] = int(elem3.get_attribute('aria-label')[10])\n",
        "    #별점의 경우 elem3의 text가 아닌 attribute로 들어가있음. 해당 내용은 \"별 5점 만점에 5점을 받았습니다\" 이런 글귀!\n",
        "    #그래서 인덱싱을 통해서 5점 만점에 *점을 받았는지 뽑아서, 이를 정수형으로 만들어줌."
      ]
    },
    {
      "cell_type": "code",
      "execution_count": null,
      "id": "8033b2da",
      "metadata": {
        "id": "8033b2da"
      },
      "outputs": [],
      "source": [
        "sleepzy = sleepzy.dropna()"
      ]
    },
    {
      "cell_type": "code",
      "execution_count": null,
      "id": "398ed155",
      "metadata": {
        "id": "398ed155",
        "outputId": "8917c752-346c-486c-87fe-bbff1971f140"
      },
      "outputs": [
        {
          "data": {
            "text/html": [
              "<div>\n",
              "<style scoped>\n",
              "    .dataframe tbody tr th:only-of-type {\n",
              "        vertical-align: middle;\n",
              "    }\n",
              "\n",
              "    .dataframe tbody tr th {\n",
              "        vertical-align: top;\n",
              "    }\n",
              "\n",
              "    .dataframe thead th {\n",
              "        text-align: right;\n",
              "    }\n",
              "</style>\n",
              "<table border=\"1\" class=\"dataframe\">\n",
              "  <thead>\n",
              "    <tr style=\"text-align: right;\">\n",
              "      <th></th>\n",
              "      <th>날짜</th>\n",
              "      <th>리뷰</th>\n",
              "      <th>별점</th>\n",
              "    </tr>\n",
              "  </thead>\n",
              "  <tbody>\n",
              "    <tr>\n",
              "      <th>0</th>\n",
              "      <td>2019년 12월 23일</td>\n",
              "      <td>제가 잠꼬대를 자주 하는 편이라 깔았고 녹음도 잘 돼서 결제했고 초반엔 잘 됐는데 ...</td>\n",
              "      <td>4</td>\n",
              "    </tr>\n",
              "    <tr>\n",
              "      <th>1</th>\n",
              "      <td>2020년 4월 5일</td>\n",
              "      <td>저는 앱 다운 받자마자 별로인 거 같아서 바로 삭제했는데, 자동으로 유료결제하겠다는...</td>\n",
              "      <td>1</td>\n",
              "    </tr>\n",
              "    <tr>\n",
              "      <th>2</th>\n",
              "      <td>2019년 1월 22일</td>\n",
              "      <td>알람앱 여러가지 써봤지만 이게 최고. 스트레스없는 기상이 뭔 소리야 라고 했던 나 ...</td>\n",
              "      <td>5</td>\n",
              "    </tr>\n",
              "    <tr>\n",
              "      <th>3</th>\n",
              "      <td>2020년 10월 27일</td>\n",
              "      <td>저도 환불 요청합니다. 아무 알림도 없이 돈이 갑자기 어디서 이렇게 많이 빠져나갔나...</td>\n",
              "      <td>1</td>\n",
              "    </tr>\n",
              "    <tr>\n",
              "      <th>4</th>\n",
              "      <td>2021년 9월 12일</td>\n",
              "      <td>무료체험하기를 했는데 50000원이 결제가 됬네요 요즘엔 무료체험 돈주고 해야되나요...</td>\n",
              "      <td>1</td>\n",
              "    </tr>\n",
              "    <tr>\n",
              "      <th>...</th>\n",
              "      <td>...</td>\n",
              "      <td>...</td>\n",
              "      <td>...</td>\n",
              "    </tr>\n",
              "    <tr>\n",
              "      <th>242</th>\n",
              "      <td>2019년 3월 5일</td>\n",
              "      <td>감사합니다</td>\n",
              "      <td>5</td>\n",
              "    </tr>\n",
              "    <tr>\n",
              "      <th>243</th>\n",
              "      <td>2019년 4월 22일</td>\n",
              "      <td>편리합니다</td>\n",
              "      <td>5</td>\n",
              "    </tr>\n",
              "    <tr>\n",
              "      <th>244</th>\n",
              "      <td>2019년 10월 9일</td>\n",
              "      <td>비싸</td>\n",
              "      <td>1</td>\n",
              "    </tr>\n",
              "    <tr>\n",
              "      <th>245</th>\n",
              "      <td>2016년 6월 24일</td>\n",
              "      <td>좋아요</td>\n",
              "      <td>1</td>\n",
              "    </tr>\n",
              "    <tr>\n",
              "      <th>246</th>\n",
              "      <td>2016년 8월 14일</td>\n",
              "      <td>좋아</td>\n",
              "      <td>5</td>\n",
              "    </tr>\n",
              "  </tbody>\n",
              "</table>\n",
              "<p>247 rows × 3 columns</p>\n",
              "</div>"
            ],
            "text/plain": [
              "                날짜                                                 리뷰 별점\n",
              "0    2019년 12월 23일  제가 잠꼬대를 자주 하는 편이라 깔았고 녹음도 잘 돼서 결제했고 초반엔 잘 됐는데 ...  4\n",
              "1      2020년 4월 5일  저는 앱 다운 받자마자 별로인 거 같아서 바로 삭제했는데, 자동으로 유료결제하겠다는...  1\n",
              "2     2019년 1월 22일  알람앱 여러가지 써봤지만 이게 최고. 스트레스없는 기상이 뭔 소리야 라고 했던 나 ...  5\n",
              "3    2020년 10월 27일  저도 환불 요청합니다. 아무 알림도 없이 돈이 갑자기 어디서 이렇게 많이 빠져나갔나...  1\n",
              "4     2021년 9월 12일  무료체험하기를 했는데 50000원이 결제가 됬네요 요즘엔 무료체험 돈주고 해야되나요...  1\n",
              "..             ...                                                ... ..\n",
              "242    2019년 3월 5일                                              감사합니다  5\n",
              "243   2019년 4월 22일                                              편리합니다  5\n",
              "244   2019년 10월 9일                                                 비싸  1\n",
              "245   2016년 6월 24일                                                좋아요  1\n",
              "246   2016년 8월 14일                                                 좋아  5\n",
              "\n",
              "[247 rows x 3 columns]"
            ]
          },
          "execution_count": 52,
          "metadata": {},
          "output_type": "execute_result"
        }
      ],
      "source": [
        "sleepzy"
      ]
    },
    {
      "cell_type": "code",
      "execution_count": null,
      "id": "419bfa0e",
      "metadata": {
        "id": "419bfa0e"
      },
      "outputs": [],
      "source": [
        "sleepzy.to_csv('sleepzy_gg.csv',encoding='utf-8-sig', index=False)"
      ]
    },
    {
      "cell_type": "code",
      "execution_count": null,
      "id": "889f5686",
      "metadata": {
        "id": "889f5686"
      },
      "outputs": [],
      "source": [
        "browser.quit()"
      ]
    },
    {
      "cell_type": "markdown",
      "id": "6312b634",
      "metadata": {
        "id": "6312b634"
      },
      "source": [
        "# 슬립모니터 플레이스토어 한국어 리뷰 크롤링"
      ]
    },
    {
      "cell_type": "code",
      "execution_count": null,
      "id": "79e36b82",
      "metadata": {
        "id": "79e36b82",
        "outputId": "17670544-6cdb-42f9-a8cf-479a11adee9c"
      },
      "outputs": [
        {
          "name": "stderr",
          "output_type": "stream",
          "text": [
            "C:\\Users\\rnjst\\AppData\\Local\\Temp/ipykernel_28540/4131515114.py:5: DeprecationWarning: executable_path has been deprecated, please pass in a Service object\n",
            "  browser = webdriver.Chrome(path)\n"
          ]
        }
      ],
      "source": [
        "#크롬드라이버 경로 설정\n",
        "path = './chromedriver'\n",
        "\n",
        "#드라이버 객체 생성\n",
        "browser = webdriver.Chrome(path)"
      ]
    },
    {
      "cell_type": "code",
      "execution_count": null,
      "id": "f3193678",
      "metadata": {
        "id": "f3193678"
      },
      "outputs": [],
      "source": [
        "browser.get('https://play.google.com/store/apps/details?id=com.sleepmonitor.aio')\n",
        "#플레이스토어에서 해당 어플 쳤을 때 보이는 화면.\n",
        "#&showAllReviews=true는 없어도 되는 부분\n",
        "#여기서 리뷰 3개 정도가 샘플로 보일 것!!!\n",
        "#해당 어플 쳤을 때 리뷰 샘플이 안보인다면, 그 어플 이름을 클릭할 수 있을텐데 그를 눌러주세요."
      ]
    },
    {
      "cell_type": "code",
      "execution_count": null,
      "id": "f8cf2286",
      "metadata": {
        "id": "f8cf2286",
        "outputId": "664e46d3-3ab1-4a63-82df-cd2135c92274"
      },
      "outputs": [
        {
          "name": "stderr",
          "output_type": "stream",
          "text": [
            "C:\\Users\\rnjst\\AppData\\Local\\Temp/ipykernel_28540/361740696.py:1: DeprecationWarning: find_element_by_* commands are deprecated. Please use find_element() instead\n",
            "  browser.find_element_by_xpath('//*[@id=\"yDmH0d\"]/c-wiz[2]/div/div/div[1]/div[2]/div/div[1]/c-wiz[3]/section/header/div/div[2]/button/i').click()\n"
          ]
        }
      ],
      "source": [
        "browser.find_element_by_xpath('//*[@id=\"yDmH0d\"]/c-wiz[2]/div/div/div[1]/div[2]/div/div[1]/c-wiz[3]/section/header/div/div[2]/button/i').click()\n",
        "#리뷰 더 확인할 수 있는 버튼 누르기\n",
        "#여기서부터는 [3] 링크 뒤로는 어떤 링크에 대해서도 모든 xpath가 전부 똑같습니다."
      ]
    },
    {
      "cell_type": "code",
      "execution_count": null,
      "id": "e4dd07a2",
      "metadata": {
        "id": "e4dd07a2"
      },
      "outputs": [],
      "source": [
        "sleepmonitor = DataFrame(index=range(500), columns=['날짜','리뷰','별점'])"
      ]
    },
    {
      "cell_type": "code",
      "execution_count": null,
      "id": "8f557a3b",
      "metadata": {
        "id": "8f557a3b",
        "outputId": "13ca66cf-2102-4ece-9e4c-1eaf5df84c76"
      },
      "outputs": [
        {
          "name": "stderr",
          "output_type": "stream",
          "text": [
            "C:\\Users\\rnjst\\AppData\\Local\\Temp/ipykernel_28540/2929111488.py:3: DeprecationWarning: find_element_by_* commands are deprecated. Please use find_element() instead\n",
            "  elem1 = browser.find_element_by_xpath('//*[@id=\"yDmH0d\"]/div[4]/div[2]/div/div/div/div/div[2]/div/div[1]/div[%d]/header/div[2]/span'%t)\n",
            "C:\\Users\\rnjst\\AppData\\Local\\Temp/ipykernel_28540/2929111488.py:5: DeprecationWarning: find_element_by_* commands are deprecated. Please use find_element() instead\n",
            "  elem2 = browser.find_element_by_xpath('//*[@id=\"yDmH0d\"]/div[4]/div[2]/div/div/div/div/div[2]/div/div[1]/div[%d]/div[1]'%t)\n",
            "C:\\Users\\rnjst\\AppData\\Local\\Temp/ipykernel_28540/2929111488.py:7: DeprecationWarning: find_element_by_* commands are deprecated. Please use find_element() instead\n",
            "  elem3 = browser.find_element_by_xpath('//*[@id=\"yDmH0d\"]/div[4]/div[2]/div/div/div/div/div[2]/div/div[1]/div[%d]/header/div[2]/div'%t)\n"
          ]
        },
        {
          "ename": "NoSuchElementException",
          "evalue": "Message: no such element: Unable to locate element: {\"method\":\"xpath\",\"selector\":\"//*[@id=\"yDmH0d\"]/div[4]/div[2]/div/div/div/div/div[2]/div/div[1]/div[274]/header/div[2]/span\"}\n  (Session info: chrome=97.0.4692.99)\nStacktrace:\nBacktrace:\n\tOrdinal0 [0x00C2FDC3+2555331]\n\tOrdinal0 [0x00BC77F1+2127857]\n\tOrdinal0 [0x00AC2E08+1060360]\n\tOrdinal0 [0x00AEE49E+1238174]\n\tOrdinal0 [0x00AEE69B+1238683]\n\tOrdinal0 [0x00B19252+1413714]\n\tOrdinal0 [0x00B07B54+1342292]\n\tOrdinal0 [0x00B175FA+1406458]\n\tOrdinal0 [0x00B07976+1341814]\n\tOrdinal0 [0x00AE36B6+1193654]\n\tOrdinal0 [0x00AE4546+1197382]\n\tGetHandleVerifier [0x00DC9622+1619522]\n\tGetHandleVerifier [0x00E7882C+2336844]\n\tGetHandleVerifier [0x00CC23E1+541697]\n\tGetHandleVerifier [0x00CC1443+537699]\n\tOrdinal0 [0x00BCD18E+2150798]\n\tOrdinal0 [0x00BD1518+2168088]\n\tOrdinal0 [0x00BD1660+2168416]\n\tOrdinal0 [0x00BDB330+2208560]\n\tBaseThreadInitThunk [0x76FCFA29+25]\n\tRtlGetAppContainerNamedObjectPath [0x77367A9E+286]\n\tRtlGetAppContainerNamedObjectPath [0x77367A6E+238]\n",
          "output_type": "error",
          "traceback": [
            "\u001b[1;31m---------------------------------------------------------------------------\u001b[0m",
            "\u001b[1;31mNoSuchElementException\u001b[0m                    Traceback (most recent call last)",
            "\u001b[1;32m~\\AppData\\Local\\Temp/ipykernel_28540/2929111488.py\u001b[0m in \u001b[0;36m<module>\u001b[1;34m\u001b[0m\n\u001b[0;32m      1\u001b[0m \u001b[1;32mfor\u001b[0m \u001b[0mi\u001b[0m \u001b[1;32min\u001b[0m \u001b[0mrange\u001b[0m\u001b[1;33m(\u001b[0m\u001b[1;36m500\u001b[0m\u001b[1;33m)\u001b[0m\u001b[1;33m:\u001b[0m\u001b[1;33m\u001b[0m\u001b[1;33m\u001b[0m\u001b[0m\n\u001b[0;32m      2\u001b[0m     \u001b[0mt\u001b[0m\u001b[1;33m=\u001b[0m\u001b[0mi\u001b[0m\u001b[1;33m+\u001b[0m\u001b[1;36m1\u001b[0m\u001b[1;33m\u001b[0m\u001b[1;33m\u001b[0m\u001b[0m\n\u001b[1;32m----> 3\u001b[1;33m     \u001b[0melem1\u001b[0m \u001b[1;33m=\u001b[0m \u001b[0mbrowser\u001b[0m\u001b[1;33m.\u001b[0m\u001b[0mfind_element_by_xpath\u001b[0m\u001b[1;33m(\u001b[0m\u001b[1;34m'//*[@id=\"yDmH0d\"]/div[4]/div[2]/div/div/div/div/div[2]/div/div[1]/div[%d]/header/div[2]/span'\u001b[0m\u001b[1;33m%\u001b[0m\u001b[0mt\u001b[0m\u001b[1;33m)\u001b[0m\u001b[1;33m\u001b[0m\u001b[1;33m\u001b[0m\u001b[0m\n\u001b[0m\u001b[0;32m      4\u001b[0m     \u001b[1;31m#날짜 텍스트를 뽑아내기 위한 xpath\u001b[0m\u001b[1;33m\u001b[0m\u001b[1;33m\u001b[0m\u001b[1;33m\u001b[0m\u001b[0m\n\u001b[0;32m      5\u001b[0m     \u001b[0melem2\u001b[0m \u001b[1;33m=\u001b[0m \u001b[0mbrowser\u001b[0m\u001b[1;33m.\u001b[0m\u001b[0mfind_element_by_xpath\u001b[0m\u001b[1;33m(\u001b[0m\u001b[1;34m'//*[@id=\"yDmH0d\"]/div[4]/div[2]/div/div/div/div/div[2]/div/div[1]/div[%d]/div[1]'\u001b[0m\u001b[1;33m%\u001b[0m\u001b[0mt\u001b[0m\u001b[1;33m)\u001b[0m\u001b[1;33m\u001b[0m\u001b[1;33m\u001b[0m\u001b[0m\n",
            "\u001b[1;32m~\\anaconda3\\lib\\site-packages\\selenium\\webdriver\\remote\\webdriver.py\u001b[0m in \u001b[0;36mfind_element_by_xpath\u001b[1;34m(self, xpath)\u001b[0m\n\u001b[0;32m    518\u001b[0m             \u001b[0mstacklevel\u001b[0m\u001b[1;33m=\u001b[0m\u001b[1;36m2\u001b[0m\u001b[1;33m,\u001b[0m\u001b[1;33m\u001b[0m\u001b[1;33m\u001b[0m\u001b[0m\n\u001b[0;32m    519\u001b[0m         )\n\u001b[1;32m--> 520\u001b[1;33m         \u001b[1;32mreturn\u001b[0m \u001b[0mself\u001b[0m\u001b[1;33m.\u001b[0m\u001b[0mfind_element\u001b[0m\u001b[1;33m(\u001b[0m\u001b[0mby\u001b[0m\u001b[1;33m=\u001b[0m\u001b[0mBy\u001b[0m\u001b[1;33m.\u001b[0m\u001b[0mXPATH\u001b[0m\u001b[1;33m,\u001b[0m \u001b[0mvalue\u001b[0m\u001b[1;33m=\u001b[0m\u001b[0mxpath\u001b[0m\u001b[1;33m)\u001b[0m\u001b[1;33m\u001b[0m\u001b[1;33m\u001b[0m\u001b[0m\n\u001b[0m\u001b[0;32m    521\u001b[0m \u001b[1;33m\u001b[0m\u001b[0m\n\u001b[0;32m    522\u001b[0m     \u001b[1;32mdef\u001b[0m \u001b[0mfind_elements_by_xpath\u001b[0m\u001b[1;33m(\u001b[0m\u001b[0mself\u001b[0m\u001b[1;33m,\u001b[0m \u001b[0mxpath\u001b[0m\u001b[1;33m)\u001b[0m \u001b[1;33m->\u001b[0m \u001b[0mWebElement\u001b[0m\u001b[1;33m:\u001b[0m\u001b[1;33m\u001b[0m\u001b[1;33m\u001b[0m\u001b[0m\n",
            "\u001b[1;32m~\\anaconda3\\lib\\site-packages\\selenium\\webdriver\\remote\\webdriver.py\u001b[0m in \u001b[0;36mfind_element\u001b[1;34m(self, by, value)\u001b[0m\n\u001b[0;32m   1242\u001b[0m             \u001b[0mvalue\u001b[0m \u001b[1;33m=\u001b[0m \u001b[1;34m'[name=\"%s\"]'\u001b[0m \u001b[1;33m%\u001b[0m \u001b[0mvalue\u001b[0m\u001b[1;33m\u001b[0m\u001b[1;33m\u001b[0m\u001b[0m\n\u001b[0;32m   1243\u001b[0m \u001b[1;33m\u001b[0m\u001b[0m\n\u001b[1;32m-> 1244\u001b[1;33m         return self.execute(Command.FIND_ELEMENT, {\n\u001b[0m\u001b[0;32m   1245\u001b[0m             \u001b[1;34m'using'\u001b[0m\u001b[1;33m:\u001b[0m \u001b[0mby\u001b[0m\u001b[1;33m,\u001b[0m\u001b[1;33m\u001b[0m\u001b[1;33m\u001b[0m\u001b[0m\n\u001b[0;32m   1246\u001b[0m             'value': value})['value']\n",
            "\u001b[1;32m~\\anaconda3\\lib\\site-packages\\selenium\\webdriver\\remote\\webdriver.py\u001b[0m in \u001b[0;36mexecute\u001b[1;34m(self, driver_command, params)\u001b[0m\n\u001b[0;32m    422\u001b[0m         \u001b[0mresponse\u001b[0m \u001b[1;33m=\u001b[0m \u001b[0mself\u001b[0m\u001b[1;33m.\u001b[0m\u001b[0mcommand_executor\u001b[0m\u001b[1;33m.\u001b[0m\u001b[0mexecute\u001b[0m\u001b[1;33m(\u001b[0m\u001b[0mdriver_command\u001b[0m\u001b[1;33m,\u001b[0m \u001b[0mparams\u001b[0m\u001b[1;33m)\u001b[0m\u001b[1;33m\u001b[0m\u001b[1;33m\u001b[0m\u001b[0m\n\u001b[0;32m    423\u001b[0m         \u001b[1;32mif\u001b[0m \u001b[0mresponse\u001b[0m\u001b[1;33m:\u001b[0m\u001b[1;33m\u001b[0m\u001b[1;33m\u001b[0m\u001b[0m\n\u001b[1;32m--> 424\u001b[1;33m             \u001b[0mself\u001b[0m\u001b[1;33m.\u001b[0m\u001b[0merror_handler\u001b[0m\u001b[1;33m.\u001b[0m\u001b[0mcheck_response\u001b[0m\u001b[1;33m(\u001b[0m\u001b[0mresponse\u001b[0m\u001b[1;33m)\u001b[0m\u001b[1;33m\u001b[0m\u001b[1;33m\u001b[0m\u001b[0m\n\u001b[0m\u001b[0;32m    425\u001b[0m             response['value'] = self._unwrap_value(\n\u001b[0;32m    426\u001b[0m                 response.get('value', None))\n",
            "\u001b[1;32m~\\anaconda3\\lib\\site-packages\\selenium\\webdriver\\remote\\errorhandler.py\u001b[0m in \u001b[0;36mcheck_response\u001b[1;34m(self, response)\u001b[0m\n\u001b[0;32m    245\u001b[0m                 \u001b[0malert_text\u001b[0m \u001b[1;33m=\u001b[0m \u001b[0mvalue\u001b[0m\u001b[1;33m[\u001b[0m\u001b[1;34m'alert'\u001b[0m\u001b[1;33m]\u001b[0m\u001b[1;33m.\u001b[0m\u001b[0mget\u001b[0m\u001b[1;33m(\u001b[0m\u001b[1;34m'text'\u001b[0m\u001b[1;33m)\u001b[0m\u001b[1;33m\u001b[0m\u001b[1;33m\u001b[0m\u001b[0m\n\u001b[0;32m    246\u001b[0m             \u001b[1;32mraise\u001b[0m \u001b[0mexception_class\u001b[0m\u001b[1;33m(\u001b[0m\u001b[0mmessage\u001b[0m\u001b[1;33m,\u001b[0m \u001b[0mscreen\u001b[0m\u001b[1;33m,\u001b[0m \u001b[0mstacktrace\u001b[0m\u001b[1;33m,\u001b[0m \u001b[0malert_text\u001b[0m\u001b[1;33m)\u001b[0m  \u001b[1;31m# type: ignore[call-arg]  # mypy is not smart enough here\u001b[0m\u001b[1;33m\u001b[0m\u001b[1;33m\u001b[0m\u001b[0m\n\u001b[1;32m--> 247\u001b[1;33m         \u001b[1;32mraise\u001b[0m \u001b[0mexception_class\u001b[0m\u001b[1;33m(\u001b[0m\u001b[0mmessage\u001b[0m\u001b[1;33m,\u001b[0m \u001b[0mscreen\u001b[0m\u001b[1;33m,\u001b[0m \u001b[0mstacktrace\u001b[0m\u001b[1;33m)\u001b[0m\u001b[1;33m\u001b[0m\u001b[1;33m\u001b[0m\u001b[0m\n\u001b[0m\u001b[0;32m    248\u001b[0m \u001b[1;33m\u001b[0m\u001b[0m\n\u001b[0;32m    249\u001b[0m     \u001b[1;32mdef\u001b[0m \u001b[0m_value_or_default\u001b[0m\u001b[1;33m(\u001b[0m\u001b[0mself\u001b[0m\u001b[1;33m,\u001b[0m \u001b[0mobj\u001b[0m\u001b[1;33m:\u001b[0m \u001b[0mMapping\u001b[0m\u001b[1;33m[\u001b[0m\u001b[0m_KT\u001b[0m\u001b[1;33m,\u001b[0m \u001b[0m_VT\u001b[0m\u001b[1;33m]\u001b[0m\u001b[1;33m,\u001b[0m \u001b[0mkey\u001b[0m\u001b[1;33m:\u001b[0m \u001b[0m_KT\u001b[0m\u001b[1;33m,\u001b[0m \u001b[0mdefault\u001b[0m\u001b[1;33m:\u001b[0m \u001b[0m_VT\u001b[0m\u001b[1;33m)\u001b[0m \u001b[1;33m->\u001b[0m \u001b[0m_VT\u001b[0m\u001b[1;33m:\u001b[0m\u001b[1;33m\u001b[0m\u001b[1;33m\u001b[0m\u001b[0m\n",
            "\u001b[1;31mNoSuchElementException\u001b[0m: Message: no such element: Unable to locate element: {\"method\":\"xpath\",\"selector\":\"//*[@id=\"yDmH0d\"]/div[4]/div[2]/div/div/div/div/div[2]/div/div[1]/div[274]/header/div[2]/span\"}\n  (Session info: chrome=97.0.4692.99)\nStacktrace:\nBacktrace:\n\tOrdinal0 [0x00C2FDC3+2555331]\n\tOrdinal0 [0x00BC77F1+2127857]\n\tOrdinal0 [0x00AC2E08+1060360]\n\tOrdinal0 [0x00AEE49E+1238174]\n\tOrdinal0 [0x00AEE69B+1238683]\n\tOrdinal0 [0x00B19252+1413714]\n\tOrdinal0 [0x00B07B54+1342292]\n\tOrdinal0 [0x00B175FA+1406458]\n\tOrdinal0 [0x00B07976+1341814]\n\tOrdinal0 [0x00AE36B6+1193654]\n\tOrdinal0 [0x00AE4546+1197382]\n\tGetHandleVerifier [0x00DC9622+1619522]\n\tGetHandleVerifier [0x00E7882C+2336844]\n\tGetHandleVerifier [0x00CC23E1+541697]\n\tGetHandleVerifier [0x00CC1443+537699]\n\tOrdinal0 [0x00BCD18E+2150798]\n\tOrdinal0 [0x00BD1518+2168088]\n\tOrdinal0 [0x00BD1660+2168416]\n\tOrdinal0 [0x00BDB330+2208560]\n\tBaseThreadInitThunk [0x76FCFA29+25]\n\tRtlGetAppContainerNamedObjectPath [0x77367A9E+286]\n\tRtlGetAppContainerNamedObjectPath [0x77367A6E+238]\n"
          ]
        }
      ],
      "source": [
        "# 한국어 리뷰가 500개가 되지 않아 오류가 난 것. 있는 만큼만 크롤링함.\n",
        "for i in range(500):\n",
        "    t=i+1\n",
        "    elem1 = browser.find_element_by_xpath('//*[@id=\"yDmH0d\"]/div[4]/div[2]/div/div/div/div/div[2]/div/div[1]/div[%d]/header/div[2]/span'%t)\n",
        "    #날짜 텍스트를 뽑아내기 위한 xpath\n",
        "    elem2 = browser.find_element_by_xpath('//*[@id=\"yDmH0d\"]/div[4]/div[2]/div/div/div/div/div[2]/div/div[1]/div[%d]/div[1]'%t)\n",
        "    #리뷰 텍스트를 뽑아내기 위한 xpath\n",
        "    elem3 = browser.find_element_by_xpath('//*[@id=\"yDmH0d\"]/div[4]/div[2]/div/div/div/div/div[2]/div/div[1]/div[%d]/header/div[2]/div'%t)\n",
        "    #별점을 뽑아내기 위한 xpath\n",
        "        \n",
        "    sleepmonitor['날짜'][i] = elem1.text\n",
        "    #여기서 날짜를... pd.date_range로 못했어요...\n",
        "    #필요하면 시도해보겠습니다...!\n",
        "    sleepmonitor['리뷰'][i] = elem2.text\n",
        "    sleepmonitor['별점'][i] = int(elem3.get_attribute('aria-label')[10])\n",
        "    #별점의 경우 elem3의 text가 아닌 attribute로 들어가있음. 해당 내용은 \"별 5점 만점에 5점을 받았습니다\" 이런 글귀!\n",
        "    #그래서 인덱싱을 통해서 5점 만점에 *점을 받았는지 뽑아서, 이를 정수형으로 만들어줌."
      ]
    },
    {
      "cell_type": "code",
      "execution_count": null,
      "id": "0c1f6900",
      "metadata": {
        "id": "0c1f6900"
      },
      "outputs": [],
      "source": [
        "sleepmonitor = sleepmonitor.dropna()"
      ]
    },
    {
      "cell_type": "code",
      "execution_count": null,
      "id": "34ced832",
      "metadata": {
        "id": "34ced832",
        "outputId": "87d035e2-2045-457e-85d2-3530a50421f9"
      },
      "outputs": [
        {
          "data": {
            "text/html": [
              "<div>\n",
              "<style scoped>\n",
              "    .dataframe tbody tr th:only-of-type {\n",
              "        vertical-align: middle;\n",
              "    }\n",
              "\n",
              "    .dataframe tbody tr th {\n",
              "        vertical-align: top;\n",
              "    }\n",
              "\n",
              "    .dataframe thead th {\n",
              "        text-align: right;\n",
              "    }\n",
              "</style>\n",
              "<table border=\"1\" class=\"dataframe\">\n",
              "  <thead>\n",
              "    <tr style=\"text-align: right;\">\n",
              "      <th></th>\n",
              "      <th>날짜</th>\n",
              "      <th>리뷰</th>\n",
              "      <th>별점</th>\n",
              "    </tr>\n",
              "  </thead>\n",
              "  <tbody>\n",
              "    <tr>\n",
              "      <th>0</th>\n",
              "      <td>2022년 1월 20일</td>\n",
              "      <td>백수일때 샀으면 정말 최고였을듯...하필 취업하고 기계적 인조 인간를 구입해서 수면...</td>\n",
              "      <td>5</td>\n",
              "    </tr>\n",
              "    <tr>\n",
              "      <th>1</th>\n",
              "      <td>2021년 12월 27일</td>\n",
              "      <td>안녕하세요 결제하여 수면기록용으로 사용 잘하고있습니다. 딴게 아니라 알람설정해뒀는데...</td>\n",
              "      <td>2</td>\n",
              "    </tr>\n",
              "    <tr>\n",
              "      <th>2</th>\n",
              "      <td>2022년 1월 7일</td>\n",
              "      <td>수면 모니터링도 되고 무엇보다 수면에 대한 기록을 남겨둘수 있어서 좋아요! 한가지 ...</td>\n",
              "      <td>5</td>\n",
              "    </tr>\n",
              "    <tr>\n",
              "      <th>3</th>\n",
              "      <td>2021년 12월 14일</td>\n",
              "      <td>수면시간 패턴 통계 내주는 것도 좋고 알람도 잘 쓰고 있어요 부담스럽지 않게 깨서 ...</td>\n",
              "      <td>5</td>\n",
              "    </tr>\n",
              "    <tr>\n",
              "      <th>4</th>\n",
              "      <td>2021년 12월 14일</td>\n",
              "      <td>유용한앱인것같지만 어플을 유료 결제해보기는 처음이에요 By 잘자니꿈꿔 게임이나 기타...</td>\n",
              "      <td>5</td>\n",
              "    </tr>\n",
              "    <tr>\n",
              "      <th>...</th>\n",
              "      <td>...</td>\n",
              "      <td>...</td>\n",
              "      <td>...</td>\n",
              "    </tr>\n",
              "    <tr>\n",
              "      <th>268</th>\n",
              "      <td>2020년 4월 2일</td>\n",
              "      <td>좋아요!!</td>\n",
              "      <td>5</td>\n",
              "    </tr>\n",
              "    <tr>\n",
              "      <th>269</th>\n",
              "      <td>2020년 3월 30일</td>\n",
              "      <td>굳</td>\n",
              "      <td>5</td>\n",
              "    </tr>\n",
              "    <tr>\n",
              "      <th>270</th>\n",
              "      <td>2020년 2월 25일</td>\n",
              "      <td>좋습니다</td>\n",
              "      <td>5</td>\n",
              "    </tr>\n",
              "    <tr>\n",
              "      <th>271</th>\n",
              "      <td>2020년 8월 4일</td>\n",
              "      <td>알람안울림</td>\n",
              "      <td>1</td>\n",
              "    </tr>\n",
              "    <tr>\n",
              "      <th>272</th>\n",
              "      <td>2021년 2월 7일</td>\n",
              "      <td>좋더라고요</td>\n",
              "      <td>5</td>\n",
              "    </tr>\n",
              "  </tbody>\n",
              "</table>\n",
              "<p>273 rows × 3 columns</p>\n",
              "</div>"
            ],
            "text/plain": [
              "                날짜                                                 리뷰 별점\n",
              "0     2022년 1월 20일  백수일때 샀으면 정말 최고였을듯...하필 취업하고 기계적 인조 인간를 구입해서 수면...  5\n",
              "1    2021년 12월 27일  안녕하세요 결제하여 수면기록용으로 사용 잘하고있습니다. 딴게 아니라 알람설정해뒀는데...  2\n",
              "2      2022년 1월 7일  수면 모니터링도 되고 무엇보다 수면에 대한 기록을 남겨둘수 있어서 좋아요! 한가지 ...  5\n",
              "3    2021년 12월 14일  수면시간 패턴 통계 내주는 것도 좋고 알람도 잘 쓰고 있어요 부담스럽지 않게 깨서 ...  5\n",
              "4    2021년 12월 14일  유용한앱인것같지만 어플을 유료 결제해보기는 처음이에요 By 잘자니꿈꿔 게임이나 기타...  5\n",
              "..             ...                                                ... ..\n",
              "268    2020년 4월 2일                                              좋아요!!  5\n",
              "269   2020년 3월 30일                                                  굳  5\n",
              "270   2020년 2월 25일                                               좋습니다  5\n",
              "271    2020년 8월 4일                                              알람안울림  1\n",
              "272    2021년 2월 7일                                              좋더라고요  5\n",
              "\n",
              "[273 rows x 3 columns]"
            ]
          },
          "execution_count": 49,
          "metadata": {},
          "output_type": "execute_result"
        }
      ],
      "source": [
        "sleepmonitor"
      ]
    },
    {
      "cell_type": "code",
      "execution_count": null,
      "id": "1504330b",
      "metadata": {
        "id": "1504330b"
      },
      "outputs": [],
      "source": [
        "sleepmonitor.to_csv('sleepmonitor_gg.csv',encoding='utf-8-sig', index=False)"
      ]
    },
    {
      "cell_type": "code",
      "execution_count": null,
      "id": "7a05b409",
      "metadata": {
        "id": "7a05b409"
      },
      "outputs": [],
      "source": [
        "browser.quit()"
      ]
    },
    {
      "cell_type": "markdown",
      "id": "7e0433e7",
      "metadata": {
        "id": "7e0433e7"
      },
      "source": [
        "# 앱스토어 리뷰 크롤링"
      ]
    },
    {
      "cell_type": "code",
      "execution_count": null,
      "id": "271a0805",
      "metadata": {
        "id": "271a0805"
      },
      "outputs": [],
      "source": [
        "import xmltodict \n",
        "import requests \n",
        "import os\n",
        "import pandas as pd"
      ]
    },
    {
      "cell_type": "code",
      "execution_count": null,
      "id": "148f7d0b",
      "metadata": {
        "id": "148f7d0b"
      },
      "outputs": [],
      "source": [
        "def get_url_index(url):\n",
        "    response = requests.get(url).content.decode('utf8') \n",
        "    xml = xmltodict.parse(response) \n",
        "    \n",
        "    last_url = [l['@href'] for l in xml['feed']['link'] if (l['@rel'] == 'last')][0] \n",
        "    last_index = [int(s.replace('page=', '')) for s in last_url.split('/') if ('page=' in s)][0] \n",
        "    \n",
        "    return last_index"
      ]
    },
    {
      "cell_type": "code",
      "execution_count": null,
      "id": "e1a9ba8f",
      "metadata": {
        "id": "e1a9ba8f"
      },
      "outputs": [],
      "source": [
        "def appstore_crawler(appid, outfile='./appstore_reviews.csv'): \n",
        "    url = 'https://itunes.apple.com/rss/customerreviews/page=1/id=%i/sortby=mostrecent/xml' % appid \n",
        "    \n",
        "    try: \n",
        "        last_index = get_url_index(url) \n",
        "    except Exception as e: \n",
        "        print (url) \n",
        "        print ('\\tNo Reviews: appid %i' %appid) \n",
        "        print ('\\tException:', e) \n",
        "        return \n",
        "    \n",
        "    result = list() \n",
        "    for idx in range(1, last_index+1):\n",
        "        url = \"https://itunes.apple.com/rss/customerreviews/page=%i/id=%i/sortby=mostrecent/xml?urlDesc=/customerreviews/id=%i/sortBy=mostRecent/xml\" % (idx, appid, appid) \n",
        "        print(url) \n",
        "        \n",
        "        response = requests.get(url).content.decode('utf8') \n",
        "        try: \n",
        "            xml = xmltodict.parse(response) \n",
        "        except Exception as e: \n",
        "            print ('\\tXml Parse Error %s\\n\\tSkip %s :' %(e, url)) \n",
        "            continue \n",
        "            \n",
        "        try: \n",
        "            num_reivews= len(xml['feed']['entry']) \n",
        "        except Exception as e: \n",
        "            print ('\\tNo Entry', e) \n",
        "            continue \n",
        "            \n",
        "        try: \n",
        "            xml['feed']['entry'][0]['author']['name'] \n",
        "            single_reviews = False \n",
        "        except: \n",
        "            #print ('\\tOnly 1 review!!!') \n",
        "            single_reviews = True \n",
        "            pass \n",
        "        \n",
        "        if single_reviews: \n",
        "            result.append({ 'USER': xml['feed']['entry']['author']['name'], \n",
        "                           'DATE': xml['feed']['entry']['updated'], \n",
        "                           'STAR': int(xml['feed']['entry']['im:rating']), \n",
        "                           'LIKE': int(xml['feed']['entry']['im:voteSum']), \n",
        "                           'TITLE': xml['feed']['entry']['title'], \n",
        "                           'REVIEW': xml['feed']['entry']['content'][0]['#text'], \n",
        "                          }) \n",
        "        else: \n",
        "            for i in range(len(xml['feed']['entry'])):\n",
        "                result.append({ \n",
        "                    'USER': xml['feed']['entry'][i]['author']['name'],\n",
        "                    'DATE': xml['feed']['entry'][i]['updated'], \n",
        "                    'STAR': int(xml['feed']['entry'][i]['im:rating']), \n",
        "                    'LIKE': int(xml['feed']['entry'][i]['im:voteSum']), \n",
        "                    'TITLE': xml['feed']['entry'][i]['title'], \n",
        "                    'REVIEW': xml['feed']['entry'][i]['content'][0]['#text'],\n",
        "                }) \n",
        "    res_df = pd.DataFrame(result) \n",
        "    res_df['DATE'] = pd.to_datetime(res_df['DATE'], format=\"%Y-%m-%dT%H:%M:%S\") \n",
        "    res_df.to_csv(outfile, encoding='utf-8-sig', index=False) \n",
        "    print ('Save reviews to file: %s \\n' %(outfile))\n"
      ]
    },
    {
      "cell_type": "code",
      "execution_count": null,
      "id": "10e2c247",
      "metadata": {
        "id": "10e2c247"
      },
      "outputs": [],
      "source": [
        "def appstore_crawler_kr(appid, outfile='./appstore_reviews.csv'): \n",
        "    url = 'https://itunes.apple.com/kr/rss/customerreviews/page=1/id=%i/sortby=mostrecent/xml' % appid \n",
        "    \n",
        "    try: \n",
        "        last_index = get_url_index(url) \n",
        "    except Exception as e: \n",
        "        print (url) \n",
        "        print ('\\tNo Reviews: appid %i' %appid) \n",
        "        print ('\\tException:', e) \n",
        "        return \n",
        "    \n",
        "    result = list() \n",
        "    for idx in range(1, last_index+1):\n",
        "        url = \"https://itunes.apple.com/kr/rss/customerreviews/page=%i/id=%i/sortby=mostrecent/xml?urlDesc=/customerreviews/id=%i/sortBy=mostRecent/xml\" % (idx, appid, appid) \n",
        "        print(url) \n",
        "        \n",
        "        response = requests.get(url).content.decode('utf8') \n",
        "        try: \n",
        "            xml = xmltodict.parse(response) \n",
        "        except Exception as e: \n",
        "            print ('\\tXml Parse Error %s\\n\\tSkip %s :' %(e, url)) \n",
        "            continue \n",
        "            \n",
        "        try: \n",
        "            num_reivews= len(xml['feed']['entry']) \n",
        "        except Exception as e: \n",
        "            print ('\\tNo Entry', e) \n",
        "            continue \n",
        "            \n",
        "        try: \n",
        "            xml['feed']['entry'][0]['author']['name'] \n",
        "            single_reviews = False \n",
        "        except: \n",
        "            #print ('\\tOnly 1 review!!!') \n",
        "            single_reviews = True \n",
        "            pass \n",
        "        \n",
        "        if single_reviews: \n",
        "            result.append({ 'USER': xml['feed']['entry']['author']['name'], \n",
        "                           'DATE': xml['feed']['entry']['updated'], \n",
        "                           'STAR': int(xml['feed']['entry']['im:rating']), \n",
        "                           'LIKE': int(xml['feed']['entry']['im:voteSum']), \n",
        "                           'TITLE': xml['feed']['entry']['title'], \n",
        "                           'REVIEW': xml['feed']['entry']['content'][0]['#text'], \n",
        "                          }) \n",
        "        else: \n",
        "            for i in range(len(xml['feed']['entry'])):\n",
        "                result.append({ \n",
        "                    'USER': xml['feed']['entry'][i]['author']['name'],\n",
        "                    'DATE': xml['feed']['entry'][i]['updated'], \n",
        "                    'STAR': int(xml['feed']['entry'][i]['im:rating']), \n",
        "                    'LIKE': int(xml['feed']['entry'][i]['im:voteSum']), \n",
        "                    'TITLE': xml['feed']['entry'][i]['title'], \n",
        "                    'REVIEW': xml['feed']['entry'][i]['content'][0]['#text'],\n",
        "                }) \n",
        "    res_df = pd.DataFrame(result) \n",
        "    res_df['DATE'] = pd.to_datetime(res_df['DATE'], format=\"%Y-%m-%dT%H:%M:%S\") \n",
        "    res_df.to_csv(outfile, encoding='utf-8-sig', index=False) \n",
        "    print ('Save reviews to file: %s \\n' %(outfile))\n"
      ]
    },
    {
      "cell_type": "markdown",
      "id": "7169e185",
      "metadata": {
        "id": "7169e185"
      },
      "source": [
        "# 슬립사이클 앱스토어 영어 리뷰, 한국어 리뷰 크롤링"
      ]
    },
    {
      "cell_type": "code",
      "execution_count": null,
      "id": "6c69ef69",
      "metadata": {
        "id": "6c69ef69",
        "outputId": "f418bbd3-f06c-4ab3-8c83-ccea0b681e1e"
      },
      "outputs": [
        {
          "name": "stdout",
          "output_type": "stream",
          "text": [
            "https://itunes.apple.com/rss/customerreviews/page=1/id=320606217/sortby=mostrecent/xml?urlDesc=/customerreviews/id=320606217/sortBy=mostRecent/xml\n",
            "https://itunes.apple.com/rss/customerreviews/page=2/id=320606217/sortby=mostrecent/xml?urlDesc=/customerreviews/id=320606217/sortBy=mostRecent/xml\n",
            "https://itunes.apple.com/rss/customerreviews/page=3/id=320606217/sortby=mostrecent/xml?urlDesc=/customerreviews/id=320606217/sortBy=mostRecent/xml\n",
            "https://itunes.apple.com/rss/customerreviews/page=4/id=320606217/sortby=mostrecent/xml?urlDesc=/customerreviews/id=320606217/sortBy=mostRecent/xml\n",
            "https://itunes.apple.com/rss/customerreviews/page=5/id=320606217/sortby=mostrecent/xml?urlDesc=/customerreviews/id=320606217/sortBy=mostRecent/xml\n",
            "https://itunes.apple.com/rss/customerreviews/page=6/id=320606217/sortby=mostrecent/xml?urlDesc=/customerreviews/id=320606217/sortBy=mostRecent/xml\n",
            "https://itunes.apple.com/rss/customerreviews/page=7/id=320606217/sortby=mostrecent/xml?urlDesc=/customerreviews/id=320606217/sortBy=mostRecent/xml\n",
            "https://itunes.apple.com/rss/customerreviews/page=8/id=320606217/sortby=mostrecent/xml?urlDesc=/customerreviews/id=320606217/sortBy=mostRecent/xml\n",
            "https://itunes.apple.com/rss/customerreviews/page=9/id=320606217/sortby=mostrecent/xml?urlDesc=/customerreviews/id=320606217/sortBy=mostRecent/xml\n",
            "https://itunes.apple.com/rss/customerreviews/page=10/id=320606217/sortby=mostrecent/xml?urlDesc=/customerreviews/id=320606217/sortBy=mostRecent/xml\n",
            "Save reviews to file: ./appstore_reviews.csv \n",
            "\n"
          ]
        }
      ],
      "source": [
        "appstore_crawler(320606217)"
      ]
    },
    {
      "cell_type": "code",
      "execution_count": null,
      "id": "2b303b5b",
      "metadata": {
        "id": "2b303b5b",
        "outputId": "e03fd836-9d4a-4474-a53f-ca07f207eb61"
      },
      "outputs": [
        {
          "name": "stdout",
          "output_type": "stream",
          "text": [
            "https://itunes.apple.com/kr/rss/customerreviews/page=1/id=320606217/sortby=mostrecent/xml?urlDesc=/customerreviews/id=320606217/sortBy=mostRecent/xml\n",
            "https://itunes.apple.com/kr/rss/customerreviews/page=2/id=320606217/sortby=mostrecent/xml?urlDesc=/customerreviews/id=320606217/sortBy=mostRecent/xml\n",
            "https://itunes.apple.com/kr/rss/customerreviews/page=3/id=320606217/sortby=mostrecent/xml?urlDesc=/customerreviews/id=320606217/sortBy=mostRecent/xml\n",
            "https://itunes.apple.com/kr/rss/customerreviews/page=4/id=320606217/sortby=mostrecent/xml?urlDesc=/customerreviews/id=320606217/sortBy=mostRecent/xml\n",
            "https://itunes.apple.com/kr/rss/customerreviews/page=5/id=320606217/sortby=mostrecent/xml?urlDesc=/customerreviews/id=320606217/sortBy=mostRecent/xml\n",
            "https://itunes.apple.com/kr/rss/customerreviews/page=6/id=320606217/sortby=mostrecent/xml?urlDesc=/customerreviews/id=320606217/sortBy=mostRecent/xml\n",
            "https://itunes.apple.com/kr/rss/customerreviews/page=7/id=320606217/sortby=mostrecent/xml?urlDesc=/customerreviews/id=320606217/sortBy=mostRecent/xml\n",
            "https://itunes.apple.com/kr/rss/customerreviews/page=8/id=320606217/sortby=mostrecent/xml?urlDesc=/customerreviews/id=320606217/sortBy=mostRecent/xml\n",
            "https://itunes.apple.com/kr/rss/customerreviews/page=9/id=320606217/sortby=mostrecent/xml?urlDesc=/customerreviews/id=320606217/sortBy=mostRecent/xml\n",
            "https://itunes.apple.com/kr/rss/customerreviews/page=10/id=320606217/sortby=mostrecent/xml?urlDesc=/customerreviews/id=320606217/sortBy=mostRecent/xml\n",
            "Save reviews to file: ./appstore_reviews.csv \n",
            "\n"
          ]
        }
      ],
      "source": [
        "appstore_crawler_kr(320606217)"
      ]
    },
    {
      "cell_type": "markdown",
      "id": "3cca29fa",
      "metadata": {
        "id": "3cca29fa"
      },
      "source": [
        "# 슬립지(sleepzy) 앱스토어 영어 리뷰, 한국어 리뷰 크롤링"
      ]
    },
    {
      "cell_type": "code",
      "execution_count": null,
      "id": "90f2d0ea",
      "metadata": {
        "id": "90f2d0ea",
        "outputId": "5ad5b22f-9fc0-4d09-d5ee-770eef6c9cb0"
      },
      "outputs": [
        {
          "name": "stdout",
          "output_type": "stream",
          "text": [
            "https://itunes.apple.com/rss/customerreviews/page=1/id=1064910141/sortby=mostrecent/xml?urlDesc=/customerreviews/id=1064910141/sortBy=mostRecent/xml\n",
            "https://itunes.apple.com/rss/customerreviews/page=2/id=1064910141/sortby=mostrecent/xml?urlDesc=/customerreviews/id=1064910141/sortBy=mostRecent/xml\n",
            "https://itunes.apple.com/rss/customerreviews/page=3/id=1064910141/sortby=mostrecent/xml?urlDesc=/customerreviews/id=1064910141/sortBy=mostRecent/xml\n",
            "https://itunes.apple.com/rss/customerreviews/page=4/id=1064910141/sortby=mostrecent/xml?urlDesc=/customerreviews/id=1064910141/sortBy=mostRecent/xml\n",
            "https://itunes.apple.com/rss/customerreviews/page=5/id=1064910141/sortby=mostrecent/xml?urlDesc=/customerreviews/id=1064910141/sortBy=mostRecent/xml\n",
            "https://itunes.apple.com/rss/customerreviews/page=6/id=1064910141/sortby=mostrecent/xml?urlDesc=/customerreviews/id=1064910141/sortBy=mostRecent/xml\n",
            "https://itunes.apple.com/rss/customerreviews/page=7/id=1064910141/sortby=mostrecent/xml?urlDesc=/customerreviews/id=1064910141/sortBy=mostRecent/xml\n",
            "https://itunes.apple.com/rss/customerreviews/page=8/id=1064910141/sortby=mostrecent/xml?urlDesc=/customerreviews/id=1064910141/sortBy=mostRecent/xml\n",
            "https://itunes.apple.com/rss/customerreviews/page=9/id=1064910141/sortby=mostrecent/xml?urlDesc=/customerreviews/id=1064910141/sortBy=mostRecent/xml\n",
            "https://itunes.apple.com/rss/customerreviews/page=10/id=1064910141/sortby=mostrecent/xml?urlDesc=/customerreviews/id=1064910141/sortBy=mostRecent/xml\n",
            "Save reviews to file: ./appstore_reviews.csv \n",
            "\n"
          ]
        }
      ],
      "source": [
        "appstore_crawler(1064910141)"
      ]
    },
    {
      "cell_type": "code",
      "execution_count": null,
      "id": "b910e720",
      "metadata": {
        "id": "b910e720",
        "outputId": "1495bdbf-6916-46ff-ddc8-bb6f6e09e393"
      },
      "outputs": [
        {
          "name": "stdout",
          "output_type": "stream",
          "text": [
            "https://itunes.apple.com/kr/rss/customerreviews/page=1/id=1064910141/sortby=mostrecent/xml?urlDesc=/customerreviews/id=1064910141/sortBy=mostRecent/xml\n",
            "https://itunes.apple.com/kr/rss/customerreviews/page=2/id=1064910141/sortby=mostrecent/xml?urlDesc=/customerreviews/id=1064910141/sortBy=mostRecent/xml\n",
            "https://itunes.apple.com/kr/rss/customerreviews/page=3/id=1064910141/sortby=mostrecent/xml?urlDesc=/customerreviews/id=1064910141/sortBy=mostRecent/xml\n",
            "https://itunes.apple.com/kr/rss/customerreviews/page=4/id=1064910141/sortby=mostrecent/xml?urlDesc=/customerreviews/id=1064910141/sortBy=mostRecent/xml\n",
            "https://itunes.apple.com/kr/rss/customerreviews/page=5/id=1064910141/sortby=mostrecent/xml?urlDesc=/customerreviews/id=1064910141/sortBy=mostRecent/xml\n",
            "https://itunes.apple.com/kr/rss/customerreviews/page=6/id=1064910141/sortby=mostrecent/xml?urlDesc=/customerreviews/id=1064910141/sortBy=mostRecent/xml\n",
            "https://itunes.apple.com/kr/rss/customerreviews/page=7/id=1064910141/sortby=mostrecent/xml?urlDesc=/customerreviews/id=1064910141/sortBy=mostRecent/xml\n",
            "https://itunes.apple.com/kr/rss/customerreviews/page=8/id=1064910141/sortby=mostrecent/xml?urlDesc=/customerreviews/id=1064910141/sortBy=mostRecent/xml\n",
            "https://itunes.apple.com/kr/rss/customerreviews/page=9/id=1064910141/sortby=mostrecent/xml?urlDesc=/customerreviews/id=1064910141/sortBy=mostRecent/xml\n",
            "https://itunes.apple.com/kr/rss/customerreviews/page=10/id=1064910141/sortby=mostrecent/xml?urlDesc=/customerreviews/id=1064910141/sortBy=mostRecent/xml\n",
            "Save reviews to file: ./appstore_reviews.csv \n",
            "\n"
          ]
        }
      ],
      "source": [
        "appstore_crawler_kr(1064910141)"
      ]
    },
    {
      "cell_type": "markdown",
      "id": "3fbbbb20",
      "metadata": {
        "id": "3fbbbb20"
      },
      "source": [
        "# 슬립모니터 앱스토어 영어 리뷰, 한국어 리뷰 크롤링"
      ]
    },
    {
      "cell_type": "code",
      "execution_count": null,
      "id": "6c0a5da4",
      "metadata": {
        "id": "6c0a5da4",
        "outputId": "eefa1181-76bc-4ed3-e538-567c912265be"
      },
      "outputs": [
        {
          "name": "stdout",
          "output_type": "stream",
          "text": [
            "https://itunes.apple.com/rss/customerreviews/page=1/id=1510325113/sortby=mostrecent/xml?urlDesc=/customerreviews/id=1510325113/sortBy=mostRecent/xml\n",
            "https://itunes.apple.com/rss/customerreviews/page=2/id=1510325113/sortby=mostrecent/xml?urlDesc=/customerreviews/id=1510325113/sortBy=mostRecent/xml\n",
            "https://itunes.apple.com/rss/customerreviews/page=3/id=1510325113/sortby=mostrecent/xml?urlDesc=/customerreviews/id=1510325113/sortBy=mostRecent/xml\n",
            "Save reviews to file: ./appstore_reviews.csv \n",
            "\n"
          ]
        }
      ],
      "source": [
        "appstore_crawler(1510325113) #110"
      ]
    },
    {
      "cell_type": "code",
      "execution_count": null,
      "id": "5d57c549",
      "metadata": {
        "id": "5d57c549",
        "outputId": "15278ddd-6ebd-4707-8750-79e6a4cec15b"
      },
      "outputs": [
        {
          "name": "stdout",
          "output_type": "stream",
          "text": [
            "https://itunes.apple.com/kr/rss/customerreviews/page=1/id=1510325113/sortby=mostrecent/xml?urlDesc=/customerreviews/id=1510325113/sortBy=mostRecent/xml\n",
            "Save reviews to file: ./appstore_reviews.csv \n",
            "\n"
          ]
        }
      ],
      "source": [
        "appstore_crawler_kr(1510325113) #6"
      ]
    }
  ],
  "metadata": {
    "kernelspec": {
      "display_name": "Python 3 (ipykernel)",
      "language": "python",
      "name": "python3"
    },
    "language_info": {
      "codemirror_mode": {
        "name": "ipython",
        "version": 3
      },
      "file_extension": ".py",
      "mimetype": "text/x-python",
      "name": "python",
      "nbconvert_exporter": "python",
      "pygments_lexer": "ipython3",
      "version": "3.8.12"
    },
    "colab": {
      "name": "[F조] 리뷰 데이터 크롤링_code2",
      "provenance": [],
      "collapsed_sections": [
        "6312b634",
        "7e0433e7",
        "7169e185",
        "3cca29fa",
        "3fbbbb20"
      ]
    }
  },
  "nbformat": 4,
  "nbformat_minor": 5
}