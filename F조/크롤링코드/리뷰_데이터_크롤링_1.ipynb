{
  "cells": [
    {
      "cell_type": "code",
      "execution_count": null,
      "metadata": {
        "id": "9wpYnv-nu7vH"
      },
      "outputs": [],
      "source": [
        "#셀레늄 라이브러리 불러오기\n",
        "from selenium import webdriver\n",
        "\n",
        "#셀레늄에서 html문서가 생성될 때까지 대기하는 함수 불러오기\n",
        "from selenium.webdriver.support.ui import WebDriverWait\n",
        "\n",
        "#셀레늄에서 조건을 걸어줄 수 있는 함수 불러오기\n",
        "from selenium.webdriver.support import expected_conditions as EC\n",
        "from selenium.webdriver.common.by import By"
      ]
    },
    {
      "cell_type": "code",
      "execution_count": null,
      "metadata": {
        "id": "v_JUlZ5Xu7vP",
        "outputId": "c1d70696-816d-49e4-8d47-e17bec04984b"
      },
      "outputs": [
        {
          "name": "stderr",
          "output_type": "stream",
          "text": [
            "<ipython-input-2-38d53d7b24c6>:5: DeprecationWarning: executable_path has been deprecated, please pass in a Service object\n",
            "  browser = webdriver.Chrome(path)\n"
          ]
        }
      ],
      "source": [
        "#크롬드라이버 경로 설정\n",
        "path = 'C:\\\\Users\\\\lsj32\\\\Desktop\\\\DSL\\\\chromedriver_win32\\\\chromedriver'\n",
        "\n",
        "#드라이버 객체 생성\n",
        "browser = webdriver.Chrome(path)\n"
      ]
    },
    {
      "cell_type": "code",
      "execution_count": null,
      "metadata": {
        "id": "FuGyjpNKu7vS"
      },
      "outputs": [],
      "source": [
        "import re"
      ]
    },
    {
      "cell_type": "code",
      "execution_count": null,
      "metadata": {
        "id": "Zu1nObVau7vT"
      },
      "outputs": [],
      "source": [
        "from pandas import DataFrame\n",
        "import pandas as pd"
      ]
    },
    {
      "cell_type": "code",
      "execution_count": null,
      "metadata": {
        "id": "A5Z30B6_u7vU"
      },
      "outputs": [],
      "source": [
        "import time"
      ]
    },
    {
      "cell_type": "code",
      "execution_count": null,
      "metadata": {
        "id": "qzaliVRuu7vU"
      },
      "outputs": [],
      "source": [
        "import random"
      ]
    },
    {
      "cell_type": "code",
      "execution_count": null,
      "metadata": {
        "id": "gWvV92Fhu7vV"
      },
      "outputs": [],
      "source": [
        "def scrolling(): #이거 잘 안돼요.... 그냥 제가 스크롤 내리고 있는 게 맘편할 정도......ㅠㅠ\n",
        "    try:        \n",
        "        # 스크롤 높이 받아오기\n",
        "        last_height = browser.execute_script(\"return document.body.scrollHeight\")\n",
        "        while True:\n",
        "            pause_time = 2\n",
        "            # 최하단까지 스크롤\n",
        "            browser.execute_script(\"window.scrollTo(0, document.body.scrollHeight);\")\n",
        "            # 페이지 로딩 대기\n",
        "            time.sleep(pause_time)\n",
        "            # 무한 스크롤 동작을 위해 살짝 위로 스크롤\n",
        "            browser.execute_script(\"window.scrollTo(0, document.body.scrollHeight-50);\")\n",
        "            time.sleep(pause_time)\n",
        "            # 스크롤 높이 새롭게 받아오기\n",
        "            new_height = browser.execute_script(\"return document.body.scrollHeight\")\n",
        "            try:\n",
        "                # '더보기' 버튼 있을 경우 클릭\n",
        "                more_btn = browser.find_element_by_xpath('/html/body/div[1]/div[4]/c-wiz/div/div[2]/div/div/main/div/div[1]/div[2]/div[2]/div/span/span').click()\n",
        "            except:\n",
        "                # 스크롤 완료 경우\n",
        "                if new_height == last_height:\n",
        "                    print(\"Scrolling is completed!!!\")\n",
        "                    break\n",
        "                last_height = new_height\n",
        "                \n",
        "    except Exception as e:\n",
        "        print(\"error occurred: \", e)"
      ]
    },
    {
      "cell_type": "markdown",
      "metadata": {
        "id": "dDs0CTnru7vX"
      },
      "source": [
        "**12번 수면소리 플레이스토어 (영어)**"
      ]
    },
    {
      "cell_type": "code",
      "execution_count": null,
      "metadata": {
        "id": "xkvWJcp2u7vZ"
      },
      "outputs": [],
      "source": [
        "browser.get('https://play.google.com/store/apps/details?id=net.metapps.sleepsounds')\n",
        "#플레이스토어에서 해당 어플 쳤을 때 보이는 화면.\n",
        "#&showAllReviews=true는 없어도 되는 부분\n",
        "#여기서 리뷰 3개 정도가 샘플로 보일 것!!!\n",
        "#해당 어플 쳤을 때 리뷰 샘플이 안보인다면, 그 어플 이름을 클릭할 수 있을텐데 그를 눌러주세요."
      ]
    },
    {
      "cell_type": "code",
      "execution_count": null,
      "metadata": {
        "id": "F5SZKkpTu7vc",
        "outputId": "180abec1-bdc6-4e28-9335-125bee7d873c"
      },
      "outputs": [
        {
          "name": "stderr",
          "output_type": "stream",
          "text": [
            "<ipython-input-10-00d063ec3c90>:1: DeprecationWarning: find_element_by_* commands are deprecated. Please use find_element() instead\n",
            "  browser.find_element_by_xpath('//*[@id=\"yDmH0d\"]/c-wiz[2]/div/div/div[1]/div[2]/div/div[1]/c-wiz[3]/section/header/div/div[2]/button/i').click()\n"
          ]
        }
      ],
      "source": [
        "browser.find_element_by_xpath('//*[@id=\"yDmH0d\"]/c-wiz[2]/div/div/div[1]/div[2]/div/div[1]/c-wiz[3]/section/header/div/div[2]/button/i').click()\n",
        "#리뷰 더 확인할 수 있는 버튼 누르기\n",
        "#여기서부터는 [3] 링크 뒤로는 어떤 링크에 대해서도 모든 xpath가 전부 똑같습니다."
      ]
    },
    {
      "cell_type": "code",
      "execution_count": null,
      "metadata": {
        "id": "-khwqHTMu7vd"
      },
      "outputs": [],
      "source": [
        "sound = DataFrame(index=range(500), columns=['날짜','리뷰','별점']) "
      ]
    },
    {
      "cell_type": "code",
      "execution_count": null,
      "metadata": {
        "id": "TW_UsZadu7vd",
        "outputId": "65b04fc6-5f96-43ca-b496-cdab06b00b0b"
      },
      "outputs": [
        {
          "name": "stderr",
          "output_type": "stream",
          "text": [
            "<ipython-input-12-692a7d08e93a>:3: DeprecationWarning: find_element_by_* commands are deprecated. Please use find_element() instead\n",
            "  elem1 = browser.find_element_by_xpath('//*[@id=\"yDmH0d\"]/div[4]/div[2]/div/div/div/div/div[2]/div/div[1]/div[%d]/header/div[2]/span'%t)\n",
            "<ipython-input-12-692a7d08e93a>:5: DeprecationWarning: find_element_by_* commands are deprecated. Please use find_element() instead\n",
            "  elem2 = browser.find_element_by_xpath('//*[@id=\"yDmH0d\"]/div[4]/div[2]/div/div/div/div/div[2]/div/div[1]/div[%d]/div[1]'%t)\n",
            "<ipython-input-12-692a7d08e93a>:7: DeprecationWarning: find_element_by_* commands are deprecated. Please use find_element() instead\n",
            "  elem3 = browser.find_element_by_xpath('//*[@id=\"yDmH0d\"]/div[4]/div[2]/div/div/div/div/div[2]/div/div[1]/div[%d]/header/div[2]/div'%t)\n"
          ]
        }
      ],
      "source": [
        "for i in range(500):\n",
        "    t=i+1\n",
        "    elem1 = browser.find_element_by_xpath('//*[@id=\"yDmH0d\"]/div[4]/div[2]/div/div/div/div/div[2]/div/div[1]/div[%d]/header/div[2]/span'%t)\n",
        "    #날짜 텍스트를 뽑아내기 위한 xpath\n",
        "    elem2 = browser.find_element_by_xpath('//*[@id=\"yDmH0d\"]/div[4]/div[2]/div/div/div/div/div[2]/div/div[1]/div[%d]/div[1]'%t)\n",
        "    #리뷰 텍스트를 뽑아내기 위한 xpath\n",
        "    elem3 = browser.find_element_by_xpath('//*[@id=\"yDmH0d\"]/div[4]/div[2]/div/div/div/div/div[2]/div/div[1]/div[%d]/header/div[2]/div'%t)\n",
        "    #별점을 뽑아내기 위한 xpath\n",
        "        \n",
        "    sound['날짜'][i] = elem1.text\n",
        "    #여기서 날짜를... pd.date_range로 못했어요...\n",
        "    #필요하면 시도해보겠습니다...!\n",
        "    sound['리뷰'][i] = elem2.text\n",
        "    sound['별점'][i] = int(elem3.get_attribute('aria-label')[6])\n",
        "    #별점의 경우 elem3의 text가 아닌 attribute로 들어가있음. 해당 내용은 \"별 5점 만점에 5점을 받았습니다\" 이런 글귀!\n",
        "    #그래서 인덱싱을 통해서 5점 만점에 *점을 받았는지 뽑아서, 이를 정수형으로 만들어줌."
      ]
    },
    {
      "cell_type": "code",
      "execution_count": null,
      "metadata": {
        "id": "2j5_F8xEu7vf",
        "outputId": "e661686d-43ad-471a-f0d8-0bb056a8bbb9"
      },
      "outputs": [
        {
          "data": {
            "text/html": [
              "<div>\n",
              "<style scoped>\n",
              "    .dataframe tbody tr th:only-of-type {\n",
              "        vertical-align: middle;\n",
              "    }\n",
              "\n",
              "    .dataframe tbody tr th {\n",
              "        vertical-align: top;\n",
              "    }\n",
              "\n",
              "    .dataframe thead th {\n",
              "        text-align: right;\n",
              "    }\n",
              "</style>\n",
              "<table border=\"1\" class=\"dataframe\">\n",
              "  <thead>\n",
              "    <tr style=\"text-align: right;\">\n",
              "      <th></th>\n",
              "      <th>날짜</th>\n",
              "      <th>리뷰</th>\n",
              "      <th>별점</th>\n",
              "    </tr>\n",
              "  </thead>\n",
              "  <tbody>\n",
              "    <tr>\n",
              "      <th>0</th>\n",
              "      <td>November 3, 2018</td>\n",
              "      <td>Love the adjustable sound settings. Making my ...</td>\n",
              "      <td>5</td>\n",
              "    </tr>\n",
              "    <tr>\n",
              "      <th>1</th>\n",
              "      <td>August 4, 2021</td>\n",
              "      <td>Always manage to fall asleep within 30 minutes...</td>\n",
              "      <td>5</td>\n",
              "    </tr>\n",
              "    <tr>\n",
              "      <th>2</th>\n",
              "      <td>January 23, 2022</td>\n",
              "      <td>Really helpfull! There are so meany sounds for...</td>\n",
              "      <td>5</td>\n",
              "    </tr>\n",
              "    <tr>\n",
              "      <th>3</th>\n",
              "      <td>January 12, 2022</td>\n",
              "      <td>Best app. Really helped me cause I was having ...</td>\n",
              "      <td>5</td>\n",
              "    </tr>\n",
              "    <tr>\n",
              "      <th>4</th>\n",
              "      <td>December 28, 2021</td>\n",
              "      <td>Helps me clear my mind of all the stressful th...</td>\n",
              "      <td>5</td>\n",
              "    </tr>\n",
              "    <tr>\n",
              "      <th>...</th>\n",
              "      <td>...</td>\n",
              "      <td>...</td>\n",
              "      <td>...</td>\n",
              "    </tr>\n",
              "    <tr>\n",
              "      <th>495</th>\n",
              "      <td>May 26, 2020</td>\n",
              "      <td>Great app. No interruptions at all, and even l...</td>\n",
              "      <td>5</td>\n",
              "    </tr>\n",
              "    <tr>\n",
              "      <th>496</th>\n",
              "      <td>June 22, 2020</td>\n",
              "      <td>What makes this app stand out from the others ...</td>\n",
              "      <td>5</td>\n",
              "    </tr>\n",
              "    <tr>\n",
              "      <th>497</th>\n",
              "      <td>February 20, 2019</td>\n",
              "      <td>The first sleeping app I tried and I am liking...</td>\n",
              "      <td>4</td>\n",
              "    </tr>\n",
              "    <tr>\n",
              "      <th>498</th>\n",
              "      <td>December 11, 2019</td>\n",
              "      <td>I love the sounds I can choose from to help me...</td>\n",
              "      <td>4</td>\n",
              "    </tr>\n",
              "    <tr>\n",
              "      <th>499</th>\n",
              "      <td>December 7, 2018</td>\n",
              "      <td>Best app ever! So easy to use! I'm asleep in m...</td>\n",
              "      <td>5</td>\n",
              "    </tr>\n",
              "  </tbody>\n",
              "</table>\n",
              "<p>500 rows × 3 columns</p>\n",
              "</div>"
            ],
            "text/plain": [
              "                    날짜                                                 리뷰 별점\n",
              "0     November 3, 2018  Love the adjustable sound settings. Making my ...  5\n",
              "1       August 4, 2021  Always manage to fall asleep within 30 minutes...  5\n",
              "2     January 23, 2022  Really helpfull! There are so meany sounds for...  5\n",
              "3     January 12, 2022  Best app. Really helped me cause I was having ...  5\n",
              "4    December 28, 2021  Helps me clear my mind of all the stressful th...  5\n",
              "..                 ...                                                ... ..\n",
              "495       May 26, 2020  Great app. No interruptions at all, and even l...  5\n",
              "496      June 22, 2020  What makes this app stand out from the others ...  5\n",
              "497  February 20, 2019  The first sleeping app I tried and I am liking...  4\n",
              "498  December 11, 2019  I love the sounds I can choose from to help me...  4\n",
              "499   December 7, 2018  Best app ever! So easy to use! I'm asleep in m...  5\n",
              "\n",
              "[500 rows x 3 columns]"
            ]
          },
          "execution_count": 13,
          "metadata": {},
          "output_type": "execute_result"
        }
      ],
      "source": [
        "sound"
      ]
    },
    {
      "cell_type": "code",
      "execution_count": null,
      "metadata": {
        "id": "U1zm2VWQu7vf"
      },
      "outputs": [],
      "source": [
        "browser.quit()"
      ]
    },
    {
      "cell_type": "code",
      "execution_count": null,
      "metadata": {
        "id": "jGgLgEJmu7vh"
      },
      "outputs": [],
      "source": [
        "sound.to_csv('sleepsounds_gg_en.csv',encoding='utf-8-sig', index=False)"
      ]
    },
    {
      "cell_type": "markdown",
      "metadata": {
        "id": "il-RLGjKu7vh"
      },
      "source": [
        "**10번 SleepasAndroid (플레이스토어)**"
      ]
    },
    {
      "cell_type": "code",
      "execution_count": null,
      "metadata": {
        "id": "KgZkAxuSu7vi"
      },
      "outputs": [],
      "source": [
        "browser.get('https://play.google.com/store/apps/details?id=com.urbandroid.sleep&showAllReviews=true')\n",
        "#플레이스토어에서 해당 어플 쳤을 때 보이는 화면.\n",
        "#&showAllReviews=true는 없어도 되는 부분\n",
        "#여기서 리뷰 3개 정도가 샘플로 보일 것!!!\n",
        "#해당 어플 쳤을 때 리뷰 샘플이 안보인다면, 그 어플 이름을 클릭할 수 있을텐데 그를 눌러주세요."
      ]
    },
    {
      "cell_type": "code",
      "execution_count": null,
      "metadata": {
        "id": "aTgPJkiju7vj",
        "outputId": "e40f43a4-0f45-40e3-dccf-a6aecf4063ec"
      },
      "outputs": [
        {
          "name": "stderr",
          "output_type": "stream",
          "text": [
            "<ipython-input-4-00d063ec3c90>:1: DeprecationWarning: find_element_by_* commands are deprecated. Please use find_element() instead\n",
            "  browser.find_element_by_xpath('//*[@id=\"yDmH0d\"]/c-wiz[2]/div/div/div[1]/div[2]/div/div[1]/c-wiz[3]/section/header/div/div[2]/button/i').click()\n"
          ]
        }
      ],
      "source": [
        "browser.find_element_by_xpath('//*[@id=\"yDmH0d\"]/c-wiz[2]/div/div/div[1]/div[2]/div/div[1]/c-wiz[3]/section/header/div/div[2]/button/i').click()\n",
        "#리뷰 더 확인할 수 있는 버튼 누르기\n",
        "#여기서부터는 [3] 링크 뒤로는 어떤 링크에 대해서도 모든 xpath가 전부 똑같습니다."
      ]
    },
    {
      "cell_type": "code",
      "execution_count": null,
      "metadata": {
        "id": "Mqko9Ngku7vk"
      },
      "outputs": [],
      "source": [
        "saa = DataFrame(index=range(500), columns=['날짜','리뷰','별점']) "
      ]
    },
    {
      "cell_type": "code",
      "execution_count": null,
      "metadata": {
        "id": "2AwRqZswu7vk",
        "outputId": "9e3c4236-9c67-4289-bc3c-e6b6bbe8e609"
      },
      "outputs": [
        {
          "name": "stderr",
          "output_type": "stream",
          "text": [
            "<ipython-input-100-0ed39e891292>:3: DeprecationWarning: find_element_by_* commands are deprecated. Please use find_element() instead\n",
            "  elem1 = browser.find_element_by_xpath('//*[@id=\"yDmH0d\"]/div[4]/div[2]/div/div/div/div/div[2]/div/div[1]/div[%d]/header/div[2]/span'%t)\n",
            "<ipython-input-100-0ed39e891292>:4: DeprecationWarning: find_element_by_* commands are deprecated. Please use find_element() instead\n",
            "  elem2 = browser.find_element_by_xpath('//*[@id=\"yDmH0d\"]/div[4]/div[2]/div/div/div/div/div[2]/div/div[1]/div[%d]/div[1]'%t)\n",
            "<ipython-input-100-0ed39e891292>:5: DeprecationWarning: find_element_by_* commands are deprecated. Please use find_element() instead\n",
            "  elem3 = browser.find_element_by_xpath('//*[@id=\"yDmH0d\"]/div[4]/div[2]/div/div/div/div/div[2]/div/div[1]/div[%d]/header/div[2]/div'%t)\n"
          ]
        }
      ],
      "source": [
        "for i in range(500):\n",
        "    t=i+1\n",
        "    elem1 = browser.find_element_by_xpath('//*[@id=\"yDmH0d\"]/div[4]/div[2]/div/div/div/div/div[2]/div/div[1]/div[%d]/header/div[2]/span'%t)\n",
        "    #날짜 텍스트를 뽑아내기 위한 xpath\n",
        "    elem2 = browser.find_element_by_xpath('//*[@id=\"yDmH0d\"]/div[4]/div[2]/div/div/div/div/div[2]/div/div[1]/div[%d]/div[1]'%t)\n",
        "    #리뷰 텍스트를 뽑아내기 위한 xpath\n",
        "    elem3 = browser.find_element_by_xpath('//*[@id=\"yDmH0d\"]/div[4]/div[2]/div/div/div/div/div[2]/div/div[1]/div[%d]/header/div[2]/div'%t)\n",
        "    #별점을 뽑아내기 위한 xpath\n",
        "        \n",
        "    saa['날짜'][i] = elem1.text\n",
        "    #여기서 날짜를... pd.date_range로 못했어요...\n",
        "    #필요하면 시도해보겠습니다...!\n",
        "    saa['리뷰'][i] = elem2.text\n",
        "    saa['별점'][i] = int(elem3.get_attribute('aria-label')[10])\n",
        "    #별점의 경우 elem3의 text가 아닌 attribute로 들어가있음. 해당 내용은 \"별 5점 만점에 5점을 받았습니다\" 이런 글귀!\n",
        "    #그래서 인덱싱을 통해서 5점 만점에 *점을 받았는지 뽑아서, 이를 정수형으로 만들어줌."
      ]
    },
    {
      "cell_type": "code",
      "execution_count": null,
      "metadata": {
        "scrolled": true,
        "id": "a3DlmOK2u7vl",
        "outputId": "01f7315f-bc4e-46dd-8ef8-ee12b811148a"
      },
      "outputs": [
        {
          "data": {
            "text/html": [
              "<div>\n",
              "<style scoped>\n",
              "    .dataframe tbody tr th:only-of-type {\n",
              "        vertical-align: middle;\n",
              "    }\n",
              "\n",
              "    .dataframe tbody tr th {\n",
              "        vertical-align: top;\n",
              "    }\n",
              "\n",
              "    .dataframe thead th {\n",
              "        text-align: right;\n",
              "    }\n",
              "</style>\n",
              "<table border=\"1\" class=\"dataframe\">\n",
              "  <thead>\n",
              "    <tr style=\"text-align: right;\">\n",
              "      <th></th>\n",
              "      <th>날짜</th>\n",
              "      <th>리뷰</th>\n",
              "      <th>별점</th>\n",
              "    </tr>\n",
              "  </thead>\n",
              "  <tbody>\n",
              "    <tr>\n",
              "      <th>0</th>\n",
              "      <td>2021년 12월 27일</td>\n",
              "      <td>유료버전은 어느 것인가요? 한번 결제후 두개의 폰에 설치 가능한가요? 결제했는데 2...</td>\n",
              "      <td>5</td>\n",
              "    </tr>\n",
              "    <tr>\n",
              "      <th>1</th>\n",
              "      <td>2021년 10월 23일</td>\n",
              "      <td>잘 사용하고있었는데 몇일전부터 기록이 안되고 다꾸 자동으로 끊깁니다 수면시작버튼을 ...</td>\n",
              "      <td>3</td>\n",
              "    </tr>\n",
              "    <tr>\n",
              "      <th>2</th>\n",
              "      <td>2021년 9월 7일</td>\n",
              "      <td>아주 오래전 결제하고 잘 사용중이었는데, 휴대폰 변경하고 통신사도 바뀌었다고 그런지...</td>\n",
              "      <td>4</td>\n",
              "    </tr>\n",
              "    <tr>\n",
              "      <th>3</th>\n",
              "      <td>2021년 9월 7일</td>\n",
              "      <td>갤럭시워치4 는 웨어OS앱과 페어링이 안되고 갤럭시 웨어러블 앱과 연결됩니다 그래서...</td>\n",
              "      <td>1</td>\n",
              "    </tr>\n",
              "    <tr>\n",
              "      <th>4</th>\n",
              "      <td>2021년 10월 14일</td>\n",
              "      <td>짛 사용하고 있었는데 얼마전부터 순토7 플레이스토어 에서 검색이 불가능하여 설치를 ...</td>\n",
              "      <td>4</td>\n",
              "    </tr>\n",
              "    <tr>\n",
              "      <th>...</th>\n",
              "      <td>...</td>\n",
              "      <td>...</td>\n",
              "      <td>...</td>\n",
              "    </tr>\n",
              "    <tr>\n",
              "      <th>495</th>\n",
              "      <td>2019년 10월 14일</td>\n",
              "      <td>너무 좋아서 언락키까지 구매해놓고 미밴드쓰면서 미핏이 수면기록을 해주기 때문에 불필...</td>\n",
              "      <td>5</td>\n",
              "    </tr>\n",
              "    <tr>\n",
              "      <th>496</th>\n",
              "      <td>2019년 11월 1일</td>\n",
              "      <td>Its just that the app only shows the percentag...</td>\n",
              "      <td>4</td>\n",
              "    </tr>\n",
              "    <tr>\n",
              "      <th>497</th>\n",
              "      <td>2019년 11월 16일</td>\n",
              "      <td>Please release iOS version</td>\n",
              "      <td>5</td>\n",
              "    </tr>\n",
              "    <tr>\n",
              "      <th>498</th>\n",
              "      <td>2019년 10월 17일</td>\n",
              "      <td>좋았음</td>\n",
              "      <td>5</td>\n",
              "    </tr>\n",
              "    <tr>\n",
              "      <th>499</th>\n",
              "      <td>2019년 10월 23일</td>\n",
              "      <td>좋으</td>\n",
              "      <td>5</td>\n",
              "    </tr>\n",
              "  </tbody>\n",
              "</table>\n",
              "<p>500 rows × 3 columns</p>\n",
              "</div>"
            ],
            "text/plain": [
              "                날짜                                                 리뷰 별점\n",
              "0    2021년 12월 27일  유료버전은 어느 것인가요? 한번 결제후 두개의 폰에 설치 가능한가요? 결제했는데 2...  5\n",
              "1    2021년 10월 23일  잘 사용하고있었는데 몇일전부터 기록이 안되고 다꾸 자동으로 끊깁니다 수면시작버튼을 ...  3\n",
              "2      2021년 9월 7일  아주 오래전 결제하고 잘 사용중이었는데, 휴대폰 변경하고 통신사도 바뀌었다고 그런지...  4\n",
              "3      2021년 9월 7일  갤럭시워치4 는 웨어OS앱과 페어링이 안되고 갤럭시 웨어러블 앱과 연결됩니다 그래서...  1\n",
              "4    2021년 10월 14일  짛 사용하고 있었는데 얼마전부터 순토7 플레이스토어 에서 검색이 불가능하여 설치를 ...  4\n",
              "..             ...                                                ... ..\n",
              "495  2019년 10월 14일  너무 좋아서 언락키까지 구매해놓고 미밴드쓰면서 미핏이 수면기록을 해주기 때문에 불필...  5\n",
              "496   2019년 11월 1일  Its just that the app only shows the percentag...  4\n",
              "497  2019년 11월 16일                         Please release iOS version  5\n",
              "498  2019년 10월 17일                                                좋았음  5\n",
              "499  2019년 10월 23일                                                 좋으  5\n",
              "\n",
              "[500 rows x 3 columns]"
            ]
          },
          "execution_count": 101,
          "metadata": {},
          "output_type": "execute_result"
        }
      ],
      "source": [
        "saa"
      ]
    },
    {
      "cell_type": "code",
      "execution_count": null,
      "metadata": {
        "id": "TvwI0UHCu7vl"
      },
      "outputs": [],
      "source": [
        "saa.to_csv('sleepandroid.csv',encoding='utf-8-sig', index=False)"
      ]
    },
    {
      "cell_type": "code",
      "execution_count": null,
      "metadata": {
        "id": "PzzlfA_wu7vm"
      },
      "outputs": [],
      "source": [
        "browser.quit()"
      ]
    },
    {
      "cell_type": "markdown",
      "metadata": {
        "id": "tViAx6n9u7vm"
      },
      "source": [
        "**12번 수면소리 플레이스토어에서 크롤링 (한글)**"
      ]
    },
    {
      "cell_type": "code",
      "execution_count": null,
      "metadata": {
        "id": "xCe2ha-6u7vn",
        "outputId": "5771dc8e-0410-409d-831f-3efc0794e781"
      },
      "outputs": [
        {
          "name": "stderr",
          "output_type": "stream",
          "text": [
            "<ipython-input-15-892086ba03f8>:19: DeprecationWarning: executable_path has been deprecated, please pass in a Service object\n",
            "  browser = webdriver.Chrome(path)\n"
          ]
        }
      ],
      "source": [
        "from pandas import DataFrame\n",
        "import pandas as pd\n",
        "import time\n",
        "import re\n",
        "#셀레늄 라이브러리 불러오기\n",
        "from selenium import webdriver\n",
        "\n",
        "#셀레늄에서 html문서가 생성될 때까지 대기하는 함수 불러오기\n",
        "from selenium.webdriver.support.ui import WebDriverWait\n",
        "\n",
        "#셀레늄에서 조건을 걸어줄 수 있는 함수 불러오기\n",
        "from selenium.webdriver.support import expected_conditions as EC\n",
        "from selenium.webdriver.common.by import By\n",
        "\n",
        "#크롬드라이버 경로 설정\n",
        "path = 'C:\\\\Users\\\\lsj32\\\\Desktop\\\\DSL\\\\chromedriver_win32\\\\chromedriver'\n",
        "\n",
        "#드라이버 객체 생성\n",
        "browser = webdriver.Chrome(path)"
      ]
    },
    {
      "cell_type": "code",
      "execution_count": null,
      "metadata": {
        "id": "6AEnku4Iu7vn"
      },
      "outputs": [],
      "source": [
        "def scrolling():\n",
        "    try:        \n",
        "        # 스크롤 높이 받아오기\n",
        "        last_height = browser.execute_script(\"return document.body.scrollHeight\")\n",
        "        while True:\n",
        "            pause_time = 2\n",
        "            # 최하단까지 스크롤\n",
        "            browser.execute_script(\"window.scrollTo(0, document.body.scrollHeight);\")\n",
        "            # 페이지 로딩 대기\n",
        "            time.sleep(pause_time)\n",
        "            # 무한 스크롤 동작을 위해 살짝 위로 스크롤\n",
        "            browser.execute_script(\"window.scrollTo(0, document.body.scrollHeight-50);\")\n",
        "            time.sleep(pause_time)\n",
        "            # 스크롤 높이 새롭게 받아오기\n",
        "            new_height = browser.execute_script(\"return document.body.scrollHeight\")\n",
        "            try:\n",
        "                # '더보기' 버튼 있을 경우 클릭\n",
        "                more_btn = browser.find_element_by_xpath('/html/body/div[1]/div[4]/c-wiz/div/div[2]/div/div/main/div/div[1]/div[2]/div[2]/div/span/span').click()\n",
        "            except:\n",
        "                # 스크롤 완료 경우\n",
        "                if new_height == last_height:\n",
        "                    print(\"Scrolling is completed!!!\")\n",
        "                    break\n",
        "                last_height = new_height\n",
        "                \n",
        "    except Exception as e:\n",
        "        print(\"error occurred: \", e)"
      ]
    },
    {
      "cell_type": "code",
      "execution_count": null,
      "metadata": {
        "id": "V5kkJElSu7vn"
      },
      "outputs": [],
      "source": [
        "browser.get('https://play.google.com/store/apps/details?id=net.metapps.sleepsounds')"
      ]
    },
    {
      "cell_type": "code",
      "execution_count": null,
      "metadata": {
        "id": "IkgjcVuau7vo",
        "outputId": "bf311a9e-4d24-48a4-a76a-5848c750dbb2"
      },
      "outputs": [
        {
          "name": "stderr",
          "output_type": "stream",
          "text": [
            "<ipython-input-18-4dcbd65f5ed7>:1: DeprecationWarning: find_element_by_* commands are deprecated. Please use find_element() instead\n",
            "  browser.find_element_by_xpath('//*[@id=\"yDmH0d\"]/c-wiz[2]/div/div/div[1]/div[2]/div/div[1]/c-wiz[3]/section/header/div/div[2]/button/i').click()\n"
          ]
        }
      ],
      "source": [
        "browser.find_element_by_xpath('//*[@id=\"yDmH0d\"]/c-wiz[2]/div/div/div[1]/div[2]/div/div[1]/c-wiz[3]/section/header/div/div[2]/button/i').click()"
      ]
    },
    {
      "cell_type": "code",
      "execution_count": null,
      "metadata": {
        "id": "gYBRfMM7u7vo",
        "outputId": "85eb1525-f414-47b3-833c-3e8979ff4e09"
      },
      "outputs": [
        {
          "name": "stdout",
          "output_type": "stream",
          "text": [
            "Scrolling is completed!!!\n"
          ]
        },
        {
          "name": "stderr",
          "output_type": "stream",
          "text": [
            "<ipython-input-16-616f45a08665>:18: DeprecationWarning: find_element_by_* commands are deprecated. Please use find_element() instead\n",
            "  more_btn = browser.find_element_by_xpath('/html/body/div[1]/div[4]/c-wiz/div/div[2]/div/div/main/div/div[1]/div[2]/div[2]/div/span/span').click()\n"
          ]
        }
      ],
      "source": [
        "scrolling()"
      ]
    },
    {
      "cell_type": "code",
      "execution_count": null,
      "metadata": {
        "id": "kCyOjRcwu7vp"
      },
      "outputs": [],
      "source": [
        "sound = DataFrame(index=range(500), columns=['날짜','리뷰','별점'])"
      ]
    },
    {
      "cell_type": "code",
      "execution_count": null,
      "metadata": {
        "id": "32mOaby2u7vp",
        "outputId": "5895671d-8413-417c-cafa-e0a8fb143bca"
      },
      "outputs": [
        {
          "name": "stderr",
          "output_type": "stream",
          "text": [
            "<ipython-input-21-820cefe7ae50>:3: DeprecationWarning: find_element_by_* commands are deprecated. Please use find_element() instead\n",
            "  elem1 = browser.find_element_by_xpath('//*[@id=\"yDmH0d\"]/div[4]/div[2]/div/div/div/div/div[2]/div/div[1]/div[%d]/header/div[2]/span'%t)\n",
            "<ipython-input-21-820cefe7ae50>:4: DeprecationWarning: find_element_by_* commands are deprecated. Please use find_element() instead\n",
            "  elem2 = browser.find_element_by_xpath('//*[@id=\"yDmH0d\"]/div[4]/div[2]/div/div/div/div/div[2]/div/div[1]/div[%d]/div[1]'%t)\n",
            "<ipython-input-21-820cefe7ae50>:5: DeprecationWarning: find_element_by_* commands are deprecated. Please use find_element() instead\n",
            "  elem3 = browser.find_element_by_xpath('//*[@id=\"yDmH0d\"]/div[4]/div[2]/div/div/div/div/div[2]/div/div[1]/div[%d]/header/div[2]/div'%t)\n"
          ]
        }
      ],
      "source": [
        "for i in range(500):\n",
        "    t=i+1\n",
        "    elem1 = browser.find_element_by_xpath('//*[@id=\"yDmH0d\"]/div[4]/div[2]/div/div/div/div/div[2]/div/div[1]/div[%d]/header/div[2]/span'%t)\n",
        "    elem2 = browser.find_element_by_xpath('//*[@id=\"yDmH0d\"]/div[4]/div[2]/div/div/div/div/div[2]/div/div[1]/div[%d]/div[1]'%t)\n",
        "    elem3 = browser.find_element_by_xpath('//*[@id=\"yDmH0d\"]/div[4]/div[2]/div/div/div/div/div[2]/div/div[1]/div[%d]/header/div[2]/div'%t)\n",
        "        \n",
        "    sound['날짜'][i] = elem1.text\n",
        "    sound['리뷰'][i] = elem2.text\n",
        "    sound['별점'][i] = int(elem3.get_attribute('aria-label')[10])"
      ]
    },
    {
      "cell_type": "code",
      "execution_count": null,
      "metadata": {
        "id": "FC8tDPnTu7vq",
        "outputId": "6b19d24c-c1a4-42a3-8e1c-dbda215cf482"
      },
      "outputs": [
        {
          "data": {
            "text/html": [
              "<div>\n",
              "<style scoped>\n",
              "    .dataframe tbody tr th:only-of-type {\n",
              "        vertical-align: middle;\n",
              "    }\n",
              "\n",
              "    .dataframe tbody tr th {\n",
              "        vertical-align: top;\n",
              "    }\n",
              "\n",
              "    .dataframe thead th {\n",
              "        text-align: right;\n",
              "    }\n",
              "</style>\n",
              "<table border=\"1\" class=\"dataframe\">\n",
              "  <thead>\n",
              "    <tr style=\"text-align: right;\">\n",
              "      <th></th>\n",
              "      <th>날짜</th>\n",
              "      <th>리뷰</th>\n",
              "      <th>별점</th>\n",
              "    </tr>\n",
              "  </thead>\n",
              "  <tbody>\n",
              "    <tr>\n",
              "      <th>0</th>\n",
              "      <td>2021년 12월 12일</td>\n",
              "      <td>asmr로 팅글 느껴야 자는 분들, asmr 들어도 잠 안 오시는 분들에게는 꼭 추...</td>\n",
              "      <td>5</td>\n",
              "    </tr>\n",
              "    <tr>\n",
              "      <th>1</th>\n",
              "      <td>2020년 1월 25일</td>\n",
              "      <td>일단 결론부터 말하자면 진짜 좋아요 ,, 1. 종류별로 있는 소리들 - 빗소리도 종...</td>\n",
              "      <td>5</td>\n",
              "    </tr>\n",
              "    <tr>\n",
              "      <th>2</th>\n",
              "      <td>2020년 1월 10일</td>\n",
              "      <td>시간설정 가능해서 좋음. 화면이 꺼져도 실행되러서 좋음. 잠이 안올때면 시계소리등 ...</td>\n",
              "      <td>5</td>\n",
              "    </tr>\n",
              "    <tr>\n",
              "      <th>3</th>\n",
              "      <td>2020년 4월 1일</td>\n",
              "      <td>다른거 다써보고 이 어플 써보는데 정말 몇 달간 사용하면서 불편했던 적이 없었습니다...</td>\n",
              "      <td>5</td>\n",
              "    </tr>\n",
              "    <tr>\n",
              "      <th>4</th>\n",
              "      <td>2020년 7월 15일</td>\n",
              "      <td>좋은 소리들은 많지만, 자주 노래가 끊기네요~~ 평소에도 어떤 소리가 들리지 않으면...</td>\n",
              "      <td>3</td>\n",
              "    </tr>\n",
              "    <tr>\n",
              "      <th>...</th>\n",
              "      <td>...</td>\n",
              "      <td>...</td>\n",
              "      <td>...</td>\n",
              "    </tr>\n",
              "    <tr>\n",
              "      <th>495</th>\n",
              "      <td>2019년 12월 7일</td>\n",
              "      <td>말이필요없다 굿굿굿</td>\n",
              "      <td>5</td>\n",
              "    </tr>\n",
              "    <tr>\n",
              "      <th>496</th>\n",
              "      <td>2019년 6월 17일</td>\n",
              "      <td>완전 제 스타일</td>\n",
              "      <td>5</td>\n",
              "    </tr>\n",
              "    <tr>\n",
              "      <th>497</th>\n",
              "      <td>2018년 10월 16일</td>\n",
              "      <td>굿 짱 인터페이스두 걍 이뻐용</td>\n",
              "      <td>5</td>\n",
              "    </tr>\n",
              "    <tr>\n",
              "      <th>498</th>\n",
              "      <td>2019년 3월 17일</td>\n",
              "      <td>정말 좋아요!!</td>\n",
              "      <td>5</td>\n",
              "    </tr>\n",
              "    <tr>\n",
              "      <th>499</th>\n",
              "      <td>2018년 10월 16일</td>\n",
              "      <td>좋아요잠이잘와요</td>\n",
              "      <td>5</td>\n",
              "    </tr>\n",
              "  </tbody>\n",
              "</table>\n",
              "<p>500 rows × 3 columns</p>\n",
              "</div>"
            ],
            "text/plain": [
              "                날짜                                                 리뷰 별점\n",
              "0    2021년 12월 12일  asmr로 팅글 느껴야 자는 분들, asmr 들어도 잠 안 오시는 분들에게는 꼭 추...  5\n",
              "1     2020년 1월 25일  일단 결론부터 말하자면 진짜 좋아요 ,, 1. 종류별로 있는 소리들 - 빗소리도 종...  5\n",
              "2     2020년 1월 10일  시간설정 가능해서 좋음. 화면이 꺼져도 실행되러서 좋음. 잠이 안올때면 시계소리등 ...  5\n",
              "3      2020년 4월 1일  다른거 다써보고 이 어플 써보는데 정말 몇 달간 사용하면서 불편했던 적이 없었습니다...  5\n",
              "4     2020년 7월 15일  좋은 소리들은 많지만, 자주 노래가 끊기네요~~ 평소에도 어떤 소리가 들리지 않으면...  3\n",
              "..             ...                                                ... ..\n",
              "495   2019년 12월 7일                                         말이필요없다 굿굿굿  5\n",
              "496   2019년 6월 17일                                           완전 제 스타일  5\n",
              "497  2018년 10월 16일                                   굿 짱 인터페이스두 걍 이뻐용  5\n",
              "498   2019년 3월 17일                                           정말 좋아요!!  5\n",
              "499  2018년 10월 16일                                           좋아요잠이잘와요  5\n",
              "\n",
              "[500 rows x 3 columns]"
            ]
          },
          "execution_count": 22,
          "metadata": {},
          "output_type": "execute_result"
        }
      ],
      "source": [
        "sound"
      ]
    },
    {
      "cell_type": "code",
      "execution_count": null,
      "metadata": {
        "id": "FIFgy7c7u7vq"
      },
      "outputs": [],
      "source": [
        "sound.to_csv('sleepsound12.csv',encoding='utf-8-sig', index=False)"
      ]
    },
    {
      "cell_type": "markdown",
      "metadata": {
        "id": "vLfDE3fIu7vq"
      },
      "source": [
        "**11번 스노어랩 플레이스토어에서 크롤링**"
      ]
    },
    {
      "cell_type": "code",
      "execution_count": null,
      "metadata": {
        "id": "ZOgVv0Qiu7vr"
      },
      "outputs": [],
      "source": [
        "browser.get('https://play.google.com/store/apps/details?id=com.snorelab.app')"
      ]
    },
    {
      "cell_type": "code",
      "execution_count": null,
      "metadata": {
        "id": "--CnReigu7vr",
        "outputId": "e4bf00be-96be-4742-a9af-390f83f01208"
      },
      "outputs": [
        {
          "name": "stderr",
          "output_type": "stream",
          "text": [
            "<ipython-input-25-4dcbd65f5ed7>:1: DeprecationWarning: find_element_by_* commands are deprecated. Please use find_element() instead\n",
            "  browser.find_element_by_xpath('//*[@id=\"yDmH0d\"]/c-wiz[2]/div/div/div[1]/div[2]/div/div[1]/c-wiz[3]/section/header/div/div[2]/button/i').click()\n"
          ]
        }
      ],
      "source": [
        "browser.find_element_by_xpath('//*[@id=\"yDmH0d\"]/c-wiz[2]/div/div/div[1]/div[2]/div/div[1]/c-wiz[3]/section/header/div/div[2]/button/i').click()"
      ]
    },
    {
      "cell_type": "code",
      "execution_count": null,
      "metadata": {
        "id": "sNmqq-p7u7vr"
      },
      "outputs": [],
      "source": [
        "snore = DataFrame(index=range(500), columns=['날짜','리뷰','별점'])"
      ]
    },
    {
      "cell_type": "code",
      "execution_count": null,
      "metadata": {
        "id": "9EkiCw6zu7vs",
        "outputId": "bbf4a84d-dad3-4908-f7ee-64ef36b06712"
      },
      "outputs": [
        {
          "name": "stderr",
          "output_type": "stream",
          "text": [
            "<ipython-input-27-3db4bc9f04b4>:3: DeprecationWarning: find_element_by_* commands are deprecated. Please use find_element() instead\n",
            "  elem1 = browser.find_element_by_xpath('//*[@id=\"yDmH0d\"]/div[4]/div[2]/div/div/div/div/div[2]/div/div[1]/div[%d]/header/div[2]/span'%t)\n",
            "<ipython-input-27-3db4bc9f04b4>:4: DeprecationWarning: find_element_by_* commands are deprecated. Please use find_element() instead\n",
            "  elem2 = browser.find_element_by_xpath('//*[@id=\"yDmH0d\"]/div[4]/div[2]/div/div/div/div/div[2]/div/div[1]/div[%d]/div[1]'%t)\n",
            "<ipython-input-27-3db4bc9f04b4>:5: DeprecationWarning: find_element_by_* commands are deprecated. Please use find_element() instead\n",
            "  elem3 = browser.find_element_by_xpath('//*[@id=\"yDmH0d\"]/div[4]/div[2]/div/div/div/div/div[2]/div/div[1]/div[%d]/header/div[2]/div'%t)\n"
          ]
        }
      ],
      "source": [
        "for i in range(500):\n",
        "    t=i+1\n",
        "    elem1 = browser.find_element_by_xpath('//*[@id=\"yDmH0d\"]/div[4]/div[2]/div/div/div/div/div[2]/div/div[1]/div[%d]/header/div[2]/span'%t)\n",
        "    elem2 = browser.find_element_by_xpath('//*[@id=\"yDmH0d\"]/div[4]/div[2]/div/div/div/div/div[2]/div/div[1]/div[%d]/div[1]'%t)\n",
        "    elem3 = browser.find_element_by_xpath('//*[@id=\"yDmH0d\"]/div[4]/div[2]/div/div/div/div/div[2]/div/div[1]/div[%d]/header/div[2]/div'%t)\n",
        "        \n",
        "    snore['날짜'][i] = elem1.text\n",
        "    snore['리뷰'][i] = elem2.text\n",
        "    snore['별점'][i] = int(elem3.get_attribute('aria-label')[10])"
      ]
    },
    {
      "cell_type": "code",
      "execution_count": null,
      "metadata": {
        "id": "SOeaGN1ku7vs"
      },
      "outputs": [],
      "source": [
        "snore.to_csv('snorelab11.csv',encoding='utf-8-sig', index=False)"
      ]
    },
    {
      "cell_type": "markdown",
      "metadata": {
        "id": "ze7Zl9Xtu7vs"
      },
      "source": [
        "**9번 calm 플레이스토어에서 크롤링**"
      ]
    },
    {
      "cell_type": "code",
      "execution_count": null,
      "metadata": {
        "id": "DrV02zb2u7vt"
      },
      "outputs": [],
      "source": [
        "browser.get('https://play.google.com/store/apps/details?id=com.calm.android')"
      ]
    },
    {
      "cell_type": "code",
      "execution_count": null,
      "metadata": {
        "scrolled": false,
        "id": "fuGEnzPpu7vt",
        "outputId": "0fba6c57-8f84-41e3-d47d-7947e55621a1"
      },
      "outputs": [
        {
          "name": "stderr",
          "output_type": "stream",
          "text": [
            "<ipython-input-30-4dcbd65f5ed7>:1: DeprecationWarning: find_element_by_* commands are deprecated. Please use find_element() instead\n",
            "  browser.find_element_by_xpath('//*[@id=\"yDmH0d\"]/c-wiz[2]/div/div/div[1]/div[2]/div/div[1]/c-wiz[3]/section/header/div/div[2]/button/i').click()\n"
          ]
        }
      ],
      "source": [
        "browser.find_element_by_xpath('//*[@id=\"yDmH0d\"]/c-wiz[2]/div/div/div[1]/div[2]/div/div[1]/c-wiz[3]/section/header/div/div[2]/button/i').click()"
      ]
    },
    {
      "cell_type": "code",
      "execution_count": null,
      "metadata": {
        "id": "qrOT7EuOu7vt"
      },
      "outputs": [],
      "source": [
        "calm = DataFrame(index=range(500), columns=['날짜','리뷰','별점'])"
      ]
    },
    {
      "cell_type": "code",
      "execution_count": null,
      "metadata": {
        "id": "0TcsozDdu7vt",
        "outputId": "b8504bdd-40cd-40be-f11d-11a2456c41b0"
      },
      "outputs": [
        {
          "name": "stderr",
          "output_type": "stream",
          "text": [
            "<ipython-input-32-348f201f7b71>:3: DeprecationWarning: find_element_by_* commands are deprecated. Please use find_element() instead\n",
            "  elem1 = browser.find_element_by_xpath('//*[@id=\"yDmH0d\"]/div[4]/div[2]/div/div/div/div/div[2]/div/div[1]/div[%d]/header/div[2]/span'%t)\n",
            "<ipython-input-32-348f201f7b71>:4: DeprecationWarning: find_element_by_* commands are deprecated. Please use find_element() instead\n",
            "  elem2 = browser.find_element_by_xpath('//*[@id=\"yDmH0d\"]/div[4]/div[2]/div/div/div/div/div[2]/div/div[1]/div[%d]/div[1]'%t)\n",
            "<ipython-input-32-348f201f7b71>:5: DeprecationWarning: find_element_by_* commands are deprecated. Please use find_element() instead\n",
            "  elem3 = browser.find_element_by_xpath('//*[@id=\"yDmH0d\"]/div[4]/div[2]/div/div/div/div/div[2]/div/div[1]/div[%d]/header/div[2]/div'%t)\n"
          ]
        }
      ],
      "source": [
        "for i in range(500):\n",
        "    t=i+1\n",
        "    elem1 = browser.find_element_by_xpath('//*[@id=\"yDmH0d\"]/div[4]/div[2]/div/div/div/div/div[2]/div/div[1]/div[%d]/header/div[2]/span'%t)\n",
        "    elem2 = browser.find_element_by_xpath('//*[@id=\"yDmH0d\"]/div[4]/div[2]/div/div/div/div/div[2]/div/div[1]/div[%d]/div[1]'%t)\n",
        "    elem3 = browser.find_element_by_xpath('//*[@id=\"yDmH0d\"]/div[4]/div[2]/div/div/div/div/div[2]/div/div[1]/div[%d]/header/div[2]/div'%t)\n",
        "        \n",
        "    calm['날짜'][i] = elem1.text\n",
        "    calm['리뷰'][i] = elem2.text\n",
        "    calm['별점'][i] = int(elem3.get_attribute('aria-label')[10])"
      ]
    },
    {
      "cell_type": "code",
      "execution_count": null,
      "metadata": {
        "id": "b-5lqzfau7vu"
      },
      "outputs": [],
      "source": [
        "calm.to_csv('calm9.csv',encoding='utf-8-sig', index=False)"
      ]
    },
    {
      "cell_type": "code",
      "execution_count": null,
      "metadata": {
        "id": "9AykLe4su7vu",
        "outputId": "6f361954-5635-40f0-e9c5-c844ba58df62"
      },
      "outputs": [
        {
          "data": {
            "text/html": [
              "<div>\n",
              "<style scoped>\n",
              "    .dataframe tbody tr th:only-of-type {\n",
              "        vertical-align: middle;\n",
              "    }\n",
              "\n",
              "    .dataframe tbody tr th {\n",
              "        vertical-align: top;\n",
              "    }\n",
              "\n",
              "    .dataframe thead th {\n",
              "        text-align: right;\n",
              "    }\n",
              "</style>\n",
              "<table border=\"1\" class=\"dataframe\">\n",
              "  <thead>\n",
              "    <tr style=\"text-align: right;\">\n",
              "      <th></th>\n",
              "      <th>날짜</th>\n",
              "      <th>리뷰</th>\n",
              "      <th>별점</th>\n",
              "    </tr>\n",
              "  </thead>\n",
              "  <tbody>\n",
              "    <tr>\n",
              "      <th>0</th>\n",
              "      <td>2022년 1월 19일</td>\n",
              "      <td>무료체험기간 끝나기전 결제예정문자준다는 글귀읽고 신청했는데 문자는못받고 결제됬네요....</td>\n",
              "      <td>3</td>\n",
              "    </tr>\n",
              "    <tr>\n",
              "      <th>1</th>\n",
              "      <td>2022년 1월 17일</td>\n",
              "      <td>1년간 유료로 잘 사용해왔는데 기간 만료되니까 무료로 이용할때 기본으로 열렸던 몇가...</td>\n",
              "      <td>3</td>\n",
              "    </tr>\n",
              "    <tr>\n",
              "      <th>2</th>\n",
              "      <td>2022년 1월 1일</td>\n",
              "      <td>인앱구매했습니다. 결제한만큼의 값어치가 있기를 기대합니다. 일단 첫날치고는 성공적입...</td>\n",
              "      <td>5</td>\n",
              "    </tr>\n",
              "    <tr>\n",
              "      <th>3</th>\n",
              "      <td>2022년 1월 13일</td>\n",
              "      <td>이거 취소 어떻게 하나요? 들어가보니 별로 도움되는게 없어서 나오려고 하는데 방법이...</td>\n",
              "      <td>1</td>\n",
              "    </tr>\n",
              "    <tr>\n",
              "      <th>4</th>\n",
              "      <td>2021년 12월 25일</td>\n",
              "      <td>시험 준비 중인데, 긴장 완화, 불안 해소에 도움이 많이 됩니다. 더 빨리 이 어플...</td>\n",
              "      <td>4</td>\n",
              "    </tr>\n",
              "    <tr>\n",
              "      <th>...</th>\n",
              "      <td>...</td>\n",
              "      <td>...</td>\n",
              "      <td>...</td>\n",
              "    </tr>\n",
              "    <tr>\n",
              "      <th>495</th>\n",
              "      <td>2019년 12월 23일</td>\n",
              "      <td>웹사이트에 외국어로 소개되어 영문으로 나올줄알았는데 한글로도 차근차근 읽어주니 좋네...</td>\n",
              "      <td>5</td>\n",
              "    </tr>\n",
              "    <tr>\n",
              "      <th>496</th>\n",
              "      <td>2020년 1월 17일</td>\n",
              "      <td>앱만깔았는데 7일후 바로 정기결제... 정기결제 취소해주세요. 계정삭제도요.</td>\n",
              "      <td>1</td>\n",
              "    </tr>\n",
              "    <tr>\n",
              "      <th>497</th>\n",
              "      <td>2019년 10월 25일</td>\n",
              "      <td>그냥 무료체험 한번했는데 어느날 갑자기 정기결제가 되네요 원치도않는데 환불해주세요</td>\n",
              "      <td>1</td>\n",
              "    </tr>\n",
              "    <tr>\n",
              "      <th>498</th>\n",
              "      <td>2021년 4월 30일</td>\n",
              "      <td>압데이트 되고 난뒤로 오류가 너무 생겨요. 공유하기도 안되고 삭제나 기능자체가 먹통...</td>\n",
              "      <td>1</td>\n",
              "    </tr>\n",
              "    <tr>\n",
              "      <th>499</th>\n",
              "      <td>2020년 4월 1일</td>\n",
              "      <td>무료판취소할려는데 왜 구독관리만 나오고 구독취소칸없이 무료계정만 있다고 뜨네요 무료...</td>\n",
              "      <td>1</td>\n",
              "    </tr>\n",
              "  </tbody>\n",
              "</table>\n",
              "<p>500 rows × 3 columns</p>\n",
              "</div>"
            ],
            "text/plain": [
              "                날짜                                                 리뷰 별점\n",
              "0     2022년 1월 19일  무료체험기간 끝나기전 결제예정문자준다는 글귀읽고 신청했는데 문자는못받고 결제됬네요....  3\n",
              "1     2022년 1월 17일  1년간 유료로 잘 사용해왔는데 기간 만료되니까 무료로 이용할때 기본으로 열렸던 몇가...  3\n",
              "2      2022년 1월 1일  인앱구매했습니다. 결제한만큼의 값어치가 있기를 기대합니다. 일단 첫날치고는 성공적입...  5\n",
              "3     2022년 1월 13일  이거 취소 어떻게 하나요? 들어가보니 별로 도움되는게 없어서 나오려고 하는데 방법이...  1\n",
              "4    2021년 12월 25일  시험 준비 중인데, 긴장 완화, 불안 해소에 도움이 많이 됩니다. 더 빨리 이 어플...  4\n",
              "..             ...                                                ... ..\n",
              "495  2019년 12월 23일  웹사이트에 외국어로 소개되어 영문으로 나올줄알았는데 한글로도 차근차근 읽어주니 좋네...  5\n",
              "496   2020년 1월 17일         앱만깔았는데 7일후 바로 정기결제... 정기결제 취소해주세요. 계정삭제도요.  1\n",
              "497  2019년 10월 25일      그냥 무료체험 한번했는데 어느날 갑자기 정기결제가 되네요 원치도않는데 환불해주세요  1\n",
              "498   2021년 4월 30일  압데이트 되고 난뒤로 오류가 너무 생겨요. 공유하기도 안되고 삭제나 기능자체가 먹통...  1\n",
              "499    2020년 4월 1일  무료판취소할려는데 왜 구독관리만 나오고 구독취소칸없이 무료계정만 있다고 뜨네요 무료...  1\n",
              "\n",
              "[500 rows x 3 columns]"
            ]
          },
          "execution_count": 34,
          "metadata": {},
          "output_type": "execute_result"
        }
      ],
      "source": [
        "calm"
      ]
    },
    {
      "cell_type": "markdown",
      "metadata": {
        "id": "b6jMIlyku7vv"
      },
      "source": [
        "**슬립모니터 플레이스토어에서 크롤링**"
      ]
    },
    {
      "cell_type": "code",
      "execution_count": null,
      "metadata": {
        "scrolled": true,
        "id": "maorLJjbu7vv",
        "outputId": "c689ea87-ea42-4c79-8cfd-04c6314550a7"
      },
      "outputs": [
        {
          "name": "stderr",
          "output_type": "stream",
          "text": [
            "<ipython-input-16-49bb08a46487>:2: DeprecationWarning: executable_path has been deprecated, please pass in a Service object\n",
            "  browser = webdriver.Chrome(path)\n"
          ]
        }
      ],
      "source": [
        "#드라이버 객체 생성\n",
        "browser = webdriver.Chrome(path)"
      ]
    },
    {
      "cell_type": "code",
      "execution_count": null,
      "metadata": {
        "id": "4c0Ne0J0u7vv"
      },
      "outputs": [],
      "source": [
        "browser.get('https://play.google.com/store/apps/details?id=com.sleepmonitor.aio')"
      ]
    },
    {
      "cell_type": "code",
      "execution_count": null,
      "metadata": {
        "id": "Zq581iL0u7vv",
        "outputId": "eabc2e34-3596-444a-c243-143399d0bcc3"
      },
      "outputs": [
        {
          "name": "stderr",
          "output_type": "stream",
          "text": [
            "<ipython-input-19-4dcbd65f5ed7>:1: DeprecationWarning: find_element_by_* commands are deprecated. Please use find_element() instead\n",
            "  browser.find_element_by_xpath('//*[@id=\"yDmH0d\"]/c-wiz[2]/div/div/div[1]/div[2]/div/div[1]/c-wiz[3]/section/header/div/div[2]/button/i').click()\n"
          ]
        }
      ],
      "source": [
        "browser.find_element_by_xpath('//*[@id=\"yDmH0d\"]/c-wiz[2]/div/div/div[1]/div[2]/div/div[1]/c-wiz[3]/section/header/div/div[2]/button/i').click()"
      ]
    },
    {
      "cell_type": "code",
      "execution_count": null,
      "metadata": {
        "id": "TV6OH4-Eu7vw"
      },
      "outputs": [],
      "source": [
        "sleepmoniter = DataFrame(index=range(500), columns=['날짜','리뷰','별점'])"
      ]
    },
    {
      "cell_type": "code",
      "execution_count": null,
      "metadata": {
        "id": "hWjoibF8u7vx",
        "outputId": "e61fdc17-173c-4904-fba0-2e79cdd376ff"
      },
      "outputs": [
        {
          "name": "stderr",
          "output_type": "stream",
          "text": [
            "<ipython-input-24-486fb932de02>:3: DeprecationWarning: find_element_by_* commands are deprecated. Please use find_element() instead\n",
            "  elem1 = browser.find_element_by_xpath('//*[@id=\"yDmH0d\"]/div[4]/div[2]/div/div/div/div/div[2]/div/div[1]/div[%d]/header/div[2]/span'%t)\n",
            "<ipython-input-24-486fb932de02>:4: DeprecationWarning: find_element_by_* commands are deprecated. Please use find_element() instead\n",
            "  elem2 = browser.find_element_by_xpath('//*[@id=\"yDmH0d\"]/div[4]/div[2]/div/div/div/div/div[2]/div/div[1]/div[%d]/div[1]'%t)\n",
            "<ipython-input-24-486fb932de02>:5: DeprecationWarning: find_element_by_* commands are deprecated. Please use find_element() instead\n",
            "  elem3 = browser.find_element_by_xpath('//*[@id=\"yDmH0d\"]/div[4]/div[2]/div/div/div/div/div[2]/div/div[1]/div[%d]/header/div[2]/div'%t)\n"
          ]
        }
      ],
      "source": [
        "for i in range(500):\n",
        "    t=i+1\n",
        "    elem1 = browser.find_element_by_xpath('//*[@id=\"yDmH0d\"]/div[4]/div[2]/div/div/div/div/div[2]/div/div[1]/div[%d]/header/div[2]/span'%t)\n",
        "    elem2 = browser.find_element_by_xpath('//*[@id=\"yDmH0d\"]/div[4]/div[2]/div/div/div/div/div[2]/div/div[1]/div[%d]/div[1]'%t)\n",
        "    elem3 = browser.find_element_by_xpath('//*[@id=\"yDmH0d\"]/div[4]/div[2]/div/div/div/div/div[2]/div/div[1]/div[%d]/header/div[2]/div'%t)\n",
        "        \n",
        "    sleepmoniter['날짜'][i] = elem1.text\n",
        "    sleepmoniter['리뷰'][i] = elem2.text\n",
        "    sleepmoniter['별점'][i] = int(elem3.get_attribute('aria-label')[6])"
      ]
    },
    {
      "cell_type": "code",
      "execution_count": null,
      "metadata": {
        "id": "4C0XqYoCu7vx",
        "outputId": "0bc957f0-6338-4916-efe3-d1b6f50c7f52"
      },
      "outputs": [
        {
          "name": "stderr",
          "output_type": "stream",
          "text": [
            "<ipython-input-23-012b826697eb>:1: DeprecationWarning: find_element_by_* commands are deprecated. Please use find_element() instead\n",
            "  elem3 = browser.find_element_by_xpath('//*[@id=\"yDmH0d\"]/div[4]/div[2]/div/div/div/div/div[2]/div/div[1]/div[1]/header/div[2]/div')\n"
          ]
        },
        {
          "data": {
            "text/plain": [
              "'3'"
            ]
          },
          "execution_count": 23,
          "metadata": {},
          "output_type": "execute_result"
        }
      ],
      "source": [
        "elem3 = browser.find_element_by_xpath('//*[@id=\"yDmH0d\"]/div[4]/div[2]/div/div/div/div/div[2]/div/div[1]/div[1]/header/div[2]/div')\n",
        "elem3.get_attribute('aria-label')[6]"
      ]
    },
    {
      "cell_type": "code",
      "execution_count": null,
      "metadata": {
        "id": "JJV3KNd4u7vy",
        "outputId": "05aabf6b-2150-4b48-8285-e4e2046228f3"
      },
      "outputs": [
        {
          "data": {
            "text/html": [
              "<div>\n",
              "<style scoped>\n",
              "    .dataframe tbody tr th:only-of-type {\n",
              "        vertical-align: middle;\n",
              "    }\n",
              "\n",
              "    .dataframe tbody tr th {\n",
              "        vertical-align: top;\n",
              "    }\n",
              "\n",
              "    .dataframe thead th {\n",
              "        text-align: right;\n",
              "    }\n",
              "</style>\n",
              "<table border=\"1\" class=\"dataframe\">\n",
              "  <thead>\n",
              "    <tr style=\"text-align: right;\">\n",
              "      <th></th>\n",
              "      <th>날짜</th>\n",
              "      <th>리뷰</th>\n",
              "      <th>별점</th>\n",
              "    </tr>\n",
              "  </thead>\n",
              "  <tbody>\n",
              "    <tr>\n",
              "      <th>0</th>\n",
              "      <td>February 15, 2020</td>\n",
              "      <td>I really like how nice and simple it is but I ...</td>\n",
              "      <td>3</td>\n",
              "    </tr>\n",
              "    <tr>\n",
              "      <th>1</th>\n",
              "      <td>January 19, 2022</td>\n",
              "      <td>The app is always improving, and the developer...</td>\n",
              "      <td>5</td>\n",
              "    </tr>\n",
              "    <tr>\n",
              "      <th>2</th>\n",
              "      <td>January 19, 2022</td>\n",
              "      <td>I like Sleep Monitor very much. Of course, I h...</td>\n",
              "      <td>5</td>\n",
              "    </tr>\n",
              "    <tr>\n",
              "      <th>3</th>\n",
              "      <td>January 20, 2022</td>\n",
              "      <td>Nice app, I found value and good information. ...</td>\n",
              "      <td>5</td>\n",
              "    </tr>\n",
              "    <tr>\n",
              "      <th>4</th>\n",
              "      <td>January 19, 2022</td>\n",
              "      <td>A very nice way to know my sleep. App analyzes...</td>\n",
              "      <td>5</td>\n",
              "    </tr>\n",
              "  </tbody>\n",
              "</table>\n",
              "</div>"
            ],
            "text/plain": [
              "                  날짜                                                 리뷰 별점\n",
              "0  February 15, 2020  I really like how nice and simple it is but I ...  3\n",
              "1   January 19, 2022  The app is always improving, and the developer...  5\n",
              "2   January 19, 2022  I like Sleep Monitor very much. Of course, I h...  5\n",
              "3   January 20, 2022  Nice app, I found value and good information. ...  5\n",
              "4   January 19, 2022  A very nice way to know my sleep. App analyzes...  5"
            ]
          },
          "execution_count": 25,
          "metadata": {},
          "output_type": "execute_result"
        }
      ],
      "source": [
        "sleepmoniter.head()"
      ]
    },
    {
      "cell_type": "code",
      "execution_count": null,
      "metadata": {
        "id": "xZq2BmZPu7vz"
      },
      "outputs": [],
      "source": [
        "sleepmoniter.to_csv('sleepmoniter_playstore.csv',encoding='utf-8-sig', index=False)"
      ]
    },
    {
      "cell_type": "markdown",
      "metadata": {
        "id": "r760_VRZu7vz"
      },
      "source": [
        "**sleepzy 플레이스토어에서 크롤링**"
      ]
    },
    {
      "cell_type": "code",
      "execution_count": null,
      "metadata": {
        "id": "gnYSsVuUu7vz"
      },
      "outputs": [],
      "source": [
        "browser.get('https://play.google.com/store/apps/details?id=com.apalon.alarmclock.smart')"
      ]
    },
    {
      "cell_type": "code",
      "execution_count": null,
      "metadata": {
        "scrolled": true,
        "id": "IsY16tLzu7v0",
        "outputId": "1948f03d-003f-4094-b7cc-86fcfd722c9a"
      },
      "outputs": [
        {
          "name": "stderr",
          "output_type": "stream",
          "text": [
            "<ipython-input-28-4dcbd65f5ed7>:1: DeprecationWarning: find_element_by_* commands are deprecated. Please use find_element() instead\n",
            "  browser.find_element_by_xpath('//*[@id=\"yDmH0d\"]/c-wiz[2]/div/div/div[1]/div[2]/div/div[1]/c-wiz[3]/section/header/div/div[2]/button/i').click()\n"
          ]
        }
      ],
      "source": [
        "browser.find_element_by_xpath('//*[@id=\"yDmH0d\"]/c-wiz[2]/div/div/div[1]/div[2]/div/div[1]/c-wiz[3]/section/header/div/div[2]/button/i').click()"
      ]
    },
    {
      "cell_type": "code",
      "execution_count": null,
      "metadata": {
        "id": "wUDy_qW9u7v0"
      },
      "outputs": [],
      "source": [
        "sleepzy = DataFrame(index=range(500), columns=['날짜','리뷰','별점'])"
      ]
    },
    {
      "cell_type": "code",
      "execution_count": null,
      "metadata": {
        "id": "3h0A3nQ3u7v0",
        "outputId": "bf7bda3b-a7fd-4899-a92e-5ad6593d2bfa"
      },
      "outputs": [
        {
          "name": "stderr",
          "output_type": "stream",
          "text": [
            "<ipython-input-30-6cdc4e364aee>:3: DeprecationWarning: find_element_by_* commands are deprecated. Please use find_element() instead\n",
            "  elem1 = browser.find_element_by_xpath('//*[@id=\"yDmH0d\"]/div[4]/div[2]/div/div/div/div/div[2]/div/div[1]/div[%d]/header/div[2]/span'%t)\n",
            "<ipython-input-30-6cdc4e364aee>:4: DeprecationWarning: find_element_by_* commands are deprecated. Please use find_element() instead\n",
            "  elem2 = browser.find_element_by_xpath('//*[@id=\"yDmH0d\"]/div[4]/div[2]/div/div/div/div/div[2]/div/div[1]/div[%d]/div[1]'%t)\n",
            "<ipython-input-30-6cdc4e364aee>:5: DeprecationWarning: find_element_by_* commands are deprecated. Please use find_element() instead\n",
            "  elem3 = browser.find_element_by_xpath('//*[@id=\"yDmH0d\"]/div[4]/div[2]/div/div/div/div/div[2]/div/div[1]/div[%d]/header/div[2]/div'%t)\n"
          ]
        }
      ],
      "source": [
        "for i in range(500):\n",
        "    t=i+1\n",
        "    elem1 = browser.find_element_by_xpath('//*[@id=\"yDmH0d\"]/div[4]/div[2]/div/div/div/div/div[2]/div/div[1]/div[%d]/header/div[2]/span'%t)\n",
        "    elem2 = browser.find_element_by_xpath('//*[@id=\"yDmH0d\"]/div[4]/div[2]/div/div/div/div/div[2]/div/div[1]/div[%d]/div[1]'%t)\n",
        "    elem3 = browser.find_element_by_xpath('//*[@id=\"yDmH0d\"]/div[4]/div[2]/div/div/div/div/div[2]/div/div[1]/div[%d]/header/div[2]/div'%t)\n",
        "        \n",
        "    sleepzy['날짜'][i] = elem1.text\n",
        "    sleepzy['리뷰'][i] = elem2.text\n",
        "    sleepzy['별점'][i] = int(elem3.get_attribute('aria-label')[6])"
      ]
    },
    {
      "cell_type": "code",
      "execution_count": null,
      "metadata": {
        "id": "fwehlYdNu7v1",
        "outputId": "b7c7f934-ce05-434b-9d4b-268688e59903"
      },
      "outputs": [
        {
          "data": {
            "text/html": [
              "<div>\n",
              "<style scoped>\n",
              "    .dataframe tbody tr th:only-of-type {\n",
              "        vertical-align: middle;\n",
              "    }\n",
              "\n",
              "    .dataframe tbody tr th {\n",
              "        vertical-align: top;\n",
              "    }\n",
              "\n",
              "    .dataframe thead th {\n",
              "        text-align: right;\n",
              "    }\n",
              "</style>\n",
              "<table border=\"1\" class=\"dataframe\">\n",
              "  <thead>\n",
              "    <tr style=\"text-align: right;\">\n",
              "      <th></th>\n",
              "      <th>날짜</th>\n",
              "      <th>리뷰</th>\n",
              "      <th>별점</th>\n",
              "    </tr>\n",
              "  </thead>\n",
              "  <tbody>\n",
              "    <tr>\n",
              "      <th>0</th>\n",
              "      <td>January 19, 2022</td>\n",
              "      <td>It's so sad that you literally have to pay to ...</td>\n",
              "      <td>4</td>\n",
              "    </tr>\n",
              "    <tr>\n",
              "      <th>1</th>\n",
              "      <td>January 9, 2022</td>\n",
              "      <td>Such a bad experience really it doesn't work p...</td>\n",
              "      <td>1</td>\n",
              "    </tr>\n",
              "    <tr>\n",
              "      <th>2</th>\n",
              "      <td>January 20, 2022</td>\n",
              "      <td>AVOID, NOT FREE! (They deleted my review withi...</td>\n",
              "      <td>1</td>\n",
              "    </tr>\n",
              "    <tr>\n",
              "      <th>3</th>\n",
              "      <td>January 9, 2022</td>\n",
              "      <td>Its a great app, but one thing that is suppose...</td>\n",
              "      <td>3</td>\n",
              "    </tr>\n",
              "    <tr>\n",
              "      <th>4</th>\n",
              "      <td>November 13, 2021</td>\n",
              "      <td>I don't think it's actually tracking my breath...</td>\n",
              "      <td>2</td>\n",
              "    </tr>\n",
              "  </tbody>\n",
              "</table>\n",
              "</div>"
            ],
            "text/plain": [
              "                  날짜                                                 리뷰 별점\n",
              "0   January 19, 2022  It's so sad that you literally have to pay to ...  4\n",
              "1    January 9, 2022  Such a bad experience really it doesn't work p...  1\n",
              "2   January 20, 2022  AVOID, NOT FREE! (They deleted my review withi...  1\n",
              "3    January 9, 2022  Its a great app, but one thing that is suppose...  3\n",
              "4  November 13, 2021  I don't think it's actually tracking my breath...  2"
            ]
          },
          "execution_count": 31,
          "metadata": {},
          "output_type": "execute_result"
        }
      ],
      "source": [
        "sleepzy.head()"
      ]
    },
    {
      "cell_type": "code",
      "execution_count": null,
      "metadata": {
        "id": "esRVhmITu7v1"
      },
      "outputs": [],
      "source": [
        "sleepzy.to_csv('sleepzy_playstore.csv',encoding='utf-8-sig', index=False)"
      ]
    },
    {
      "cell_type": "code",
      "execution_count": null,
      "metadata": {
        "id": "WSix3rtku7v1"
      },
      "outputs": [],
      "source": [
        "browser.quit()"
      ]
    },
    {
      "cell_type": "markdown",
      "metadata": {
        "id": "Ao_bDIW-u7v2"
      },
      "source": [
        "**앱스토어 크롤링(8,9,11,(12))**  \n",
        "앱스토어의 경우 리뷰 10개만 미리볼 수 있어서,  \n",
        "xml 파일로 리뷰데이터를 끌어오는 과정을 거쳤습니다!  \n",
        "(ios에서 삭제해버린 리뷰까지 모두 볼 수 있는 듯해요. 8번데이터가 눈으로 보면 141개인데 500개까지 끌어와지더라구요.)"
      ]
    },
    {
      "cell_type": "code",
      "execution_count": null,
      "metadata": {
        "id": "byeJ3qleu7v2"
      },
      "outputs": [],
      "source": [
        "import xmltodict \n",
        "import requests \n",
        "import os\n",
        "import pandas as pd"
      ]
    },
    {
      "cell_type": "code",
      "execution_count": null,
      "metadata": {
        "id": "RLXbPCNEu7v2"
      },
      "outputs": [],
      "source": [
        "def get_url_index(url):\n",
        "    response = requests.get(url).content.decode('utf8') \n",
        "    xml = xmltodict.parse(response) \n",
        "    \n",
        "    last_url = [l['@href'] for l in xml['feed']['link'] if (l['@rel'] == 'last')][0] \n",
        "    last_index = [int(s.replace('page=', '')) for s in last_url.split('/') if ('page=' in s)][0] \n",
        "    \n",
        "    return last_index"
      ]
    },
    {
      "cell_type": "code",
      "execution_count": null,
      "metadata": {
        "id": "M3C7_WDku7v2"
      },
      "outputs": [],
      "source": [
        "def appstore_crawler(appid, outfile='./appstore_reviews.csv'): \n",
        "    url = 'https://itunes.apple.com/rss/customerreviews/page=1/id=%i/sortby=mostrecent/xml' % appid \n",
        "    \n",
        "    try: \n",
        "        last_index = get_url_index(url) \n",
        "    except Exception as e: \n",
        "        print (url) \n",
        "        print ('\\tNo Reviews: appid %i' %appid) \n",
        "        print ('\\tException:', e) \n",
        "        return \n",
        "    \n",
        "    result = list() \n",
        "    for idx in range(1, last_index+1):\n",
        "        url = \"https://itunes.apple.com/rss/customerreviews/page=%i/id=%i/sortby=mostrecent/xml?urlDesc=/customerreviews/id=%i/sortBy=mostRecent/xml\" % (idx, appid, appid) \n",
        "        print(url) \n",
        "        \n",
        "        response = requests.get(url).content.decode('utf8') \n",
        "        try: \n",
        "            xml = xmltodict.parse(response) \n",
        "        except Exception as e: \n",
        "            print ('\\tXml Parse Error %s\\n\\tSkip %s :' %(e, url)) \n",
        "            continue \n",
        "            \n",
        "        try: \n",
        "            num_reivews= len(xml['feed']['entry']) \n",
        "        except Exception as e: \n",
        "            print ('\\tNo Entry', e) \n",
        "            continue \n",
        "            \n",
        "        try: \n",
        "            xml['feed']['entry'][0]['author']['name'] \n",
        "            single_reviews = False \n",
        "        except: \n",
        "            #print ('\\tOnly 1 review!!!') \n",
        "            single_reviews = True \n",
        "            pass \n",
        "        \n",
        "        if single_reviews: \n",
        "            result.append({ 'USER': xml['feed']['entry']['author']['name'], \n",
        "                           'DATE': xml['feed']['entry']['updated'], \n",
        "                           'STAR': int(xml['feed']['entry']['im:rating']), \n",
        "                           'LIKE': int(xml['feed']['entry']['im:voteSum']), \n",
        "                           'TITLE': xml['feed']['entry']['title'], \n",
        "                           'REVIEW': xml['feed']['entry']['content'][0]['#text'], \n",
        "                          }) \n",
        "        else: \n",
        "            for i in range(len(xml['feed']['entry'])):\n",
        "                result.append({ \n",
        "                    'USER': xml['feed']['entry'][i]['author']['name'],\n",
        "                    'DATE': xml['feed']['entry'][i]['updated'], \n",
        "                    'STAR': int(xml['feed']['entry'][i]['im:rating']), \n",
        "                    'LIKE': int(xml['feed']['entry'][i]['im:voteSum']), \n",
        "                    'TITLE': xml['feed']['entry'][i]['title'], \n",
        "                    'REVIEW': xml['feed']['entry'][i]['content'][0]['#text'],\n",
        "                }) \n",
        "    res_df = pd.DataFrame(result) \n",
        "    res_df['DATE'] = pd.to_datetime(res_df['DATE'], format=\"%Y-%m-%dT%H:%M:%S\") \n",
        "    res_df.to_csv(outfile, encoding='utf-8-sig', index=False) \n",
        "    print ('Save reviews to file: %s \\n' %(outfile))\n"
      ]
    },
    {
      "cell_type": "code",
      "execution_count": null,
      "metadata": {
        "id": "R9uRZBz0u7v3"
      },
      "outputs": [],
      "source": [
        "def appstore_crawler_kr(appid, outfile='./appstore_reviews.csv'): \n",
        "    url = 'https://itunes.apple.com/kr/rss/customerreviews/page=1/id=%i/sortby=mostrecent/xml' % appid \n",
        "    \n",
        "    try: \n",
        "        last_index = get_url_index(url) \n",
        "    except Exception as e: \n",
        "        print (url) \n",
        "        print ('\\tNo Reviews: appid %i' %appid) \n",
        "        print ('\\tException:', e) \n",
        "        return \n",
        "    \n",
        "    result = list() \n",
        "    for idx in range(1, last_index+1):\n",
        "        url = \"https://itunes.apple.com/kr/rss/customerreviews/page=%i/id=%i/sortby=mostrecent/xml?urlDesc=/customerreviews/id=%i/sortBy=mostRecent/xml\" % (idx, appid, appid) \n",
        "        print(url) \n",
        "        \n",
        "        response = requests.get(url).content.decode('utf8') \n",
        "        try: \n",
        "            xml = xmltodict.parse(response) \n",
        "        except Exception as e: \n",
        "            print ('\\tXml Parse Error %s\\n\\tSkip %s :' %(e, url)) \n",
        "            continue \n",
        "            \n",
        "        try: \n",
        "            num_reivews= len(xml['feed']['entry']) \n",
        "        except Exception as e: \n",
        "            print ('\\tNo Entry', e) \n",
        "            continue \n",
        "            \n",
        "        try: \n",
        "            xml['feed']['entry'][0]['author']['name'] \n",
        "            single_reviews = False \n",
        "        except: \n",
        "            #print ('\\tOnly 1 review!!!') \n",
        "            single_reviews = True \n",
        "            pass \n",
        "        \n",
        "        if single_reviews: \n",
        "            result.append({ 'USER': xml['feed']['entry']['author']['name'], \n",
        "                           'DATE': xml['feed']['entry']['updated'], \n",
        "                           'STAR': int(xml['feed']['entry']['im:rating']), \n",
        "                           'LIKE': int(xml['feed']['entry']['im:voteSum']), \n",
        "                           'TITLE': xml['feed']['entry']['title'], \n",
        "                           'REVIEW': xml['feed']['entry']['content'][0]['#text'], \n",
        "                          }) \n",
        "        else: \n",
        "            for i in range(len(xml['feed']['entry'])):\n",
        "                result.append({ \n",
        "                    'USER': xml['feed']['entry'][i]['author']['name'],\n",
        "                    'DATE': xml['feed']['entry'][i]['updated'], \n",
        "                    'STAR': int(xml['feed']['entry'][i]['im:rating']), \n",
        "                    'LIKE': int(xml['feed']['entry'][i]['im:voteSum']), \n",
        "                    'TITLE': xml['feed']['entry'][i]['title'], \n",
        "                    'REVIEW': xml['feed']['entry'][i]['content'][0]['#text'],\n",
        "                }) \n",
        "    res_df = pd.DataFrame(result) \n",
        "    res_df['DATE'] = pd.to_datetime(res_df['DATE'], format=\"%Y-%m-%dT%H:%M:%S\") \n",
        "    res_df.to_csv(outfile, encoding='utf-8-sig', index=False) \n",
        "    print ('Save reviews to file: %s \\n' %(outfile))\n"
      ]
    },
    {
      "cell_type": "markdown",
      "metadata": {
        "id": "jv2KurD-u7v3"
      },
      "source": [
        "**8번 슬립워치 앱스토어 크롤링**  \n",
        "8번 데이터의 경우 한글로 된 리뷰가 거의 존재하지 않아서, 영어로 된 리뷰를 크롤링할 수밖에 없었습니다..  \n",
        "게다가 플레이스토어에도 없어서 쓸모가 있을지 조금 의문입니다."
      ]
    },
    {
      "cell_type": "code",
      "execution_count": null,
      "metadata": {
        "id": "kWqTojrFu7v4",
        "outputId": "42c7abef-e6ee-4dbb-d1a1-0cb2f636fcf4"
      },
      "outputs": [
        {
          "name": "stdout",
          "output_type": "stream",
          "text": [
            "https://itunes.apple.com/rss/customerreviews/page=1/id=1138066420/sortby=mostrecent/xml?urlDesc=/customerreviews/id=1138066420/sortBy=mostRecent/xml\n",
            "https://itunes.apple.com/rss/customerreviews/page=2/id=1138066420/sortby=mostrecent/xml?urlDesc=/customerreviews/id=1138066420/sortBy=mostRecent/xml\n",
            "https://itunes.apple.com/rss/customerreviews/page=3/id=1138066420/sortby=mostrecent/xml?urlDesc=/customerreviews/id=1138066420/sortBy=mostRecent/xml\n",
            "https://itunes.apple.com/rss/customerreviews/page=4/id=1138066420/sortby=mostrecent/xml?urlDesc=/customerreviews/id=1138066420/sortBy=mostRecent/xml\n",
            "https://itunes.apple.com/rss/customerreviews/page=5/id=1138066420/sortby=mostrecent/xml?urlDesc=/customerreviews/id=1138066420/sortBy=mostRecent/xml\n",
            "https://itunes.apple.com/rss/customerreviews/page=6/id=1138066420/sortby=mostrecent/xml?urlDesc=/customerreviews/id=1138066420/sortBy=mostRecent/xml\n",
            "https://itunes.apple.com/rss/customerreviews/page=7/id=1138066420/sortby=mostrecent/xml?urlDesc=/customerreviews/id=1138066420/sortBy=mostRecent/xml\n",
            "https://itunes.apple.com/rss/customerreviews/page=8/id=1138066420/sortby=mostrecent/xml?urlDesc=/customerreviews/id=1138066420/sortBy=mostRecent/xml\n",
            "https://itunes.apple.com/rss/customerreviews/page=9/id=1138066420/sortby=mostrecent/xml?urlDesc=/customerreviews/id=1138066420/sortBy=mostRecent/xml\n",
            "https://itunes.apple.com/rss/customerreviews/page=10/id=1138066420/sortby=mostrecent/xml?urlDesc=/customerreviews/id=1138066420/sortBy=mostRecent/xml\n",
            "Save reviews to file: ./appstore_reviews.csv \n",
            "\n"
          ]
        }
      ],
      "source": [
        "appstore_crawler(1138066420)"
      ]
    },
    {
      "cell_type": "code",
      "execution_count": null,
      "metadata": {
        "id": "Pl4FMKgwu7v4"
      },
      "outputs": [],
      "source": [
        "swb = pd.read_csv('appstore_reviews.csv')"
      ]
    },
    {
      "cell_type": "code",
      "execution_count": null,
      "metadata": {
        "scrolled": true,
        "id": "JYkSWynGu7v4",
        "outputId": "6ba44a73-bb7c-49d3-c360-ca870631d95d"
      },
      "outputs": [
        {
          "data": {
            "text/html": [
              "<div>\n",
              "<style scoped>\n",
              "    .dataframe tbody tr th:only-of-type {\n",
              "        vertical-align: middle;\n",
              "    }\n",
              "\n",
              "    .dataframe tbody tr th {\n",
              "        vertical-align: top;\n",
              "    }\n",
              "\n",
              "    .dataframe thead th {\n",
              "        text-align: right;\n",
              "    }\n",
              "</style>\n",
              "<table border=\"1\" class=\"dataframe\">\n",
              "  <thead>\n",
              "    <tr style=\"text-align: right;\">\n",
              "      <th></th>\n",
              "      <th>USER</th>\n",
              "      <th>DATE</th>\n",
              "      <th>STAR</th>\n",
              "      <th>LIKE</th>\n",
              "      <th>TITLE</th>\n",
              "      <th>REVIEW</th>\n",
              "    </tr>\n",
              "  </thead>\n",
              "  <tbody>\n",
              "    <tr>\n",
              "      <th>0</th>\n",
              "      <td>monster2400</td>\n",
              "      <td>2022-01-19 18:27:57-07:00</td>\n",
              "      <td>1</td>\n",
              "      <td>0</td>\n",
              "      <td>Ugly UI and Expensive</td>\n",
              "      <td>The subscription model is expensive and the UI...</td>\n",
              "    </tr>\n",
              "    <tr>\n",
              "      <th>1</th>\n",
              "      <td>Lawnguyland67</td>\n",
              "      <td>2022-01-19 13:11:09-07:00</td>\n",
              "      <td>2</td>\n",
              "      <td>0</td>\n",
              "      <td>Used to a great tool</td>\n",
              "      <td>Been using this app to track my sleep for the ...</td>\n",
              "    </tr>\n",
              "    <tr>\n",
              "      <th>2</th>\n",
              "      <td>kenz.schewe</td>\n",
              "      <td>2022-01-18 17:21:40-07:00</td>\n",
              "      <td>5</td>\n",
              "      <td>0</td>\n",
              "      <td>Super helpful!</td>\n",
              "      <td>I was a Fitbit user and when I switched to App...</td>\n",
              "    </tr>\n",
              "    <tr>\n",
              "      <th>3</th>\n",
              "      <td>Andrea.Rae.pascual.147836</td>\n",
              "      <td>2022-01-18 12:03:35-07:00</td>\n",
              "      <td>5</td>\n",
              "      <td>0</td>\n",
              "      <td>ACCURATE INFORMATION!</td>\n",
              "      <td>I’ve been trying to find the best free sleep t...</td>\n",
              "    </tr>\n",
              "    <tr>\n",
              "      <th>4</th>\n",
              "      <td>_appleUser</td>\n",
              "      <td>2022-01-17 06:55:54-07:00</td>\n",
              "      <td>5</td>\n",
              "      <td>0</td>\n",
              "      <td>Life changer</td>\n",
              "      <td>As a person who lives with n24, this app allow...</td>\n",
              "    </tr>\n",
              "  </tbody>\n",
              "</table>\n",
              "</div>"
            ],
            "text/plain": [
              "                        USER                       DATE  STAR  LIKE  \\\n",
              "0                monster2400  2022-01-19 18:27:57-07:00     1     0   \n",
              "1              Lawnguyland67  2022-01-19 13:11:09-07:00     2     0   \n",
              "2                kenz.schewe  2022-01-18 17:21:40-07:00     5     0   \n",
              "3  Andrea.Rae.pascual.147836  2022-01-18 12:03:35-07:00     5     0   \n",
              "4                 _appleUser  2022-01-17 06:55:54-07:00     5     0   \n",
              "\n",
              "                   TITLE                                             REVIEW  \n",
              "0  Ugly UI and Expensive  The subscription model is expensive and the UI...  \n",
              "1   Used to a great tool  Been using this app to track my sleep for the ...  \n",
              "2         Super helpful!  I was a Fitbit user and when I switched to App...  \n",
              "3  ACCURATE INFORMATION!  I’ve been trying to find the best free sleep t...  \n",
              "4           Life changer  As a person who lives with n24, this app allow...  "
            ]
          },
          "execution_count": 8,
          "metadata": {},
          "output_type": "execute_result"
        }
      ],
      "source": [
        "swb.head()"
      ]
    },
    {
      "cell_type": "code",
      "execution_count": null,
      "metadata": {
        "id": "EXCRZLrqu7v5",
        "outputId": "7b6bc47c-059f-468c-8319-120811b14a20"
      },
      "outputs": [
        {
          "data": {
            "text/html": [
              "<div>\n",
              "<style scoped>\n",
              "    .dataframe tbody tr th:only-of-type {\n",
              "        vertical-align: middle;\n",
              "    }\n",
              "\n",
              "    .dataframe tbody tr th {\n",
              "        vertical-align: top;\n",
              "    }\n",
              "\n",
              "    .dataframe thead th {\n",
              "        text-align: right;\n",
              "    }\n",
              "</style>\n",
              "<table border=\"1\" class=\"dataframe\">\n",
              "  <thead>\n",
              "    <tr style=\"text-align: right;\">\n",
              "      <th></th>\n",
              "      <th>USER</th>\n",
              "      <th>DATE</th>\n",
              "      <th>STAR</th>\n",
              "      <th>LIKE</th>\n",
              "      <th>TITLE</th>\n",
              "      <th>REVIEW</th>\n",
              "    </tr>\n",
              "  </thead>\n",
              "  <tbody>\n",
              "    <tr>\n",
              "      <th>0</th>\n",
              "      <td>monster2400</td>\n",
              "      <td>2022-01-19 18:27:57-07:00</td>\n",
              "      <td>1</td>\n",
              "      <td>0</td>\n",
              "      <td>Ugly UI and Expensive</td>\n",
              "      <td>The subscription model is expensive and the UI...</td>\n",
              "    </tr>\n",
              "    <tr>\n",
              "      <th>1</th>\n",
              "      <td>Lawnguyland67</td>\n",
              "      <td>2022-01-19 13:11:09-07:00</td>\n",
              "      <td>2</td>\n",
              "      <td>0</td>\n",
              "      <td>Used to a great tool</td>\n",
              "      <td>Been using this app to track my sleep for the ...</td>\n",
              "    </tr>\n",
              "    <tr>\n",
              "      <th>2</th>\n",
              "      <td>kenz.schewe</td>\n",
              "      <td>2022-01-18 17:21:40-07:00</td>\n",
              "      <td>5</td>\n",
              "      <td>0</td>\n",
              "      <td>Super helpful!</td>\n",
              "      <td>I was a Fitbit user and when I switched to App...</td>\n",
              "    </tr>\n",
              "    <tr>\n",
              "      <th>3</th>\n",
              "      <td>Andrea.Rae.pascual.147836</td>\n",
              "      <td>2022-01-18 12:03:35-07:00</td>\n",
              "      <td>5</td>\n",
              "      <td>0</td>\n",
              "      <td>ACCURATE INFORMATION!</td>\n",
              "      <td>I’ve been trying to find the best free sleep t...</td>\n",
              "    </tr>\n",
              "    <tr>\n",
              "      <th>4</th>\n",
              "      <td>_appleUser</td>\n",
              "      <td>2022-01-17 06:55:54-07:00</td>\n",
              "      <td>5</td>\n",
              "      <td>0</td>\n",
              "      <td>Life changer</td>\n",
              "      <td>As a person who lives with n24, this app allow...</td>\n",
              "    </tr>\n",
              "    <tr>\n",
              "      <th>...</th>\n",
              "      <td>...</td>\n",
              "      <td>...</td>\n",
              "      <td>...</td>\n",
              "      <td>...</td>\n",
              "      <td>...</td>\n",
              "      <td>...</td>\n",
              "    </tr>\n",
              "    <tr>\n",
              "      <th>495</th>\n",
              "      <td>crystal clear rad</td>\n",
              "      <td>2021-01-15 04:25:21-07:00</td>\n",
              "      <td>5</td>\n",
              "      <td>0</td>\n",
              "      <td>Sleep app any good</td>\n",
              "      <td>I need the best app and this one is the volcan...</td>\n",
              "    </tr>\n",
              "    <tr>\n",
              "      <th>496</th>\n",
              "      <td>dogdaze</td>\n",
              "      <td>2021-01-14 11:08:36-07:00</td>\n",
              "      <td>5</td>\n",
              "      <td>0</td>\n",
              "      <td>Great for monitoring sleep</td>\n",
              "      <td>I have a bit of insomnia and this is helpful f...</td>\n",
              "    </tr>\n",
              "    <tr>\n",
              "      <th>497</th>\n",
              "      <td>Kessler922</td>\n",
              "      <td>2021-01-14 05:51:33-07:00</td>\n",
              "      <td>5</td>\n",
              "      <td>0</td>\n",
              "      <td>Big Fan</td>\n",
              "      <td>I never knew how much sleep I was or in my cas...</td>\n",
              "    </tr>\n",
              "    <tr>\n",
              "      <th>498</th>\n",
              "      <td>Tinathir</td>\n",
              "      <td>2021-01-13 04:11:20-07:00</td>\n",
              "      <td>1</td>\n",
              "      <td>0</td>\n",
              "      <td>Made up data?</td>\n",
              "      <td>This app presents an impressive array of data ...</td>\n",
              "    </tr>\n",
              "    <tr>\n",
              "      <th>499</th>\n",
              "      <td>lishalyn</td>\n",
              "      <td>2021-01-12 09:14:15-07:00</td>\n",
              "      <td>5</td>\n",
              "      <td>0</td>\n",
              "      <td>Great app</td>\n",
              "      <td>I love tracking the quality of my sleep and pa...</td>\n",
              "    </tr>\n",
              "  </tbody>\n",
              "</table>\n",
              "<p>500 rows × 6 columns</p>\n",
              "</div>"
            ],
            "text/plain": [
              "                          USER                       DATE  STAR  LIKE  \\\n",
              "0                  monster2400  2022-01-19 18:27:57-07:00     1     0   \n",
              "1                Lawnguyland67  2022-01-19 13:11:09-07:00     2     0   \n",
              "2                  kenz.schewe  2022-01-18 17:21:40-07:00     5     0   \n",
              "3    Andrea.Rae.pascual.147836  2022-01-18 12:03:35-07:00     5     0   \n",
              "4                   _appleUser  2022-01-17 06:55:54-07:00     5     0   \n",
              "..                         ...                        ...   ...   ...   \n",
              "495          crystal clear rad  2021-01-15 04:25:21-07:00     5     0   \n",
              "496                    dogdaze  2021-01-14 11:08:36-07:00     5     0   \n",
              "497                 Kessler922  2021-01-14 05:51:33-07:00     5     0   \n",
              "498                   Tinathir  2021-01-13 04:11:20-07:00     1     0   \n",
              "499                   lishalyn  2021-01-12 09:14:15-07:00     5     0   \n",
              "\n",
              "                          TITLE  \\\n",
              "0         Ugly UI and Expensive   \n",
              "1          Used to a great tool   \n",
              "2                Super helpful!   \n",
              "3         ACCURATE INFORMATION!   \n",
              "4                  Life changer   \n",
              "..                          ...   \n",
              "495          Sleep app any good   \n",
              "496  Great for monitoring sleep   \n",
              "497                     Big Fan   \n",
              "498               Made up data?   \n",
              "499                   Great app   \n",
              "\n",
              "                                                REVIEW  \n",
              "0    The subscription model is expensive and the UI...  \n",
              "1    Been using this app to track my sleep for the ...  \n",
              "2    I was a Fitbit user and when I switched to App...  \n",
              "3    I’ve been trying to find the best free sleep t...  \n",
              "4    As a person who lives with n24, this app allow...  \n",
              "..                                                 ...  \n",
              "495  I need the best app and this one is the volcan...  \n",
              "496  I have a bit of insomnia and this is helpful f...  \n",
              "497  I never knew how much sleep I was or in my cas...  \n",
              "498  This app presents an impressive array of data ...  \n",
              "499  I love tracking the quality of my sleep and pa...  \n",
              "\n",
              "[500 rows x 6 columns]"
            ]
          },
          "execution_count": 14,
          "metadata": {},
          "output_type": "execute_result"
        }
      ],
      "source": [
        "swb"
      ]
    },
    {
      "cell_type": "code",
      "execution_count": null,
      "metadata": {
        "id": "x1qVEd1bu7v5"
      },
      "outputs": [],
      "source": [
        "swb5 = swb[swb['STAR']==5]"
      ]
    },
    {
      "cell_type": "code",
      "execution_count": null,
      "metadata": {
        "id": "q16WgTT4u7v5",
        "outputId": "09403c98-fc7a-4641-bc22-4b23edf9b248"
      },
      "outputs": [
        {
          "data": {
            "text/html": [
              "<div>\n",
              "<style scoped>\n",
              "    .dataframe tbody tr th:only-of-type {\n",
              "        vertical-align: middle;\n",
              "    }\n",
              "\n",
              "    .dataframe tbody tr th {\n",
              "        vertical-align: top;\n",
              "    }\n",
              "\n",
              "    .dataframe thead th {\n",
              "        text-align: right;\n",
              "    }\n",
              "</style>\n",
              "<table border=\"1\" class=\"dataframe\">\n",
              "  <thead>\n",
              "    <tr style=\"text-align: right;\">\n",
              "      <th></th>\n",
              "      <th>USER</th>\n",
              "      <th>DATE</th>\n",
              "      <th>STAR</th>\n",
              "      <th>LIKE</th>\n",
              "      <th>TITLE</th>\n",
              "      <th>REVIEW</th>\n",
              "    </tr>\n",
              "  </thead>\n",
              "  <tbody>\n",
              "    <tr>\n",
              "      <th>2</th>\n",
              "      <td>kenz.schewe</td>\n",
              "      <td>2022-01-18 17:21:40-07:00</td>\n",
              "      <td>5</td>\n",
              "      <td>0</td>\n",
              "      <td>Super helpful!</td>\n",
              "      <td>I was a Fitbit user and when I switched to App...</td>\n",
              "    </tr>\n",
              "    <tr>\n",
              "      <th>3</th>\n",
              "      <td>Andrea.Rae.pascual.147836</td>\n",
              "      <td>2022-01-18 12:03:35-07:00</td>\n",
              "      <td>5</td>\n",
              "      <td>0</td>\n",
              "      <td>ACCURATE INFORMATION!</td>\n",
              "      <td>I’ve been trying to find the best free sleep t...</td>\n",
              "    </tr>\n",
              "    <tr>\n",
              "      <th>4</th>\n",
              "      <td>_appleUser</td>\n",
              "      <td>2022-01-17 06:55:54-07:00</td>\n",
              "      <td>5</td>\n",
              "      <td>0</td>\n",
              "      <td>Life changer</td>\n",
              "      <td>As a person who lives with n24, this app allow...</td>\n",
              "    </tr>\n",
              "    <tr>\n",
              "      <th>11</th>\n",
              "      <td>mporco</td>\n",
              "      <td>2022-01-15 14:10:33-07:00</td>\n",
              "      <td>5</td>\n",
              "      <td>0</td>\n",
              "      <td>The best</td>\n",
              "      <td>This app does exactly what he says. An excelle...</td>\n",
              "    </tr>\n",
              "    <tr>\n",
              "      <th>14</th>\n",
              "      <td>ivan milinkovic</td>\n",
              "      <td>2022-01-13 22:04:02-07:00</td>\n",
              "      <td>5</td>\n",
              "      <td>0</td>\n",
              "      <td>Best Sleep tracker</td>\n",
              "      <td>Hey developers I would really give you a note ...</td>\n",
              "    </tr>\n",
              "    <tr>\n",
              "      <th>...</th>\n",
              "      <td>...</td>\n",
              "      <td>...</td>\n",
              "      <td>...</td>\n",
              "      <td>...</td>\n",
              "      <td>...</td>\n",
              "      <td>...</td>\n",
              "    </tr>\n",
              "    <tr>\n",
              "      <th>493</th>\n",
              "      <td>Jofreezey</td>\n",
              "      <td>2021-01-16 04:42:33-07:00</td>\n",
              "      <td>5</td>\n",
              "      <td>0</td>\n",
              "      <td>Not bad for keeping track!</td>\n",
              "      <td>I only have the basic free version, but I love...</td>\n",
              "    </tr>\n",
              "    <tr>\n",
              "      <th>495</th>\n",
              "      <td>crystal clear rad</td>\n",
              "      <td>2021-01-15 04:25:21-07:00</td>\n",
              "      <td>5</td>\n",
              "      <td>0</td>\n",
              "      <td>Sleep app any good</td>\n",
              "      <td>I need the best app and this one is the volcan...</td>\n",
              "    </tr>\n",
              "    <tr>\n",
              "      <th>496</th>\n",
              "      <td>dogdaze</td>\n",
              "      <td>2021-01-14 11:08:36-07:00</td>\n",
              "      <td>5</td>\n",
              "      <td>0</td>\n",
              "      <td>Great for monitoring sleep</td>\n",
              "      <td>I have a bit of insomnia and this is helpful f...</td>\n",
              "    </tr>\n",
              "    <tr>\n",
              "      <th>497</th>\n",
              "      <td>Kessler922</td>\n",
              "      <td>2021-01-14 05:51:33-07:00</td>\n",
              "      <td>5</td>\n",
              "      <td>0</td>\n",
              "      <td>Big Fan</td>\n",
              "      <td>I never knew how much sleep I was or in my cas...</td>\n",
              "    </tr>\n",
              "    <tr>\n",
              "      <th>499</th>\n",
              "      <td>lishalyn</td>\n",
              "      <td>2021-01-12 09:14:15-07:00</td>\n",
              "      <td>5</td>\n",
              "      <td>0</td>\n",
              "      <td>Great app</td>\n",
              "      <td>I love tracking the quality of my sleep and pa...</td>\n",
              "    </tr>\n",
              "  </tbody>\n",
              "</table>\n",
              "<p>190 rows × 6 columns</p>\n",
              "</div>"
            ],
            "text/plain": [
              "                          USER                       DATE  STAR  LIKE  \\\n",
              "2                  kenz.schewe  2022-01-18 17:21:40-07:00     5     0   \n",
              "3    Andrea.Rae.pascual.147836  2022-01-18 12:03:35-07:00     5     0   \n",
              "4                   _appleUser  2022-01-17 06:55:54-07:00     5     0   \n",
              "11                      mporco  2022-01-15 14:10:33-07:00     5     0   \n",
              "14             ivan milinkovic  2022-01-13 22:04:02-07:00     5     0   \n",
              "..                         ...                        ...   ...   ...   \n",
              "493                  Jofreezey  2021-01-16 04:42:33-07:00     5     0   \n",
              "495          crystal clear rad  2021-01-15 04:25:21-07:00     5     0   \n",
              "496                    dogdaze  2021-01-14 11:08:36-07:00     5     0   \n",
              "497                 Kessler922  2021-01-14 05:51:33-07:00     5     0   \n",
              "499                   lishalyn  2021-01-12 09:14:15-07:00     5     0   \n",
              "\n",
              "                          TITLE  \\\n",
              "2                Super helpful!   \n",
              "3         ACCURATE INFORMATION!   \n",
              "4                  Life changer   \n",
              "11                     The best   \n",
              "14           Best Sleep tracker   \n",
              "..                          ...   \n",
              "493  Not bad for keeping track!   \n",
              "495          Sleep app any good   \n",
              "496  Great for monitoring sleep   \n",
              "497                     Big Fan   \n",
              "499                   Great app   \n",
              "\n",
              "                                                REVIEW  \n",
              "2    I was a Fitbit user and when I switched to App...  \n",
              "3    I’ve been trying to find the best free sleep t...  \n",
              "4    As a person who lives with n24, this app allow...  \n",
              "11   This app does exactly what he says. An excelle...  \n",
              "14   Hey developers I would really give you a note ...  \n",
              "..                                                 ...  \n",
              "493  I only have the basic free version, but I love...  \n",
              "495  I need the best app and this one is the volcan...  \n",
              "496  I have a bit of insomnia and this is helpful f...  \n",
              "497  I never knew how much sleep I was or in my cas...  \n",
              "499  I love tracking the quality of my sleep and pa...  \n",
              "\n",
              "[190 rows x 6 columns]"
            ]
          },
          "execution_count": 10,
          "metadata": {},
          "output_type": "execute_result"
        }
      ],
      "source": [
        "swb5"
      ]
    },
    {
      "cell_type": "code",
      "execution_count": null,
      "metadata": {
        "id": "iDduTLLVu7v6",
        "outputId": "1bd8cc3b-961d-4202-b710-af0fc34a958c"
      },
      "outputs": [
        {
          "data": {
            "text/html": [
              "<div>\n",
              "<style scoped>\n",
              "    .dataframe tbody tr th:only-of-type {\n",
              "        vertical-align: middle;\n",
              "    }\n",
              "\n",
              "    .dataframe tbody tr th {\n",
              "        vertical-align: top;\n",
              "    }\n",
              "\n",
              "    .dataframe thead th {\n",
              "        text-align: right;\n",
              "    }\n",
              "</style>\n",
              "<table border=\"1\" class=\"dataframe\">\n",
              "  <thead>\n",
              "    <tr style=\"text-align: right;\">\n",
              "      <th></th>\n",
              "      <th>USER</th>\n",
              "      <th>DATE</th>\n",
              "      <th>LIKE</th>\n",
              "      <th>TITLE</th>\n",
              "      <th>REVIEW</th>\n",
              "    </tr>\n",
              "    <tr>\n",
              "      <th>STAR</th>\n",
              "      <th></th>\n",
              "      <th></th>\n",
              "      <th></th>\n",
              "      <th></th>\n",
              "      <th></th>\n",
              "    </tr>\n",
              "  </thead>\n",
              "  <tbody>\n",
              "    <tr>\n",
              "      <th>1</th>\n",
              "      <td>103</td>\n",
              "      <td>103</td>\n",
              "      <td>103</td>\n",
              "      <td>103</td>\n",
              "      <td>103</td>\n",
              "    </tr>\n",
              "    <tr>\n",
              "      <th>2</th>\n",
              "      <td>50</td>\n",
              "      <td>50</td>\n",
              "      <td>50</td>\n",
              "      <td>50</td>\n",
              "      <td>50</td>\n",
              "    </tr>\n",
              "    <tr>\n",
              "      <th>3</th>\n",
              "      <td>65</td>\n",
              "      <td>65</td>\n",
              "      <td>65</td>\n",
              "      <td>65</td>\n",
              "      <td>65</td>\n",
              "    </tr>\n",
              "    <tr>\n",
              "      <th>4</th>\n",
              "      <td>92</td>\n",
              "      <td>92</td>\n",
              "      <td>92</td>\n",
              "      <td>92</td>\n",
              "      <td>92</td>\n",
              "    </tr>\n",
              "    <tr>\n",
              "      <th>5</th>\n",
              "      <td>190</td>\n",
              "      <td>190</td>\n",
              "      <td>190</td>\n",
              "      <td>190</td>\n",
              "      <td>190</td>\n",
              "    </tr>\n",
              "  </tbody>\n",
              "</table>\n",
              "</div>"
            ],
            "text/plain": [
              "      USER  DATE  LIKE  TITLE  REVIEW\n",
              "STAR                                 \n",
              "1      103   103   103    103     103\n",
              "2       50    50    50     50      50\n",
              "3       65    65    65     65      65\n",
              "4       92    92    92     92      92\n",
              "5      190   190   190    190     190"
            ]
          },
          "execution_count": 11,
          "metadata": {},
          "output_type": "execute_result"
        }
      ],
      "source": [
        "swb.groupby('STAR').count()"
      ]
    },
    {
      "cell_type": "code",
      "execution_count": null,
      "metadata": {
        "id": "C-r6WpJMu7v6",
        "outputId": "54bb6a4c-2377-4683-dfb6-792c9bb76d41"
      },
      "outputs": [
        {
          "data": {
            "text/html": [
              "<div>\n",
              "<style scoped>\n",
              "    .dataframe tbody tr th:only-of-type {\n",
              "        vertical-align: middle;\n",
              "    }\n",
              "\n",
              "    .dataframe tbody tr th {\n",
              "        vertical-align: top;\n",
              "    }\n",
              "\n",
              "    .dataframe thead th {\n",
              "        text-align: right;\n",
              "    }\n",
              "</style>\n",
              "<table border=\"1\" class=\"dataframe\">\n",
              "  <thead>\n",
              "    <tr style=\"text-align: right;\">\n",
              "      <th></th>\n",
              "      <th>USER</th>\n",
              "      <th>DATE</th>\n",
              "      <th>STAR</th>\n",
              "      <th>LIKE</th>\n",
              "      <th>TITLE</th>\n",
              "      <th>REVIEW</th>\n",
              "    </tr>\n",
              "  </thead>\n",
              "  <tbody>\n",
              "    <tr>\n",
              "      <th>0</th>\n",
              "      <td>monster2400</td>\n",
              "      <td>2022-01-19 18:27:57-07:00</td>\n",
              "      <td>1</td>\n",
              "      <td>0</td>\n",
              "      <td>Ugly UI and Expensive</td>\n",
              "      <td>The subscription model is expensive and the UI...</td>\n",
              "    </tr>\n",
              "    <tr>\n",
              "      <th>5</th>\n",
              "      <td>Yep whatever you say</td>\n",
              "      <td>2022-01-16 10:30:51-07:00</td>\n",
              "      <td>1</td>\n",
              "      <td>0</td>\n",
              "      <td>Used to love, now useless</td>\n",
              "      <td>Not sure what happened with one of your update...</td>\n",
              "    </tr>\n",
              "    <tr>\n",
              "      <th>6</th>\n",
              "      <td>bostonky</td>\n",
              "      <td>2022-01-16 09:47:29-07:00</td>\n",
              "      <td>1</td>\n",
              "      <td>0</td>\n",
              "      <td>Doesn’t work</td>\n",
              "      <td>I bought the full version of this app for lite...</td>\n",
              "    </tr>\n",
              "    <tr>\n",
              "      <th>13</th>\n",
              "      <td>Ohiostatetn</td>\n",
              "      <td>2022-01-15 06:17:43-07:00</td>\n",
              "      <td>1</td>\n",
              "      <td>0</td>\n",
              "      <td>Used to be great</td>\n",
              "      <td>This app was fantastic, tracked my sleep every...</td>\n",
              "    </tr>\n",
              "    <tr>\n",
              "      <th>16</th>\n",
              "      <td>Llmadigan</td>\n",
              "      <td>2022-01-13 05:58:12-07:00</td>\n",
              "      <td>1</td>\n",
              "      <td>0</td>\n",
              "      <td>High maintenance</td>\n",
              "      <td>It tracks most of the things I want, so for th...</td>\n",
              "    </tr>\n",
              "    <tr>\n",
              "      <th>...</th>\n",
              "      <td>...</td>\n",
              "      <td>...</td>\n",
              "      <td>...</td>\n",
              "      <td>...</td>\n",
              "      <td>...</td>\n",
              "      <td>...</td>\n",
              "    </tr>\n",
              "    <tr>\n",
              "      <th>478</th>\n",
              "      <td>Big True</td>\n",
              "      <td>2021-01-20 04:35:47-07:00</td>\n",
              "      <td>1</td>\n",
              "      <td>0</td>\n",
              "      <td>It seems to be made to keep you awake</td>\n",
              "      <td>This app keeps waking me up.   If anything it ...</td>\n",
              "    </tr>\n",
              "    <tr>\n",
              "      <th>483</th>\n",
              "      <td>NatesProxy</td>\n",
              "      <td>2021-01-19 09:17:18-07:00</td>\n",
              "      <td>1</td>\n",
              "      <td>0</td>\n",
              "      <td>Get an iPad app already</td>\n",
              "      <td>And allow us to see longer, granular trends fo...</td>\n",
              "    </tr>\n",
              "    <tr>\n",
              "      <th>486</th>\n",
              "      <td>onthatleen</td>\n",
              "      <td>2021-01-17 10:55:11-07:00</td>\n",
              "      <td>1</td>\n",
              "      <td>0</td>\n",
              "      <td>So off</td>\n",
              "      <td>This app was so frustrating for me. The automa...</td>\n",
              "    </tr>\n",
              "    <tr>\n",
              "      <th>494</th>\n",
              "      <td>lord_lucifir</td>\n",
              "      <td>2021-01-15 10:03:23-07:00</td>\n",
              "      <td>1</td>\n",
              "      <td>0</td>\n",
              "      <td>Not accurate</td>\n",
              "      <td>It's as easy as using sleep data from apple wa...</td>\n",
              "    </tr>\n",
              "    <tr>\n",
              "      <th>498</th>\n",
              "      <td>Tinathir</td>\n",
              "      <td>2021-01-13 04:11:20-07:00</td>\n",
              "      <td>1</td>\n",
              "      <td>0</td>\n",
              "      <td>Made up data?</td>\n",
              "      <td>This app presents an impressive array of data ...</td>\n",
              "    </tr>\n",
              "  </tbody>\n",
              "</table>\n",
              "<p>103 rows × 6 columns</p>\n",
              "</div>"
            ],
            "text/plain": [
              "                     USER                       DATE  STAR  LIKE  \\\n",
              "0             monster2400  2022-01-19 18:27:57-07:00     1     0   \n",
              "5    Yep whatever you say  2022-01-16 10:30:51-07:00     1     0   \n",
              "6                bostonky  2022-01-16 09:47:29-07:00     1     0   \n",
              "13            Ohiostatetn  2022-01-15 06:17:43-07:00     1     0   \n",
              "16              Llmadigan  2022-01-13 05:58:12-07:00     1     0   \n",
              "..                    ...                        ...   ...   ...   \n",
              "478              Big True  2021-01-20 04:35:47-07:00     1     0   \n",
              "483            NatesProxy  2021-01-19 09:17:18-07:00     1     0   \n",
              "486            onthatleen  2021-01-17 10:55:11-07:00     1     0   \n",
              "494          lord_lucifir  2021-01-15 10:03:23-07:00     1     0   \n",
              "498              Tinathir  2021-01-13 04:11:20-07:00     1     0   \n",
              "\n",
              "                                     TITLE  \\\n",
              "0                    Ugly UI and Expensive   \n",
              "5                Used to love, now useless   \n",
              "6                             Doesn’t work   \n",
              "13                        Used to be great   \n",
              "16                        High maintenance   \n",
              "..                                     ...   \n",
              "478  It seems to be made to keep you awake   \n",
              "483                Get an iPad app already   \n",
              "486                                 So off   \n",
              "494                           Not accurate   \n",
              "498                          Made up data?   \n",
              "\n",
              "                                                REVIEW  \n",
              "0    The subscription model is expensive and the UI...  \n",
              "5    Not sure what happened with one of your update...  \n",
              "6    I bought the full version of this app for lite...  \n",
              "13   This app was fantastic, tracked my sleep every...  \n",
              "16   It tracks most of the things I want, so for th...  \n",
              "..                                                 ...  \n",
              "478  This app keeps waking me up.   If anything it ...  \n",
              "483  And allow us to see longer, granular trends fo...  \n",
              "486  This app was so frustrating for me. The automa...  \n",
              "494  It's as easy as using sleep data from apple wa...  \n",
              "498  This app presents an impressive array of data ...  \n",
              "\n",
              "[103 rows x 6 columns]"
            ]
          },
          "execution_count": 12,
          "metadata": {},
          "output_type": "execute_result"
        }
      ],
      "source": [
        "swb1 = swb[swb['STAR']==1]\n",
        "swb1"
      ]
    },
    {
      "cell_type": "code",
      "execution_count": null,
      "metadata": {
        "id": "CEDXyNVZu7v6"
      },
      "outputs": [],
      "source": [
        "swb.to_csv('8전체.csv',encoding='utf-8-sig',index=False)\n",
        "swb1.to_csv('8별점1.csv',encoding='utf-8-sig',index=False)\n",
        "swb5.to_csv('8별점5.csv',encoding='utf-8-sig',index=False)"
      ]
    },
    {
      "cell_type": "markdown",
      "metadata": {
        "id": "vqu4FKWyu7v7"
      },
      "source": [
        "**9번 calm 앱스토어 크롤링**"
      ]
    },
    {
      "cell_type": "code",
      "execution_count": null,
      "metadata": {
        "id": "Zjmcb7k6u7v7",
        "outputId": "74ff9aae-d6bc-4328-ab7d-1e7a5e0b2a62"
      },
      "outputs": [
        {
          "name": "stdout",
          "output_type": "stream",
          "text": [
            "https://itunes.apple.com/kr/rss/customerreviews/page=1/id=571800810/sortby=mostrecent/xml?urlDesc=/customerreviews/id=571800810/sortBy=mostRecent/xml\n",
            "https://itunes.apple.com/kr/rss/customerreviews/page=2/id=571800810/sortby=mostrecent/xml?urlDesc=/customerreviews/id=571800810/sortBy=mostRecent/xml\n",
            "https://itunes.apple.com/kr/rss/customerreviews/page=3/id=571800810/sortby=mostrecent/xml?urlDesc=/customerreviews/id=571800810/sortBy=mostRecent/xml\n",
            "https://itunes.apple.com/kr/rss/customerreviews/page=4/id=571800810/sortby=mostrecent/xml?urlDesc=/customerreviews/id=571800810/sortBy=mostRecent/xml\n",
            "https://itunes.apple.com/kr/rss/customerreviews/page=5/id=571800810/sortby=mostrecent/xml?urlDesc=/customerreviews/id=571800810/sortBy=mostRecent/xml\n",
            "https://itunes.apple.com/kr/rss/customerreviews/page=6/id=571800810/sortby=mostrecent/xml?urlDesc=/customerreviews/id=571800810/sortBy=mostRecent/xml\n",
            "https://itunes.apple.com/kr/rss/customerreviews/page=7/id=571800810/sortby=mostrecent/xml?urlDesc=/customerreviews/id=571800810/sortBy=mostRecent/xml\n",
            "\tXml Parse Error not well-formed (invalid token): line 2561, column 113\n",
            "\tSkip https://itunes.apple.com/kr/rss/customerreviews/page=7/id=571800810/sortby=mostrecent/xml?urlDesc=/customerreviews/id=571800810/sortBy=mostRecent/xml :\n",
            "https://itunes.apple.com/kr/rss/customerreviews/page=8/id=571800810/sortby=mostrecent/xml?urlDesc=/customerreviews/id=571800810/sortBy=mostRecent/xml\n",
            "https://itunes.apple.com/kr/rss/customerreviews/page=9/id=571800810/sortby=mostrecent/xml?urlDesc=/customerreviews/id=571800810/sortBy=mostRecent/xml\n",
            "https://itunes.apple.com/kr/rss/customerreviews/page=10/id=571800810/sortby=mostrecent/xml?urlDesc=/customerreviews/id=571800810/sortBy=mostRecent/xml\n",
            "Save reviews to file: ./appstore_reviews.csv \n",
            "\n"
          ]
        }
      ],
      "source": [
        "appstore_crawler_kr(571800810) #9."
      ]
    },
    {
      "cell_type": "code",
      "execution_count": null,
      "metadata": {
        "id": "y8vK1lULu7v8",
        "outputId": "60586283-1e37-407c-b449-10d22ab8d886"
      },
      "outputs": [
        {
          "data": {
            "text/html": [
              "<div>\n",
              "<style scoped>\n",
              "    .dataframe tbody tr th:only-of-type {\n",
              "        vertical-align: middle;\n",
              "    }\n",
              "\n",
              "    .dataframe tbody tr th {\n",
              "        vertical-align: top;\n",
              "    }\n",
              "\n",
              "    .dataframe thead th {\n",
              "        text-align: right;\n",
              "    }\n",
              "</style>\n",
              "<table border=\"1\" class=\"dataframe\">\n",
              "  <thead>\n",
              "    <tr style=\"text-align: right;\">\n",
              "      <th></th>\n",
              "      <th>USER</th>\n",
              "      <th>DATE</th>\n",
              "      <th>LIKE</th>\n",
              "      <th>TITLE</th>\n",
              "      <th>REVIEW</th>\n",
              "    </tr>\n",
              "    <tr>\n",
              "      <th>STAR</th>\n",
              "      <th></th>\n",
              "      <th></th>\n",
              "      <th></th>\n",
              "      <th></th>\n",
              "      <th></th>\n",
              "    </tr>\n",
              "  </thead>\n",
              "  <tbody>\n",
              "    <tr>\n",
              "      <th>1</th>\n",
              "      <td>221</td>\n",
              "      <td>221</td>\n",
              "      <td>221</td>\n",
              "      <td>221</td>\n",
              "      <td>221</td>\n",
              "    </tr>\n",
              "    <tr>\n",
              "      <th>2</th>\n",
              "      <td>20</td>\n",
              "      <td>20</td>\n",
              "      <td>20</td>\n",
              "      <td>20</td>\n",
              "      <td>20</td>\n",
              "    </tr>\n",
              "    <tr>\n",
              "      <th>3</th>\n",
              "      <td>44</td>\n",
              "      <td>44</td>\n",
              "      <td>44</td>\n",
              "      <td>44</td>\n",
              "      <td>44</td>\n",
              "    </tr>\n",
              "    <tr>\n",
              "      <th>4</th>\n",
              "      <td>26</td>\n",
              "      <td>26</td>\n",
              "      <td>26</td>\n",
              "      <td>26</td>\n",
              "      <td>26</td>\n",
              "    </tr>\n",
              "    <tr>\n",
              "      <th>5</th>\n",
              "      <td>139</td>\n",
              "      <td>139</td>\n",
              "      <td>139</td>\n",
              "      <td>139</td>\n",
              "      <td>139</td>\n",
              "    </tr>\n",
              "  </tbody>\n",
              "</table>\n",
              "</div>"
            ],
            "text/plain": [
              "      USER  DATE  LIKE  TITLE  REVIEW\n",
              "STAR                                 \n",
              "1      221   221   221    221     221\n",
              "2       20    20    20     20      20\n",
              "3       44    44    44     44      44\n",
              "4       26    26    26     26      26\n",
              "5      139   139   139    139     139"
            ]
          },
          "execution_count": 111,
          "metadata": {},
          "output_type": "execute_result"
        }
      ],
      "source": [
        "calm = pd.read_csv('appstore_reviews.csv')\n",
        "calm.groupby('STAR').count()"
      ]
    },
    {
      "cell_type": "code",
      "execution_count": null,
      "metadata": {
        "id": "4fu3Bu3Yu7v8"
      },
      "outputs": [],
      "source": [
        "calm5 = calm[calm['STAR']==5]\n",
        "calm1 = calm[calm['STAR']==1]\n",
        "calm.to_csv('9전체.csv',encoding='utf-8-sig',index=False)\n",
        "calm1.to_csv('9별점1.csv',encoding='utf-8-sig',index=False)\n",
        "calm5.to_csv('9별점5.csv',encoding='utf-8-sig',index=False)"
      ]
    },
    {
      "cell_type": "code",
      "execution_count": null,
      "metadata": {
        "id": "bgyBj8MDu7v9",
        "outputId": "2bb93469-5eaf-4f3b-8a90-6a6e60385e9f"
      },
      "outputs": [
        {
          "name": "stdout",
          "output_type": "stream",
          "text": [
            "https://itunes.apple.com/rss/customerreviews/page=1/id=571800810/sortby=mostrecent/xml?urlDesc=/customerreviews/id=571800810/sortBy=mostRecent/xml\n",
            "https://itunes.apple.com/rss/customerreviews/page=2/id=571800810/sortby=mostrecent/xml?urlDesc=/customerreviews/id=571800810/sortBy=mostRecent/xml\n",
            "https://itunes.apple.com/rss/customerreviews/page=3/id=571800810/sortby=mostrecent/xml?urlDesc=/customerreviews/id=571800810/sortBy=mostRecent/xml\n",
            "https://itunes.apple.com/rss/customerreviews/page=4/id=571800810/sortby=mostrecent/xml?urlDesc=/customerreviews/id=571800810/sortBy=mostRecent/xml\n",
            "https://itunes.apple.com/rss/customerreviews/page=5/id=571800810/sortby=mostrecent/xml?urlDesc=/customerreviews/id=571800810/sortBy=mostRecent/xml\n",
            "https://itunes.apple.com/rss/customerreviews/page=6/id=571800810/sortby=mostrecent/xml?urlDesc=/customerreviews/id=571800810/sortBy=mostRecent/xml\n",
            "https://itunes.apple.com/rss/customerreviews/page=7/id=571800810/sortby=mostrecent/xml?urlDesc=/customerreviews/id=571800810/sortBy=mostRecent/xml\n",
            "https://itunes.apple.com/rss/customerreviews/page=8/id=571800810/sortby=mostrecent/xml?urlDesc=/customerreviews/id=571800810/sortBy=mostRecent/xml\n",
            "https://itunes.apple.com/rss/customerreviews/page=9/id=571800810/sortby=mostrecent/xml?urlDesc=/customerreviews/id=571800810/sortBy=mostRecent/xml\n",
            "https://itunes.apple.com/rss/customerreviews/page=10/id=571800810/sortby=mostrecent/xml?urlDesc=/customerreviews/id=571800810/sortBy=mostRecent/xml\n",
            "Save reviews to file: ./appstore_reviews.csv \n",
            "\n"
          ]
        }
      ],
      "source": [
        "appstore_crawler(571800810) #9."
      ]
    },
    {
      "cell_type": "code",
      "execution_count": null,
      "metadata": {
        "id": "VYs9WuDlu7v9",
        "outputId": "4b662d80-9e6d-41a7-c0ef-a544a95a9f0b"
      },
      "outputs": [
        {
          "data": {
            "text/html": [
              "<div>\n",
              "<style scoped>\n",
              "    .dataframe tbody tr th:only-of-type {\n",
              "        vertical-align: middle;\n",
              "    }\n",
              "\n",
              "    .dataframe tbody tr th {\n",
              "        vertical-align: top;\n",
              "    }\n",
              "\n",
              "    .dataframe thead th {\n",
              "        text-align: right;\n",
              "    }\n",
              "</style>\n",
              "<table border=\"1\" class=\"dataframe\">\n",
              "  <thead>\n",
              "    <tr style=\"text-align: right;\">\n",
              "      <th></th>\n",
              "      <th>USER</th>\n",
              "      <th>DATE</th>\n",
              "      <th>LIKE</th>\n",
              "      <th>TITLE</th>\n",
              "      <th>REVIEW</th>\n",
              "    </tr>\n",
              "    <tr>\n",
              "      <th>STAR</th>\n",
              "      <th></th>\n",
              "      <th></th>\n",
              "      <th></th>\n",
              "      <th></th>\n",
              "      <th></th>\n",
              "    </tr>\n",
              "  </thead>\n",
              "  <tbody>\n",
              "    <tr>\n",
              "      <th>1</th>\n",
              "      <td>128</td>\n",
              "      <td>128</td>\n",
              "      <td>128</td>\n",
              "      <td>128</td>\n",
              "      <td>128</td>\n",
              "    </tr>\n",
              "    <tr>\n",
              "      <th>2</th>\n",
              "      <td>28</td>\n",
              "      <td>28</td>\n",
              "      <td>28</td>\n",
              "      <td>28</td>\n",
              "      <td>28</td>\n",
              "    </tr>\n",
              "    <tr>\n",
              "      <th>3</th>\n",
              "      <td>36</td>\n",
              "      <td>36</td>\n",
              "      <td>36</td>\n",
              "      <td>36</td>\n",
              "      <td>36</td>\n",
              "    </tr>\n",
              "    <tr>\n",
              "      <th>4</th>\n",
              "      <td>28</td>\n",
              "      <td>28</td>\n",
              "      <td>28</td>\n",
              "      <td>28</td>\n",
              "      <td>28</td>\n",
              "    </tr>\n",
              "    <tr>\n",
              "      <th>5</th>\n",
              "      <td>280</td>\n",
              "      <td>280</td>\n",
              "      <td>280</td>\n",
              "      <td>280</td>\n",
              "      <td>280</td>\n",
              "    </tr>\n",
              "  </tbody>\n",
              "</table>\n",
              "</div>"
            ],
            "text/plain": [
              "      USER  DATE  LIKE  TITLE  REVIEW\n",
              "STAR                                 \n",
              "1      128   128   128    128     128\n",
              "2       28    28    28     28      28\n",
              "3       36    36    36     36      36\n",
              "4       28    28    28     28      28\n",
              "5      280   280   280    280     280"
            ]
          },
          "execution_count": 49,
          "metadata": {},
          "output_type": "execute_result"
        }
      ],
      "source": [
        "calmen = pd.read_csv('appstore_reviews.csv')\n",
        "calmen.groupby('STAR').count()"
      ]
    },
    {
      "cell_type": "code",
      "execution_count": null,
      "metadata": {
        "id": "qiAa5ViXu7v9"
      },
      "outputs": [],
      "source": [
        "calmen.to_csv('calmen_appstore.csv',encoding='utf-8-sig',index=False)"
      ]
    },
    {
      "cell_type": "code",
      "execution_count": null,
      "metadata": {
        "id": "g3LElAmcu7v9"
      },
      "outputs": [],
      "source": [
        "del swb,swb1,swb5"
      ]
    },
    {
      "cell_type": "markdown",
      "metadata": {
        "id": "K09V1t9-u7v-"
      },
      "source": [
        "**11번 스노어랩 앱스토어 크롤링**  \n",
        "한국어로 된 것은 272개만 끌어와집니다! 플레이스토어로 500개의 리뷰를 보았으니 괜찮을 것이라고 봅니다..."
      ]
    },
    {
      "cell_type": "code",
      "execution_count": null,
      "metadata": {
        "scrolled": true,
        "id": "7aJ3pz6Bu7v-",
        "outputId": "74599036-77dd-4dc4-80e6-63048746397a"
      },
      "outputs": [
        {
          "name": "stdout",
          "output_type": "stream",
          "text": [
            "https://itunes.apple.com/kr/rss/customerreviews/page=1/id=529443604/sortby=mostrecent/xml?urlDesc=/customerreviews/id=529443604/sortBy=mostRecent/xml\n",
            "https://itunes.apple.com/kr/rss/customerreviews/page=2/id=529443604/sortby=mostrecent/xml?urlDesc=/customerreviews/id=529443604/sortBy=mostRecent/xml\n",
            "https://itunes.apple.com/kr/rss/customerreviews/page=3/id=529443604/sortby=mostrecent/xml?urlDesc=/customerreviews/id=529443604/sortBy=mostRecent/xml\n",
            "https://itunes.apple.com/kr/rss/customerreviews/page=4/id=529443604/sortby=mostrecent/xml?urlDesc=/customerreviews/id=529443604/sortBy=mostRecent/xml\n",
            "https://itunes.apple.com/kr/rss/customerreviews/page=5/id=529443604/sortby=mostrecent/xml?urlDesc=/customerreviews/id=529443604/sortBy=mostRecent/xml\n",
            "https://itunes.apple.com/kr/rss/customerreviews/page=6/id=529443604/sortby=mostrecent/xml?urlDesc=/customerreviews/id=529443604/sortBy=mostRecent/xml\n",
            "Save reviews to file: ./appstore_reviews.csv \n",
            "\n"
          ]
        }
      ],
      "source": [
        "appstore_crawler_kr(529443604) #11."
      ]
    },
    {
      "cell_type": "code",
      "execution_count": null,
      "metadata": {
        "id": "jKFvhE5su7v-",
        "outputId": "87ef56f1-6590-4d55-9f39-760c2dd7aa8c"
      },
      "outputs": [
        {
          "data": {
            "text/html": [
              "<div>\n",
              "<style scoped>\n",
              "    .dataframe tbody tr th:only-of-type {\n",
              "        vertical-align: middle;\n",
              "    }\n",
              "\n",
              "    .dataframe tbody tr th {\n",
              "        vertical-align: top;\n",
              "    }\n",
              "\n",
              "    .dataframe thead th {\n",
              "        text-align: right;\n",
              "    }\n",
              "</style>\n",
              "<table border=\"1\" class=\"dataframe\">\n",
              "  <thead>\n",
              "    <tr style=\"text-align: right;\">\n",
              "      <th></th>\n",
              "      <th>USER</th>\n",
              "      <th>DATE</th>\n",
              "      <th>LIKE</th>\n",
              "      <th>TITLE</th>\n",
              "      <th>REVIEW</th>\n",
              "    </tr>\n",
              "    <tr>\n",
              "      <th>STAR</th>\n",
              "      <th></th>\n",
              "      <th></th>\n",
              "      <th></th>\n",
              "      <th></th>\n",
              "      <th></th>\n",
              "    </tr>\n",
              "  </thead>\n",
              "  <tbody>\n",
              "    <tr>\n",
              "      <th>1</th>\n",
              "      <td>45</td>\n",
              "      <td>45</td>\n",
              "      <td>45</td>\n",
              "      <td>45</td>\n",
              "      <td>45</td>\n",
              "    </tr>\n",
              "    <tr>\n",
              "      <th>2</th>\n",
              "      <td>10</td>\n",
              "      <td>10</td>\n",
              "      <td>10</td>\n",
              "      <td>10</td>\n",
              "      <td>10</td>\n",
              "    </tr>\n",
              "    <tr>\n",
              "      <th>3</th>\n",
              "      <td>22</td>\n",
              "      <td>22</td>\n",
              "      <td>22</td>\n",
              "      <td>22</td>\n",
              "      <td>22</td>\n",
              "    </tr>\n",
              "    <tr>\n",
              "      <th>4</th>\n",
              "      <td>34</td>\n",
              "      <td>34</td>\n",
              "      <td>34</td>\n",
              "      <td>34</td>\n",
              "      <td>34</td>\n",
              "    </tr>\n",
              "    <tr>\n",
              "      <th>5</th>\n",
              "      <td>161</td>\n",
              "      <td>161</td>\n",
              "      <td>161</td>\n",
              "      <td>161</td>\n",
              "      <td>161</td>\n",
              "    </tr>\n",
              "  </tbody>\n",
              "</table>\n",
              "</div>"
            ],
            "text/plain": [
              "      USER  DATE  LIKE  TITLE  REVIEW\n",
              "STAR                                 \n",
              "1       45    45    45     45      45\n",
              "2       10    10    10     10      10\n",
              "3       22    22    22     22      22\n",
              "4       34    34    34     34      34\n",
              "5      161   161   161    161     161"
            ]
          },
          "execution_count": 114,
          "metadata": {},
          "output_type": "execute_result"
        }
      ],
      "source": [
        "snore = pd.read_csv('appstore_reviews.csv') #총 272개\n",
        "snore.groupby('STAR').count()"
      ]
    },
    {
      "cell_type": "code",
      "execution_count": null,
      "metadata": {
        "id": "TZKoktVmu7v_"
      },
      "outputs": [],
      "source": [
        "snore5 = snore[snore['STAR']==5]\n",
        "snore1 = snore[snore['STAR']==1]\n",
        "snore.to_csv('11전체.csv',encoding='utf-8-sig',index=False)\n",
        "snore1.to_csv('11별점1.csv',encoding='utf-8-sig',index=False)\n",
        "snore5.to_csv('11별점5.csv',encoding='utf-8-sig',index=False)"
      ]
    },
    {
      "cell_type": "code",
      "execution_count": null,
      "metadata": {
        "id": "CXF589MMu7wA",
        "outputId": "60618c06-0c8b-4984-f7f7-825485ccea0a"
      },
      "outputs": [
        {
          "name": "stdout",
          "output_type": "stream",
          "text": [
            "https://itunes.apple.com/rss/customerreviews/page=1/id=529443604/sortby=mostrecent/xml?urlDesc=/customerreviews/id=529443604/sortBy=mostRecent/xml\n",
            "https://itunes.apple.com/rss/customerreviews/page=2/id=529443604/sortby=mostrecent/xml?urlDesc=/customerreviews/id=529443604/sortBy=mostRecent/xml\n",
            "https://itunes.apple.com/rss/customerreviews/page=3/id=529443604/sortby=mostrecent/xml?urlDesc=/customerreviews/id=529443604/sortBy=mostRecent/xml\n",
            "https://itunes.apple.com/rss/customerreviews/page=4/id=529443604/sortby=mostrecent/xml?urlDesc=/customerreviews/id=529443604/sortBy=mostRecent/xml\n",
            "https://itunes.apple.com/rss/customerreviews/page=5/id=529443604/sortby=mostrecent/xml?urlDesc=/customerreviews/id=529443604/sortBy=mostRecent/xml\n",
            "https://itunes.apple.com/rss/customerreviews/page=6/id=529443604/sortby=mostrecent/xml?urlDesc=/customerreviews/id=529443604/sortBy=mostRecent/xml\n",
            "https://itunes.apple.com/rss/customerreviews/page=7/id=529443604/sortby=mostrecent/xml?urlDesc=/customerreviews/id=529443604/sortBy=mostRecent/xml\n",
            "https://itunes.apple.com/rss/customerreviews/page=8/id=529443604/sortby=mostrecent/xml?urlDesc=/customerreviews/id=529443604/sortBy=mostRecent/xml\n",
            "https://itunes.apple.com/rss/customerreviews/page=9/id=529443604/sortby=mostrecent/xml?urlDesc=/customerreviews/id=529443604/sortBy=mostRecent/xml\n",
            "https://itunes.apple.com/rss/customerreviews/page=10/id=529443604/sortby=mostrecent/xml?urlDesc=/customerreviews/id=529443604/sortBy=mostRecent/xml\n",
            "Save reviews to file: ./appstore_reviews.csv \n",
            "\n"
          ]
        }
      ],
      "source": [
        "appstore_crawler(529443604) #11."
      ]
    },
    {
      "cell_type": "code",
      "execution_count": null,
      "metadata": {
        "id": "B7jS2Xvtu7wB",
        "outputId": "d998d4b9-c146-43a8-c859-22763dab12a7"
      },
      "outputs": [
        {
          "data": {
            "text/html": [
              "<div>\n",
              "<style scoped>\n",
              "    .dataframe tbody tr th:only-of-type {\n",
              "        vertical-align: middle;\n",
              "    }\n",
              "\n",
              "    .dataframe tbody tr th {\n",
              "        vertical-align: top;\n",
              "    }\n",
              "\n",
              "    .dataframe thead th {\n",
              "        text-align: right;\n",
              "    }\n",
              "</style>\n",
              "<table border=\"1\" class=\"dataframe\">\n",
              "  <thead>\n",
              "    <tr style=\"text-align: right;\">\n",
              "      <th></th>\n",
              "      <th>USER</th>\n",
              "      <th>DATE</th>\n",
              "      <th>LIKE</th>\n",
              "      <th>TITLE</th>\n",
              "      <th>REVIEW</th>\n",
              "    </tr>\n",
              "    <tr>\n",
              "      <th>STAR</th>\n",
              "      <th></th>\n",
              "      <th></th>\n",
              "      <th></th>\n",
              "      <th></th>\n",
              "      <th></th>\n",
              "    </tr>\n",
              "  </thead>\n",
              "  <tbody>\n",
              "    <tr>\n",
              "      <th>1</th>\n",
              "      <td>93</td>\n",
              "      <td>93</td>\n",
              "      <td>93</td>\n",
              "      <td>93</td>\n",
              "      <td>93</td>\n",
              "    </tr>\n",
              "    <tr>\n",
              "      <th>2</th>\n",
              "      <td>36</td>\n",
              "      <td>36</td>\n",
              "      <td>36</td>\n",
              "      <td>36</td>\n",
              "      <td>36</td>\n",
              "    </tr>\n",
              "    <tr>\n",
              "      <th>3</th>\n",
              "      <td>37</td>\n",
              "      <td>37</td>\n",
              "      <td>37</td>\n",
              "      <td>37</td>\n",
              "      <td>37</td>\n",
              "    </tr>\n",
              "    <tr>\n",
              "      <th>4</th>\n",
              "      <td>60</td>\n",
              "      <td>60</td>\n",
              "      <td>60</td>\n",
              "      <td>60</td>\n",
              "      <td>60</td>\n",
              "    </tr>\n",
              "    <tr>\n",
              "      <th>5</th>\n",
              "      <td>274</td>\n",
              "      <td>274</td>\n",
              "      <td>274</td>\n",
              "      <td>274</td>\n",
              "      <td>274</td>\n",
              "    </tr>\n",
              "  </tbody>\n",
              "</table>\n",
              "</div>"
            ],
            "text/plain": [
              "      USER  DATE  LIKE  TITLE  REVIEW\n",
              "STAR                                 \n",
              "1       93    93    93     93      93\n",
              "2       36    36    36     36      36\n",
              "3       37    37    37     37      37\n",
              "4       60    60    60     60      60\n",
              "5      274   274   274    274     274"
            ]
          },
          "execution_count": 46,
          "metadata": {},
          "output_type": "execute_result"
        }
      ],
      "source": [
        "snoreen = pd.read_csv('appstore_reviews.csv') #총 272개\n",
        "snoreen.groupby('STAR').count()"
      ]
    },
    {
      "cell_type": "code",
      "execution_count": null,
      "metadata": {
        "id": "JiUL_oc5u7wC"
      },
      "outputs": [],
      "source": [
        "snoreen.to_csv('snorelab_en_appstore.csv',encoding='utf-8-sig',index=False)"
      ]
    },
    {
      "cell_type": "code",
      "execution_count": null,
      "metadata": {
        "id": "BVLEwy8ru7wC"
      },
      "outputs": [],
      "source": [
        "del snore,snore1,snore5,calm1,calm5,calm"
      ]
    },
    {
      "cell_type": "markdown",
      "metadata": {
        "id": "6xOxL1Ngu7wD"
      },
      "source": [
        "**(안 봐도 되어요) 12번 수면소리 앱스토어 크롤링**  \n",
        "플레이스토어와 앱스토어의 수면소리 앱이 다르다는 사실을 알았습니다!  \n",
        "기존의 경쟁 모델로 볼 만한 앱은 플레이스토어의 수면소리 앱인 듯하여, 이 부분은 안 보셔도 될 것 같아요 :)"
      ]
    },
    {
      "cell_type": "code",
      "execution_count": null,
      "metadata": {
        "id": "EplJeClNu7wD",
        "outputId": "6775cdb3-7053-4689-dc0e-cca5bcde32fe"
      },
      "outputs": [
        {
          "name": "stdout",
          "output_type": "stream",
          "text": [
            "https://itunes.apple.com/kr/rss/customerreviews/page=1/id=1447815848/sortby=mostrecent/xml?urlDesc=/customerreviews/id=1447815848/sortBy=mostRecent/xml\n",
            "Save reviews to file: ./appstore_reviews.csv \n",
            "\n"
          ]
        }
      ],
      "source": [
        "appstore_crawler_kr(1447815848) #12.수면 소리 한국어"
      ]
    },
    {
      "cell_type": "code",
      "execution_count": null,
      "metadata": {
        "id": "bPXOq-Ifu7wD",
        "outputId": "e1923fe8-60e9-4cac-c28b-4fbe2d0f2380"
      },
      "outputs": [
        {
          "data": {
            "text/html": [
              "<div>\n",
              "<style scoped>\n",
              "    .dataframe tbody tr th:only-of-type {\n",
              "        vertical-align: middle;\n",
              "    }\n",
              "\n",
              "    .dataframe tbody tr th {\n",
              "        vertical-align: top;\n",
              "    }\n",
              "\n",
              "    .dataframe thead th {\n",
              "        text-align: right;\n",
              "    }\n",
              "</style>\n",
              "<table border=\"1\" class=\"dataframe\">\n",
              "  <thead>\n",
              "    <tr style=\"text-align: right;\">\n",
              "      <th></th>\n",
              "      <th>USER</th>\n",
              "      <th>DATE</th>\n",
              "      <th>LIKE</th>\n",
              "      <th>TITLE</th>\n",
              "      <th>REVIEW</th>\n",
              "    </tr>\n",
              "    <tr>\n",
              "      <th>STAR</th>\n",
              "      <th></th>\n",
              "      <th></th>\n",
              "      <th></th>\n",
              "      <th></th>\n",
              "      <th></th>\n",
              "    </tr>\n",
              "  </thead>\n",
              "  <tbody>\n",
              "    <tr>\n",
              "      <th>4</th>\n",
              "      <td>1</td>\n",
              "      <td>1</td>\n",
              "      <td>1</td>\n",
              "      <td>1</td>\n",
              "      <td>1</td>\n",
              "    </tr>\n",
              "    <tr>\n",
              "      <th>5</th>\n",
              "      <td>11</td>\n",
              "      <td>11</td>\n",
              "      <td>11</td>\n",
              "      <td>11</td>\n",
              "      <td>11</td>\n",
              "    </tr>\n",
              "  </tbody>\n",
              "</table>\n",
              "</div>"
            ],
            "text/plain": [
              "      USER  DATE  LIKE  TITLE  REVIEW\n",
              "STAR                                 \n",
              "4        1     1     1      1       1\n",
              "5       11    11    11     11      11"
            ]
          },
          "execution_count": 118,
          "metadata": {},
          "output_type": "execute_result"
        }
      ],
      "source": [
        "soundkr = pd.read_csv('appstore_reviews.csv') #kr로 하면 \n",
        "soundkr.groupby('STAR').count()"
      ]
    },
    {
      "cell_type": "code",
      "execution_count": null,
      "metadata": {
        "id": "o9xOYXoyu7wE",
        "outputId": "44bcc1c0-5b0e-4db9-e08a-1b9e0c413085"
      },
      "outputs": [
        {
          "name": "stdout",
          "output_type": "stream",
          "text": [
            "https://itunes.apple.com/rss/customerreviews/page=1/id=1447815848/sortby=mostrecent/xml?urlDesc=/customerreviews/id=1447815848/sortBy=mostRecent/xml\n",
            "Save reviews to file: ./appstore_reviews.csv \n",
            "\n"
          ]
        }
      ],
      "source": [
        "appstore_crawler(1447815848) #12.수면 소리 영어"
      ]
    },
    {
      "cell_type": "code",
      "execution_count": null,
      "metadata": {
        "id": "psI2WXnPu7wE",
        "outputId": "1998d4c7-8bb7-4f45-e128-c54195b690d4"
      },
      "outputs": [
        {
          "data": {
            "text/html": [
              "<div>\n",
              "<style scoped>\n",
              "    .dataframe tbody tr th:only-of-type {\n",
              "        vertical-align: middle;\n",
              "    }\n",
              "\n",
              "    .dataframe tbody tr th {\n",
              "        vertical-align: top;\n",
              "    }\n",
              "\n",
              "    .dataframe thead th {\n",
              "        text-align: right;\n",
              "    }\n",
              "</style>\n",
              "<table border=\"1\" class=\"dataframe\">\n",
              "  <thead>\n",
              "    <tr style=\"text-align: right;\">\n",
              "      <th></th>\n",
              "      <th>USER</th>\n",
              "      <th>DATE</th>\n",
              "      <th>LIKE</th>\n",
              "      <th>TITLE</th>\n",
              "      <th>REVIEW</th>\n",
              "    </tr>\n",
              "    <tr>\n",
              "      <th>STAR</th>\n",
              "      <th></th>\n",
              "      <th></th>\n",
              "      <th></th>\n",
              "      <th></th>\n",
              "      <th></th>\n",
              "    </tr>\n",
              "  </thead>\n",
              "  <tbody>\n",
              "    <tr>\n",
              "      <th>1</th>\n",
              "      <td>5</td>\n",
              "      <td>5</td>\n",
              "      <td>5</td>\n",
              "      <td>5</td>\n",
              "      <td>5</td>\n",
              "    </tr>\n",
              "    <tr>\n",
              "      <th>2</th>\n",
              "      <td>2</td>\n",
              "      <td>2</td>\n",
              "      <td>2</td>\n",
              "      <td>2</td>\n",
              "      <td>2</td>\n",
              "    </tr>\n",
              "    <tr>\n",
              "      <th>3</th>\n",
              "      <td>2</td>\n",
              "      <td>2</td>\n",
              "      <td>2</td>\n",
              "      <td>2</td>\n",
              "      <td>2</td>\n",
              "    </tr>\n",
              "    <tr>\n",
              "      <th>4</th>\n",
              "      <td>3</td>\n",
              "      <td>3</td>\n",
              "      <td>3</td>\n",
              "      <td>3</td>\n",
              "      <td>3</td>\n",
              "    </tr>\n",
              "    <tr>\n",
              "      <th>5</th>\n",
              "      <td>8</td>\n",
              "      <td>8</td>\n",
              "      <td>8</td>\n",
              "      <td>8</td>\n",
              "      <td>8</td>\n",
              "    </tr>\n",
              "  </tbody>\n",
              "</table>\n",
              "</div>"
            ],
            "text/plain": [
              "      USER  DATE  LIKE  TITLE  REVIEW\n",
              "STAR                                 \n",
              "1        5     5     5      5       5\n",
              "2        2     2     2      2       2\n",
              "3        2     2     2      2       2\n",
              "4        3     3     3      3       3\n",
              "5        8     8     8      8       8"
            ]
          },
          "execution_count": 120,
          "metadata": {},
          "output_type": "execute_result"
        }
      ],
      "source": [
        "sounden = pd.read_csv('appstore_reviews.csv') #kr로 하면 \n",
        "sounden.groupby('STAR').count()"
      ]
    },
    {
      "cell_type": "code",
      "execution_count": null,
      "metadata": {
        "id": "gZR0Thu7u7wE",
        "outputId": "783cd073-7193-4984-85db-416d2d756ad6"
      },
      "outputs": [
        {
          "data": {
            "text/html": [
              "<div>\n",
              "<style scoped>\n",
              "    .dataframe tbody tr th:only-of-type {\n",
              "        vertical-align: middle;\n",
              "    }\n",
              "\n",
              "    .dataframe tbody tr th {\n",
              "        vertical-align: top;\n",
              "    }\n",
              "\n",
              "    .dataframe thead th {\n",
              "        text-align: right;\n",
              "    }\n",
              "</style>\n",
              "<table border=\"1\" class=\"dataframe\">\n",
              "  <thead>\n",
              "    <tr style=\"text-align: right;\">\n",
              "      <th></th>\n",
              "      <th>USER</th>\n",
              "      <th>DATE</th>\n",
              "      <th>STAR</th>\n",
              "      <th>LIKE</th>\n",
              "      <th>TITLE</th>\n",
              "      <th>REVIEW</th>\n",
              "    </tr>\n",
              "  </thead>\n",
              "  <tbody>\n",
              "    <tr>\n",
              "      <th>0</th>\n",
              "      <td>suyoung&amp;rich</td>\n",
              "      <td>2021-08-29 17:20:49-07:00</td>\n",
              "      <td>4</td>\n",
              "      <td>0</td>\n",
              "      <td>버전 업데이트 ㅜㅜ</td>\n",
              "      <td>잘 쓰고 있었는데 버전이 업데이트 되고 소리가 달라졌어요</td>\n",
              "    </tr>\n",
              "    <tr>\n",
              "      <th>1</th>\n",
              "      <td>fldkff</td>\n",
              "      <td>2021-03-25 06:30:08-07:00</td>\n",
              "      <td>5</td>\n",
              "      <td>0</td>\n",
              "      <td>자연의 소리?</td>\n",
              "      <td>예전ios버전에서 자주 사용했던 자연의 소리 앱과 흡사하네요 사운드가 너무 좋고 딱...</td>\n",
              "    </tr>\n",
              "    <tr>\n",
              "      <th>2</th>\n",
              "      <td>우우으어어녀우웅</td>\n",
              "      <td>2021-02-05 23:07:00-07:00</td>\n",
              "      <td>5</td>\n",
              "      <td>0</td>\n",
              "      <td>짱</td>\n",
              "      <td>너무 조하요 ❣️❣️❣️❣️❣️</td>\n",
              "    </tr>\n",
              "    <tr>\n",
              "      <th>3</th>\n",
              "      <td>닭집4637281</td>\n",
              "      <td>2021-01-03 02:15:58-07:00</td>\n",
              "      <td>5</td>\n",
              "      <td>0</td>\n",
              "      <td>짱 좋아요</td>\n",
              "      <td>소리 너무 좋은데요\\n감사합니다</td>\n",
              "    </tr>\n",
              "    <tr>\n",
              "      <th>4</th>\n",
              "      <td>gang75</td>\n",
              "      <td>2020-11-17 14:36:28-07:00</td>\n",
              "      <td>5</td>\n",
              "      <td>0</td>\n",
              "      <td>wow</td>\n",
              "      <td>good</td>\n",
              "    </tr>\n",
              "    <tr>\n",
              "      <th>5</th>\n",
              "      <td>Bella6k</td>\n",
              "      <td>2020-09-18 04:49:41-07:00</td>\n",
              "      <td>5</td>\n",
              "      <td>0</td>\n",
              "      <td>이명소리가 자주들려서 의사선생님께 추천받았어요</td>\n",
              "      <td>혹시 단축어지원해주시면 안될까요?</td>\n",
              "    </tr>\n",
              "    <tr>\n",
              "      <th>6</th>\n",
              "      <td>라랄라12</td>\n",
              "      <td>2020-09-11 16:29:23-07:00</td>\n",
              "      <td>5</td>\n",
              "      <td>0</td>\n",
              "      <td>좋아요</td>\n",
              "      <td>잠을 잘 못자서 수면시 사용하려고 설치했어요.\\n앱이 사용 간편하고, 여러 소리도 ...</td>\n",
              "    </tr>\n",
              "    <tr>\n",
              "      <th>7</th>\n",
              "      <td>풍상씨</td>\n",
              "      <td>2020-05-26 06:30:09-07:00</td>\n",
              "      <td>5</td>\n",
              "      <td>0</td>\n",
              "      <td>무료인가요?</td>\n",
              "      <td>앱  무료인가요</td>\n",
              "    </tr>\n",
              "    <tr>\n",
              "      <th>8</th>\n",
              "      <td>FDPLove</td>\n",
              "      <td>2020-05-17 03:18:04-07:00</td>\n",
              "      <td>5</td>\n",
              "      <td>0</td>\n",
              "      <td>Awesome apk</td>\n",
              "      <td>Very nice hadaguyo\\nGgok sseu sei yow</td>\n",
              "    </tr>\n",
              "    <tr>\n",
              "      <th>9</th>\n",
              "      <td>야식주의</td>\n",
              "      <td>2020-04-17 09:51:00-07:00</td>\n",
              "      <td>5</td>\n",
              "      <td>0</td>\n",
              "      <td>세심하네요.</td>\n",
              "      <td>무료로 쓰기엔 여로모로 너무 감사한 배려가 많네요. 감사해요. 덕분에 공부할때도 쓰...</td>\n",
              "    </tr>\n",
              "    <tr>\n",
              "      <th>10</th>\n",
              "      <td>황우주 서울의대 가자</td>\n",
              "      <td>2020-03-15 07:33:50-07:00</td>\n",
              "      <td>5</td>\n",
              "      <td>0</td>\n",
              "      <td>완전 좋아요</td>\n",
              "      <td>여러 소리를 동시에 들을 수 있어서 정말 좋은 것 같아요!!\\n전에 삼성 쓸때도 이...</td>\n",
              "    </tr>\n",
              "    <tr>\n",
              "      <th>11</th>\n",
              "      <td>마산신사</td>\n",
              "      <td>2020-02-11 09:14:46-07:00</td>\n",
              "      <td>5</td>\n",
              "      <td>0</td>\n",
              "      <td>자연의 소리 좋아요~~~</td>\n",
              "      <td>잘 잘게요 Zzzzzz</td>\n",
              "    </tr>\n",
              "    <tr>\n",
              "      <th>12</th>\n",
              "      <td>Lord Beastly</td>\n",
              "      <td>2021-10-27 00:23:12-07:00</td>\n",
              "      <td>2</td>\n",
              "      <td>0</td>\n",
              "      <td>Hate the update!</td>\n",
              "      <td>Used to love this app. Pleasing sounds, that y...</td>\n",
              "    </tr>\n",
              "    <tr>\n",
              "      <th>13</th>\n",
              "      <td>sktaylor09</td>\n",
              "      <td>2021-09-11 23:38:43-07:00</td>\n",
              "      <td>2</td>\n",
              "      <td>0</td>\n",
              "      <td>Woah! Bad update!</td>\n",
              "      <td>What happened? Why is there now weird clicking...</td>\n",
              "    </tr>\n",
              "    <tr>\n",
              "      <th>14</th>\n",
              "      <td>Wakitymas</td>\n",
              "      <td>2021-09-03 07:28:49-07:00</td>\n",
              "      <td>1</td>\n",
              "      <td>0</td>\n",
              "      <td>Used to love this app</td>\n",
              "      <td>I used to use this app everyday to meditate wi...</td>\n",
              "    </tr>\n",
              "    <tr>\n",
              "      <th>15</th>\n",
              "      <td>Djm0078</td>\n",
              "      <td>2021-08-29 06:00:52-07:00</td>\n",
              "      <td>1</td>\n",
              "      <td>0</td>\n",
              "      <td>Bad update.</td>\n",
              "      <td>The new update is not very good. The old versi...</td>\n",
              "    </tr>\n",
              "    <tr>\n",
              "      <th>16</th>\n",
              "      <td>Snaabheston</td>\n",
              "      <td>2021-08-29 03:18:53-07:00</td>\n",
              "      <td>5</td>\n",
              "      <td>0</td>\n",
              "      <td>Perfect Serenity !!!</td>\n",
              "      <td>I love this app!  The sounds are pleasing and ...</td>\n",
              "    </tr>\n",
              "    <tr>\n",
              "      <th>17</th>\n",
              "      <td>pbpbobpbp</td>\n",
              "      <td>2021-08-28 17:54:36-07:00</td>\n",
              "      <td>1</td>\n",
              "      <td>0</td>\n",
              "      <td>New update made app unusable</td>\n",
              "      <td>Odd clicking and rattling noises disrupt the s...</td>\n",
              "    </tr>\n",
              "    <tr>\n",
              "      <th>18</th>\n",
              "      <td>Johnny Dubs</td>\n",
              "      <td>2021-08-27 18:34:47-07:00</td>\n",
              "      <td>1</td>\n",
              "      <td>0</td>\n",
              "      <td>Warning- no more pink noise</td>\n",
              "      <td>The latest update deletes pink noise as an opt...</td>\n",
              "    </tr>\n",
              "    <tr>\n",
              "      <th>19</th>\n",
              "      <td>MnrGabe</td>\n",
              "      <td>2021-08-26 13:46:45-07:00</td>\n",
              "      <td>1</td>\n",
              "      <td>0</td>\n",
              "      <td>Update disaster</td>\n",
              "      <td>Used this app everyday for more than a year. S...</td>\n",
              "    </tr>\n",
              "    <tr>\n",
              "      <th>20</th>\n",
              "      <td>🍮🐝😘</td>\n",
              "      <td>2021-07-24 19:40:26-07:00</td>\n",
              "      <td>5</td>\n",
              "      <td>0</td>\n",
              "      <td>Nice and relaxing</td>\n",
              "      <td>So simple yet so good.</td>\n",
              "    </tr>\n",
              "    <tr>\n",
              "      <th>21</th>\n",
              "      <td>Anzy599</td>\n",
              "      <td>2021-07-24 18:44:25-07:00</td>\n",
              "      <td>4</td>\n",
              "      <td>0</td>\n",
              "      <td>Love it but 1 complaint</td>\n",
              "      <td>I love this app it helps me sleep soundly I us...</td>\n",
              "    </tr>\n",
              "    <tr>\n",
              "      <th>22</th>\n",
              "      <td>OllieBear12</td>\n",
              "      <td>2021-07-09 19:13:28-07:00</td>\n",
              "      <td>5</td>\n",
              "      <td>0</td>\n",
              "      <td>Best app for meditating!</td>\n",
              "      <td>Def get it! My go to for meditation!</td>\n",
              "    </tr>\n",
              "    <tr>\n",
              "      <th>23</th>\n",
              "      <td>Sinthiaecka</td>\n",
              "      <td>2021-06-07 06:38:37-07:00</td>\n",
              "      <td>5</td>\n",
              "      <td>0</td>\n",
              "      <td>Excellent/Easy</td>\n",
              "      <td>Love this. I’m on vacation with a loud AC that...</td>\n",
              "    </tr>\n",
              "    <tr>\n",
              "      <th>24</th>\n",
              "      <td>Brazzzzuca😜</td>\n",
              "      <td>2020-08-23 19:11:14-07:00</td>\n",
              "      <td>5</td>\n",
              "      <td>0</td>\n",
              "      <td>Perfect and free</td>\n",
              "      <td>After trying several apps paid and free this o...</td>\n",
              "    </tr>\n",
              "    <tr>\n",
              "      <th>25</th>\n",
              "      <td>engineer4God</td>\n",
              "      <td>2020-08-13 19:56:48-07:00</td>\n",
              "      <td>5</td>\n",
              "      <td>1</td>\n",
              "      <td>Cool app</td>\n",
              "      <td>Cool app! You can mix different sounds togethe...</td>\n",
              "    </tr>\n",
              "    <tr>\n",
              "      <th>26</th>\n",
              "      <td>graciegurl14</td>\n",
              "      <td>2020-06-17 18:18:42-07:00</td>\n",
              "      <td>5</td>\n",
              "      <td>0</td>\n",
              "      <td>Works great</td>\n",
              "      <td>Great app works really noise out of all the ap...</td>\n",
              "    </tr>\n",
              "    <tr>\n",
              "      <th>27</th>\n",
              "      <td>mann_heim</td>\n",
              "      <td>2020-05-10 08:33:33-07:00</td>\n",
              "      <td>5</td>\n",
              "      <td>0</td>\n",
              "      <td>Hey developers</td>\n",
              "      <td>You dropped this 👑</td>\n",
              "    </tr>\n",
              "    <tr>\n",
              "      <th>28</th>\n",
              "      <td>JonDoney</td>\n",
              "      <td>2020-04-06 06:35:18-07:00</td>\n",
              "      <td>3</td>\n",
              "      <td>0</td>\n",
              "      <td>Surprisingly Useful</td>\n",
              "      <td>I guess it works pretty good. Better on iOS th...</td>\n",
              "    </tr>\n",
              "    <tr>\n",
              "      <th>29</th>\n",
              "      <td>ll😚</td>\n",
              "      <td>2020-01-26 20:16:11-07:00</td>\n",
              "      <td>3</td>\n",
              "      <td>1</td>\n",
              "      <td>Good!!!</td>\n",
              "      <td>It was very good but how do we make our own</td>\n",
              "    </tr>\n",
              "    <tr>\n",
              "      <th>30</th>\n",
              "      <td>flightisfun01</td>\n",
              "      <td>2020-01-03 20:56:41-07:00</td>\n",
              "      <td>4</td>\n",
              "      <td>0</td>\n",
              "      <td>It’s good!</td>\n",
              "      <td>Pretty good! Seems to drain battery when running.</td>\n",
              "    </tr>\n",
              "    <tr>\n",
              "      <th>31</th>\n",
              "      <td>lovely.jaz</td>\n",
              "      <td>2019-03-10 11:50:00-07:00</td>\n",
              "      <td>4</td>\n",
              "      <td>1</td>\n",
              "      <td>Okay</td>\n",
              "      <td>I think it’s a great app. I love the sounds an...</td>\n",
              "    </tr>\n",
              "  </tbody>\n",
              "</table>\n",
              "</div>"
            ],
            "text/plain": [
              "             USER                       DATE  STAR  LIKE  \\\n",
              "0    suyoung&rich  2021-08-29 17:20:49-07:00     4     0   \n",
              "1          fldkff  2021-03-25 06:30:08-07:00     5     0   \n",
              "2        우우으어어녀우웅  2021-02-05 23:07:00-07:00     5     0   \n",
              "3       닭집4637281  2021-01-03 02:15:58-07:00     5     0   \n",
              "4          gang75  2020-11-17 14:36:28-07:00     5     0   \n",
              "5         Bella6k  2020-09-18 04:49:41-07:00     5     0   \n",
              "6           라랄라12  2020-09-11 16:29:23-07:00     5     0   \n",
              "7             풍상씨  2020-05-26 06:30:09-07:00     5     0   \n",
              "8         FDPLove  2020-05-17 03:18:04-07:00     5     0   \n",
              "9            야식주의  2020-04-17 09:51:00-07:00     5     0   \n",
              "10    황우주 서울의대 가자  2020-03-15 07:33:50-07:00     5     0   \n",
              "11           마산신사  2020-02-11 09:14:46-07:00     5     0   \n",
              "12   Lord Beastly  2021-10-27 00:23:12-07:00     2     0   \n",
              "13     sktaylor09  2021-09-11 23:38:43-07:00     2     0   \n",
              "14      Wakitymas  2021-09-03 07:28:49-07:00     1     0   \n",
              "15        Djm0078  2021-08-29 06:00:52-07:00     1     0   \n",
              "16    Snaabheston  2021-08-29 03:18:53-07:00     5     0   \n",
              "17      pbpbobpbp  2021-08-28 17:54:36-07:00     1     0   \n",
              "18    Johnny Dubs  2021-08-27 18:34:47-07:00     1     0   \n",
              "19        MnrGabe  2021-08-26 13:46:45-07:00     1     0   \n",
              "20            🍮🐝😘  2021-07-24 19:40:26-07:00     5     0   \n",
              "21        Anzy599  2021-07-24 18:44:25-07:00     4     0   \n",
              "22    OllieBear12  2021-07-09 19:13:28-07:00     5     0   \n",
              "23    Sinthiaecka  2021-06-07 06:38:37-07:00     5     0   \n",
              "24    Brazzzzuca😜  2020-08-23 19:11:14-07:00     5     0   \n",
              "25   engineer4God  2020-08-13 19:56:48-07:00     5     1   \n",
              "26   graciegurl14  2020-06-17 18:18:42-07:00     5     0   \n",
              "27      mann_heim  2020-05-10 08:33:33-07:00     5     0   \n",
              "28       JonDoney  2020-04-06 06:35:18-07:00     3     0   \n",
              "29            ll😚  2020-01-26 20:16:11-07:00     3     1   \n",
              "30  flightisfun01  2020-01-03 20:56:41-07:00     4     0   \n",
              "31     lovely.jaz  2019-03-10 11:50:00-07:00     4     1   \n",
              "\n",
              "                           TITLE  \\\n",
              "0                     버전 업데이트 ㅜㅜ   \n",
              "1                        자연의 소리?   \n",
              "2                              짱   \n",
              "3                          짱 좋아요   \n",
              "4                            wow   \n",
              "5      이명소리가 자주들려서 의사선생님께 추천받았어요   \n",
              "6                            좋아요   \n",
              "7                         무료인가요?   \n",
              "8                    Awesome apk   \n",
              "9                         세심하네요.   \n",
              "10                        완전 좋아요   \n",
              "11                 자연의 소리 좋아요~~~   \n",
              "12              Hate the update!   \n",
              "13             Woah! Bad update!   \n",
              "14         Used to love this app   \n",
              "15                   Bad update.   \n",
              "16          Perfect Serenity !!!   \n",
              "17  New update made app unusable   \n",
              "18   Warning- no more pink noise   \n",
              "19               Update disaster   \n",
              "20             Nice and relaxing   \n",
              "21       Love it but 1 complaint   \n",
              "22      Best app for meditating!   \n",
              "23                Excellent/Easy   \n",
              "24              Perfect and free   \n",
              "25                      Cool app   \n",
              "26                   Works great   \n",
              "27                Hey developers   \n",
              "28           Surprisingly Useful   \n",
              "29                       Good!!!   \n",
              "30                    It’s good!   \n",
              "31                          Okay   \n",
              "\n",
              "                                               REVIEW  \n",
              "0                     잘 쓰고 있었는데 버전이 업데이트 되고 소리가 달라졌어요  \n",
              "1   예전ios버전에서 자주 사용했던 자연의 소리 앱과 흡사하네요 사운드가 너무 좋고 딱...  \n",
              "2                                   너무 조하요 ❣️❣️❣️❣️❣️  \n",
              "3                                   소리 너무 좋은데요\\n감사합니다  \n",
              "4                                                good  \n",
              "5                                  혹시 단축어지원해주시면 안될까요?  \n",
              "6   잠을 잘 못자서 수면시 사용하려고 설치했어요.\\n앱이 사용 간편하고, 여러 소리도 ...  \n",
              "7                                            앱  무료인가요  \n",
              "8               Very nice hadaguyo\\nGgok sseu sei yow  \n",
              "9   무료로 쓰기엔 여로모로 너무 감사한 배려가 많네요. 감사해요. 덕분에 공부할때도 쓰...  \n",
              "10  여러 소리를 동시에 들을 수 있어서 정말 좋은 것 같아요!!\\n전에 삼성 쓸때도 이...  \n",
              "11                                       잘 잘게요 Zzzzzz  \n",
              "12  Used to love this app. Pleasing sounds, that y...  \n",
              "13  What happened? Why is there now weird clicking...  \n",
              "14  I used to use this app everyday to meditate wi...  \n",
              "15  The new update is not very good. The old versi...  \n",
              "16  I love this app!  The sounds are pleasing and ...  \n",
              "17  Odd clicking and rattling noises disrupt the s...  \n",
              "18  The latest update deletes pink noise as an opt...  \n",
              "19  Used this app everyday for more than a year. S...  \n",
              "20                             So simple yet so good.  \n",
              "21  I love this app it helps me sleep soundly I us...  \n",
              "22               Def get it! My go to for meditation!  \n",
              "23  Love this. I’m on vacation with a loud AC that...  \n",
              "24  After trying several apps paid and free this o...  \n",
              "25  Cool app! You can mix different sounds togethe...  \n",
              "26  Great app works really noise out of all the ap...  \n",
              "27                                 You dropped this 👑  \n",
              "28  I guess it works pretty good. Better on iOS th...  \n",
              "29        It was very good but how do we make our own  \n",
              "30  Pretty good! Seems to drain battery when running.  \n",
              "31  I think it’s a great app. I love the sounds an...  "
            ]
          },
          "execution_count": 124,
          "metadata": {},
          "output_type": "execute_result"
        }
      ],
      "source": [
        "sound = pd.concat([soundkr, sounden],ignore_index=True)\n",
        "sound"
      ]
    },
    {
      "cell_type": "code",
      "execution_count": null,
      "metadata": {
        "id": "W5tf8DWfu7wF"
      },
      "outputs": [],
      "source": [
        "sound.to_csv('12영한.csv',encoding='utf-8-sig',index=False)"
      ]
    },
    {
      "cell_type": "code",
      "execution_count": null,
      "metadata": {
        "id": "7qQYrjvHu7wF",
        "outputId": "611c5ab9-01a5-4375-f1dd-fd2e3c222ab6"
      },
      "outputs": [
        {
          "name": "stdout",
          "output_type": "stream",
          "text": [
            "https://itunes.apple.com/rss/customerreviews/page=1/id=1164801111/sortby=mostrecent/xml?urlDesc=/customerreviews/id=1164801111/sortBy=mostRecent/xml\n",
            "https://itunes.apple.com/rss/customerreviews/page=2/id=1164801111/sortby=mostrecent/xml?urlDesc=/customerreviews/id=1164801111/sortBy=mostRecent/xml\n",
            "https://itunes.apple.com/rss/customerreviews/page=3/id=1164801111/sortby=mostrecent/xml?urlDesc=/customerreviews/id=1164801111/sortBy=mostRecent/xml\n",
            "https://itunes.apple.com/rss/customerreviews/page=4/id=1164801111/sortby=mostrecent/xml?urlDesc=/customerreviews/id=1164801111/sortBy=mostRecent/xml\n",
            "https://itunes.apple.com/rss/customerreviews/page=5/id=1164801111/sortby=mostrecent/xml?urlDesc=/customerreviews/id=1164801111/sortBy=mostRecent/xml\n",
            "https://itunes.apple.com/rss/customerreviews/page=6/id=1164801111/sortby=mostrecent/xml?urlDesc=/customerreviews/id=1164801111/sortBy=mostRecent/xml\n",
            "https://itunes.apple.com/rss/customerreviews/page=7/id=1164801111/sortby=mostrecent/xml?urlDesc=/customerreviews/id=1164801111/sortBy=mostRecent/xml\n",
            "https://itunes.apple.com/rss/customerreviews/page=8/id=1164801111/sortby=mostrecent/xml?urlDesc=/customerreviews/id=1164801111/sortBy=mostRecent/xml\n",
            "https://itunes.apple.com/rss/customerreviews/page=9/id=1164801111/sortby=mostrecent/xml?urlDesc=/customerreviews/id=1164801111/sortBy=mostRecent/xml\n",
            "https://itunes.apple.com/rss/customerreviews/page=10/id=1164801111/sortby=mostrecent/xml?urlDesc=/customerreviews/id=1164801111/sortBy=mostRecent/xml\n",
            "Save reviews to file: ./appstore_reviews.csv \n",
            "\n"
          ]
        }
      ],
      "source": [
        "appstore_crawler(1164801111)"
      ]
    },
    {
      "cell_type": "code",
      "execution_count": null,
      "metadata": {
        "id": "66zEUCDNu7wF"
      },
      "outputs": [],
      "source": [
        "autosleepen = pd.read_csv('appstore_reviews.csv') #kr로 하면 \n",
        "autosleepen.to_csv('autosleep_en.csv',encoding='utf-8-sig',index=False)"
      ]
    },
    {
      "cell_type": "code",
      "execution_count": null,
      "metadata": {
        "id": "NstqAtNmu7wG",
        "outputId": "d9190e6a-10d8-464e-a20d-b86086126a87"
      },
      "outputs": [
        {
          "name": "stdout",
          "output_type": "stream",
          "text": [
            "https://itunes.apple.com/kr/rss/customerreviews/page=1/id=1164801111/sortby=mostrecent/xml?urlDesc=/customerreviews/id=1164801111/sortBy=mostRecent/xml\n",
            "https://itunes.apple.com/kr/rss/customerreviews/page=2/id=1164801111/sortby=mostrecent/xml?urlDesc=/customerreviews/id=1164801111/sortBy=mostRecent/xml\n",
            "https://itunes.apple.com/kr/rss/customerreviews/page=3/id=1164801111/sortby=mostrecent/xml?urlDesc=/customerreviews/id=1164801111/sortBy=mostRecent/xml\n",
            "https://itunes.apple.com/kr/rss/customerreviews/page=4/id=1164801111/sortby=mostrecent/xml?urlDesc=/customerreviews/id=1164801111/sortBy=mostRecent/xml\n",
            "https://itunes.apple.com/kr/rss/customerreviews/page=5/id=1164801111/sortby=mostrecent/xml?urlDesc=/customerreviews/id=1164801111/sortBy=mostRecent/xml\n",
            "https://itunes.apple.com/kr/rss/customerreviews/page=6/id=1164801111/sortby=mostrecent/xml?urlDesc=/customerreviews/id=1164801111/sortBy=mostRecent/xml\n",
            "https://itunes.apple.com/kr/rss/customerreviews/page=7/id=1164801111/sortby=mostrecent/xml?urlDesc=/customerreviews/id=1164801111/sortBy=mostRecent/xml\n",
            "https://itunes.apple.com/kr/rss/customerreviews/page=8/id=1164801111/sortby=mostrecent/xml?urlDesc=/customerreviews/id=1164801111/sortBy=mostRecent/xml\n",
            "https://itunes.apple.com/kr/rss/customerreviews/page=9/id=1164801111/sortby=mostrecent/xml?urlDesc=/customerreviews/id=1164801111/sortBy=mostRecent/xml\n",
            "https://itunes.apple.com/kr/rss/customerreviews/page=10/id=1164801111/sortby=mostrecent/xml?urlDesc=/customerreviews/id=1164801111/sortBy=mostRecent/xml\n",
            "Save reviews to file: ./appstore_reviews.csv \n",
            "\n"
          ]
        }
      ],
      "source": [
        "appstore_crawler_kr(1164801111)"
      ]
    },
    {
      "cell_type": "code",
      "execution_count": null,
      "metadata": {
        "id": "hquVgLjYu7wG",
        "outputId": "d36350d2-2231-4446-f214-a381790a65d9"
      },
      "outputs": [
        {
          "data": {
            "text/html": [
              "<div>\n",
              "<style scoped>\n",
              "    .dataframe tbody tr th:only-of-type {\n",
              "        vertical-align: middle;\n",
              "    }\n",
              "\n",
              "    .dataframe tbody tr th {\n",
              "        vertical-align: top;\n",
              "    }\n",
              "\n",
              "    .dataframe thead th {\n",
              "        text-align: right;\n",
              "    }\n",
              "</style>\n",
              "<table border=\"1\" class=\"dataframe\">\n",
              "  <thead>\n",
              "    <tr style=\"text-align: right;\">\n",
              "      <th></th>\n",
              "      <th>USER</th>\n",
              "      <th>DATE</th>\n",
              "      <th>LIKE</th>\n",
              "      <th>TITLE</th>\n",
              "      <th>REVIEW</th>\n",
              "    </tr>\n",
              "    <tr>\n",
              "      <th>STAR</th>\n",
              "      <th></th>\n",
              "      <th></th>\n",
              "      <th></th>\n",
              "      <th></th>\n",
              "      <th></th>\n",
              "    </tr>\n",
              "  </thead>\n",
              "  <tbody>\n",
              "    <tr>\n",
              "      <th>1</th>\n",
              "      <td>203</td>\n",
              "      <td>203</td>\n",
              "      <td>203</td>\n",
              "      <td>203</td>\n",
              "      <td>203</td>\n",
              "    </tr>\n",
              "    <tr>\n",
              "      <th>2</th>\n",
              "      <td>31</td>\n",
              "      <td>31</td>\n",
              "      <td>31</td>\n",
              "      <td>31</td>\n",
              "      <td>31</td>\n",
              "    </tr>\n",
              "    <tr>\n",
              "      <th>3</th>\n",
              "      <td>52</td>\n",
              "      <td>52</td>\n",
              "      <td>52</td>\n",
              "      <td>52</td>\n",
              "      <td>52</td>\n",
              "    </tr>\n",
              "    <tr>\n",
              "      <th>4</th>\n",
              "      <td>58</td>\n",
              "      <td>58</td>\n",
              "      <td>58</td>\n",
              "      <td>58</td>\n",
              "      <td>58</td>\n",
              "    </tr>\n",
              "    <tr>\n",
              "      <th>5</th>\n",
              "      <td>156</td>\n",
              "      <td>156</td>\n",
              "      <td>156</td>\n",
              "      <td>156</td>\n",
              "      <td>156</td>\n",
              "    </tr>\n",
              "  </tbody>\n",
              "</table>\n",
              "</div>"
            ],
            "text/plain": [
              "      USER  DATE  LIKE  TITLE  REVIEW\n",
              "STAR                                 \n",
              "1      203   203   203    203     203\n",
              "2       31    31    31     31      31\n",
              "3       52    52    52     52      52\n",
              "4       58    58    58     58      58\n",
              "5      156   156   156    156     156"
            ]
          },
          "execution_count": 7,
          "metadata": {},
          "output_type": "execute_result"
        }
      ],
      "source": [
        "autosleep = pd.read_csv('appstore_reviews.csv') #kr로 하면 \n",
        "autosleep.groupby('STAR').count()"
      ]
    },
    {
      "cell_type": "code",
      "execution_count": null,
      "metadata": {
        "id": "gStuO6oYu7wG"
      },
      "outputs": [],
      "source": [
        "autosleep5 = autosleep[autosleep['STAR']==5]\n",
        "autosleep1 = autosleep[autosleep['STAR']==1]\n",
        "autosleep.to_csv('autosleep.csv',encoding='utf-8-sig',index=False)\n",
        "autosleep1.to_csv('autosleep_star1.csv',encoding='utf-8-sig',index=False)\n",
        "autosleep5.to_csv('autosleep_star5.csv',encoding='utf-8-sig',index=False)"
      ]
    },
    {
      "cell_type": "code",
      "execution_count": null,
      "metadata": {
        "id": "KMBn7ZfOu7wH",
        "outputId": "cf4c2089-e8dd-4eec-d696-9a3a79fce4f2"
      },
      "outputs": [
        {
          "data": {
            "text/html": [
              "<div>\n",
              "<style scoped>\n",
              "    .dataframe tbody tr th:only-of-type {\n",
              "        vertical-align: middle;\n",
              "    }\n",
              "\n",
              "    .dataframe tbody tr th {\n",
              "        vertical-align: top;\n",
              "    }\n",
              "\n",
              "    .dataframe thead th {\n",
              "        text-align: right;\n",
              "    }\n",
              "</style>\n",
              "<table border=\"1\" class=\"dataframe\">\n",
              "  <thead>\n",
              "    <tr style=\"text-align: right;\">\n",
              "      <th></th>\n",
              "      <th>USER</th>\n",
              "      <th>DATE</th>\n",
              "      <th>STAR</th>\n",
              "      <th>LIKE</th>\n",
              "      <th>TITLE</th>\n",
              "      <th>REVIEW</th>\n",
              "    </tr>\n",
              "  </thead>\n",
              "  <tbody>\n",
              "    <tr>\n",
              "      <th>0</th>\n",
              "      <td>별명을 뭐라써야되믄거야</td>\n",
              "      <td>2022-01-21 00:53:13-07:00</td>\n",
              "      <td>3</td>\n",
              "      <td>0</td>\n",
              "      <td>오늘처음 사용합니다.</td>\n",
              "      <td>오늘첫사용입니다~ 오류많다는 리뷰보고 살까말까고민햇지만 버그수정햇다기에 구매하였습니...</td>\n",
              "    </tr>\n",
              "    <tr>\n",
              "      <th>1</th>\n",
              "      <td>내가 낸데 후</td>\n",
              "      <td>2022-01-19 22:03:54-07:00</td>\n",
              "      <td>1</td>\n",
              "      <td>0</td>\n",
              "      <td>하 고치던가 환불해주던가</td>\n",
              "      <td>에러 고치던가 ✘발 환불해주던가 이게 뭐임 한국어 업데이트도 안되잇고 어케 쓰라고 ...</td>\n",
              "    </tr>\n",
              "    <tr>\n",
              "      <th>2</th>\n",
              "      <td>시닌곤듀</td>\n",
              "      <td>2022-01-19 18:05:58-07:00</td>\n",
              "      <td>3</td>\n",
              "      <td>0</td>\n",
              "      <td>요새 들어서 측정이 안돼요 ..</td>\n",
              "      <td>갑자기 폰 업데이트 하고 나서 끼고 자면 인식이 안돼서 정확한 수면 패턴을 알기 힘...</td>\n",
              "    </tr>\n",
              "    <tr>\n",
              "      <th>3</th>\n",
              "      <td>이초밥21</td>\n",
              "      <td>2022-01-18 04:16:40-07:00</td>\n",
              "      <td>1</td>\n",
              "      <td>0</td>\n",
              "      <td>오류</td>\n",
              "      <td>정확도가 너무 떨어져요</td>\n",
              "    </tr>\n",
              "    <tr>\n",
              "      <th>4</th>\n",
              "      <td>3747585</td>\n",
              "      <td>2022-01-17 03:51:26-07:00</td>\n",
              "      <td>1</td>\n",
              "      <td>0</td>\n",
              "      <td>왜 연동이 안되나요??</td>\n",
              "      <td>에러나서 수면 측정 안됨\\n인터넷에서 하라는데로 다 해도 안됨\\n해결 좀 해주세요\\...</td>\n",
              "    </tr>\n",
              "    <tr>\n",
              "      <th>...</th>\n",
              "      <td>...</td>\n",
              "      <td>...</td>\n",
              "      <td>...</td>\n",
              "      <td>...</td>\n",
              "      <td>...</td>\n",
              "      <td>...</td>\n",
              "    </tr>\n",
              "    <tr>\n",
              "      <th>495</th>\n",
              "      <td>또우우</td>\n",
              "      <td>2020-04-20 20:13:55-07:00</td>\n",
              "      <td>2</td>\n",
              "      <td>0</td>\n",
              "      <td>계속에러뜨네요</td>\n",
              "      <td>항상 자동으로안되고 에러어서 새로고침눌러주는데 7일째사용중 아에 에러에서 도움말새로...</td>\n",
              "    </tr>\n",
              "    <tr>\n",
              "      <th>496</th>\n",
              "      <td>dygest</td>\n",
              "      <td>2020-04-18 17:07:56-07:00</td>\n",
              "      <td>4</td>\n",
              "      <td>0</td>\n",
              "      <td>괜찮은 듯...</td>\n",
              "      <td>기격도 기능도 좋은 거 같네요...</td>\n",
              "    </tr>\n",
              "    <tr>\n",
              "      <th>497</th>\n",
              "      <td>다훈이가</td>\n",
              "      <td>2020-04-18 16:57:05-07:00</td>\n",
              "      <td>5</td>\n",
              "      <td>0</td>\n",
              "      <td>죠아요</td>\n",
              "      <td>죠아요</td>\n",
              "    </tr>\n",
              "    <tr>\n",
              "      <th>498</th>\n",
              "      <td>Nergul</td>\n",
              "      <td>2020-04-16 15:28:57-07:00</td>\n",
              "      <td>4</td>\n",
              "      <td>0</td>\n",
              "      <td>좋은편</td>\n",
              "      <td>일단 애플 워치로 데이터 확인이 가능해서 좋음.\\n한눈에 보기 편함\\n\\n그러나 이...</td>\n",
              "    </tr>\n",
              "    <tr>\n",
              "      <th>499</th>\n",
              "      <td>ちゅほうへ</td>\n",
              "      <td>2020-04-16 00:52:40-07:00</td>\n",
              "      <td>5</td>\n",
              "      <td>0</td>\n",
              "      <td>최고의 앱</td>\n",
              "      <td>정말 최고의 앱인거 같습니다. 이게 있으니 내 애플워치가 완벽에 가까워 진거 같습니...</td>\n",
              "    </tr>\n",
              "  </tbody>\n",
              "</table>\n",
              "<p>500 rows × 6 columns</p>\n",
              "</div>"
            ],
            "text/plain": [
              "             USER                       DATE  STAR  LIKE              TITLE  \\\n",
              "0    별명을 뭐라써야되믄거야  2022-01-21 00:53:13-07:00     3     0        오늘처음 사용합니다.   \n",
              "1         내가 낸데 후  2022-01-19 22:03:54-07:00     1     0      하 고치던가 환불해주던가   \n",
              "2            시닌곤듀  2022-01-19 18:05:58-07:00     3     0  요새 들어서 측정이 안돼요 ..   \n",
              "3           이초밥21  2022-01-18 04:16:40-07:00     1     0                 오류   \n",
              "4         3747585  2022-01-17 03:51:26-07:00     1     0       왜 연동이 안되나요??   \n",
              "..            ...                        ...   ...   ...                ...   \n",
              "495           또우우  2020-04-20 20:13:55-07:00     2     0            계속에러뜨네요   \n",
              "496        dygest  2020-04-18 17:07:56-07:00     4     0           괜찮은 듯...   \n",
              "497          다훈이가  2020-04-18 16:57:05-07:00     5     0                죠아요   \n",
              "498        Nergul  2020-04-16 15:28:57-07:00     4     0                좋은편   \n",
              "499         ちゅほうへ  2020-04-16 00:52:40-07:00     5     0              최고의 앱   \n",
              "\n",
              "                                                REVIEW  \n",
              "0    오늘첫사용입니다~ 오류많다는 리뷰보고 살까말까고민햇지만 버그수정햇다기에 구매하였습니...  \n",
              "1    에러 고치던가 ✘발 환불해주던가 이게 뭐임 한국어 업데이트도 안되잇고 어케 쓰라고 ...  \n",
              "2    갑자기 폰 업데이트 하고 나서 끼고 자면 인식이 안돼서 정확한 수면 패턴을 알기 힘...  \n",
              "3                                         정확도가 너무 떨어져요  \n",
              "4    에러나서 수면 측정 안됨\\n인터넷에서 하라는데로 다 해도 안됨\\n해결 좀 해주세요\\...  \n",
              "..                                                 ...  \n",
              "495  항상 자동으로안되고 에러어서 새로고침눌러주는데 7일째사용중 아에 에러에서 도움말새로...  \n",
              "496                                기격도 기능도 좋은 거 같네요...  \n",
              "497                                                죠아요  \n",
              "498  일단 애플 워치로 데이터 확인이 가능해서 좋음.\\n한눈에 보기 편함\\n\\n그러나 이...  \n",
              "499  정말 최고의 앱인거 같습니다. 이게 있으니 내 애플워치가 완벽에 가까워 진거 같습니...  \n",
              "\n",
              "[500 rows x 6 columns]"
            ]
          },
          "execution_count": 9,
          "metadata": {},
          "output_type": "execute_result"
        }
      ],
      "source": [
        "autosleep"
      ]
    },
    {
      "cell_type": "code",
      "execution_count": null,
      "metadata": {
        "id": "r-UBtXgdu7wH",
        "outputId": "8b9ac59f-8219-4dc6-f487-c73cf5a90181"
      },
      "outputs": [
        {
          "data": {
            "text/plain": [
              "'에러 고치던가 ✘발 환불해주던가 이게 뭐임 한국어 업데이트도 안되잇고 어케 쓰라고 에러로 계속 나오는건디;;;;;; 어케 해라 좀'"
            ]
          },
          "execution_count": 10,
          "metadata": {},
          "output_type": "execute_result"
        }
      ],
      "source": [
        "autosleep.REVIEW[1]"
      ]
    },
    {
      "cell_type": "code",
      "execution_count": null,
      "metadata": {
        "id": "IHzPbNegu7wH",
        "outputId": "a24bb863-fa46-4a9e-d17a-b1151da1cc12"
      },
      "outputs": [
        {
          "name": "stdout",
          "output_type": "stream",
          "text": [
            "https://itunes.apple.com/kr/rss/customerreviews/page=1/id=878691772/sortby=mostrecent/xml?urlDesc=/customerreviews/id=878691772/sortBy=mostRecent/xml\n",
            "https://itunes.apple.com/kr/rss/customerreviews/page=2/id=878691772/sortby=mostrecent/xml?urlDesc=/customerreviews/id=878691772/sortBy=mostRecent/xml\n",
            "https://itunes.apple.com/kr/rss/customerreviews/page=3/id=878691772/sortby=mostrecent/xml?urlDesc=/customerreviews/id=878691772/sortBy=mostRecent/xml\n",
            "https://itunes.apple.com/kr/rss/customerreviews/page=4/id=878691772/sortby=mostrecent/xml?urlDesc=/customerreviews/id=878691772/sortBy=mostRecent/xml\n",
            "https://itunes.apple.com/kr/rss/customerreviews/page=5/id=878691772/sortby=mostrecent/xml?urlDesc=/customerreviews/id=878691772/sortBy=mostRecent/xml\n",
            "https://itunes.apple.com/kr/rss/customerreviews/page=6/id=878691772/sortby=mostrecent/xml?urlDesc=/customerreviews/id=878691772/sortBy=mostRecent/xml\n",
            "Save reviews to file: ./appstore_reviews.csv \n",
            "\n"
          ]
        }
      ],
      "source": [
        "appstore_crawler_kr(878691772)"
      ]
    },
    {
      "cell_type": "code",
      "execution_count": null,
      "metadata": {
        "id": "uvpXCcnFu7wI",
        "outputId": "0ff758f5-49c0-4a59-9c54-7f86cdb8cb8b"
      },
      "outputs": [
        {
          "data": {
            "text/plain": [
              "USER      263\n",
              "DATE      263\n",
              "STAR      263\n",
              "LIKE      263\n",
              "TITLE     263\n",
              "REVIEW    263\n",
              "dtype: int64"
            ]
          },
          "execution_count": 38,
          "metadata": {},
          "output_type": "execute_result"
        }
      ],
      "source": [
        "pillowkr = pd.read_csv('appstore_reviews.csv')\n",
        "pillowkr.count()"
      ]
    },
    {
      "cell_type": "code",
      "execution_count": null,
      "metadata": {
        "id": "hD0FLIi1u7wI",
        "outputId": "ccacd151-b789-4a8c-d623-4cadcf138039"
      },
      "outputs": [
        {
          "name": "stdout",
          "output_type": "stream",
          "text": [
            "https://itunes.apple.com/rss/customerreviews/page=1/id=878691772/sortby=mostrecent/xml?urlDesc=/customerreviews/id=878691772/sortBy=mostRecent/xml\n",
            "https://itunes.apple.com/rss/customerreviews/page=2/id=878691772/sortby=mostrecent/xml?urlDesc=/customerreviews/id=878691772/sortBy=mostRecent/xml\n",
            "https://itunes.apple.com/rss/customerreviews/page=3/id=878691772/sortby=mostrecent/xml?urlDesc=/customerreviews/id=878691772/sortBy=mostRecent/xml\n",
            "https://itunes.apple.com/rss/customerreviews/page=4/id=878691772/sortby=mostrecent/xml?urlDesc=/customerreviews/id=878691772/sortBy=mostRecent/xml\n",
            "https://itunes.apple.com/rss/customerreviews/page=5/id=878691772/sortby=mostrecent/xml?urlDesc=/customerreviews/id=878691772/sortBy=mostRecent/xml\n",
            "https://itunes.apple.com/rss/customerreviews/page=6/id=878691772/sortby=mostrecent/xml?urlDesc=/customerreviews/id=878691772/sortBy=mostRecent/xml\n",
            "https://itunes.apple.com/rss/customerreviews/page=7/id=878691772/sortby=mostrecent/xml?urlDesc=/customerreviews/id=878691772/sortBy=mostRecent/xml\n",
            "https://itunes.apple.com/rss/customerreviews/page=8/id=878691772/sortby=mostrecent/xml?urlDesc=/customerreviews/id=878691772/sortBy=mostRecent/xml\n",
            "https://itunes.apple.com/rss/customerreviews/page=9/id=878691772/sortby=mostrecent/xml?urlDesc=/customerreviews/id=878691772/sortBy=mostRecent/xml\n",
            "https://itunes.apple.com/rss/customerreviews/page=10/id=878691772/sortby=mostrecent/xml?urlDesc=/customerreviews/id=878691772/sortBy=mostRecent/xml\n",
            "Save reviews to file: ./appstore_reviews.csv \n",
            "\n"
          ]
        }
      ],
      "source": [
        "appstore_crawler(878691772)"
      ]
    },
    {
      "cell_type": "code",
      "execution_count": null,
      "metadata": {
        "id": "HM8ijiPuu7wI"
      },
      "outputs": [],
      "source": [
        "pillowkr = pd.read_csv('appstore_reviews.csv')\n",
        "pillowkr.to_csv('pillow_kr_only263.csv',encoding='utf-8-sig',index=False)"
      ]
    },
    {
      "cell_type": "code",
      "execution_count": null,
      "metadata": {
        "id": "UxQIrYrNu7wJ",
        "outputId": "050ac947-6577-44d6-b561-74616506822b"
      },
      "outputs": [
        {
          "data": {
            "text/plain": [
              "USER      500\n",
              "DATE      500\n",
              "STAR      500\n",
              "LIKE      500\n",
              "TITLE     500\n",
              "REVIEW    500\n",
              "dtype: int64"
            ]
          },
          "execution_count": 16,
          "metadata": {},
          "output_type": "execute_result"
        }
      ],
      "source": [
        "pillowen = pd.read_csv('appstore_reviews.csv')\n",
        "pillowen.count()"
      ]
    },
    {
      "cell_type": "code",
      "execution_count": null,
      "metadata": {
        "id": "5iErU3N8u7wJ"
      },
      "outputs": [],
      "source": [
        "pillowen5 = pillowen[pillowen['STAR']==5]\n",
        "pillowen1 = pillowen[pillowen['STAR']==1]\n",
        "pillowen.to_csv('pillow_en.csv',encoding='utf-8-sig',index=False)\n",
        "pillowen1.to_csv('pillow_en_star1.csv',encoding='utf-8-sig',index=False)\n",
        "pillowen5.to_csv('pillow_en_star5.csv',encoding='utf-8-sig',index=False)"
      ]
    },
    {
      "cell_type": "code",
      "execution_count": null,
      "metadata": {
        "scrolled": true,
        "id": "xYmZBhCPu7wK",
        "outputId": "072f2c7f-e21c-4b6e-aed9-6afb660336af"
      },
      "outputs": [
        {
          "name": "stdout",
          "output_type": "stream",
          "text": [
            "https://itunes.apple.com/kr/rss/customerreviews/page=1/id=1069511734/sortby=mostrecent/xml?urlDesc=/customerreviews/id=1069511734/sortBy=mostRecent/xml\n",
            "Save reviews to file: ./appstore_reviews.csv \n",
            "\n"
          ]
        }
      ],
      "source": [
        "appstore_crawler_kr(1069511734)\n"
      ]
    },
    {
      "cell_type": "code",
      "execution_count": null,
      "metadata": {
        "id": "f8SXKMriu7wK"
      },
      "outputs": [],
      "source": [
        "browser.quit()"
      ]
    }
  ],
  "metadata": {
    "kernelspec": {
      "display_name": "Python 3",
      "language": "python",
      "name": "python3"
    },
    "language_info": {
      "codemirror_mode": {
        "name": "ipython",
        "version": 3
      },
      "file_extension": ".py",
      "mimetype": "text/x-python",
      "name": "python",
      "nbconvert_exporter": "python",
      "pygments_lexer": "ipython3",
      "version": "3.8.3"
    },
    "colab": {
      "name": "[F조] 리뷰 데이터 크롤링_code1",
      "provenance": [],
      "collapsed_sections": []
    }
  },
  "nbformat": 4,
  "nbformat_minor": 0
}