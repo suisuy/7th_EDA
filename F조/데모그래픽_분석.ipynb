{
  "cells": [
    {
      "cell_type": "code",
      "execution_count": null,
      "metadata": {
        "id": "W23zTB__Yluc"
      },
      "outputs": [],
      "source": [
        "import numpy as np\n",
        "import pandas as pd\n",
        "import matplotlib.pyplot as plt\n",
        "import seaborn as sns\n",
        "import matplotlib as mpl"
      ]
    },
    {
      "cell_type": "code",
      "execution_count": null,
      "metadata": {
        "id": "e-ufh5a5Yluj"
      },
      "outputs": [],
      "source": [
        "import matplotlib.patches as mpatches #범례 그리기 위한 라이브러리"
      ]
    },
    {
      "cell_type": "code",
      "execution_count": null,
      "metadata": {
        "id": "K1q5HDj7Yluk",
        "outputId": "b08ee059-f2a1-4297-ff14-1cce34c6477c"
      },
      "outputs": [
        {
          "name": "stdout",
          "output_type": "stream",
          "text": [
            "NanumBarunGothic\n"
          ]
        }
      ],
      "source": [
        "import matplotlib.font_manager as fm\n",
        "path = 'C:\\\\Users\\\\lsj32\\\\AppData\\\\Local\\\\Microsoft\\\\Windows\\\\Fonts\\\\NanumBarunGothic.ttf'  # 설치된 나눔글꼴중 원하는 녀석의 전체 경로를 가져오자\n",
        "font_name = fm.FontProperties(fname=path, size=10).get_name()\n",
        "print(font_name)\n",
        "plt.rc('font', family=font_name)"
      ]
    },
    {
      "cell_type": "markdown",
      "metadata": {
        "id": "fx9haYHcYlum"
      },
      "source": [
        "슬립사이클 데모그래픽 그래프"
      ]
    },
    {
      "cell_type": "code",
      "execution_count": null,
      "metadata": {
        "id": "OsIhs9CuYluo"
      },
      "outputs": [],
      "source": [
        "demo_users = pd.read_csv('슬립사이클/슬립사이클_데모그래픽_사용자구성.csv',index_col=0)"
      ]
    },
    {
      "cell_type": "code",
      "execution_count": null,
      "metadata": {
        "id": "yTzi1_5cYluq",
        "outputId": "bb032264-9f7c-437e-fe9d-6f17dedf146e"
      },
      "outputs": [
        {
          "data": {
            "text/html": [
              "<div>\n",
              "<style scoped>\n",
              "    .dataframe tbody tr th:only-of-type {\n",
              "        vertical-align: middle;\n",
              "    }\n",
              "\n",
              "    .dataframe tbody tr th {\n",
              "        vertical-align: top;\n",
              "    }\n",
              "\n",
              "    .dataframe thead th {\n",
              "        text-align: right;\n",
              "    }\n",
              "</style>\n",
              "<table border=\"1\" class=\"dataframe\">\n",
              "  <thead>\n",
              "    <tr style=\"text-align: right;\">\n",
              "      <th></th>\n",
              "      <th>Start</th>\n",
              "      <th>End</th>\n",
              "      <th>Age</th>\n",
              "      <th>Male</th>\n",
              "      <th>Female</th>\n",
              "    </tr>\n",
              "  </thead>\n",
              "  <tbody>\n",
              "    <tr>\n",
              "      <th>0</th>\n",
              "      <td>2021-10-23</td>\n",
              "      <td>2022-01-22</td>\n",
              "      <td>전체</td>\n",
              "      <td>39.16 %</td>\n",
              "      <td>60.84 %</td>\n",
              "    </tr>\n",
              "    <tr>\n",
              "      <th>1</th>\n",
              "      <td>2021-10-23</td>\n",
              "      <td>2022-01-22</td>\n",
              "      <td>10대 이하</td>\n",
              "      <td>3.54 %</td>\n",
              "      <td>7.99 %</td>\n",
              "    </tr>\n",
              "    <tr>\n",
              "      <th>2</th>\n",
              "      <td>2021-10-23</td>\n",
              "      <td>2022-01-22</td>\n",
              "      <td>20대</td>\n",
              "      <td>19.74 %</td>\n",
              "      <td>28.51 %</td>\n",
              "    </tr>\n",
              "    <tr>\n",
              "      <th>3</th>\n",
              "      <td>2021-10-23</td>\n",
              "      <td>2022-01-22</td>\n",
              "      <td>30대</td>\n",
              "      <td>7.95 %</td>\n",
              "      <td>10.47 %</td>\n",
              "    </tr>\n",
              "    <tr>\n",
              "      <th>4</th>\n",
              "      <td>2021-10-23</td>\n",
              "      <td>2022-01-22</td>\n",
              "      <td>40대</td>\n",
              "      <td>4.68 %</td>\n",
              "      <td>7.42 %</td>\n",
              "    </tr>\n",
              "    <tr>\n",
              "      <th>5</th>\n",
              "      <td>2021-10-23</td>\n",
              "      <td>2022-01-22</td>\n",
              "      <td>50대</td>\n",
              "      <td>2.87 %</td>\n",
              "      <td>5.18 %</td>\n",
              "    </tr>\n",
              "    <tr>\n",
              "      <th>6</th>\n",
              "      <td>2021-10-23</td>\n",
              "      <td>2022-01-22</td>\n",
              "      <td>60대 이상</td>\n",
              "      <td>0.37 %</td>\n",
              "      <td>1.26 %</td>\n",
              "    </tr>\n",
              "  </tbody>\n",
              "</table>\n",
              "</div>"
            ],
            "text/plain": [
              "        Start         End     Age     Male   Female\n",
              "0  2021-10-23  2022-01-22      전체  39.16 %  60.84 %\n",
              "1  2021-10-23  2022-01-22  10대 이하   3.54 %   7.99 %\n",
              "2  2021-10-23  2022-01-22     20대  19.74 %  28.51 %\n",
              "3  2021-10-23  2022-01-22     30대   7.95 %  10.47 %\n",
              "4  2021-10-23  2022-01-22     40대   4.68 %   7.42 %\n",
              "5  2021-10-23  2022-01-22     50대   2.87 %   5.18 %\n",
              "6  2021-10-23  2022-01-22  60대 이상   0.37 %   1.26 %"
            ]
          },
          "execution_count": 5,
          "metadata": {},
          "output_type": "execute_result"
        }
      ],
      "source": [
        "demo_users"
      ]
    },
    {
      "cell_type": "code",
      "execution_count": null,
      "metadata": {
        "id": "PG3ooBB2Ylus",
        "outputId": "53b1b335-db44-424b-989c-5ea4495323dc"
      },
      "outputs": [
        {
          "name": "stdout",
          "output_type": "stream",
          "text": [
            "<class 'pandas.core.frame.DataFrame'>\n",
            "Int64Index: 7 entries, 0 to 6\n",
            "Data columns (total 5 columns):\n",
            " #   Column  Non-Null Count  Dtype \n",
            "---  ------  --------------  ----- \n",
            " 0   Start   7 non-null      object\n",
            " 1   End     7 non-null      object\n",
            " 2   Age     7 non-null      object\n",
            " 3   Male    7 non-null      object\n",
            " 4   Female  7 non-null      object\n",
            "dtypes: object(5)\n",
            "memory usage: 336.0+ bytes\n"
          ]
        }
      ],
      "source": [
        "demo_users.info()"
      ]
    },
    {
      "cell_type": "code",
      "execution_count": null,
      "metadata": {
        "id": "aQI948KjYluv",
        "outputId": "e85146fc-4e31-4d7a-e34c-7abebcc8ebff"
      },
      "outputs": [
        {
          "name": "stdout",
          "output_type": "stream",
          "text": [
            "        Start         End     Age     Male   Female\n",
            "0  2021-10-23  2022-01-22      전체  39.16 %  60.84 %\n",
            "1  2021-10-23  2022-01-22  10대 이하   3.54 %   7.99 %\n",
            "2  2021-10-23  2022-01-22     20대  19.74 %  28.51 %\n",
            "3  2021-10-23  2022-01-22     30대   7.95 %  10.47 %\n",
            "4  2021-10-23  2022-01-22     40대   4.68 %   7.42 %\n",
            "5  2021-10-23  2022-01-22     50대   2.87 %   5.18 %\n",
            "6  2021-10-23  2022-01-22  60대 이상   0.37 %   1.26 %\n",
            "<class 'pandas.core.frame.DataFrame'>\n",
            "Int64Index: 7 entries, 0 to 6\n",
            "Data columns (total 5 columns):\n",
            " #   Column  Non-Null Count  Dtype \n",
            "---  ------  --------------  ----- \n",
            " 0   Start   7 non-null      object\n",
            " 1   End     7 non-null      object\n",
            " 2   Age     7 non-null      object\n",
            " 3   Male    7 non-null      object\n",
            " 4   Female  7 non-null      object\n",
            "dtypes: object(5)\n",
            "memory usage: 336.0+ bytes\n",
            "       Age variable   value\n",
            "0       전체     Male  39.16 \n",
            "1   10대 이하     Male   3.54 \n",
            "2      20대     Male  19.74 \n",
            "3      30대     Male   7.95 \n",
            "4      40대     Male   4.68 \n",
            "5      50대     Male   2.87 \n",
            "6   60대 이상     Male   0.37 \n",
            "7       전체   Female  60.84 \n",
            "8   10대 이하   Female   7.99 \n",
            "9      20대   Female  28.51 \n",
            "10     30대   Female  10.47 \n",
            "11     40대   Female   7.42 \n",
            "12     50대   Female   5.18 \n",
            "13  60대 이상   Female   1.26 \n"
          ]
        }
      ],
      "source": [
        "print(demo_users)\n",
        "demo_users.info()\n",
        "del demo_users['Start']\n",
        "del demo_users['End']\n",
        "demo_users[\"Male\"] = demo_users[\"Male\"].str.replace(pat=r'[%]', repl=r'', regex=True)\n",
        "demo_users[\"Female\"] = demo_users[\"Female\"].str.replace(pat=r'[%]', repl=r'', regex=True)\n",
        "demo_users[\"Male\"].astype('float64')\n",
        "demo_users[\"Female\"].astype('float64')\n",
        "demo_anl = pd.melt(demo_users, id_vars=['Age'], value_vars = [\"Male\",\"Female\"])\n",
        "print(demo_anl)"
      ]
    },
    {
      "cell_type": "code",
      "execution_count": null,
      "metadata": {
        "id": "88wf1Yv4Ylux",
        "outputId": "f913e029-9fd3-4265-aa79-2c8656930783"
      },
      "outputs": [
        {
          "data": {
            "text/html": [
              "<div>\n",
              "<style scoped>\n",
              "    .dataframe tbody tr th:only-of-type {\n",
              "        vertical-align: middle;\n",
              "    }\n",
              "\n",
              "    .dataframe tbody tr th {\n",
              "        vertical-align: top;\n",
              "    }\n",
              "\n",
              "    .dataframe thead th {\n",
              "        text-align: right;\n",
              "    }\n",
              "</style>\n",
              "<table border=\"1\" class=\"dataframe\">\n",
              "  <thead>\n",
              "    <tr style=\"text-align: right;\">\n",
              "      <th></th>\n",
              "      <th>Age</th>\n",
              "      <th>variable</th>\n",
              "      <th>value</th>\n",
              "    </tr>\n",
              "  </thead>\n",
              "  <tbody>\n",
              "    <tr>\n",
              "      <th>0</th>\n",
              "      <td>전체</td>\n",
              "      <td>Male</td>\n",
              "      <td>39.16</td>\n",
              "    </tr>\n",
              "    <tr>\n",
              "      <th>1</th>\n",
              "      <td>10대 이하</td>\n",
              "      <td>Male</td>\n",
              "      <td>3.54</td>\n",
              "    </tr>\n",
              "    <tr>\n",
              "      <th>2</th>\n",
              "      <td>20대</td>\n",
              "      <td>Male</td>\n",
              "      <td>19.74</td>\n",
              "    </tr>\n",
              "    <tr>\n",
              "      <th>3</th>\n",
              "      <td>30대</td>\n",
              "      <td>Male</td>\n",
              "      <td>7.95</td>\n",
              "    </tr>\n",
              "    <tr>\n",
              "      <th>4</th>\n",
              "      <td>40대</td>\n",
              "      <td>Male</td>\n",
              "      <td>4.68</td>\n",
              "    </tr>\n",
              "    <tr>\n",
              "      <th>5</th>\n",
              "      <td>50대</td>\n",
              "      <td>Male</td>\n",
              "      <td>2.87</td>\n",
              "    </tr>\n",
              "    <tr>\n",
              "      <th>6</th>\n",
              "      <td>60대 이상</td>\n",
              "      <td>Male</td>\n",
              "      <td>0.37</td>\n",
              "    </tr>\n",
              "    <tr>\n",
              "      <th>7</th>\n",
              "      <td>전체</td>\n",
              "      <td>Female</td>\n",
              "      <td>60.84</td>\n",
              "    </tr>\n",
              "    <tr>\n",
              "      <th>8</th>\n",
              "      <td>10대 이하</td>\n",
              "      <td>Female</td>\n",
              "      <td>7.99</td>\n",
              "    </tr>\n",
              "    <tr>\n",
              "      <th>9</th>\n",
              "      <td>20대</td>\n",
              "      <td>Female</td>\n",
              "      <td>28.51</td>\n",
              "    </tr>\n",
              "    <tr>\n",
              "      <th>10</th>\n",
              "      <td>30대</td>\n",
              "      <td>Female</td>\n",
              "      <td>10.47</td>\n",
              "    </tr>\n",
              "    <tr>\n",
              "      <th>11</th>\n",
              "      <td>40대</td>\n",
              "      <td>Female</td>\n",
              "      <td>7.42</td>\n",
              "    </tr>\n",
              "    <tr>\n",
              "      <th>12</th>\n",
              "      <td>50대</td>\n",
              "      <td>Female</td>\n",
              "      <td>5.18</td>\n",
              "    </tr>\n",
              "    <tr>\n",
              "      <th>13</th>\n",
              "      <td>60대 이상</td>\n",
              "      <td>Female</td>\n",
              "      <td>1.26</td>\n",
              "    </tr>\n",
              "  </tbody>\n",
              "</table>\n",
              "</div>"
            ],
            "text/plain": [
              "       Age variable   value\n",
              "0       전체     Male  39.16 \n",
              "1   10대 이하     Male   3.54 \n",
              "2      20대     Male  19.74 \n",
              "3      30대     Male   7.95 \n",
              "4      40대     Male   4.68 \n",
              "5      50대     Male   2.87 \n",
              "6   60대 이상     Male   0.37 \n",
              "7       전체   Female  60.84 \n",
              "8   10대 이하   Female   7.99 \n",
              "9      20대   Female  28.51 \n",
              "10     30대   Female  10.47 \n",
              "11     40대   Female   7.42 \n",
              "12     50대   Female   5.18 \n",
              "13  60대 이상   Female   1.26 "
            ]
          },
          "execution_count": 8,
          "metadata": {},
          "output_type": "execute_result"
        }
      ],
      "source": [
        "demo_anl = pd.melt(demo_users, id_vars=['Age'], value_vars = [\"Male\",\"Female\"])\n",
        "demo_anl"
      ]
    },
    {
      "cell_type": "code",
      "execution_count": null,
      "metadata": {
        "id": "rTQHfXzsYluy",
        "outputId": "519baee4-7431-481c-c289-500140b5f9f6"
      },
      "outputs": [
        {
          "data": {
            "text/html": [
              "<div>\n",
              "<style scoped>\n",
              "    .dataframe tbody tr th:only-of-type {\n",
              "        vertical-align: middle;\n",
              "    }\n",
              "\n",
              "    .dataframe tbody tr th {\n",
              "        vertical-align: top;\n",
              "    }\n",
              "\n",
              "    .dataframe thead th {\n",
              "        text-align: right;\n",
              "    }\n",
              "</style>\n",
              "<table border=\"1\" class=\"dataframe\">\n",
              "  <thead>\n",
              "    <tr style=\"text-align: right;\">\n",
              "      <th>variable</th>\n",
              "      <th>Male</th>\n",
              "      <th>Female</th>\n",
              "    </tr>\n",
              "    <tr>\n",
              "      <th>Age</th>\n",
              "      <th></th>\n",
              "      <th></th>\n",
              "    </tr>\n",
              "  </thead>\n",
              "  <tbody>\n",
              "    <tr>\n",
              "      <th>10대 이하</th>\n",
              "      <td>3.54</td>\n",
              "      <td>7.99</td>\n",
              "    </tr>\n",
              "    <tr>\n",
              "      <th>20대</th>\n",
              "      <td>19.74</td>\n",
              "      <td>28.51</td>\n",
              "    </tr>\n",
              "    <tr>\n",
              "      <th>30대</th>\n",
              "      <td>7.95</td>\n",
              "      <td>10.47</td>\n",
              "    </tr>\n",
              "    <tr>\n",
              "      <th>40대</th>\n",
              "      <td>4.68</td>\n",
              "      <td>7.42</td>\n",
              "    </tr>\n",
              "    <tr>\n",
              "      <th>50대</th>\n",
              "      <td>2.87</td>\n",
              "      <td>5.18</td>\n",
              "    </tr>\n",
              "    <tr>\n",
              "      <th>60대 이상</th>\n",
              "      <td>0.37</td>\n",
              "      <td>1.26</td>\n",
              "    </tr>\n",
              "  </tbody>\n",
              "</table>\n",
              "</div>"
            ],
            "text/plain": [
              "variable    Male  Female\n",
              "Age                     \n",
              "10대 이하     3.54    7.99 \n",
              "20대       19.74   28.51 \n",
              "30대        7.95   10.47 \n",
              "40대        4.68    7.42 \n",
              "50대        2.87    5.18 \n",
              "60대 이상     0.37    1.26 "
            ]
          },
          "execution_count": 9,
          "metadata": {},
          "output_type": "execute_result"
        }
      ],
      "source": [
        "pivot = demo_anl[demo_anl['Age']!='전체'].pivot(index='Age', columns = 'variable', values='value')\n",
        "pivot = pivot[['Male','Female']].copy()\n",
        "pivot"
      ]
    },
    {
      "cell_type": "code",
      "execution_count": null,
      "metadata": {
        "id": "iZ5hc8qUYluz",
        "outputId": "38d463fc-d51a-4a86-ce90-da9697bc65d7"
      },
      "outputs": [
        {
          "data": {
            "text/plain": [
              "'C:\\\\Users\\\\lsj32\\\\.matplotlib'"
            ]
          },
          "execution_count": 12,
          "metadata": {},
          "output_type": "execute_result"
        }
      ],
      "source": [
        "mpl.get_cachedir()"
      ]
    },
    {
      "cell_type": "code",
      "execution_count": null,
      "metadata": {
        "id": "OgTccgDOYlu0",
        "outputId": "ae40a342-1e49-48bc-842e-97d64b33dccc"
      },
      "outputs": [
        {
          "data": {
            "text/html": [
              "<div>\n",
              "<style scoped>\n",
              "    .dataframe tbody tr th:only-of-type {\n",
              "        vertical-align: middle;\n",
              "    }\n",
              "\n",
              "    .dataframe tbody tr th {\n",
              "        vertical-align: top;\n",
              "    }\n",
              "\n",
              "    .dataframe thead th {\n",
              "        text-align: right;\n",
              "    }\n",
              "</style>\n",
              "<table border=\"1\" class=\"dataframe\">\n",
              "  <thead>\n",
              "    <tr style=\"text-align: right;\">\n",
              "      <th></th>\n",
              "      <th>Age</th>\n",
              "      <th>Male</th>\n",
              "      <th>Female</th>\n",
              "    </tr>\n",
              "  </thead>\n",
              "  <tbody>\n",
              "    <tr>\n",
              "      <th>0</th>\n",
              "      <td>전체</td>\n",
              "      <td>39.16</td>\n",
              "      <td>60.84</td>\n",
              "    </tr>\n",
              "    <tr>\n",
              "      <th>1</th>\n",
              "      <td>10대 이하</td>\n",
              "      <td>3.54</td>\n",
              "      <td>7.99</td>\n",
              "    </tr>\n",
              "    <tr>\n",
              "      <th>2</th>\n",
              "      <td>20대</td>\n",
              "      <td>19.74</td>\n",
              "      <td>28.51</td>\n",
              "    </tr>\n",
              "    <tr>\n",
              "      <th>3</th>\n",
              "      <td>30대</td>\n",
              "      <td>7.95</td>\n",
              "      <td>10.47</td>\n",
              "    </tr>\n",
              "    <tr>\n",
              "      <th>4</th>\n",
              "      <td>40대</td>\n",
              "      <td>4.68</td>\n",
              "      <td>7.42</td>\n",
              "    </tr>\n",
              "    <tr>\n",
              "      <th>5</th>\n",
              "      <td>50대</td>\n",
              "      <td>2.87</td>\n",
              "      <td>5.18</td>\n",
              "    </tr>\n",
              "    <tr>\n",
              "      <th>6</th>\n",
              "      <td>60대 이상</td>\n",
              "      <td>0.37</td>\n",
              "      <td>1.26</td>\n",
              "    </tr>\n",
              "  </tbody>\n",
              "</table>\n",
              "</div>"
            ],
            "text/plain": [
              "      Age    Male  Female\n",
              "0      전체  39.16   60.84 \n",
              "1  10대 이하   3.54    7.99 \n",
              "2     20대  19.74   28.51 \n",
              "3     30대   7.95   10.47 \n",
              "4     40대   4.68    7.42 \n",
              "5     50대   2.87    5.18 \n",
              "6  60대 이상   0.37    1.26 "
            ]
          },
          "execution_count": 10,
          "metadata": {},
          "output_type": "execute_result"
        }
      ],
      "source": [
        "demo_users"
      ]
    },
    {
      "cell_type": "code",
      "execution_count": null,
      "metadata": {
        "scrolled": true,
        "id": "tlQuSqBVYlu1",
        "outputId": "ffe84e0a-2a01-4875-94d8-dd086c6224fb"
      },
      "outputs": [
        {
          "name": "stderr",
          "output_type": "stream",
          "text": [
            "<ipython-input-10-0eb11645a00c>:3: SettingWithCopyWarning: \n",
            "A value is trying to be set on a copy of a slice from a DataFrame\n",
            "\n",
            "See the caveats in the documentation: https://pandas.pydata.org/pandas-docs/stable/user_guide/indexing.html#returning-a-view-versus-a-copy\n",
            "  demo_users['All'][i] = float(demo_users['Male'][i]) + float(demo_users['Female'][i])\n"
          ]
        }
      ],
      "source": [
        "demo_users['All'] = np.nan\n",
        "for i in range(len(demo_users)):\n",
        "    demo_users['All'][i] = float(demo_users['Male'][i]) + float(demo_users['Female'][i])"
      ]
    },
    {
      "cell_type": "code",
      "execution_count": null,
      "metadata": {
        "id": "qAvqxfJcYlu1",
        "outputId": "0e10eeec-e6f8-4e8b-dffa-d33908b4f267"
      },
      "outputs": [
        {
          "data": {
            "text/plain": [
              "0    100.00\n",
              "1     11.53\n",
              "2     48.25\n",
              "3     18.42\n",
              "4     12.10\n",
              "5      8.05\n",
              "6      1.63\n",
              "Name: All, dtype: float64"
            ]
          },
          "execution_count": 12,
          "metadata": {},
          "output_type": "execute_result"
        }
      ],
      "source": [
        "demo_users['All']"
      ]
    },
    {
      "cell_type": "code",
      "execution_count": null,
      "metadata": {
        "id": "n45kiGOtYlu2",
        "outputId": "c71f6781-b58b-48c2-ee22-b885bec7a072"
      },
      "outputs": [
        {
          "name": "stderr",
          "output_type": "stream",
          "text": [
            "<ipython-input-66-74a98d1aa4fd>:10: MatplotlibDeprecationWarning: The 'b' parameter of grid() has been renamed 'visible' since Matplotlib 3.5; support for the old name will be dropped two minor releases later.\n",
            "  plt.grid(b=False) #grid 아예 없앤거!\n"
          ]
        },
        {
          "data": {
            "image/png": "[encoded data removed]",
            "text/plain": [
              "<Figure size 1008x720 with 1 Axes>"
            ]
          },
          "metadata": {},
          "output_type": "display_data"
        }
      ],
      "source": [
        "plt.figure(figsize=(14,10))\n",
        "colors = sns.light_palette(\"#5851FF\", reverse=True) #color팔레트 구성해주기\n",
        "\n",
        "s1 = sns.barplot(data = demo_users[demo_users['Age']!='전체'], x = 'Age', y = 'All',color='#8984FF')\n",
        "s2 = sns.barplot(data = demo_users[demo_users['Age']!='전체'], x = 'Age', y = 'Male',color='#4038FF')\n",
        "\n",
        "plt.rc('figure', facecolor = '#242424')#그래프 밖 테마색\n",
        "ax = plt.gca()\n",
        "ax.set_facecolor('#242424')#그래프 배경색\n",
        "plt.grid(b=False) #grid 아예 없앤거!\n",
        "\n",
        "ax.spines['right'].set_visible(False) #오른쪽 테두리 제거\n",
        "ax.spines['top'].set_visible(False) #위 테두리 제거\n",
        "ax.spines['left'].set_visible(False) #왼쪽 테두리 제거\n",
        "\n",
        "plt.ylim([0,100])\n",
        "plt.title('사용자 구성 비율',fontsize = 25, color = 'white')\n",
        "ax.tick_params(axis='y', colors='white') #y축 변수들 흰색\n",
        "ax.tick_params(axis='x', colors='white') #y축 변수들 흰색\n",
        "\n",
        "variable_x = mpatches.Patch(color='#8984FF',label='여성')\n",
        "variable_y = mpatches.Patch(color='#4038FF',label='남성')\n",
        "\n",
        "leg = plt.legend(handles=[variable_x, variable_y],facecolor='#242424',edgecolor='#242424',\n",
        "                 fontsize = 15,labelcolor='white')\n",
        "\n",
        "plt.xlabel('연령',color='white') #x축단어설정, 흰색\n",
        "plt.ylabel('',color='white') #x축단어설정, 흰색\n",
        "\n",
        "#for i, le in enumerate(leg.get_texts()): ## 범례 텍스트 클래스를 하나씩 돌면서 색을 설정한다.\n",
        "    #le.set_color('white') ## 선 그래프의 색상을 가져온다.\n",
        "\n",
        "plt.show()"
      ]
    },
    {
      "cell_type": "code",
      "execution_count": null,
      "metadata": {
        "id": "uYflXUtXYlu3"
      },
      "outputs": [],
      "source": [
        ""
      ]
    },
    {
      "cell_type": "code",
      "execution_count": null,
      "metadata": {
        "scrolled": true,
        "id": "8lwJECv1Ylu3",
        "outputId": "af71baf9-7342-48d6-fa8a-1099e98d4771"
      },
      "outputs": [
        {
          "data": {
            "image/png": "[encoded data removed]",
            "text/plain": [
              "<Figure size 1008x720 with 1 Axes>"
            ]
          },
          "metadata": {},
          "output_type": "display_data"
        }
      ],
      "source": [
        "plt.figure(figsize=(14,10))\n",
        "patches, texts, autotexts = plt.pie([demo_users[\"Male\"][0],demo_users[\"Female\"][0]],\n",
        "       labels=['Male','Female'],autopct='%.2f%%',\n",
        "       startangle=90,explode=[0,0.03],\n",
        "       wedgeprops={'width': 0.7, 'edgecolor': 'black', 'linewidth': 3},\n",
        "       colors = ['#4038FF','#8984FF'])\n",
        "\n",
        "for t in texts:\n",
        "    t.set_color(\"white\")\n",
        "    t.set_fontsize(15)\n",
        "\n",
        "for t in autotexts:\n",
        "    t.set_color(\"white\")\n",
        "    t.set_fontsize(15)\n",
        "    \n",
        "plt.title(\"사용자 구성 성별 비율\",fontsize = 25, color = 'white' )\n",
        "\n",
        "plt.show()"
      ]
    },
    {
      "cell_type": "code",
      "execution_count": null,
      "metadata": {
        "id": "z7r0aBNQYlu4"
      },
      "outputs": [],
      "source": [
        "demo_time = pd.read_csv('슬립사이클/슬립사이클_데모그래픽_사용시간구성.csv',index_col=0)\n"
      ]
    },
    {
      "cell_type": "code",
      "execution_count": null,
      "metadata": {
        "id": "gECH6A0xYlu5",
        "outputId": "2df972fc-630a-432c-b4a0-4961056ac707"
      },
      "outputs": [
        {
          "name": "stdout",
          "output_type": "stream",
          "text": [
            "        Start         End     Age     Male   Female\n",
            "0  2021-10-23  2022-01-22      전체  44.84 %  51.14 %\n",
            "1  2021-10-23  2022-01-22  10대 이하   4.02 %   8.09 %\n",
            "2  2021-10-23  2022-01-22     20대  30.15 %  23.76 %\n",
            "3  2021-10-23  2022-01-22     30대   8.77 %   7.70 %\n",
            "4  2021-10-23  2022-01-22     40대   3.75 %   5.30 %\n",
            "5  2021-10-23  2022-01-22     50대   1.91 %   5.55 %\n",
            "6  2021-10-23  2022-01-22  60대 이상   0.26 %   0.74 %\n",
            "<class 'pandas.core.frame.DataFrame'>\n",
            "Int64Index: 7 entries, 0 to 6\n",
            "Data columns (total 5 columns):\n",
            " #   Column  Non-Null Count  Dtype \n",
            "---  ------  --------------  ----- \n",
            " 0   Start   7 non-null      object\n",
            " 1   End     7 non-null      object\n",
            " 2   Age     7 non-null      object\n",
            " 3   Male    7 non-null      object\n",
            " 4   Female  7 non-null      object\n",
            "dtypes: object(5)\n",
            "memory usage: 336.0+ bytes\n"
          ]
        },
        {
          "data": {
            "text/plain": [
              "0    51.14\n",
              "1     8.09\n",
              "2    23.76\n",
              "3     7.70\n",
              "4     5.30\n",
              "5     5.55\n",
              "6     0.74\n",
              "Name: Female, dtype: float64"
            ]
          },
          "execution_count": 39,
          "metadata": {},
          "output_type": "execute_result"
        }
      ],
      "source": [
        "print(demo_time)\n",
        "demo_time.info()\n",
        "\n",
        "demo_time[\"Male\"] = demo_time[\"Male\"].str.replace(pat=r'[%]', repl=r'', regex=True)\n",
        "demo_time[\"Female\"] = demo_time[\"Female\"].str.replace(pat=r'[%]', repl=r'', regex=True)\n",
        "del demo_time['Start']\n",
        "del demo_time['End']\n",
        "demo_time[\"Male\"].astype('float64')\n",
        "demo_time[\"Female\"].astype('float64')"
      ]
    },
    {
      "cell_type": "code",
      "execution_count": null,
      "metadata": {
        "id": "TQxmQsreYlu5",
        "outputId": "6402e930-3d15-42fe-e07e-5003a0f77d28"
      },
      "outputs": [
        {
          "name": "stdout",
          "output_type": "stream",
          "text": [
            "       Age variable   value\n",
            "0       전체     Male  44.84 \n",
            "1   10대 이하     Male   4.02 \n",
            "2      20대     Male  30.15 \n",
            "3      30대     Male   8.77 \n",
            "4      40대     Male   3.75 \n",
            "5      50대     Male   1.91 \n",
            "6   60대 이상     Male   0.26 \n",
            "7       전체   Female  51.14 \n",
            "8   10대 이하   Female   8.09 \n",
            "9      20대   Female  23.76 \n",
            "10     30대   Female   7.70 \n",
            "11     40대   Female   5.30 \n",
            "12     50대   Female   5.55 \n",
            "13  60대 이상   Female   0.74 \n"
          ]
        }
      ],
      "source": [
        "time_anl = pd.melt(demo_time, id_vars=['Age'], value_vars = [\"Male\",\"Female\"])\n",
        "print(time_anl)"
      ]
    },
    {
      "cell_type": "code",
      "execution_count": null,
      "metadata": {
        "scrolled": false,
        "id": "7hf0097fYlu6",
        "outputId": "81ab45ed-12d6-4fc2-b3af-6702e8e87b1c"
      },
      "outputs": [
        {
          "name": "stderr",
          "output_type": "stream",
          "text": [
            "<ipython-input-65-cd177cc1ed08>:12: MatplotlibDeprecationWarning: The 'b' parameter of grid() has been renamed 'visible' since Matplotlib 3.5; support for the old name will be dropped two minor releases later.\n",
            "  plt.grid(b=False) #grid 아예 없앤거!\n"
          ]
        },
        {
          "data": {
            "image/png": "[encoded data removed]",
            "text/plain": [
              "<Figure size 1152x576 with 1 Axes>"
            ]
          },
          "metadata": {},
          "output_type": "display_data"
        }
      ],
      "source": [
        "plt.figure(figsize=(16,8))\n",
        "colors = sns.light_palette(\"#5851FF\", reverse=True) #color팔레트 구성해주기\n",
        "\n",
        "\n",
        "sns.barplot(data = time_anl[time_anl['Age']!='전체'], x='Age',y='value',hue='variable',\n",
        "           palette = ['#4038FF','#8984FF'])\n",
        "plt.ylim([0,100])\n",
        "\n",
        "plt.rc('figure', facecolor = '#242424')#그래프 밖 테마색\n",
        "ax = plt.gca()\n",
        "ax.set_facecolor('#242424')#그래프 배경색\n",
        "plt.grid(b=False) #grid 아예 없앤거!\n",
        "ax.spines['right'].set_visible(False) #오른쪽 테두리 제거\n",
        "ax.spines['top'].set_visible(False) #위 테두리 제거\n",
        "ax.spines['left'].set_visible(False) #왼쪽 테두리 제거\n",
        "\n",
        "\n",
        "plt.legend(facecolor='#242424',edgecolor='#242424',\n",
        "                 fontsize = 13,labelcolor='white')\n",
        "\n",
        "\n",
        "ax.tick_params(axis='y', colors='white') #y축 변수들 흰색\n",
        "ax.tick_params(axis='x', colors='white') #y축 변수들 흰색\n",
        "\n",
        "plt.xlabel('연령',color='white') #x축단어설정, 흰색\n",
        "plt.ylabel('',color='white') #x축단어설정, 흰색\n",
        "\n",
        "\n",
        "plt.title('성별, 연령별 사용시간 비율',fontsize = 20, color = 'white')\n",
        "\n",
        "plt.show()"
      ]
    },
    {
      "cell_type": "code",
      "execution_count": null,
      "metadata": {
        "scrolled": true,
        "id": "uAxVEsTAYlu6",
        "outputId": "25b074ba-27e2-4974-ec40-3a34368ae9b0"
      },
      "outputs": [
        {
          "data": {
            "text/html": [
              "<div>\n",
              "<style scoped>\n",
              "    .dataframe tbody tr th:only-of-type {\n",
              "        vertical-align: middle;\n",
              "    }\n",
              "\n",
              "    .dataframe tbody tr th {\n",
              "        vertical-align: top;\n",
              "    }\n",
              "\n",
              "    .dataframe thead th {\n",
              "        text-align: right;\n",
              "    }\n",
              "</style>\n",
              "<table border=\"1\" class=\"dataframe\">\n",
              "  <thead>\n",
              "    <tr style=\"text-align: right;\">\n",
              "      <th></th>\n",
              "      <th>Age</th>\n",
              "      <th>Male</th>\n",
              "      <th>Female</th>\n",
              "      <th>All</th>\n",
              "    </tr>\n",
              "  </thead>\n",
              "  <tbody>\n",
              "    <tr>\n",
              "      <th>0</th>\n",
              "      <td>전체</td>\n",
              "      <td>39.16</td>\n",
              "      <td>60.84</td>\n",
              "      <td>100.00</td>\n",
              "    </tr>\n",
              "    <tr>\n",
              "      <th>1</th>\n",
              "      <td>10대 이하</td>\n",
              "      <td>3.54</td>\n",
              "      <td>7.99</td>\n",
              "      <td>11.53</td>\n",
              "    </tr>\n",
              "    <tr>\n",
              "      <th>2</th>\n",
              "      <td>20대</td>\n",
              "      <td>19.74</td>\n",
              "      <td>28.51</td>\n",
              "      <td>48.25</td>\n",
              "    </tr>\n",
              "    <tr>\n",
              "      <th>3</th>\n",
              "      <td>30대</td>\n",
              "      <td>7.95</td>\n",
              "      <td>10.47</td>\n",
              "      <td>18.42</td>\n",
              "    </tr>\n",
              "    <tr>\n",
              "      <th>4</th>\n",
              "      <td>40대</td>\n",
              "      <td>4.68</td>\n",
              "      <td>7.42</td>\n",
              "      <td>12.10</td>\n",
              "    </tr>\n",
              "    <tr>\n",
              "      <th>5</th>\n",
              "      <td>50대</td>\n",
              "      <td>2.87</td>\n",
              "      <td>5.18</td>\n",
              "      <td>8.05</td>\n",
              "    </tr>\n",
              "    <tr>\n",
              "      <th>6</th>\n",
              "      <td>60대 이상</td>\n",
              "      <td>0.37</td>\n",
              "      <td>1.26</td>\n",
              "      <td>1.63</td>\n",
              "    </tr>\n",
              "  </tbody>\n",
              "</table>\n",
              "</div>"
            ],
            "text/plain": [
              "      Age    Male  Female     All\n",
              "0      전체  39.16   60.84   100.00\n",
              "1  10대 이하   3.54    7.99    11.53\n",
              "2     20대  19.74   28.51    48.25\n",
              "3     30대   7.95   10.47    18.42\n",
              "4     40대   4.68    7.42    12.10\n",
              "5     50대   2.87    5.18     8.05\n",
              "6  60대 이상   0.37    1.26     1.63"
            ]
          },
          "execution_count": 19,
          "metadata": {},
          "output_type": "execute_result"
        }
      ],
      "source": [
        "demo_users"
      ]
    },
    {
      "cell_type": "code",
      "execution_count": null,
      "metadata": {
        "id": "GxDFXkdyYlu7",
        "outputId": "df0e9701-85cb-4f3d-aac5-dbbe591c3d1a"
      },
      "outputs": [
        {
          "data": {
            "text/html": [
              "<div>\n",
              "<style scoped>\n",
              "    .dataframe tbody tr th:only-of-type {\n",
              "        vertical-align: middle;\n",
              "    }\n",
              "\n",
              "    .dataframe tbody tr th {\n",
              "        vertical-align: top;\n",
              "    }\n",
              "\n",
              "    .dataframe thead th {\n",
              "        text-align: right;\n",
              "    }\n",
              "</style>\n",
              "<table border=\"1\" class=\"dataframe\">\n",
              "  <thead>\n",
              "    <tr style=\"text-align: right;\">\n",
              "      <th></th>\n",
              "      <th>Age</th>\n",
              "      <th>Male</th>\n",
              "      <th>Female</th>\n",
              "    </tr>\n",
              "  </thead>\n",
              "  <tbody>\n",
              "    <tr>\n",
              "      <th>0</th>\n",
              "      <td>전체</td>\n",
              "      <td>44.84</td>\n",
              "      <td>51.14</td>\n",
              "    </tr>\n",
              "    <tr>\n",
              "      <th>1</th>\n",
              "      <td>10대 이하</td>\n",
              "      <td>4.02</td>\n",
              "      <td>8.09</td>\n",
              "    </tr>\n",
              "    <tr>\n",
              "      <th>2</th>\n",
              "      <td>20대</td>\n",
              "      <td>30.15</td>\n",
              "      <td>23.76</td>\n",
              "    </tr>\n",
              "    <tr>\n",
              "      <th>3</th>\n",
              "      <td>30대</td>\n",
              "      <td>8.77</td>\n",
              "      <td>7.70</td>\n",
              "    </tr>\n",
              "    <tr>\n",
              "      <th>4</th>\n",
              "      <td>40대</td>\n",
              "      <td>3.75</td>\n",
              "      <td>5.30</td>\n",
              "    </tr>\n",
              "    <tr>\n",
              "      <th>5</th>\n",
              "      <td>50대</td>\n",
              "      <td>1.91</td>\n",
              "      <td>5.55</td>\n",
              "    </tr>\n",
              "    <tr>\n",
              "      <th>6</th>\n",
              "      <td>60대 이상</td>\n",
              "      <td>0.26</td>\n",
              "      <td>0.74</td>\n",
              "    </tr>\n",
              "  </tbody>\n",
              "</table>\n",
              "</div>"
            ],
            "text/plain": [
              "      Age    Male  Female\n",
              "0      전체  44.84   51.14 \n",
              "1  10대 이하   4.02    8.09 \n",
              "2     20대  30.15   23.76 \n",
              "3     30대   8.77    7.70 \n",
              "4     40대   3.75    5.30 \n",
              "5     50대   1.91    5.55 \n",
              "6  60대 이상   0.26    0.74 "
            ]
          },
          "execution_count": 20,
          "metadata": {},
          "output_type": "execute_result"
        }
      ],
      "source": [
        "demo_time"
      ]
    },
    {
      "cell_type": "code",
      "execution_count": null,
      "metadata": {
        "id": "jikeSHK0Ylu7"
      },
      "outputs": [],
      "source": [
        "cycle = pd.read_csv('슬립사이클/슬립사이클_기본사용량_사용자_수.csv',index_col=0)"
      ]
    },
    {
      "cell_type": "code",
      "execution_count": null,
      "metadata": {
        "id": "SiRSVAIpYlu8",
        "outputId": "b6870cef-1e76-40cc-bb4f-3a8cb7631c4a"
      },
      "outputs": [
        {
          "data": {
            "text/html": [
              "<div>\n",
              "<style scoped>\n",
              "    .dataframe tbody tr th:only-of-type {\n",
              "        vertical-align: middle;\n",
              "    }\n",
              "\n",
              "    .dataframe tbody tr th {\n",
              "        vertical-align: top;\n",
              "    }\n",
              "\n",
              "    .dataframe thead th {\n",
              "        text-align: right;\n",
              "    }\n",
              "</style>\n",
              "<table border=\"1\" class=\"dataframe\">\n",
              "  <thead>\n",
              "    <tr style=\"text-align: right;\">\n",
              "      <th></th>\n",
              "      <th>date</th>\n",
              "      <th>And</th>\n",
              "    </tr>\n",
              "  </thead>\n",
              "  <tbody>\n",
              "    <tr>\n",
              "      <th>0</th>\n",
              "      <td>2021-10-23</td>\n",
              "      <td>3,586 명</td>\n",
              "    </tr>\n",
              "    <tr>\n",
              "      <th>1</th>\n",
              "      <td>2021-10-24</td>\n",
              "      <td>4,338 명</td>\n",
              "    </tr>\n",
              "    <tr>\n",
              "      <th>2</th>\n",
              "      <td>2021-10-25</td>\n",
              "      <td>4,723 명</td>\n",
              "    </tr>\n",
              "    <tr>\n",
              "      <th>3</th>\n",
              "      <td>2021-10-26</td>\n",
              "      <td>4,771 명</td>\n",
              "    </tr>\n",
              "    <tr>\n",
              "      <th>4</th>\n",
              "      <td>2021-10-27</td>\n",
              "      <td>4,758 명</td>\n",
              "    </tr>\n",
              "    <tr>\n",
              "      <th>...</th>\n",
              "      <td>...</td>\n",
              "      <td>...</td>\n",
              "    </tr>\n",
              "    <tr>\n",
              "      <th>87</th>\n",
              "      <td>2022-01-18</td>\n",
              "      <td>4,566 명</td>\n",
              "    </tr>\n",
              "    <tr>\n",
              "      <th>88</th>\n",
              "      <td>2022-01-19</td>\n",
              "      <td>4,630 명</td>\n",
              "    </tr>\n",
              "    <tr>\n",
              "      <th>89</th>\n",
              "      <td>2022-01-20</td>\n",
              "      <td>4,425 명</td>\n",
              "    </tr>\n",
              "    <tr>\n",
              "      <th>90</th>\n",
              "      <td>2022-01-21</td>\n",
              "      <td>4,334 명</td>\n",
              "    </tr>\n",
              "    <tr>\n",
              "      <th>91</th>\n",
              "      <td>2022-01-22</td>\n",
              "      <td>3,321 명</td>\n",
              "    </tr>\n",
              "  </tbody>\n",
              "</table>\n",
              "<p>92 rows × 2 columns</p>\n",
              "</div>"
            ],
            "text/plain": [
              "          date      And\n",
              "0   2021-10-23  3,586 명\n",
              "1   2021-10-24  4,338 명\n",
              "2   2021-10-25  4,723 명\n",
              "3   2021-10-26  4,771 명\n",
              "4   2021-10-27  4,758 명\n",
              "..         ...      ...\n",
              "87  2022-01-18  4,566 명\n",
              "88  2022-01-19  4,630 명\n",
              "89  2022-01-20  4,425 명\n",
              "90  2022-01-21  4,334 명\n",
              "91  2022-01-22  3,321 명\n",
              "\n",
              "[92 rows x 2 columns]"
            ]
          },
          "execution_count": 30,
          "metadata": {},
          "output_type": "execute_result"
        }
      ],
      "source": [
        "cycle"
      ]
    },
    {
      "cell_type": "code",
      "execution_count": null,
      "metadata": {
        "id": "sGfXE1lpYlu8"
      },
      "outputs": [],
      "source": [
        "cycle2 = pd.read_csv('슬립사이클/슬립사이클_기본사용량_사용_시간.csv',index_col=0)"
      ]
    },
    {
      "cell_type": "code",
      "execution_count": null,
      "metadata": {
        "id": "Y4-_0XyTYlu8",
        "outputId": "211b7e89-6a55-4573-b9d1-35c1736022c2"
      },
      "outputs": [
        {
          "data": {
            "text/html": [
              "<div>\n",
              "<style scoped>\n",
              "    .dataframe tbody tr th:only-of-type {\n",
              "        vertical-align: middle;\n",
              "    }\n",
              "\n",
              "    .dataframe tbody tr th {\n",
              "        vertical-align: top;\n",
              "    }\n",
              "\n",
              "    .dataframe thead th {\n",
              "        text-align: right;\n",
              "    }\n",
              "</style>\n",
              "<table border=\"1\" class=\"dataframe\">\n",
              "  <thead>\n",
              "    <tr style=\"text-align: right;\">\n",
              "      <th></th>\n",
              "      <th>date</th>\n",
              "      <th>Total_time</th>\n",
              "      <th>Personal_average_time</th>\n",
              "    </tr>\n",
              "  </thead>\n",
              "  <tbody>\n",
              "    <tr>\n",
              "      <th>0</th>\n",
              "      <td>2021-10-23</td>\n",
              "      <td>632 시간</td>\n",
              "      <td>10.58 분</td>\n",
              "    </tr>\n",
              "    <tr>\n",
              "      <th>1</th>\n",
              "      <td>2021-10-24</td>\n",
              "      <td>683 시간</td>\n",
              "      <td>9.45 분</td>\n",
              "    </tr>\n",
              "    <tr>\n",
              "      <th>2</th>\n",
              "      <td>2021-10-25</td>\n",
              "      <td>945 시간</td>\n",
              "      <td>12.02 분</td>\n",
              "    </tr>\n",
              "    <tr>\n",
              "      <th>3</th>\n",
              "      <td>2021-10-26</td>\n",
              "      <td>811 시간</td>\n",
              "      <td>10.20 분</td>\n",
              "    </tr>\n",
              "    <tr>\n",
              "      <th>4</th>\n",
              "      <td>2021-10-27</td>\n",
              "      <td>723 시간</td>\n",
              "      <td>9.12 분</td>\n",
              "    </tr>\n",
              "    <tr>\n",
              "      <th>...</th>\n",
              "      <td>...</td>\n",
              "      <td>...</td>\n",
              "      <td>...</td>\n",
              "    </tr>\n",
              "    <tr>\n",
              "      <th>87</th>\n",
              "      <td>2022-01-18</td>\n",
              "      <td>801 시간</td>\n",
              "      <td>10.53 분</td>\n",
              "    </tr>\n",
              "    <tr>\n",
              "      <th>88</th>\n",
              "      <td>2022-01-19</td>\n",
              "      <td>848 시간</td>\n",
              "      <td>10.98 분</td>\n",
              "    </tr>\n",
              "    <tr>\n",
              "      <th>89</th>\n",
              "      <td>2022-01-20</td>\n",
              "      <td>784 시간</td>\n",
              "      <td>10.62 분</td>\n",
              "    </tr>\n",
              "    <tr>\n",
              "      <th>90</th>\n",
              "      <td>2022-01-21</td>\n",
              "      <td>750 시간</td>\n",
              "      <td>10.38 분</td>\n",
              "    </tr>\n",
              "    <tr>\n",
              "      <th>91</th>\n",
              "      <td>2022-01-22</td>\n",
              "      <td>NaN</td>\n",
              "      <td>NaN</td>\n",
              "    </tr>\n",
              "  </tbody>\n",
              "</table>\n",
              "<p>92 rows × 3 columns</p>\n",
              "</div>"
            ],
            "text/plain": [
              "          date Total_time Personal_average_time\n",
              "0   2021-10-23     632 시간               10.58 분\n",
              "1   2021-10-24     683 시간                9.45 분\n",
              "2   2021-10-25     945 시간               12.02 분\n",
              "3   2021-10-26     811 시간               10.20 분\n",
              "4   2021-10-27     723 시간                9.12 분\n",
              "..         ...        ...                   ...\n",
              "87  2022-01-18     801 시간               10.53 분\n",
              "88  2022-01-19     848 시간               10.98 분\n",
              "89  2022-01-20     784 시간               10.62 분\n",
              "90  2022-01-21     750 시간               10.38 분\n",
              "91  2022-01-22        NaN                   NaN\n",
              "\n",
              "[92 rows x 3 columns]"
            ]
          },
          "execution_count": 39,
          "metadata": {},
          "output_type": "execute_result"
        }
      ],
      "source": [
        "cycle2"
      ]
    },
    {
      "cell_type": "code",
      "execution_count": null,
      "metadata": {
        "id": "fS1LTHMmYlu9"
      },
      "outputs": [],
      "source": [
        "usernum= demo_users[['Male','Female','All']].astype('float64').mul(4334/100).round()"
      ]
    },
    {
      "cell_type": "code",
      "execution_count": null,
      "metadata": {
        "id": "mjhhtoJqYlu9"
      },
      "outputs": [],
      "source": [
        "timenum = demo_time[['Male','Female','All']].astype('float64').mul(750/100).round()"
      ]
    },
    {
      "cell_type": "code",
      "execution_count": null,
      "metadata": {
        "id": "4EYRDTVQYlu9",
        "outputId": "8f9f09aa-2968-48f7-b7f6-b3ead28c7e0d"
      },
      "outputs": [
        {
          "data": {
            "text/html": [
              "<div>\n",
              "<style scoped>\n",
              "    .dataframe tbody tr th:only-of-type {\n",
              "        vertical-align: middle;\n",
              "    }\n",
              "\n",
              "    .dataframe tbody tr th {\n",
              "        vertical-align: top;\n",
              "    }\n",
              "\n",
              "    .dataframe thead th {\n",
              "        text-align: right;\n",
              "    }\n",
              "</style>\n",
              "<table border=\"1\" class=\"dataframe\">\n",
              "  <thead>\n",
              "    <tr style=\"text-align: right;\">\n",
              "      <th></th>\n",
              "      <th>Male</th>\n",
              "      <th>Female</th>\n",
              "      <th>All</th>\n",
              "    </tr>\n",
              "  </thead>\n",
              "  <tbody>\n",
              "    <tr>\n",
              "      <th>0</th>\n",
              "      <td>1.144156</td>\n",
              "      <td>0.841490</td>\n",
              "      <td>0.960000</td>\n",
              "    </tr>\n",
              "    <tr>\n",
              "      <th>1</th>\n",
              "      <td>1.133072</td>\n",
              "      <td>1.018782</td>\n",
              "      <td>1.051717</td>\n",
              "    </tr>\n",
              "    <tr>\n",
              "      <th>2</th>\n",
              "      <td>1.525676</td>\n",
              "      <td>0.832203</td>\n",
              "      <td>1.116490</td>\n",
              "    </tr>\n",
              "    <tr>\n",
              "      <th>3</th>\n",
              "      <td>1.105484</td>\n",
              "      <td>0.738244</td>\n",
              "      <td>0.897938</td>\n",
              "    </tr>\n",
              "    <tr>\n",
              "      <th>4</th>\n",
              "      <td>0.797057</td>\n",
              "      <td>0.717847</td>\n",
              "      <td>0.749903</td>\n",
              "    </tr>\n",
              "    <tr>\n",
              "      <th>5</th>\n",
              "      <td>0.652430</td>\n",
              "      <td>1.078684</td>\n",
              "      <td>0.927236</td>\n",
              "    </tr>\n",
              "    <tr>\n",
              "      <th>6</th>\n",
              "      <td>0.722333</td>\n",
              "      <td>0.630400</td>\n",
              "      <td>0.651117</td>\n",
              "    </tr>\n",
              "  </tbody>\n",
              "</table>\n",
              "</div>"
            ],
            "text/plain": [
              "       Male    Female       All\n",
              "0  1.144156  0.841490  0.960000\n",
              "1  1.133072  1.018782  1.051717\n",
              "2  1.525676  0.832203  1.116490\n",
              "3  1.105484  0.738244  0.897938\n",
              "4  0.797057  0.717847  0.749903\n",
              "5  0.652430  1.078684  0.927236\n",
              "6  0.722333  0.630400  0.651117"
            ]
          },
          "execution_count": 50,
          "metadata": {},
          "output_type": "execute_result"
        }
      ],
      "source": [
        "(timenum/usernum).mul(4334/750)"
      ]
    },
    {
      "cell_type": "code",
      "execution_count": null,
      "metadata": {
        "id": "lh1CXgFnYlu-",
        "outputId": "fd5f485e-f801-40b6-b982-c7630408f6e8"
      },
      "outputs": [
        {
          "data": {
            "text/html": [
              "<div>\n",
              "<style scoped>\n",
              "    .dataframe tbody tr th:only-of-type {\n",
              "        vertical-align: middle;\n",
              "    }\n",
              "\n",
              "    .dataframe tbody tr th {\n",
              "        vertical-align: top;\n",
              "    }\n",
              "\n",
              "    .dataframe thead th {\n",
              "        text-align: right;\n",
              "    }\n",
              "</style>\n",
              "<table border=\"1\" class=\"dataframe\">\n",
              "  <thead>\n",
              "    <tr style=\"text-align: right;\">\n",
              "      <th></th>\n",
              "      <th>Male</th>\n",
              "      <th>Female</th>\n",
              "      <th>Age</th>\n",
              "    </tr>\n",
              "  </thead>\n",
              "  <tbody>\n",
              "    <tr>\n",
              "      <th>0</th>\n",
              "      <td>1.145046</td>\n",
              "      <td>0.840565</td>\n",
              "      <td>전체</td>\n",
              "    </tr>\n",
              "    <tr>\n",
              "      <th>1</th>\n",
              "      <td>1.135593</td>\n",
              "      <td>1.012516</td>\n",
              "      <td>10대 이하</td>\n",
              "    </tr>\n",
              "    <tr>\n",
              "      <th>2</th>\n",
              "      <td>1.527356</td>\n",
              "      <td>0.833392</td>\n",
              "      <td>20대</td>\n",
              "    </tr>\n",
              "    <tr>\n",
              "      <th>3</th>\n",
              "      <td>1.103145</td>\n",
              "      <td>0.735435</td>\n",
              "      <td>30대</td>\n",
              "    </tr>\n",
              "    <tr>\n",
              "      <th>4</th>\n",
              "      <td>0.801282</td>\n",
              "      <td>0.714286</td>\n",
              "      <td>40대</td>\n",
              "    </tr>\n",
              "    <tr>\n",
              "      <th>5</th>\n",
              "      <td>0.665505</td>\n",
              "      <td>1.071429</td>\n",
              "      <td>50대</td>\n",
              "    </tr>\n",
              "    <tr>\n",
              "      <th>6</th>\n",
              "      <td>0.702703</td>\n",
              "      <td>0.587302</td>\n",
              "      <td>60대 이상</td>\n",
              "    </tr>\n",
              "  </tbody>\n",
              "</table>\n",
              "</div>"
            ],
            "text/plain": [
              "       Male    Female     Age\n",
              "0  1.145046  0.840565      전체\n",
              "1  1.135593  1.012516  10대 이하\n",
              "2  1.527356  0.833392     20대\n",
              "3  1.103145  0.735435     30대\n",
              "4  0.801282  0.714286     40대\n",
              "5  0.665505  1.071429     50대\n",
              "6  0.702703  0.587302  60대 이상"
            ]
          },
          "execution_count": 49,
          "metadata": {},
          "output_type": "execute_result"
        }
      ],
      "source": [
        "rate"
      ]
    },
    {
      "cell_type": "code",
      "execution_count": null,
      "metadata": {
        "id": "fQ60jwPqYlu_",
        "outputId": "fcfe9c99-adbf-408c-9d2f-cc0cc1ed4ed5"
      },
      "outputs": [
        {
          "data": {
            "text/html": [
              "<div>\n",
              "<style scoped>\n",
              "    .dataframe tbody tr th:only-of-type {\n",
              "        vertical-align: middle;\n",
              "    }\n",
              "\n",
              "    .dataframe tbody tr th {\n",
              "        vertical-align: top;\n",
              "    }\n",
              "\n",
              "    .dataframe thead th {\n",
              "        text-align: right;\n",
              "    }\n",
              "</style>\n",
              "<table border=\"1\" class=\"dataframe\">\n",
              "  <thead>\n",
              "    <tr style=\"text-align: right;\">\n",
              "      <th></th>\n",
              "      <th>All</th>\n",
              "      <th>Age</th>\n",
              "    </tr>\n",
              "  </thead>\n",
              "  <tbody>\n",
              "    <tr>\n",
              "      <th>0</th>\n",
              "      <td>0.959800</td>\n",
              "      <td>전체</td>\n",
              "    </tr>\n",
              "    <tr>\n",
              "      <th>1</th>\n",
              "      <td>1.050304</td>\n",
              "      <td>10대 이하</td>\n",
              "    </tr>\n",
              "    <tr>\n",
              "      <th>2</th>\n",
              "      <td>1.117306</td>\n",
              "      <td>20대</td>\n",
              "    </tr>\n",
              "    <tr>\n",
              "      <th>3</th>\n",
              "      <td>0.894137</td>\n",
              "      <td>30대</td>\n",
              "    </tr>\n",
              "    <tr>\n",
              "      <th>4</th>\n",
              "      <td>0.747934</td>\n",
              "      <td>40대</td>\n",
              "    </tr>\n",
              "    <tr>\n",
              "      <th>5</th>\n",
              "      <td>0.926708</td>\n",
              "      <td>50대</td>\n",
              "    </tr>\n",
              "    <tr>\n",
              "      <th>6</th>\n",
              "      <td>0.613497</td>\n",
              "      <td>60대 이상</td>\n",
              "    </tr>\n",
              "  </tbody>\n",
              "</table>\n",
              "</div>"
            ],
            "text/plain": [
              "        All     Age\n",
              "0  0.959800      전체\n",
              "1  1.050304  10대 이하\n",
              "2  1.117306     20대\n",
              "3  0.894137     30대\n",
              "4  0.747934     40대\n",
              "5  0.926708     50대\n",
              "6  0.613497  60대 이상"
            ]
          },
          "execution_count": 51,
          "metadata": {},
          "output_type": "execute_result"
        }
      ],
      "source": [
        "rate_all"
      ]
    },
    {
      "cell_type": "code",
      "execution_count": null,
      "metadata": {
        "id": "9eE1Aal0Ylu_"
      },
      "outputs": [],
      "source": [
        "rate = demo_time[['Male','Female']].astype('float64')/demo_users[['Male','Female']].astype('float64')"
      ]
    },
    {
      "cell_type": "code",
      "execution_count": null,
      "metadata": {
        "scrolled": true,
        "id": "BR6uiERsYlvA",
        "outputId": "35a7a17d-ad01-4579-ed2d-e76713cb0e90"
      },
      "outputs": [
        {
          "data": {
            "text/html": [
              "<div>\n",
              "<style scoped>\n",
              "    .dataframe tbody tr th:only-of-type {\n",
              "        vertical-align: middle;\n",
              "    }\n",
              "\n",
              "    .dataframe tbody tr th {\n",
              "        vertical-align: top;\n",
              "    }\n",
              "\n",
              "    .dataframe thead th {\n",
              "        text-align: right;\n",
              "    }\n",
              "</style>\n",
              "<table border=\"1\" class=\"dataframe\">\n",
              "  <thead>\n",
              "    <tr style=\"text-align: right;\">\n",
              "      <th></th>\n",
              "      <th>Male</th>\n",
              "      <th>Female</th>\n",
              "    </tr>\n",
              "  </thead>\n",
              "  <tbody>\n",
              "    <tr>\n",
              "      <th>0</th>\n",
              "      <td>1.145046</td>\n",
              "      <td>0.840565</td>\n",
              "    </tr>\n",
              "    <tr>\n",
              "      <th>1</th>\n",
              "      <td>1.135593</td>\n",
              "      <td>1.012516</td>\n",
              "    </tr>\n",
              "    <tr>\n",
              "      <th>2</th>\n",
              "      <td>1.527356</td>\n",
              "      <td>0.833392</td>\n",
              "    </tr>\n",
              "    <tr>\n",
              "      <th>3</th>\n",
              "      <td>1.103145</td>\n",
              "      <td>0.735435</td>\n",
              "    </tr>\n",
              "    <tr>\n",
              "      <th>4</th>\n",
              "      <td>0.801282</td>\n",
              "      <td>0.714286</td>\n",
              "    </tr>\n",
              "    <tr>\n",
              "      <th>5</th>\n",
              "      <td>0.665505</td>\n",
              "      <td>1.071429</td>\n",
              "    </tr>\n",
              "    <tr>\n",
              "      <th>6</th>\n",
              "      <td>0.702703</td>\n",
              "      <td>0.587302</td>\n",
              "    </tr>\n",
              "  </tbody>\n",
              "</table>\n",
              "</div>"
            ],
            "text/plain": [
              "       Male    Female\n",
              "0  1.145046  0.840565\n",
              "1  1.135593  1.012516\n",
              "2  1.527356  0.833392\n",
              "3  1.103145  0.735435\n",
              "4  0.801282  0.714286\n",
              "5  0.665505  1.071429\n",
              "6  0.702703  0.587302"
            ]
          },
          "execution_count": 58,
          "metadata": {},
          "output_type": "execute_result"
        }
      ],
      "source": [
        "rate "
      ]
    },
    {
      "cell_type": "code",
      "execution_count": null,
      "metadata": {
        "id": "djr982P7YlvA"
      },
      "outputs": [],
      "source": [
        "rate['Age'] = ['전체','10대 이하','20대','30대','40대','50대','60대 이상']"
      ]
    },
    {
      "cell_type": "code",
      "execution_count": null,
      "metadata": {
        "id": "ST4VUN-5YlvA",
        "outputId": "8e08e767-dba3-44bb-c51f-442644fa8eaa"
      },
      "outputs": [
        {
          "data": {
            "text/html": [
              "<div>\n",
              "<style scoped>\n",
              "    .dataframe tbody tr th:only-of-type {\n",
              "        vertical-align: middle;\n",
              "    }\n",
              "\n",
              "    .dataframe tbody tr th {\n",
              "        vertical-align: top;\n",
              "    }\n",
              "\n",
              "    .dataframe thead th {\n",
              "        text-align: right;\n",
              "    }\n",
              "</style>\n",
              "<table border=\"1\" class=\"dataframe\">\n",
              "  <thead>\n",
              "    <tr style=\"text-align: right;\">\n",
              "      <th></th>\n",
              "      <th>Age</th>\n",
              "      <th>variable</th>\n",
              "      <th>value</th>\n",
              "    </tr>\n",
              "  </thead>\n",
              "  <tbody>\n",
              "    <tr>\n",
              "      <th>0</th>\n",
              "      <td>전체</td>\n",
              "      <td>Male</td>\n",
              "      <td>1.145046</td>\n",
              "    </tr>\n",
              "    <tr>\n",
              "      <th>1</th>\n",
              "      <td>10대 이하</td>\n",
              "      <td>Male</td>\n",
              "      <td>1.135593</td>\n",
              "    </tr>\n",
              "    <tr>\n",
              "      <th>2</th>\n",
              "      <td>20대</td>\n",
              "      <td>Male</td>\n",
              "      <td>1.527356</td>\n",
              "    </tr>\n",
              "    <tr>\n",
              "      <th>3</th>\n",
              "      <td>30대</td>\n",
              "      <td>Male</td>\n",
              "      <td>1.103145</td>\n",
              "    </tr>\n",
              "    <tr>\n",
              "      <th>4</th>\n",
              "      <td>40대</td>\n",
              "      <td>Male</td>\n",
              "      <td>0.801282</td>\n",
              "    </tr>\n",
              "    <tr>\n",
              "      <th>5</th>\n",
              "      <td>50대</td>\n",
              "      <td>Male</td>\n",
              "      <td>0.665505</td>\n",
              "    </tr>\n",
              "    <tr>\n",
              "      <th>6</th>\n",
              "      <td>60대 이상</td>\n",
              "      <td>Male</td>\n",
              "      <td>0.702703</td>\n",
              "    </tr>\n",
              "    <tr>\n",
              "      <th>7</th>\n",
              "      <td>전체</td>\n",
              "      <td>Female</td>\n",
              "      <td>0.840565</td>\n",
              "    </tr>\n",
              "    <tr>\n",
              "      <th>8</th>\n",
              "      <td>10대 이하</td>\n",
              "      <td>Female</td>\n",
              "      <td>1.012516</td>\n",
              "    </tr>\n",
              "    <tr>\n",
              "      <th>9</th>\n",
              "      <td>20대</td>\n",
              "      <td>Female</td>\n",
              "      <td>0.833392</td>\n",
              "    </tr>\n",
              "    <tr>\n",
              "      <th>10</th>\n",
              "      <td>30대</td>\n",
              "      <td>Female</td>\n",
              "      <td>0.735435</td>\n",
              "    </tr>\n",
              "    <tr>\n",
              "      <th>11</th>\n",
              "      <td>40대</td>\n",
              "      <td>Female</td>\n",
              "      <td>0.714286</td>\n",
              "    </tr>\n",
              "    <tr>\n",
              "      <th>12</th>\n",
              "      <td>50대</td>\n",
              "      <td>Female</td>\n",
              "      <td>1.071429</td>\n",
              "    </tr>\n",
              "    <tr>\n",
              "      <th>13</th>\n",
              "      <td>60대 이상</td>\n",
              "      <td>Female</td>\n",
              "      <td>0.587302</td>\n",
              "    </tr>\n",
              "  </tbody>\n",
              "</table>\n",
              "</div>"
            ],
            "text/plain": [
              "       Age variable     value\n",
              "0       전체     Male  1.145046\n",
              "1   10대 이하     Male  1.135593\n",
              "2      20대     Male  1.527356\n",
              "3      30대     Male  1.103145\n",
              "4      40대     Male  0.801282\n",
              "5      50대     Male  0.665505\n",
              "6   60대 이상     Male  0.702703\n",
              "7       전체   Female  0.840565\n",
              "8   10대 이하   Female  1.012516\n",
              "9      20대   Female  0.833392\n",
              "10     30대   Female  0.735435\n",
              "11     40대   Female  0.714286\n",
              "12     50대   Female  1.071429\n",
              "13  60대 이상   Female  0.587302"
            ]
          },
          "execution_count": 60,
          "metadata": {},
          "output_type": "execute_result"
        }
      ],
      "source": [
        "rate_anl = pd.melt(rate, id_vars=['Age'], value_vars = [\"Male\",\"Female\"])\n",
        "rate_anl"
      ]
    },
    {
      "cell_type": "code",
      "execution_count": null,
      "metadata": {
        "scrolled": true,
        "id": "Aa_TPKy0YlvB",
        "outputId": "f41e64c6-f40b-48fb-bf39-4f19d652f033"
      },
      "outputs": [
        {
          "name": "stderr",
          "output_type": "stream",
          "text": [
            "<ipython-input-64-adc27121d0ce>:9: MatplotlibDeprecationWarning: The 'b' parameter of grid() has been renamed 'visible' since Matplotlib 3.5; support for the old name will be dropped two minor releases later.\n",
            "  plt.grid(b=False) #grid 아예 없앤거!\n"
          ]
        },
        {
          "data": {
            "image/png": "[encoded data removed]",
            "text/plain": [
              "<Figure size 864x576 with 1 Axes>"
            ]
          },
          "metadata": {},
          "output_type": "display_data"
        }
      ],
      "source": [
        "plt.figure(figsize=(12,8))\n",
        "\n",
        "\n",
        "sns.barplot(data = rate_anl, x='Age',y='value',hue='variable',palette = ['#4038FF','#8984FF'])\n",
        "\n",
        "plt.rc('figure', facecolor = '#242424')#그래프 밖 테마색\n",
        "ax = plt.gca()\n",
        "ax.set_facecolor('#242424')#그래프 배경색\n",
        "plt.grid(b=False) #grid 아예 없앤거!\n",
        "ax.spines['right'].set_visible(False) #오른쪽 테두리 제거\n",
        "ax.spines['top'].set_visible(False) #위 테두리 제거\n",
        "ax.spines['left'].set_visible(False) #왼쪽 테두리 제거\n",
        "\n",
        "\n",
        "plt.legend(facecolor='#242424',edgecolor='#242424',\n",
        "                 fontsize = 13,labelcolor='white')\n",
        "\n",
        "\n",
        "ax.tick_params(axis='y', colors='white') #y축 변수들 흰색\n",
        "ax.tick_params(axis='x', colors='white') #y축 변수들 흰색\n",
        "\n",
        "plt.xlabel('연령',color='white') #x축단어설정, 흰색\n",
        "plt.ylabel('',color='white') #x축단어설정, 흰색\n",
        "\n",
        "\n",
        "plt.title('사용 시간 비율 / 사용자 비율',fontsize = 20, color = 'white')\n",
        "plt.show()\n"
      ]
    },
    {
      "cell_type": "markdown",
      "metadata": {
        "id": "MBuTbufAYlvB"
      },
      "source": [
        "슬립모니터 데모그래픽 그래프"
      ]
    },
    {
      "cell_type": "code",
      "execution_count": null,
      "metadata": {
        "id": "vL0t_Td_YlvC"
      },
      "outputs": [],
      "source": [
        "demo_users = pd.read_csv('슬립모니터/슬립모니터_데모그래픽_사용자구성.csv',index_col=0)"
      ]
    },
    {
      "cell_type": "code",
      "execution_count": null,
      "metadata": {
        "id": "UEW3G-YlYlvC",
        "outputId": "6ecb4fe8-c186-47ae-b619-59b4b49c8a58"
      },
      "outputs": [
        {
          "data": {
            "text/html": [
              "<div>\n",
              "<style scoped>\n",
              "    .dataframe tbody tr th:only-of-type {\n",
              "        vertical-align: middle;\n",
              "    }\n",
              "\n",
              "    .dataframe tbody tr th {\n",
              "        vertical-align: top;\n",
              "    }\n",
              "\n",
              "    .dataframe thead th {\n",
              "        text-align: right;\n",
              "    }\n",
              "</style>\n",
              "<table border=\"1\" class=\"dataframe\">\n",
              "  <thead>\n",
              "    <tr style=\"text-align: right;\">\n",
              "      <th></th>\n",
              "      <th>Start</th>\n",
              "      <th>End</th>\n",
              "      <th>Age</th>\n",
              "      <th>Male</th>\n",
              "      <th>Female</th>\n",
              "    </tr>\n",
              "  </thead>\n",
              "  <tbody>\n",
              "    <tr>\n",
              "      <th>0</th>\n",
              "      <td>2021-10-23</td>\n",
              "      <td>2022-01-22</td>\n",
              "      <td>전체</td>\n",
              "      <td>34.76 %</td>\n",
              "      <td>65.24 %</td>\n",
              "    </tr>\n",
              "    <tr>\n",
              "      <th>1</th>\n",
              "      <td>2021-10-23</td>\n",
              "      <td>2022-01-22</td>\n",
              "      <td>10대 이하</td>\n",
              "      <td>3.78 %</td>\n",
              "      <td>8.43 %</td>\n",
              "    </tr>\n",
              "    <tr>\n",
              "      <th>2</th>\n",
              "      <td>2021-10-23</td>\n",
              "      <td>2022-01-22</td>\n",
              "      <td>20대</td>\n",
              "      <td>12.81 %</td>\n",
              "      <td>29.41 %</td>\n",
              "    </tr>\n",
              "    <tr>\n",
              "      <th>3</th>\n",
              "      <td>2021-10-23</td>\n",
              "      <td>2022-01-22</td>\n",
              "      <td>30대</td>\n",
              "      <td>8.11 %</td>\n",
              "      <td>12.30 %</td>\n",
              "    </tr>\n",
              "    <tr>\n",
              "      <th>4</th>\n",
              "      <td>2021-10-23</td>\n",
              "      <td>2022-01-22</td>\n",
              "      <td>40대</td>\n",
              "      <td>5.54 %</td>\n",
              "      <td>8.94 %</td>\n",
              "    </tr>\n",
              "    <tr>\n",
              "      <th>5</th>\n",
              "      <td>2021-10-23</td>\n",
              "      <td>2022-01-22</td>\n",
              "      <td>50대</td>\n",
              "      <td>3.94 %</td>\n",
              "      <td>4.46 %</td>\n",
              "    </tr>\n",
              "    <tr>\n",
              "      <th>6</th>\n",
              "      <td>2021-10-23</td>\n",
              "      <td>2022-01-22</td>\n",
              "      <td>60대 이상</td>\n",
              "      <td>0.59 %</td>\n",
              "      <td>1.69 %</td>\n",
              "    </tr>\n",
              "  </tbody>\n",
              "</table>\n",
              "</div>"
            ],
            "text/plain": [
              "        Start         End     Age     Male   Female\n",
              "0  2021-10-23  2022-01-22      전체  34.76 %  65.24 %\n",
              "1  2021-10-23  2022-01-22  10대 이하   3.78 %   8.43 %\n",
              "2  2021-10-23  2022-01-22     20대  12.81 %  29.41 %\n",
              "3  2021-10-23  2022-01-22     30대   8.11 %  12.30 %\n",
              "4  2021-10-23  2022-01-22     40대   5.54 %   8.94 %\n",
              "5  2021-10-23  2022-01-22     50대   3.94 %   4.46 %\n",
              "6  2021-10-23  2022-01-22  60대 이상   0.59 %   1.69 %"
            ]
          },
          "execution_count": 6,
          "metadata": {},
          "output_type": "execute_result"
        }
      ],
      "source": [
        "demo_users"
      ]
    },
    {
      "cell_type": "code",
      "execution_count": null,
      "metadata": {
        "id": "1gDMCw3NYlvC",
        "outputId": "5dcab89b-c951-45a3-eca2-2ff54c268030"
      },
      "outputs": [
        {
          "name": "stdout",
          "output_type": "stream",
          "text": [
            "<class 'pandas.core.frame.DataFrame'>\n",
            "Int64Index: 7 entries, 0 to 6\n",
            "Data columns (total 5 columns):\n",
            " #   Column  Non-Null Count  Dtype \n",
            "---  ------  --------------  ----- \n",
            " 0   Start   7 non-null      object\n",
            " 1   End     7 non-null      object\n",
            " 2   Age     7 non-null      object\n",
            " 3   Male    7 non-null      object\n",
            " 4   Female  7 non-null      object\n",
            "dtypes: object(5)\n",
            "memory usage: 336.0+ bytes\n"
          ]
        }
      ],
      "source": [
        "demo_users.info()"
      ]
    },
    {
      "cell_type": "code",
      "execution_count": null,
      "metadata": {
        "id": "Bcx05XEUYlvD",
        "outputId": "38e29f26-3295-4a72-d290-717191b20e08"
      },
      "outputs": [
        {
          "name": "stdout",
          "output_type": "stream",
          "text": [
            "        Start         End     Age     Male   Female\n",
            "0  2021-10-23  2022-01-22      전체  34.76 %  65.24 %\n",
            "1  2021-10-23  2022-01-22  10대 이하   3.78 %   8.43 %\n",
            "2  2021-10-23  2022-01-22     20대  12.81 %  29.41 %\n",
            "3  2021-10-23  2022-01-22     30대   8.11 %  12.30 %\n",
            "4  2021-10-23  2022-01-22     40대   5.54 %   8.94 %\n",
            "5  2021-10-23  2022-01-22     50대   3.94 %   4.46 %\n",
            "6  2021-10-23  2022-01-22  60대 이상   0.59 %   1.69 %\n",
            "<class 'pandas.core.frame.DataFrame'>\n",
            "Int64Index: 7 entries, 0 to 6\n",
            "Data columns (total 5 columns):\n",
            " #   Column  Non-Null Count  Dtype \n",
            "---  ------  --------------  ----- \n",
            " 0   Start   7 non-null      object\n",
            " 1   End     7 non-null      object\n",
            " 2   Age     7 non-null      object\n",
            " 3   Male    7 non-null      object\n",
            " 4   Female  7 non-null      object\n",
            "dtypes: object(5)\n",
            "memory usage: 336.0+ bytes\n",
            "       Age variable   value\n",
            "0       전체     Male  34.76 \n",
            "1   10대 이하     Male   3.78 \n",
            "2      20대     Male  12.81 \n",
            "3      30대     Male   8.11 \n",
            "4      40대     Male   5.54 \n",
            "5      50대     Male   3.94 \n",
            "6   60대 이상     Male   0.59 \n",
            "7       전체   Female  65.24 \n",
            "8   10대 이하   Female   8.43 \n",
            "9      20대   Female  29.41 \n",
            "10     30대   Female  12.30 \n",
            "11     40대   Female   8.94 \n",
            "12     50대   Female   4.46 \n",
            "13  60대 이상   Female   1.69 \n"
          ]
        }
      ],
      "source": [
        "print(demo_users)\n",
        "demo_users.info()\n",
        "del demo_users['Start']\n",
        "del demo_users['End']\n",
        "demo_users[\"Male\"] = demo_users[\"Male\"].str.replace(pat=r'[%]', repl=r'', regex=True)\n",
        "demo_users[\"Female\"] = demo_users[\"Female\"].str.replace(pat=r'[%]', repl=r'', regex=True)\n",
        "demo_users[\"Male\"].astype('float64')\n",
        "demo_users[\"Female\"].astype('float64')\n",
        "demo_anl = pd.melt(demo_users, id_vars=['Age'], value_vars = [\"Male\",\"Female\"])\n",
        "print(demo_anl)"
      ]
    },
    {
      "cell_type": "code",
      "execution_count": null,
      "metadata": {
        "id": "52-xnxDZYlvD",
        "outputId": "6c18396e-bcb6-4762-ab1d-140abce17d70"
      },
      "outputs": [
        {
          "data": {
            "text/html": [
              "<div>\n",
              "<style scoped>\n",
              "    .dataframe tbody tr th:only-of-type {\n",
              "        vertical-align: middle;\n",
              "    }\n",
              "\n",
              "    .dataframe tbody tr th {\n",
              "        vertical-align: top;\n",
              "    }\n",
              "\n",
              "    .dataframe thead th {\n",
              "        text-align: right;\n",
              "    }\n",
              "</style>\n",
              "<table border=\"1\" class=\"dataframe\">\n",
              "  <thead>\n",
              "    <tr style=\"text-align: right;\">\n",
              "      <th></th>\n",
              "      <th>Age</th>\n",
              "      <th>variable</th>\n",
              "      <th>value</th>\n",
              "    </tr>\n",
              "  </thead>\n",
              "  <tbody>\n",
              "    <tr>\n",
              "      <th>0</th>\n",
              "      <td>전체</td>\n",
              "      <td>Male</td>\n",
              "      <td>34.76</td>\n",
              "    </tr>\n",
              "    <tr>\n",
              "      <th>1</th>\n",
              "      <td>10대 이하</td>\n",
              "      <td>Male</td>\n",
              "      <td>3.78</td>\n",
              "    </tr>\n",
              "    <tr>\n",
              "      <th>2</th>\n",
              "      <td>20대</td>\n",
              "      <td>Male</td>\n",
              "      <td>12.81</td>\n",
              "    </tr>\n",
              "    <tr>\n",
              "      <th>3</th>\n",
              "      <td>30대</td>\n",
              "      <td>Male</td>\n",
              "      <td>8.11</td>\n",
              "    </tr>\n",
              "    <tr>\n",
              "      <th>4</th>\n",
              "      <td>40대</td>\n",
              "      <td>Male</td>\n",
              "      <td>5.54</td>\n",
              "    </tr>\n",
              "    <tr>\n",
              "      <th>5</th>\n",
              "      <td>50대</td>\n",
              "      <td>Male</td>\n",
              "      <td>3.94</td>\n",
              "    </tr>\n",
              "    <tr>\n",
              "      <th>6</th>\n",
              "      <td>60대 이상</td>\n",
              "      <td>Male</td>\n",
              "      <td>0.59</td>\n",
              "    </tr>\n",
              "    <tr>\n",
              "      <th>7</th>\n",
              "      <td>전체</td>\n",
              "      <td>Female</td>\n",
              "      <td>65.24</td>\n",
              "    </tr>\n",
              "    <tr>\n",
              "      <th>8</th>\n",
              "      <td>10대 이하</td>\n",
              "      <td>Female</td>\n",
              "      <td>8.43</td>\n",
              "    </tr>\n",
              "    <tr>\n",
              "      <th>9</th>\n",
              "      <td>20대</td>\n",
              "      <td>Female</td>\n",
              "      <td>29.41</td>\n",
              "    </tr>\n",
              "    <tr>\n",
              "      <th>10</th>\n",
              "      <td>30대</td>\n",
              "      <td>Female</td>\n",
              "      <td>12.30</td>\n",
              "    </tr>\n",
              "    <tr>\n",
              "      <th>11</th>\n",
              "      <td>40대</td>\n",
              "      <td>Female</td>\n",
              "      <td>8.94</td>\n",
              "    </tr>\n",
              "    <tr>\n",
              "      <th>12</th>\n",
              "      <td>50대</td>\n",
              "      <td>Female</td>\n",
              "      <td>4.46</td>\n",
              "    </tr>\n",
              "    <tr>\n",
              "      <th>13</th>\n",
              "      <td>60대 이상</td>\n",
              "      <td>Female</td>\n",
              "      <td>1.69</td>\n",
              "    </tr>\n",
              "  </tbody>\n",
              "</table>\n",
              "</div>"
            ],
            "text/plain": [
              "       Age variable   value\n",
              "0       전체     Male  34.76 \n",
              "1   10대 이하     Male   3.78 \n",
              "2      20대     Male  12.81 \n",
              "3      30대     Male   8.11 \n",
              "4      40대     Male   5.54 \n",
              "5      50대     Male   3.94 \n",
              "6   60대 이상     Male   0.59 \n",
              "7       전체   Female  65.24 \n",
              "8   10대 이하   Female   8.43 \n",
              "9      20대   Female  29.41 \n",
              "10     30대   Female  12.30 \n",
              "11     40대   Female   8.94 \n",
              "12     50대   Female   4.46 \n",
              "13  60대 이상   Female   1.69 "
            ]
          },
          "execution_count": 9,
          "metadata": {},
          "output_type": "execute_result"
        }
      ],
      "source": [
        "demo_anl = pd.melt(demo_users, id_vars=['Age'], value_vars = [\"Male\",\"Female\"])\n",
        "demo_anl"
      ]
    },
    {
      "cell_type": "code",
      "execution_count": null,
      "metadata": {
        "id": "-VC2YbGaYlvD",
        "outputId": "164d4846-ce1e-48a8-ad49-7b1f78890c17"
      },
      "outputs": [
        {
          "data": {
            "text/html": [
              "<div>\n",
              "<style scoped>\n",
              "    .dataframe tbody tr th:only-of-type {\n",
              "        vertical-align: middle;\n",
              "    }\n",
              "\n",
              "    .dataframe tbody tr th {\n",
              "        vertical-align: top;\n",
              "    }\n",
              "\n",
              "    .dataframe thead th {\n",
              "        text-align: right;\n",
              "    }\n",
              "</style>\n",
              "<table border=\"1\" class=\"dataframe\">\n",
              "  <thead>\n",
              "    <tr style=\"text-align: right;\">\n",
              "      <th></th>\n",
              "      <th>Age</th>\n",
              "      <th>Male</th>\n",
              "      <th>Female</th>\n",
              "    </tr>\n",
              "  </thead>\n",
              "  <tbody>\n",
              "    <tr>\n",
              "      <th>0</th>\n",
              "      <td>전체</td>\n",
              "      <td>34.76</td>\n",
              "      <td>65.24</td>\n",
              "    </tr>\n",
              "    <tr>\n",
              "      <th>1</th>\n",
              "      <td>10대 이하</td>\n",
              "      <td>3.78</td>\n",
              "      <td>8.43</td>\n",
              "    </tr>\n",
              "    <tr>\n",
              "      <th>2</th>\n",
              "      <td>20대</td>\n",
              "      <td>12.81</td>\n",
              "      <td>29.41</td>\n",
              "    </tr>\n",
              "    <tr>\n",
              "      <th>3</th>\n",
              "      <td>30대</td>\n",
              "      <td>8.11</td>\n",
              "      <td>12.30</td>\n",
              "    </tr>\n",
              "    <tr>\n",
              "      <th>4</th>\n",
              "      <td>40대</td>\n",
              "      <td>5.54</td>\n",
              "      <td>8.94</td>\n",
              "    </tr>\n",
              "    <tr>\n",
              "      <th>5</th>\n",
              "      <td>50대</td>\n",
              "      <td>3.94</td>\n",
              "      <td>4.46</td>\n",
              "    </tr>\n",
              "    <tr>\n",
              "      <th>6</th>\n",
              "      <td>60대 이상</td>\n",
              "      <td>0.59</td>\n",
              "      <td>1.69</td>\n",
              "    </tr>\n",
              "  </tbody>\n",
              "</table>\n",
              "</div>"
            ],
            "text/plain": [
              "      Age    Male  Female\n",
              "0      전체  34.76   65.24 \n",
              "1  10대 이하   3.78    8.43 \n",
              "2     20대  12.81   29.41 \n",
              "3     30대   8.11   12.30 \n",
              "4     40대   5.54    8.94 \n",
              "5     50대   3.94    4.46 \n",
              "6  60대 이상   0.59    1.69 "
            ]
          },
          "execution_count": 12,
          "metadata": {},
          "output_type": "execute_result"
        }
      ],
      "source": [
        "demo_users"
      ]
    },
    {
      "cell_type": "code",
      "execution_count": null,
      "metadata": {
        "scrolled": false,
        "id": "h-Zvs079YlvE",
        "outputId": "3cec23f2-2103-40cd-a54f-202423a131af"
      },
      "outputs": [
        {
          "name": "stderr",
          "output_type": "stream",
          "text": [
            "<ipython-input-13-0eb11645a00c>:3: SettingWithCopyWarning: \n",
            "A value is trying to be set on a copy of a slice from a DataFrame\n",
            "\n",
            "See the caveats in the documentation: https://pandas.pydata.org/pandas-docs/stable/user_guide/indexing.html#returning-a-view-versus-a-copy\n",
            "  demo_users['All'][i] = float(demo_users['Male'][i]) + float(demo_users['Female'][i])\n"
          ]
        }
      ],
      "source": [
        "demo_users['All'] = np.nan\n",
        "for i in range(len(demo_users)):\n",
        "    demo_users['All'][i] = float(demo_users['Male'][i]) + float(demo_users['Female'][i])"
      ]
    },
    {
      "cell_type": "code",
      "execution_count": null,
      "metadata": {
        "id": "6TadTvA1YlvE",
        "outputId": "862dba7e-1717-401e-c1b4-ef366e00fd62"
      },
      "outputs": [
        {
          "data": {
            "text/plain": [
              "0    100.00\n",
              "1     12.21\n",
              "2     42.22\n",
              "3     20.41\n",
              "4     14.48\n",
              "5      8.40\n",
              "6      2.28\n",
              "Name: All, dtype: float64"
            ]
          },
          "execution_count": 14,
          "metadata": {},
          "output_type": "execute_result"
        }
      ],
      "source": [
        "demo_users['All']"
      ]
    },
    {
      "cell_type": "code",
      "execution_count": null,
      "metadata": {
        "id": "qz0mXsFjYlvE",
        "outputId": "8b125ca3-c0a3-468f-8374-a868fdfdce67"
      },
      "outputs": [
        {
          "name": "stderr",
          "output_type": "stream",
          "text": [
            "<ipython-input-16-74a98d1aa4fd>:10: MatplotlibDeprecationWarning: The 'b' parameter of grid() has been renamed 'visible' since Matplotlib 3.5; support for the old name will be dropped two minor releases later.\n",
            "  plt.grid(b=False) #grid 아예 없앤거!\n"
          ]
        },
        {
          "data": {
            "image/png": "[encoded data removed]",
            "text/plain": [
              "<Figure size 1008x720 with 1 Axes>"
            ]
          },
          "metadata": {},
          "output_type": "display_data"
        }
      ],
      "source": [
        "plt.figure(figsize=(14,10))\n",
        "colors = sns.light_palette(\"#5851FF\", reverse=True) #color팔레트 구성해주기\n",
        "\n",
        "s1 = sns.barplot(data = demo_users[demo_users['Age']!='전체'], x = 'Age', y = 'All',color='#8984FF')\n",
        "s2 = sns.barplot(data = demo_users[demo_users['Age']!='전체'], x = 'Age', y = 'Male',color='#4038FF')\n",
        "\n",
        "plt.rc('figure', facecolor = '#242424')#그래프 밖 테마색\n",
        "ax = plt.gca()\n",
        "ax.set_facecolor('#242424')#그래프 배경색\n",
        "plt.grid(b=False) #grid 아예 없앤거!\n",
        "\n",
        "ax.spines['right'].set_visible(False) #오른쪽 테두리 제거\n",
        "ax.spines['top'].set_visible(False) #위 테두리 제거\n",
        "ax.spines['left'].set_visible(False) #왼쪽 테두리 제거\n",
        "\n",
        "plt.ylim([0,100])\n",
        "plt.title('사용자 구성 비율',fontsize = 25, color = 'white')\n",
        "ax.tick_params(axis='y', colors='white') #y축 변수들 흰색\n",
        "ax.tick_params(axis='x', colors='white') #y축 변수들 흰색\n",
        "\n",
        "variable_x = mpatches.Patch(color='#8984FF',label='여성')\n",
        "variable_y = mpatches.Patch(color='#4038FF',label='남성')\n",
        "\n",
        "leg = plt.legend(handles=[variable_x, variable_y],facecolor='#242424',edgecolor='#242424',\n",
        "                 fontsize = 15,labelcolor='white')\n",
        "\n",
        "plt.xlabel('연령',color='white') #x축단어설정, 흰색\n",
        "plt.ylabel('',color='white') #x축단어설정, 흰색\n",
        "\n",
        "#for i, le in enumerate(leg.get_texts()): ## 범례 텍스트 클래스를 하나씩 돌면서 색을 설정한다.\n",
        "    #le.set_color('white') ## 선 그래프의 색상을 가져온다.\n",
        "\n",
        "plt.show()"
      ]
    },
    {
      "cell_type": "code",
      "execution_count": null,
      "metadata": {
        "id": "rRD9Rr9zYlvF",
        "outputId": "3997adb0-1d69-427b-9e47-3958a7c1e196"
      },
      "outputs": [
        {
          "data": {
            "image/png": "[encoded data removed]",
            "text/plain": [
              "<Figure size 1008x720 with 1 Axes>"
            ]
          },
          "metadata": {},
          "output_type": "display_data"
        }
      ],
      "source": [
        "plt.figure(figsize=(14,10))\n",
        "patches, texts, autotexts = plt.pie([demo_users[\"Male\"][0],demo_users[\"Female\"][0]],\n",
        "       labels=['Male','Female'],autopct='%.2f%%',\n",
        "       startangle=90,explode=[0,0.03],\n",
        "       wedgeprops={'width': 0.7, 'edgecolor': 'black', 'linewidth': 3},\n",
        "       colors = ['#4038FF','#8984FF'])\n",
        "\n",
        "for t in texts:\n",
        "    t.set_color(\"white\")\n",
        "    t.set_fontsize(15)\n",
        "\n",
        "for t in autotexts:\n",
        "    t.set_color(\"white\")\n",
        "    t.set_fontsize(15)\n",
        "    \n",
        "plt.title(\"사용자 구성 성별 비율\",fontsize = 25, color = 'white' )\n",
        "\n",
        "plt.show()"
      ]
    },
    {
      "cell_type": "code",
      "execution_count": null,
      "metadata": {
        "id": "WajmNpiRYlvF"
      },
      "outputs": [],
      "source": [
        "demo_time = pd.read_csv('슬립모니터/슬립모니터_데모그래픽_사용시간구성.csv',index_col=0)\n"
      ]
    },
    {
      "cell_type": "code",
      "execution_count": null,
      "metadata": {
        "id": "oLB9uYIRYlvF",
        "outputId": "3baa2c73-a817-49ba-8cd5-fb624b45afb8"
      },
      "outputs": [
        {
          "name": "stdout",
          "output_type": "stream",
          "text": [
            "        Start         End     Age     Male   Female\n",
            "0  2021-10-23  2022-01-22      전체  33.05 %  63.23 %\n",
            "1  2021-10-23  2022-01-22  10대 이하   3.72 %  10.78 %\n",
            "2  2021-10-23  2022-01-22     20대  12.76 %  24.84 %\n",
            "3  2021-10-23  2022-01-22     30대   8.30 %  10.35 %\n",
            "4  2021-10-23  2022-01-22     40대   6.56 %  11.76 %\n",
            "5  2021-10-23  2022-01-22     50대   2.81 %   3.50 %\n",
            "6  2021-10-23  2022-01-22  60대 이상   2.61 %   2.00 %\n",
            "<class 'pandas.core.frame.DataFrame'>\n",
            "Int64Index: 7 entries, 0 to 6\n",
            "Data columns (total 5 columns):\n",
            " #   Column  Non-Null Count  Dtype \n",
            "---  ------  --------------  ----- \n",
            " 0   Start   7 non-null      object\n",
            " 1   End     7 non-null      object\n",
            " 2   Age     7 non-null      object\n",
            " 3   Male    7 non-null      object\n",
            " 4   Female  7 non-null      object\n",
            "dtypes: object(5)\n",
            "memory usage: 336.0+ bytes\n"
          ]
        },
        {
          "data": {
            "text/plain": [
              "0    63.23\n",
              "1    10.78\n",
              "2    24.84\n",
              "3    10.35\n",
              "4    11.76\n",
              "5     3.50\n",
              "6     2.00\n",
              "Name: Female, dtype: float64"
            ]
          },
          "execution_count": 19,
          "metadata": {},
          "output_type": "execute_result"
        }
      ],
      "source": [
        "print(demo_time)\n",
        "demo_time.info()\n",
        "\n",
        "demo_time[\"Male\"] = demo_time[\"Male\"].str.replace(pat=r'[%]', repl=r'', regex=True)\n",
        "demo_time[\"Female\"] = demo_time[\"Female\"].str.replace(pat=r'[%]', repl=r'', regex=True)\n",
        "del demo_time['Start']\n",
        "del demo_time['End']\n",
        "demo_time[\"Male\"].astype('float64')\n",
        "demo_time[\"Female\"].astype('float64')"
      ]
    },
    {
      "cell_type": "code",
      "execution_count": null,
      "metadata": {
        "id": "6X6YG8FbYlvG",
        "outputId": "a11efae5-fc1d-492e-b792-ee6f32ccc9fa"
      },
      "outputs": [
        {
          "name": "stdout",
          "output_type": "stream",
          "text": [
            "       Age variable   value\n",
            "0       전체     Male  33.05 \n",
            "1   10대 이하     Male   3.72 \n",
            "2      20대     Male  12.76 \n",
            "3      30대     Male   8.30 \n",
            "4      40대     Male   6.56 \n",
            "5      50대     Male   2.81 \n",
            "6   60대 이상     Male   2.61 \n",
            "7       전체   Female  63.23 \n",
            "8   10대 이하   Female  10.78 \n",
            "9      20대   Female  24.84 \n",
            "10     30대   Female  10.35 \n",
            "11     40대   Female  11.76 \n",
            "12     50대   Female   3.50 \n",
            "13  60대 이상   Female   2.00 \n"
          ]
        }
      ],
      "source": [
        "time_anl = pd.melt(demo_time, id_vars=['Age'], value_vars = [\"Male\",\"Female\"])\n",
        "print(time_anl)"
      ]
    },
    {
      "cell_type": "code",
      "execution_count": null,
      "metadata": {
        "scrolled": false,
        "id": "OIkORgH3YlvG",
        "outputId": "9edabb74-6a10-48a7-cd69-3cbbd57bc841"
      },
      "outputs": [
        {
          "name": "stderr",
          "output_type": "stream",
          "text": [
            "<ipython-input-21-cd177cc1ed08>:12: MatplotlibDeprecationWarning: The 'b' parameter of grid() has been renamed 'visible' since Matplotlib 3.5; support for the old name will be dropped two minor releases later.\n",
            "  plt.grid(b=False) #grid 아예 없앤거!\n"
          ]
        },
        {
          "data": {
            "image/png": "[encoded data removed]",
            "text/plain": [
              "<Figure size 1152x576 with 1 Axes>"
            ]
          },
          "metadata": {},
          "output_type": "display_data"
        }
      ],
      "source": [
        "plt.figure(figsize=(16,8))\n",
        "colors = sns.light_palette(\"#5851FF\", reverse=True) #color팔레트 구성해주기\n",
        "\n",
        "\n",
        "sns.barplot(data = time_anl[time_anl['Age']!='전체'], x='Age',y='value',hue='variable',\n",
        "           palette = ['#4038FF','#8984FF'])\n",
        "plt.ylim([0,100])\n",
        "\n",
        "plt.rc('figure', facecolor = '#242424')#그래프 밖 테마색\n",
        "ax = plt.gca()\n",
        "ax.set_facecolor('#242424')#그래프 배경색\n",
        "plt.grid(b=False) #grid 아예 없앤거!\n",
        "ax.spines['right'].set_visible(False) #오른쪽 테두리 제거\n",
        "ax.spines['top'].set_visible(False) #위 테두리 제거\n",
        "ax.spines['left'].set_visible(False) #왼쪽 테두리 제거\n",
        "\n",
        "\n",
        "plt.legend(facecolor='#242424',edgecolor='#242424',\n",
        "                 fontsize = 13,labelcolor='white')\n",
        "\n",
        "\n",
        "ax.tick_params(axis='y', colors='white') #y축 변수들 흰색\n",
        "ax.tick_params(axis='x', colors='white') #y축 변수들 흰색\n",
        "\n",
        "plt.xlabel('연령',color='white') #x축단어설정, 흰색\n",
        "plt.ylabel('',color='white') #x축단어설정, 흰색\n",
        "\n",
        "\n",
        "plt.title('성별, 연령별 사용시간 비율',fontsize = 20, color = 'white')\n",
        "\n",
        "plt.show()"
      ]
    },
    {
      "cell_type": "code",
      "execution_count": null,
      "metadata": {
        "id": "4Dt3IYppYlvG"
      },
      "outputs": [],
      "source": [
        "rate = demo_time[['Male','Female']].astype('float64')/demo_users[['Male','Female']].astype('float64')"
      ]
    },
    {
      "cell_type": "code",
      "execution_count": null,
      "metadata": {
        "id": "XC0VW0m3YlvH"
      },
      "outputs": [],
      "source": [
        "rate['Age'] = ['전체','10대 이하','20대','30대','40대','50대','60대 이상']"
      ]
    },
    {
      "cell_type": "code",
      "execution_count": null,
      "metadata": {
        "id": "M0teFoE7YlvH",
        "outputId": "7830d218-9bcf-4d19-8a44-720593f573dc"
      },
      "outputs": [
        {
          "data": {
            "text/html": [
              "<div>\n",
              "<style scoped>\n",
              "    .dataframe tbody tr th:only-of-type {\n",
              "        vertical-align: middle;\n",
              "    }\n",
              "\n",
              "    .dataframe tbody tr th {\n",
              "        vertical-align: top;\n",
              "    }\n",
              "\n",
              "    .dataframe thead th {\n",
              "        text-align: right;\n",
              "    }\n",
              "</style>\n",
              "<table border=\"1\" class=\"dataframe\">\n",
              "  <thead>\n",
              "    <tr style=\"text-align: right;\">\n",
              "      <th></th>\n",
              "      <th>Age</th>\n",
              "      <th>variable</th>\n",
              "      <th>value</th>\n",
              "    </tr>\n",
              "  </thead>\n",
              "  <tbody>\n",
              "    <tr>\n",
              "      <th>0</th>\n",
              "      <td>전체</td>\n",
              "      <td>Male</td>\n",
              "      <td>0.950806</td>\n",
              "    </tr>\n",
              "    <tr>\n",
              "      <th>1</th>\n",
              "      <td>10대 이하</td>\n",
              "      <td>Male</td>\n",
              "      <td>0.984127</td>\n",
              "    </tr>\n",
              "    <tr>\n",
              "      <th>2</th>\n",
              "      <td>20대</td>\n",
              "      <td>Male</td>\n",
              "      <td>0.996097</td>\n",
              "    </tr>\n",
              "    <tr>\n",
              "      <th>3</th>\n",
              "      <td>30대</td>\n",
              "      <td>Male</td>\n",
              "      <td>1.023428</td>\n",
              "    </tr>\n",
              "    <tr>\n",
              "      <th>4</th>\n",
              "      <td>40대</td>\n",
              "      <td>Male</td>\n",
              "      <td>1.184116</td>\n",
              "    </tr>\n",
              "    <tr>\n",
              "      <th>5</th>\n",
              "      <td>50대</td>\n",
              "      <td>Male</td>\n",
              "      <td>0.713198</td>\n",
              "    </tr>\n",
              "    <tr>\n",
              "      <th>6</th>\n",
              "      <td>60대 이상</td>\n",
              "      <td>Male</td>\n",
              "      <td>4.423729</td>\n",
              "    </tr>\n",
              "    <tr>\n",
              "      <th>7</th>\n",
              "      <td>전체</td>\n",
              "      <td>Female</td>\n",
              "      <td>0.969191</td>\n",
              "    </tr>\n",
              "    <tr>\n",
              "      <th>8</th>\n",
              "      <td>10대 이하</td>\n",
              "      <td>Female</td>\n",
              "      <td>1.278766</td>\n",
              "    </tr>\n",
              "    <tr>\n",
              "      <th>9</th>\n",
              "      <td>20대</td>\n",
              "      <td>Female</td>\n",
              "      <td>0.844611</td>\n",
              "    </tr>\n",
              "    <tr>\n",
              "      <th>10</th>\n",
              "      <td>30대</td>\n",
              "      <td>Female</td>\n",
              "      <td>0.841463</td>\n",
              "    </tr>\n",
              "    <tr>\n",
              "      <th>11</th>\n",
              "      <td>40대</td>\n",
              "      <td>Female</td>\n",
              "      <td>1.315436</td>\n",
              "    </tr>\n",
              "    <tr>\n",
              "      <th>12</th>\n",
              "      <td>50대</td>\n",
              "      <td>Female</td>\n",
              "      <td>0.784753</td>\n",
              "    </tr>\n",
              "    <tr>\n",
              "      <th>13</th>\n",
              "      <td>60대 이상</td>\n",
              "      <td>Female</td>\n",
              "      <td>1.183432</td>\n",
              "    </tr>\n",
              "  </tbody>\n",
              "</table>\n",
              "</div>"
            ],
            "text/plain": [
              "       Age variable     value\n",
              "0       전체     Male  0.950806\n",
              "1   10대 이하     Male  0.984127\n",
              "2      20대     Male  0.996097\n",
              "3      30대     Male  1.023428\n",
              "4      40대     Male  1.184116\n",
              "5      50대     Male  0.713198\n",
              "6   60대 이상     Male  4.423729\n",
              "7       전체   Female  0.969191\n",
              "8   10대 이하   Female  1.278766\n",
              "9      20대   Female  0.844611\n",
              "10     30대   Female  0.841463\n",
              "11     40대   Female  1.315436\n",
              "12     50대   Female  0.784753\n",
              "13  60대 이상   Female  1.183432"
            ]
          },
          "execution_count": 25,
          "metadata": {},
          "output_type": "execute_result"
        }
      ],
      "source": [
        "rate_anl = pd.melt(rate, id_vars=['Age'], value_vars = [\"Male\",\"Female\"])\n",
        "rate_anl"
      ]
    },
    {
      "cell_type": "code",
      "execution_count": null,
      "metadata": {
        "scrolled": true,
        "id": "SkbpZjPHYlvH",
        "outputId": "6f31627e-c171-496c-ff03-b50c804f45d4"
      },
      "outputs": [
        {
          "name": "stderr",
          "output_type": "stream",
          "text": [
            "<ipython-input-27-adc27121d0ce>:9: MatplotlibDeprecationWarning: The 'b' parameter of grid() has been renamed 'visible' since Matplotlib 3.5; support for the old name will be dropped two minor releases later.\n",
            "  plt.grid(b=False) #grid 아예 없앤거!\n"
          ]
        },
        {
          "data": {
            "image/png": "[encoded data removed]",
            "text/plain": [
              "<Figure size 864x576 with 1 Axes>"
            ]
          },
          "metadata": {},
          "output_type": "display_data"
        }
      ],
      "source": [
        "plt.figure(figsize=(12,8))\n",
        "\n",
        "\n",
        "sns.barplot(data = rate_anl, x='Age',y='value',hue='variable',palette = ['#4038FF','#8984FF'])\n",
        "\n",
        "plt.rc('figure', facecolor = '#242424')#그래프 밖 테마색\n",
        "ax = plt.gca()\n",
        "ax.set_facecolor('#242424')#그래프 배경색\n",
        "plt.grid(b=False) #grid 아예 없앤거!\n",
        "ax.spines['right'].set_visible(False) #오른쪽 테두리 제거\n",
        "ax.spines['top'].set_visible(False) #위 테두리 제거\n",
        "ax.spines['left'].set_visible(False) #왼쪽 테두리 제거\n",
        "\n",
        "\n",
        "plt.legend(facecolor='#242424',edgecolor='#242424',\n",
        "                 fontsize = 13,labelcolor='white')\n",
        "\n",
        "\n",
        "ax.tick_params(axis='y', colors='white') #y축 변수들 흰색\n",
        "ax.tick_params(axis='x', colors='white') #y축 변수들 흰색\n",
        "\n",
        "plt.xlabel('연령',color='white') #x축단어설정, 흰색\n",
        "plt.ylabel('',color='white') #x축단어설정, 흰색\n",
        "\n",
        "\n",
        "plt.title('사용 시간 비율 / 사용자 비율',fontsize = 20, color = 'white')\n",
        "plt.show()\n"
      ]
    },
    {
      "cell_type": "markdown",
      "metadata": {
        "id": "KCKl9_73YlvI"
      },
      "source": [
        "수면소리 데모그래픽 그래프"
      ]
    },
    {
      "cell_type": "code",
      "execution_count": null,
      "metadata": {
        "id": "EA7InxePYlvI"
      },
      "outputs": [],
      "source": [
        "demo_users = pd.read_csv('수면소리/수면소리_데모그래픽_사용자구성.csv',index_col=0)"
      ]
    },
    {
      "cell_type": "code",
      "execution_count": null,
      "metadata": {
        "id": "1o1BcI0IYlvI",
        "outputId": "04eb4a8d-274a-4a29-dc63-258f0f93f03a"
      },
      "outputs": [
        {
          "name": "stdout",
          "output_type": "stream",
          "text": [
            "        Start         End     Age     Male   Female\n",
            "0  2021-10-23  2022-01-22      전체  43.54 %  56.46 %\n",
            "1  2021-10-23  2022-01-22  10대 이하   1.60 %   2.52 %\n",
            "2  2021-10-23  2022-01-22     20대   5.40 %   7.62 %\n",
            "3  2021-10-23  2022-01-22     30대  11.10 %  15.82 %\n",
            "4  2021-10-23  2022-01-22     40대  13.74 %  17.69 %\n",
            "5  2021-10-23  2022-01-22     50대   9.57 %   9.67 %\n",
            "6  2021-10-23  2022-01-22  60대 이상   2.13 %   3.14 %\n",
            "<class 'pandas.core.frame.DataFrame'>\n",
            "Int64Index: 7 entries, 0 to 6\n",
            "Data columns (total 5 columns):\n",
            " #   Column  Non-Null Count  Dtype \n",
            "---  ------  --------------  ----- \n",
            " 0   Start   7 non-null      object\n",
            " 1   End     7 non-null      object\n",
            " 2   Age     7 non-null      object\n",
            " 3   Male    7 non-null      object\n",
            " 4   Female  7 non-null      object\n",
            "dtypes: object(5)\n",
            "memory usage: 336.0+ bytes\n",
            "       Age variable   value\n",
            "0       전체     Male  43.54 \n",
            "1   10대 이하     Male   1.60 \n",
            "2      20대     Male   5.40 \n",
            "3      30대     Male  11.10 \n",
            "4      40대     Male  13.74 \n",
            "5      50대     Male   9.57 \n",
            "6   60대 이상     Male   2.13 \n",
            "7       전체   Female  56.46 \n",
            "8   10대 이하   Female   2.52 \n",
            "9      20대   Female   7.62 \n",
            "10     30대   Female  15.82 \n",
            "11     40대   Female  17.69 \n",
            "12     50대   Female   9.67 \n",
            "13  60대 이상   Female   3.14 \n"
          ]
        }
      ],
      "source": [
        "print(demo_users)\n",
        "demo_users.info()\n",
        "del demo_users['Start']\n",
        "del demo_users['End']\n",
        "demo_users[\"Male\"] = demo_users[\"Male\"].str.replace(pat=r'[%]', repl=r'', regex=True)\n",
        "demo_users[\"Female\"] = demo_users[\"Female\"].str.replace(pat=r'[%]', repl=r'', regex=True)\n",
        "demo_users[\"Male\"].astype('float64')\n",
        "demo_users[\"Female\"].astype('float64')\n",
        "demo_anl = pd.melt(demo_users, id_vars=['Age'], value_vars = [\"Male\",\"Female\"])\n",
        "print(demo_anl)"
      ]
    },
    {
      "cell_type": "code",
      "execution_count": null,
      "metadata": {
        "id": "UuqYWjPJYlvJ",
        "outputId": "e3e3ba83-6f05-42e4-cbd2-e71018bcbb6e"
      },
      "outputs": [
        {
          "data": {
            "text/html": [
              "<div>\n",
              "<style scoped>\n",
              "    .dataframe tbody tr th:only-of-type {\n",
              "        vertical-align: middle;\n",
              "    }\n",
              "\n",
              "    .dataframe tbody tr th {\n",
              "        vertical-align: top;\n",
              "    }\n",
              "\n",
              "    .dataframe thead th {\n",
              "        text-align: right;\n",
              "    }\n",
              "</style>\n",
              "<table border=\"1\" class=\"dataframe\">\n",
              "  <thead>\n",
              "    <tr style=\"text-align: right;\">\n",
              "      <th></th>\n",
              "      <th>Age</th>\n",
              "      <th>variable</th>\n",
              "      <th>value</th>\n",
              "    </tr>\n",
              "  </thead>\n",
              "  <tbody>\n",
              "    <tr>\n",
              "      <th>0</th>\n",
              "      <td>전체</td>\n",
              "      <td>Male</td>\n",
              "      <td>43.54</td>\n",
              "    </tr>\n",
              "    <tr>\n",
              "      <th>1</th>\n",
              "      <td>10대 이하</td>\n",
              "      <td>Male</td>\n",
              "      <td>1.60</td>\n",
              "    </tr>\n",
              "    <tr>\n",
              "      <th>2</th>\n",
              "      <td>20대</td>\n",
              "      <td>Male</td>\n",
              "      <td>5.40</td>\n",
              "    </tr>\n",
              "    <tr>\n",
              "      <th>3</th>\n",
              "      <td>30대</td>\n",
              "      <td>Male</td>\n",
              "      <td>11.10</td>\n",
              "    </tr>\n",
              "    <tr>\n",
              "      <th>4</th>\n",
              "      <td>40대</td>\n",
              "      <td>Male</td>\n",
              "      <td>13.74</td>\n",
              "    </tr>\n",
              "    <tr>\n",
              "      <th>5</th>\n",
              "      <td>50대</td>\n",
              "      <td>Male</td>\n",
              "      <td>9.57</td>\n",
              "    </tr>\n",
              "    <tr>\n",
              "      <th>6</th>\n",
              "      <td>60대 이상</td>\n",
              "      <td>Male</td>\n",
              "      <td>2.13</td>\n",
              "    </tr>\n",
              "    <tr>\n",
              "      <th>7</th>\n",
              "      <td>전체</td>\n",
              "      <td>Female</td>\n",
              "      <td>56.46</td>\n",
              "    </tr>\n",
              "    <tr>\n",
              "      <th>8</th>\n",
              "      <td>10대 이하</td>\n",
              "      <td>Female</td>\n",
              "      <td>2.52</td>\n",
              "    </tr>\n",
              "    <tr>\n",
              "      <th>9</th>\n",
              "      <td>20대</td>\n",
              "      <td>Female</td>\n",
              "      <td>7.62</td>\n",
              "    </tr>\n",
              "    <tr>\n",
              "      <th>10</th>\n",
              "      <td>30대</td>\n",
              "      <td>Female</td>\n",
              "      <td>15.82</td>\n",
              "    </tr>\n",
              "    <tr>\n",
              "      <th>11</th>\n",
              "      <td>40대</td>\n",
              "      <td>Female</td>\n",
              "      <td>17.69</td>\n",
              "    </tr>\n",
              "    <tr>\n",
              "      <th>12</th>\n",
              "      <td>50대</td>\n",
              "      <td>Female</td>\n",
              "      <td>9.67</td>\n",
              "    </tr>\n",
              "    <tr>\n",
              "      <th>13</th>\n",
              "      <td>60대 이상</td>\n",
              "      <td>Female</td>\n",
              "      <td>3.14</td>\n",
              "    </tr>\n",
              "  </tbody>\n",
              "</table>\n",
              "</div>"
            ],
            "text/plain": [
              "       Age variable   value\n",
              "0       전체     Male  43.54 \n",
              "1   10대 이하     Male   1.60 \n",
              "2      20대     Male   5.40 \n",
              "3      30대     Male  11.10 \n",
              "4      40대     Male  13.74 \n",
              "5      50대     Male   9.57 \n",
              "6   60대 이상     Male   2.13 \n",
              "7       전체   Female  56.46 \n",
              "8   10대 이하   Female   2.52 \n",
              "9      20대   Female   7.62 \n",
              "10     30대   Female  15.82 \n",
              "11     40대   Female  17.69 \n",
              "12     50대   Female   9.67 \n",
              "13  60대 이상   Female   3.14 "
            ]
          },
          "execution_count": 8,
          "metadata": {},
          "output_type": "execute_result"
        }
      ],
      "source": [
        "demo_anl = pd.melt(demo_users, id_vars=['Age'], value_vars = [\"Male\",\"Female\"])\n",
        "demo_anl"
      ]
    },
    {
      "cell_type": "code",
      "execution_count": null,
      "metadata": {
        "scrolled": true,
        "id": "xg6LTB8RYlvJ",
        "outputId": "5cd7e09e-1881-4ba1-9a77-1bdf037ec748"
      },
      "outputs": [
        {
          "name": "stderr",
          "output_type": "stream",
          "text": [
            "<ipython-input-10-0eb11645a00c>:3: SettingWithCopyWarning: \n",
            "A value is trying to be set on a copy of a slice from a DataFrame\n",
            "\n",
            "See the caveats in the documentation: https://pandas.pydata.org/pandas-docs/stable/user_guide/indexing.html#returning-a-view-versus-a-copy\n",
            "  demo_users['All'][i] = float(demo_users['Male'][i]) + float(demo_users['Female'][i])\n"
          ]
        }
      ],
      "source": [
        "demo_users['All'] = np.nan\n",
        "for i in range(len(demo_users)):\n",
        "    demo_users['All'][i] = float(demo_users['Male'][i]) + float(demo_users['Female'][i])"
      ]
    },
    {
      "cell_type": "code",
      "execution_count": null,
      "metadata": {
        "id": "p2ku-oPPYlvJ",
        "outputId": "74ce6c94-9ca8-457c-96bc-331af2e74823"
      },
      "outputs": [
        {
          "data": {
            "text/plain": [
              "0    100.00\n",
              "1      4.12\n",
              "2     13.02\n",
              "3     26.92\n",
              "4     31.43\n",
              "5     19.24\n",
              "6      5.27\n",
              "Name: All, dtype: float64"
            ]
          },
          "execution_count": 11,
          "metadata": {},
          "output_type": "execute_result"
        }
      ],
      "source": [
        "demo_users['All']"
      ]
    },
    {
      "cell_type": "code",
      "execution_count": null,
      "metadata": {
        "id": "SDbWlI9AYlvK",
        "outputId": "04551355-298c-466b-80ef-5bfd61769620"
      },
      "outputs": [
        {
          "name": "stderr",
          "output_type": "stream",
          "text": [
            "<ipython-input-13-74a98d1aa4fd>:10: MatplotlibDeprecationWarning: The 'b' parameter of grid() has been renamed 'visible' since Matplotlib 3.5; support for the old name will be dropped two minor releases later.\n",
            "  plt.grid(b=False) #grid 아예 없앤거!\n"
          ]
        },
        {
          "data": {
            "image/png": "[encoded data removed]",
            "text/plain": [
              "<Figure size 1008x720 with 1 Axes>"
            ]
          },
          "metadata": {},
          "output_type": "display_data"
        }
      ],
      "source": [
        "plt.figure(figsize=(14,10))\n",
        "colors = sns.light_palette(\"#5851FF\", reverse=True) #color팔레트 구성해주기\n",
        "\n",
        "s1 = sns.barplot(data = demo_users[demo_users['Age']!='전체'], x = 'Age', y = 'All',color='#8984FF')\n",
        "s2 = sns.barplot(data = demo_users[demo_users['Age']!='전체'], x = 'Age', y = 'Male',color='#4038FF')\n",
        "\n",
        "plt.rc('figure', facecolor = '#242424')#그래프 밖 테마색\n",
        "ax = plt.gca()\n",
        "ax.set_facecolor('#242424')#그래프 배경색\n",
        "plt.grid(b=False) #grid 아예 없앤거!\n",
        "\n",
        "ax.spines['right'].set_visible(False) #오른쪽 테두리 제거\n",
        "ax.spines['top'].set_visible(False) #위 테두리 제거\n",
        "ax.spines['left'].set_visible(False) #왼쪽 테두리 제거\n",
        "\n",
        "plt.ylim([0,100])\n",
        "plt.title('사용자 구성 비율',fontsize = 25, color = 'white')\n",
        "ax.tick_params(axis='y', colors='white') #y축 변수들 흰색\n",
        "ax.tick_params(axis='x', colors='white') #y축 변수들 흰색\n",
        "\n",
        "variable_x = mpatches.Patch(color='#8984FF',label='여성')\n",
        "variable_y = mpatches.Patch(color='#4038FF',label='남성')\n",
        "\n",
        "leg = plt.legend(handles=[variable_x, variable_y],facecolor='#242424',edgecolor='#242424',\n",
        "                 fontsize = 15,labelcolor='white')\n",
        "\n",
        "plt.xlabel('연령',color='white') #x축단어설정, 흰색\n",
        "plt.ylabel('',color='white') #x축단어설정, 흰색\n",
        "\n",
        "#for i, le in enumerate(leg.get_texts()): ## 범례 텍스트 클래스를 하나씩 돌면서 색을 설정한다.\n",
        "    #le.set_color('white') ## 선 그래프의 색상을 가져온다.\n",
        "\n",
        "plt.show()"
      ]
    },
    {
      "cell_type": "code",
      "execution_count": null,
      "metadata": {
        "id": "MCOLZIubYlvK",
        "outputId": "643f5a25-6cc5-4083-9fca-95df22192ab4"
      },
      "outputs": [
        {
          "data": {
            "image/png": "[encoded data removed]",
            "text/plain": [
              "<Figure size 1008x720 with 1 Axes>"
            ]
          },
          "metadata": {},
          "output_type": "display_data"
        }
      ],
      "source": [
        "plt.figure(figsize=(14,10))\n",
        "patches, texts, autotexts = plt.pie([demo_users[\"Male\"][0],demo_users[\"Female\"][0]],\n",
        "       labels=['Male','Female'],autopct='%.2f%%',\n",
        "       startangle=90,explode=[0,0.03],\n",
        "       wedgeprops={'width': 0.7, 'edgecolor': 'black', 'linewidth': 3},\n",
        "       colors = ['#4038FF','#8984FF'])\n",
        "\n",
        "for t in texts:\n",
        "    t.set_color(\"white\")\n",
        "    t.set_fontsize(15)\n",
        "\n",
        "for t in autotexts:\n",
        "    t.set_color(\"white\")\n",
        "    t.set_fontsize(15)\n",
        "    \n",
        "plt.title(\"사용자 구성 성별 비율\",fontsize = 25, color = 'white' )\n",
        "\n",
        "plt.show()"
      ]
    },
    {
      "cell_type": "code",
      "execution_count": null,
      "metadata": {
        "id": "EqaUsOWKYlvL"
      },
      "outputs": [],
      "source": [
        "demo_time = pd.read_csv('수면소리/수면소리_데모그래픽_사용시간구성.csv',index_col=0)\n"
      ]
    },
    {
      "cell_type": "code",
      "execution_count": null,
      "metadata": {
        "id": "iKz-sJZ9YlvL",
        "outputId": "5eb00436-9920-434c-e157-cce579916f9d"
      },
      "outputs": [
        {
          "name": "stdout",
          "output_type": "stream",
          "text": [
            "        Start         End     Age     Male   Female\n",
            "0  2021-10-23  2022-01-22      전체  46.42 %  52.54 %\n",
            "1  2021-10-23  2022-01-22  10대 이하   1.05 %   0.91 %\n",
            "2  2021-10-23  2022-01-22     20대   5.24 %   6.51 %\n",
            "3  2021-10-23  2022-01-22     30대  13.46 %  16.25 %\n",
            "4  2021-10-23  2022-01-22     40대  13.92 %  14.33 %\n",
            "5  2021-10-23  2022-01-22     50대  11.88 %   9.62 %\n",
            "6  2021-10-23  2022-01-22  60대 이상   1.91 %   4.92 %\n",
            "<class 'pandas.core.frame.DataFrame'>\n",
            "Int64Index: 7 entries, 0 to 6\n",
            "Data columns (total 5 columns):\n",
            " #   Column  Non-Null Count  Dtype \n",
            "---  ------  --------------  ----- \n",
            " 0   Start   7 non-null      object\n",
            " 1   End     7 non-null      object\n",
            " 2   Age     7 non-null      object\n",
            " 3   Male    7 non-null      object\n",
            " 4   Female  7 non-null      object\n",
            "dtypes: object(5)\n",
            "memory usage: 336.0+ bytes\n"
          ]
        },
        {
          "data": {
            "text/plain": [
              "0    52.54\n",
              "1     0.91\n",
              "2     6.51\n",
              "3    16.25\n",
              "4    14.33\n",
              "5     9.62\n",
              "6     4.92\n",
              "Name: Female, dtype: float64"
            ]
          },
          "execution_count": 16,
          "metadata": {},
          "output_type": "execute_result"
        }
      ],
      "source": [
        "print(demo_time)\n",
        "demo_time.info()\n",
        "\n",
        "demo_time[\"Male\"] = demo_time[\"Male\"].str.replace(pat=r'[%]', repl=r'', regex=True)\n",
        "demo_time[\"Female\"] = demo_time[\"Female\"].str.replace(pat=r'[%]', repl=r'', regex=True)\n",
        "del demo_time['Start']\n",
        "del demo_time['End']\n",
        "demo_time[\"Male\"].astype('float64')\n",
        "demo_time[\"Female\"].astype('float64')"
      ]
    },
    {
      "cell_type": "code",
      "execution_count": null,
      "metadata": {
        "id": "DuUNw8_IYlvM",
        "outputId": "c9022faa-4b36-49a8-e133-2a9db79247a8"
      },
      "outputs": [
        {
          "name": "stdout",
          "output_type": "stream",
          "text": [
            "       Age variable   value\n",
            "0       전체     Male  46.42 \n",
            "1   10대 이하     Male   1.05 \n",
            "2      20대     Male   5.24 \n",
            "3      30대     Male  13.46 \n",
            "4      40대     Male  13.92 \n",
            "5      50대     Male  11.88 \n",
            "6   60대 이상     Male   1.91 \n",
            "7       전체   Female  52.54 \n",
            "8   10대 이하   Female   0.91 \n",
            "9      20대   Female   6.51 \n",
            "10     30대   Female  16.25 \n",
            "11     40대   Female  14.33 \n",
            "12     50대   Female   9.62 \n",
            "13  60대 이상   Female   4.92 \n"
          ]
        }
      ],
      "source": [
        "time_anl = pd.melt(demo_time, id_vars=['Age'], value_vars = [\"Male\",\"Female\"])\n",
        "print(time_anl)"
      ]
    },
    {
      "cell_type": "code",
      "execution_count": null,
      "metadata": {
        "scrolled": false,
        "id": "1l1MkVp-YlvM",
        "outputId": "bad289ba-589c-4fdb-dc33-eb6f0b1445ed"
      },
      "outputs": [
        {
          "name": "stderr",
          "output_type": "stream",
          "text": [
            "<ipython-input-18-cd177cc1ed08>:12: MatplotlibDeprecationWarning: The 'b' parameter of grid() has been renamed 'visible' since Matplotlib 3.5; support for the old name will be dropped two minor releases later.\n",
            "  plt.grid(b=False) #grid 아예 없앤거!\n"
          ]
        },
        {
          "data": {
            "image/png": "[encoded data removed]",
            "text/plain": [
              "<Figure size 1152x576 with 1 Axes>"
            ]
          },
          "metadata": {},
          "output_type": "display_data"
        }
      ],
      "source": [
        "plt.figure(figsize=(16,8))\n",
        "colors = sns.light_palette(\"#5851FF\", reverse=True) #color팔레트 구성해주기\n",
        "\n",
        "\n",
        "sns.barplot(data = time_anl[time_anl['Age']!='전체'], x='Age',y='value',hue='variable',\n",
        "           palette = ['#4038FF','#8984FF'])\n",
        "plt.ylim([0,100])\n",
        "\n",
        "plt.rc('figure', facecolor = '#242424')#그래프 밖 테마색\n",
        "ax = plt.gca()\n",
        "ax.set_facecolor('#242424')#그래프 배경색\n",
        "plt.grid(b=False) #grid 아예 없앤거!\n",
        "ax.spines['right'].set_visible(False) #오른쪽 테두리 제거\n",
        "ax.spines['top'].set_visible(False) #위 테두리 제거\n",
        "ax.spines['left'].set_visible(False) #왼쪽 테두리 제거\n",
        "\n",
        "\n",
        "plt.legend(facecolor='#242424',edgecolor='#242424',\n",
        "                 fontsize = 13,labelcolor='white')\n",
        "\n",
        "\n",
        "ax.tick_params(axis='y', colors='white') #y축 변수들 흰색\n",
        "ax.tick_params(axis='x', colors='white') #y축 변수들 흰색\n",
        "\n",
        "plt.xlabel('연령',color='white') #x축단어설정, 흰색\n",
        "plt.ylabel('',color='white') #x축단어설정, 흰색\n",
        "\n",
        "\n",
        "plt.title('성별, 연령별 사용시간 비율',fontsize = 20, color = 'white')\n",
        "\n",
        "plt.show()"
      ]
    },
    {
      "cell_type": "code",
      "execution_count": null,
      "metadata": {
        "id": "3GSjGs1QYlvN"
      },
      "outputs": [],
      "source": [
        "rate = demo_time[['Male','Female']].astype('float64')/demo_users[['Male','Female']].astype('float64')"
      ]
    },
    {
      "cell_type": "code",
      "execution_count": null,
      "metadata": {
        "id": "bsXTdhekYlvN"
      },
      "outputs": [],
      "source": [
        "rate['Age'] = ['전체','10대 이하','20대','30대','40대','50대','60대 이상']"
      ]
    },
    {
      "cell_type": "code",
      "execution_count": null,
      "metadata": {
        "id": "hoGffe4zYlvO",
        "outputId": "efc73195-60d6-442f-ce8d-91e4216608af"
      },
      "outputs": [
        {
          "data": {
            "text/html": [
              "<div>\n",
              "<style scoped>\n",
              "    .dataframe tbody tr th:only-of-type {\n",
              "        vertical-align: middle;\n",
              "    }\n",
              "\n",
              "    .dataframe tbody tr th {\n",
              "        vertical-align: top;\n",
              "    }\n",
              "\n",
              "    .dataframe thead th {\n",
              "        text-align: right;\n",
              "    }\n",
              "</style>\n",
              "<table border=\"1\" class=\"dataframe\">\n",
              "  <thead>\n",
              "    <tr style=\"text-align: right;\">\n",
              "      <th></th>\n",
              "      <th>Age</th>\n",
              "      <th>variable</th>\n",
              "      <th>value</th>\n",
              "    </tr>\n",
              "  </thead>\n",
              "  <tbody>\n",
              "    <tr>\n",
              "      <th>0</th>\n",
              "      <td>전체</td>\n",
              "      <td>Male</td>\n",
              "      <td>1.066146</td>\n",
              "    </tr>\n",
              "    <tr>\n",
              "      <th>1</th>\n",
              "      <td>10대 이하</td>\n",
              "      <td>Male</td>\n",
              "      <td>0.656250</td>\n",
              "    </tr>\n",
              "    <tr>\n",
              "      <th>2</th>\n",
              "      <td>20대</td>\n",
              "      <td>Male</td>\n",
              "      <td>0.970370</td>\n",
              "    </tr>\n",
              "    <tr>\n",
              "      <th>3</th>\n",
              "      <td>30대</td>\n",
              "      <td>Male</td>\n",
              "      <td>1.212613</td>\n",
              "    </tr>\n",
              "    <tr>\n",
              "      <th>4</th>\n",
              "      <td>40대</td>\n",
              "      <td>Male</td>\n",
              "      <td>1.013100</td>\n",
              "    </tr>\n",
              "    <tr>\n",
              "      <th>5</th>\n",
              "      <td>50대</td>\n",
              "      <td>Male</td>\n",
              "      <td>1.241379</td>\n",
              "    </tr>\n",
              "    <tr>\n",
              "      <th>6</th>\n",
              "      <td>60대 이상</td>\n",
              "      <td>Male</td>\n",
              "      <td>0.896714</td>\n",
              "    </tr>\n",
              "    <tr>\n",
              "      <th>7</th>\n",
              "      <td>전체</td>\n",
              "      <td>Female</td>\n",
              "      <td>0.930570</td>\n",
              "    </tr>\n",
              "    <tr>\n",
              "      <th>8</th>\n",
              "      <td>10대 이하</td>\n",
              "      <td>Female</td>\n",
              "      <td>0.361111</td>\n",
              "    </tr>\n",
              "    <tr>\n",
              "      <th>9</th>\n",
              "      <td>20대</td>\n",
              "      <td>Female</td>\n",
              "      <td>0.854331</td>\n",
              "    </tr>\n",
              "    <tr>\n",
              "      <th>10</th>\n",
              "      <td>30대</td>\n",
              "      <td>Female</td>\n",
              "      <td>1.027181</td>\n",
              "    </tr>\n",
              "    <tr>\n",
              "      <th>11</th>\n",
              "      <td>40대</td>\n",
              "      <td>Female</td>\n",
              "      <td>0.810062</td>\n",
              "    </tr>\n",
              "    <tr>\n",
              "      <th>12</th>\n",
              "      <td>50대</td>\n",
              "      <td>Female</td>\n",
              "      <td>0.994829</td>\n",
              "    </tr>\n",
              "    <tr>\n",
              "      <th>13</th>\n",
              "      <td>60대 이상</td>\n",
              "      <td>Female</td>\n",
              "      <td>1.566879</td>\n",
              "    </tr>\n",
              "  </tbody>\n",
              "</table>\n",
              "</div>"
            ],
            "text/plain": [
              "       Age variable     value\n",
              "0       전체     Male  1.066146\n",
              "1   10대 이하     Male  0.656250\n",
              "2      20대     Male  0.970370\n",
              "3      30대     Male  1.212613\n",
              "4      40대     Male  1.013100\n",
              "5      50대     Male  1.241379\n",
              "6   60대 이상     Male  0.896714\n",
              "7       전체   Female  0.930570\n",
              "8   10대 이하   Female  0.361111\n",
              "9      20대   Female  0.854331\n",
              "10     30대   Female  1.027181\n",
              "11     40대   Female  0.810062\n",
              "12     50대   Female  0.994829\n",
              "13  60대 이상   Female  1.566879"
            ]
          },
          "execution_count": 22,
          "metadata": {},
          "output_type": "execute_result"
        }
      ],
      "source": [
        "rate_anl = pd.melt(rate, id_vars=['Age'], value_vars = [\"Male\",\"Female\"])\n",
        "rate_anl"
      ]
    },
    {
      "cell_type": "code",
      "execution_count": null,
      "metadata": {
        "scrolled": true,
        "id": "yzHo1W7BYlvO",
        "outputId": "6e487f6f-2e2c-4503-8c85-05daee9869a6"
      },
      "outputs": [
        {
          "name": "stderr",
          "output_type": "stream",
          "text": [
            "<ipython-input-24-adc27121d0ce>:9: MatplotlibDeprecationWarning: The 'b' parameter of grid() has been renamed 'visible' since Matplotlib 3.5; support for the old name will be dropped two minor releases later.\n",
            "  plt.grid(b=False) #grid 아예 없앤거!\n"
          ]
        },
        {
          "data": {
            "image/png": "[encoded data removed]",
            "text/plain": [
              "<Figure size 864x576 with 1 Axes>"
            ]
          },
          "metadata": {},
          "output_type": "display_data"
        }
      ],
      "source": [
        "plt.figure(figsize=(12,8))\n",
        "\n",
        "\n",
        "sns.barplot(data = rate_anl, x='Age',y='value',hue='variable',palette = ['#4038FF','#8984FF'])\n",
        "\n",
        "plt.rc('figure', facecolor = '#242424')#그래프 밖 테마색\n",
        "ax = plt.gca()\n",
        "ax.set_facecolor('#242424')#그래프 배경색\n",
        "plt.grid(b=False) #grid 아예 없앤거!\n",
        "ax.spines['right'].set_visible(False) #오른쪽 테두리 제거\n",
        "ax.spines['top'].set_visible(False) #위 테두리 제거\n",
        "ax.spines['left'].set_visible(False) #왼쪽 테두리 제거\n",
        "\n",
        "\n",
        "plt.legend(facecolor='#242424',edgecolor='#242424',\n",
        "                 fontsize = 13,labelcolor='white')\n",
        "\n",
        "\n",
        "ax.tick_params(axis='y', colors='white') #y축 변수들 흰색\n",
        "ax.tick_params(axis='x', colors='white') #y축 변수들 흰색\n",
        "\n",
        "plt.xlabel('연령',color='white') #x축단어설정, 흰색\n",
        "plt.ylabel('',color='white') #x축단어설정, 흰색\n",
        "\n",
        "\n",
        "plt.title('사용 시간 비율 / 사용자 비율',fontsize = 20, color = 'white')\n",
        "plt.show()\n"
      ]
    },
    {
      "cell_type": "markdown",
      "metadata": {
        "id": "oaMqvKAoYlvP"
      },
      "source": [
        "Calm 데모그래픽 그래프"
      ]
    },
    {
      "cell_type": "code",
      "execution_count": null,
      "metadata": {
        "id": "CNBjz-kNYlvQ"
      },
      "outputs": [],
      "source": [
        "calm_demo_users = pd.read_csv('Calm/Calm_데모그래픽_사용자구성.csv',index_col=0)"
      ]
    },
    {
      "cell_type": "code",
      "execution_count": null,
      "metadata": {
        "id": "g27IBy9GYlvQ"
      },
      "outputs": [],
      "source": [
        "print(calm_demo_users)\n",
        "calm_demo_users.info()\n",
        "del calm_demo_users['Start']\n",
        "del calm_demo_users['End']\n",
        "calm_demo_users[\"Male\"] = calm_demo_users[\"Male\"].str.replace(pat=r'[%]', repl=r'', regex=True)\n",
        "calm_demo_users[\"Female\"] = calm_demo_users[\"Female\"].str.replace(pat=r'[%]', repl=r'', regex=True)\n",
        "calm_demo_users[\"Male\"].astype('float64')\n",
        "calm_demo_users[\"Female\"].astype('float64')\n",
        "calm_demo_anl = pd.melt(calm_demo_users, id_vars=['Age'], value_vars = [\"Male\",\"Female\"])\n",
        "print(calm_demo_anl)"
      ]
    },
    {
      "cell_type": "code",
      "execution_count": null,
      "metadata": {
        "id": "vENIeZl4YlvR",
        "outputId": "e773e128-413f-4c2e-9dae-f3b81b4f2042"
      },
      "outputs": [
        {
          "data": {
            "text/html": [
              "<div>\n",
              "<style scoped>\n",
              "    .dataframe tbody tr th:only-of-type {\n",
              "        vertical-align: middle;\n",
              "    }\n",
              "\n",
              "    .dataframe tbody tr th {\n",
              "        vertical-align: top;\n",
              "    }\n",
              "\n",
              "    .dataframe thead th {\n",
              "        text-align: right;\n",
              "    }\n",
              "</style>\n",
              "<table border=\"1\" class=\"dataframe\">\n",
              "  <thead>\n",
              "    <tr style=\"text-align: right;\">\n",
              "      <th></th>\n",
              "      <th>Age</th>\n",
              "      <th>variable</th>\n",
              "      <th>value</th>\n",
              "    </tr>\n",
              "  </thead>\n",
              "  <tbody>\n",
              "    <tr>\n",
              "      <th>0</th>\n",
              "      <td>전체</td>\n",
              "      <td>Male</td>\n",
              "      <td>34.19</td>\n",
              "    </tr>\n",
              "    <tr>\n",
              "      <th>1</th>\n",
              "      <td>10대 이하</td>\n",
              "      <td>Male</td>\n",
              "      <td>1.34</td>\n",
              "    </tr>\n",
              "    <tr>\n",
              "      <th>2</th>\n",
              "      <td>20대</td>\n",
              "      <td>Male</td>\n",
              "      <td>8.88</td>\n",
              "    </tr>\n",
              "    <tr>\n",
              "      <th>3</th>\n",
              "      <td>30대</td>\n",
              "      <td>Male</td>\n",
              "      <td>10.31</td>\n",
              "    </tr>\n",
              "    <tr>\n",
              "      <th>4</th>\n",
              "      <td>40대</td>\n",
              "      <td>Male</td>\n",
              "      <td>8.65</td>\n",
              "    </tr>\n",
              "    <tr>\n",
              "      <th>5</th>\n",
              "      <td>50대</td>\n",
              "      <td>Male</td>\n",
              "      <td>4.15</td>\n",
              "    </tr>\n",
              "    <tr>\n",
              "      <th>6</th>\n",
              "      <td>60대 이상</td>\n",
              "      <td>Male</td>\n",
              "      <td>0.87</td>\n",
              "    </tr>\n",
              "    <tr>\n",
              "      <th>7</th>\n",
              "      <td>전체</td>\n",
              "      <td>Female</td>\n",
              "      <td>65.81</td>\n",
              "    </tr>\n",
              "    <tr>\n",
              "      <th>8</th>\n",
              "      <td>10대 이하</td>\n",
              "      <td>Female</td>\n",
              "      <td>1.72</td>\n",
              "    </tr>\n",
              "    <tr>\n",
              "      <th>9</th>\n",
              "      <td>20대</td>\n",
              "      <td>Female</td>\n",
              "      <td>19.15</td>\n",
              "    </tr>\n",
              "    <tr>\n",
              "      <th>10</th>\n",
              "      <td>30대</td>\n",
              "      <td>Female</td>\n",
              "      <td>18.07</td>\n",
              "    </tr>\n",
              "    <tr>\n",
              "      <th>11</th>\n",
              "      <td>40대</td>\n",
              "      <td>Female</td>\n",
              "      <td>19.28</td>\n",
              "    </tr>\n",
              "    <tr>\n",
              "      <th>12</th>\n",
              "      <td>50대</td>\n",
              "      <td>Female</td>\n",
              "      <td>6.25</td>\n",
              "    </tr>\n",
              "    <tr>\n",
              "      <th>13</th>\n",
              "      <td>60대 이상</td>\n",
              "      <td>Female</td>\n",
              "      <td>1.33</td>\n",
              "    </tr>\n",
              "  </tbody>\n",
              "</table>\n",
              "</div>"
            ],
            "text/plain": [
              "       Age variable  value\n",
              "0       전체     Male  34.19\n",
              "1   10대 이하     Male   1.34\n",
              "2      20대     Male   8.88\n",
              "3      30대     Male  10.31\n",
              "4      40대     Male   8.65\n",
              "5      50대     Male   4.15\n",
              "6   60대 이상     Male   0.87\n",
              "7       전체   Female  65.81\n",
              "8   10대 이하   Female   1.72\n",
              "9      20대   Female  19.15\n",
              "10     30대   Female  18.07\n",
              "11     40대   Female  19.28\n",
              "12     50대   Female   6.25\n",
              "13  60대 이상   Female   1.33"
            ]
          },
          "execution_count": 45,
          "metadata": {},
          "output_type": "execute_result"
        }
      ],
      "source": [
        "calm_demo_anl = pd.melt(calm_demo_users, id_vars=['Age'], value_vars = [\"Male\",\"Female\"])\n",
        "calm_demo_anl"
      ]
    },
    {
      "cell_type": "code",
      "execution_count": null,
      "metadata": {
        "scrolled": true,
        "id": "5TbHXLMJYlvS",
        "outputId": "e7910b11-d57f-4fc7-ec8d-82ff41fe4940"
      },
      "outputs": [
        {
          "name": "stderr",
          "output_type": "stream",
          "text": [
            "<ipython-input-47-116cf4c96290>:3: SettingWithCopyWarning: \n",
            "A value is trying to be set on a copy of a slice from a DataFrame\n",
            "\n",
            "See the caveats in the documentation: https://pandas.pydata.org/pandas-docs/stable/user_guide/indexing.html#returning-a-view-versus-a-copy\n",
            "  calm_demo_users['All'][i] = float(calm_demo_users['Male'][i]) + float(calm_demo_users['Female'][i])\n"
          ]
        }
      ],
      "source": [
        "calm_demo_users['All'] = np.nan\n",
        "for i in range(len(calm_demo_users)):\n",
        "    calm_demo_users['All'][i] = float(calm_demo_users['Male'][i]) + float(calm_demo_users['Female'][i])"
      ]
    },
    {
      "cell_type": "code",
      "execution_count": null,
      "metadata": {
        "id": "6MVmky-NYlvS",
        "outputId": "7970793d-24e7-46e8-ed12-027445b7e5f4"
      },
      "outputs": [
        {
          "name": "stderr",
          "output_type": "stream",
          "text": [
            "<ipython-input-69-d9107cb3e3ad>:10: MatplotlibDeprecationWarning: The 'b' parameter of grid() has been renamed 'visible' since Matplotlib 3.5; support for the old name will be dropped two minor releases later.\n",
            "  plt.grid(b=False) #grid 아예 없앤거!\n"
          ]
        },
        {
          "data": {
            "image/png": "[encoded data removed]",
            "text/plain": [
              "<Figure size 1008x720 with 1 Axes>"
            ]
          },
          "metadata": {},
          "output_type": "display_data"
        }
      ],
      "source": [
        "plt.figure(figsize=(14,10))\n",
        "colors = sns.light_palette(\"#5851FF\", reverse=True) #color팔레트 구성해주기\n",
        "\n",
        "s1 = sns.barplot(data = calm_demo_users[calm_demo_users['Age']!='전체'], x = 'Age', y = 'All',color='#8984FF')\n",
        "s2 = sns.barplot(data = calm_demo_users[calm_demo_users['Age']!='전체'], x = 'Age', y = 'Male',color='#4038FF')\n",
        "\n",
        "plt.rc('figure', facecolor = '#242424')#그래프 밖 테마색\n",
        "ax = plt.gca()\n",
        "ax.set_facecolor('#242424')#그래프 배경색\n",
        "plt.grid(b=False) #grid 아예 없앤거!\n",
        "\n",
        "ax.spines['right'].set_visible(False) #오른쪽 테두리 제거\n",
        "ax.spines['top'].set_visible(False) #위 테두리 제거\n",
        "ax.spines['left'].set_visible(False) #왼쪽 테두리 제거\n",
        "\n",
        "plt.ylim([0,100])\n",
        "plt.title('사용자 구성 비율',fontsize = 25, color = 'white')\n",
        "ax.tick_params(axis='y', colors='white') #y축 변수들 흰색\n",
        "ax.tick_params(axis='x', colors='white') #y축 변수들 흰색\n",
        "\n",
        "plt.xlabel('연령',color='white') #x축단어설정, 흰색\n",
        "plt.ylabel('',color='white') #x축단어설정, 흰색\n",
        "\n",
        "variable_x = mpatches.Patch(color='#8984FF',label='여성')\n",
        "variable_y = mpatches.Patch(color='#4038FF',label='남성')\n",
        "\n",
        "leg = plt.legend(handles=[variable_x, variable_y],facecolor='#242424',edgecolor='#242424',\n",
        "                 fontsize = 15,labelcolor='white')\n",
        "\n",
        "#for i, le in enumerate(leg.get_texts()): ## 범례 텍스트 클래스를 하나씩 돌면서 색을 설정한다.\n",
        "    #le.set_color('white') ## 선 그래프의 색상을 가져온다.\n",
        "\n",
        "plt.show()"
      ]
    },
    {
      "cell_type": "code",
      "execution_count": null,
      "metadata": {
        "id": "wbC5etsyYlvU",
        "outputId": "f24bfaa3-fe0a-4ae8-f364-03107b12a5bd"
      },
      "outputs": [
        {
          "data": {
            "image/png": "[encoded data removed]",
            "text/plain": [
              "<Figure size 1008x720 with 1 Axes>"
            ]
          },
          "metadata": {},
          "output_type": "display_data"
        }
      ],
      "source": [
        "plt.figure(figsize=(14,10))\n",
        "patches, texts, autotexts = plt.pie([calm_demo_users[\"Male\"][0],calm_demo_users[\"Female\"][0]],\n",
        "       labels=['Male','Female'],autopct='%.2f%%',\n",
        "       startangle=90,explode=[0,0.03],\n",
        "       wedgeprops={'width': 0.7, 'edgecolor': 'black', 'linewidth': 3},\n",
        "       colors = ['#4038FF','#8984FF'])\n",
        "\n",
        "for t in texts:\n",
        "    t.set_color(\"white\")\n",
        "    t.set_fontsize(15)\n",
        "\n",
        "for t in autotexts:\n",
        "    t.set_color(\"white\")\n",
        "    t.set_fontsize(15)\n",
        "    \n",
        "plt.title(\"사용자 구성 성별 비율\",fontsize = 25, color = 'white' )\n",
        "\n",
        "plt.show()"
      ]
    },
    {
      "cell_type": "code",
      "execution_count": null,
      "metadata": {
        "id": "iam4MXL5YlvV"
      },
      "outputs": [],
      "source": [
        "calm_demo_time = pd.read_csv('Calm/Calm_데모그래픽_사용시간구성.csv',index_col=0)\n"
      ]
    },
    {
      "cell_type": "code",
      "execution_count": null,
      "metadata": {
        "id": "_Xeh6-xJYlvV"
      },
      "outputs": [],
      "source": [
        "print(calm_demo_time)\n",
        "calm_demo_time.info()\n",
        "calm_demo_time[\"Male\"] = calm_demo_time[\"Male\"].str.replace(pat=r'[%]', repl=r'', regex=True)\n",
        "calm_demo_time[\"Female\"] = calm_demo_time[\"Female\"].str.replace(pat=r'[%]', repl=r'', regex=True)\n",
        "del calm_demo_time['Start']\n",
        "del calm_demo_time['End']\n",
        "calm_demo_time[\"Male\"].astype('float64')\n",
        "calm_demo_time[\"Female\"].astype('float64')\n",
        "\n",
        "calm_time_anl = pd.melt(calm_demo_time, id_vars=['Age'], value_vars = [\"Male\",\"Female\"])\n",
        "print(calm_time_anl)"
      ]
    },
    {
      "cell_type": "code",
      "execution_count": null,
      "metadata": {
        "scrolled": false,
        "id": "DEmJLZ_TYlvW",
        "outputId": "5aebf4d9-db17-4c94-bdc0-996f9b86369a"
      },
      "outputs": [
        {
          "name": "stderr",
          "output_type": "stream",
          "text": [
            "<ipython-input-64-d3750e271f59>:12: MatplotlibDeprecationWarning: The 'b' parameter of grid() has been renamed 'visible' since Matplotlib 3.5; support for the old name will be dropped two minor releases later.\n",
            "  plt.grid(b=False) #grid 아예 없앤거!\n"
          ]
        },
        {
          "data": {
            "image/png": "[encoded data removed]",
            "text/plain": [
              "<Figure size 1152x576 with 1 Axes>"
            ]
          },
          "metadata": {},
          "output_type": "display_data"
        }
      ],
      "source": [
        "plt.figure(figsize=(16,8))\n",
        "colors = sns.light_palette(\"#5851FF\", reverse=True) #color팔레트 구성해주기\n",
        "\n",
        "\n",
        "sns.barplot(data = calm_time_anl[calm_time_anl['Age']!='전체'], x='Age',y='value',hue='variable',\n",
        "           palette = ['#4038FF','#8984FF'])\n",
        "plt.ylim([0,100])\n",
        "\n",
        "plt.rc('figure', facecolor = '#242424')#그래프 밖 테마색\n",
        "ax = plt.gca()\n",
        "ax.set_facecolor('#242424')#그래프 배경색\n",
        "plt.grid(b=False) #grid 아예 없앤거!\n",
        "ax.spines['right'].set_visible(False) #오른쪽 테두리 제거\n",
        "ax.spines['top'].set_visible(False) #위 테두리 제거\n",
        "ax.spines['left'].set_visible(False) #왼쪽 테두리 제거\n",
        "\n",
        "\n",
        "plt.legend(facecolor='#242424',edgecolor='#242424',\n",
        "                 fontsize = 13,labelcolor='white')\n",
        "\n",
        "\n",
        "ax.tick_params(axis='y', colors='white') #y축 변수들 흰색\n",
        "ax.tick_params(axis='x', colors='white') #y축 변수들 흰색\n",
        "plt.xlabel('연령',color='white') #x축단어설정, 흰색\n",
        "plt.ylabel('',color='white') #x축단어설정, 흰색\n",
        "\n",
        "plt.title('성별, 연령별 사용시간 비율',fontsize = 20, color = 'white')\n",
        "\n",
        "plt.show()"
      ]
    },
    {
      "cell_type": "code",
      "execution_count": null,
      "metadata": {
        "id": "8U48Dv2yYlvX"
      },
      "outputs": [],
      "source": [
        "calm_rate = calm_demo_time[['Male','Female']]/calm_demo_users[['Male','Female']]"
      ]
    },
    {
      "cell_type": "code",
      "execution_count": null,
      "metadata": {
        "id": "Z2eECvBlYlvX"
      },
      "outputs": [],
      "source": [
        "calm_rate['Age'] = ['전체','10대 이하','20대','30대','40대','50대','60대 이상']"
      ]
    },
    {
      "cell_type": "code",
      "execution_count": null,
      "metadata": {
        "id": "n1T74H8rYlvX",
        "outputId": "e7bc5b31-96bb-402d-b7e1-782f08f07814"
      },
      "outputs": [
        {
          "data": {
            "text/html": [
              "<div>\n",
              "<style scoped>\n",
              "    .dataframe tbody tr th:only-of-type {\n",
              "        vertical-align: middle;\n",
              "    }\n",
              "\n",
              "    .dataframe tbody tr th {\n",
              "        vertical-align: top;\n",
              "    }\n",
              "\n",
              "    .dataframe thead th {\n",
              "        text-align: right;\n",
              "    }\n",
              "</style>\n",
              "<table border=\"1\" class=\"dataframe\">\n",
              "  <thead>\n",
              "    <tr style=\"text-align: right;\">\n",
              "      <th></th>\n",
              "      <th>Age</th>\n",
              "      <th>variable</th>\n",
              "      <th>value</th>\n",
              "    </tr>\n",
              "  </thead>\n",
              "  <tbody>\n",
              "    <tr>\n",
              "      <th>0</th>\n",
              "      <td>전체</td>\n",
              "      <td>Male</td>\n",
              "      <td>0.879497</td>\n",
              "    </tr>\n",
              "    <tr>\n",
              "      <th>1</th>\n",
              "      <td>10대 이하</td>\n",
              "      <td>Male</td>\n",
              "      <td>0.201493</td>\n",
              "    </tr>\n",
              "    <tr>\n",
              "      <th>2</th>\n",
              "      <td>20대</td>\n",
              "      <td>Male</td>\n",
              "      <td>0.632883</td>\n",
              "    </tr>\n",
              "    <tr>\n",
              "      <th>3</th>\n",
              "      <td>30대</td>\n",
              "      <td>Male</td>\n",
              "      <td>0.729389</td>\n",
              "    </tr>\n",
              "    <tr>\n",
              "      <th>4</th>\n",
              "      <td>40대</td>\n",
              "      <td>Male</td>\n",
              "      <td>1.121387</td>\n",
              "    </tr>\n",
              "    <tr>\n",
              "      <th>5</th>\n",
              "      <td>50대</td>\n",
              "      <td>Male</td>\n",
              "      <td>1.573494</td>\n",
              "    </tr>\n",
              "    <tr>\n",
              "      <th>6</th>\n",
              "      <td>60대 이상</td>\n",
              "      <td>Male</td>\n",
              "      <td>0.816092</td>\n",
              "    </tr>\n",
              "    <tr>\n",
              "      <th>7</th>\n",
              "      <td>전체</td>\n",
              "      <td>Female</td>\n",
              "      <td>1.058502</td>\n",
              "    </tr>\n",
              "    <tr>\n",
              "      <th>8</th>\n",
              "      <td>10대 이하</td>\n",
              "      <td>Female</td>\n",
              "      <td>0.424419</td>\n",
              "    </tr>\n",
              "    <tr>\n",
              "      <th>9</th>\n",
              "      <td>20대</td>\n",
              "      <td>Female</td>\n",
              "      <td>0.643864</td>\n",
              "    </tr>\n",
              "    <tr>\n",
              "      <th>10</th>\n",
              "      <td>30대</td>\n",
              "      <td>Female</td>\n",
              "      <td>1.174875</td>\n",
              "    </tr>\n",
              "    <tr>\n",
              "      <th>11</th>\n",
              "      <td>40대</td>\n",
              "      <td>Female</td>\n",
              "      <td>1.395747</td>\n",
              "    </tr>\n",
              "    <tr>\n",
              "      <th>12</th>\n",
              "      <td>50대</td>\n",
              "      <td>Female</td>\n",
              "      <td>1.019200</td>\n",
              "    </tr>\n",
              "    <tr>\n",
              "      <th>13</th>\n",
              "      <td>60대 이상</td>\n",
              "      <td>Female</td>\n",
              "      <td>1.571429</td>\n",
              "    </tr>\n",
              "  </tbody>\n",
              "</table>\n",
              "</div>"
            ],
            "text/plain": [
              "       Age variable     value\n",
              "0       전체     Male  0.879497\n",
              "1   10대 이하     Male  0.201493\n",
              "2      20대     Male  0.632883\n",
              "3      30대     Male  0.729389\n",
              "4      40대     Male  1.121387\n",
              "5      50대     Male  1.573494\n",
              "6   60대 이상     Male  0.816092\n",
              "7       전체   Female  1.058502\n",
              "8   10대 이하   Female  0.424419\n",
              "9      20대   Female  0.643864\n",
              "10     30대   Female  1.174875\n",
              "11     40대   Female  1.395747\n",
              "12     50대   Female  1.019200\n",
              "13  60대 이상   Female  1.571429"
            ]
          },
          "execution_count": 57,
          "metadata": {},
          "output_type": "execute_result"
        }
      ],
      "source": [
        "calm_rate_anl = pd.melt(calm_rate, id_vars=['Age'], value_vars = [\"Male\",\"Female\"])\n",
        "calm_rate_anl"
      ]
    },
    {
      "cell_type": "code",
      "execution_count": null,
      "metadata": {
        "scrolled": true,
        "id": "MaBUlHxeYlvY",
        "outputId": "d90b7b77-5d69-420b-a312-8dc0c12a6947"
      },
      "outputs": [
        {
          "name": "stderr",
          "output_type": "stream",
          "text": [
            "<ipython-input-62-64982c50e977>:9: MatplotlibDeprecationWarning: The 'b' parameter of grid() has been renamed 'visible' since Matplotlib 3.5; support for the old name will be dropped two minor releases later.\n",
            "  plt.grid(b=False) #grid 아예 없앤거!\n"
          ]
        },
        {
          "data": {
            "image/png": "[encoded data removed]",
            "text/plain": [
              "<Figure size 864x576 with 1 Axes>"
            ]
          },
          "metadata": {},
          "output_type": "display_data"
        }
      ],
      "source": [
        "plt.figure(figsize=(12,8))\n",
        "\n",
        "\n",
        "sns.barplot(data = calm_rate_anl, x='Age',y='value',hue='variable',palette = ['#4038FF','#8984FF'])\n",
        "\n",
        "plt.rc('figure', facecolor = '#242424')#그래프 밖 테마색\n",
        "ax = plt.gca()\n",
        "ax.set_facecolor('#242424')#그래프 배경색\n",
        "plt.grid(b=False) #grid 아예 없앤거!\n",
        "ax.spines['right'].set_visible(False) #오른쪽 테두리 제거\n",
        "ax.spines['top'].set_visible(False) #위 테두리 제거\n",
        "ax.spines['left'].set_visible(False) #왼쪽 테두리 제거\n",
        "\n",
        "\n",
        "plt.legend(facecolor='#242424',edgecolor='#242424',\n",
        "                 fontsize = 13,labelcolor='white')\n",
        "\n",
        "\n",
        "ax.tick_params(axis='y', colors='white') #y축 변수들 흰색\n",
        "ax.tick_params(axis='x', colors='white') #y축 변수들 흰색\n",
        "\n",
        "plt.xlabel('age',color='white') #x축단어설정, 흰색\n",
        "plt.ylabel('',color='white') #x축단어설정, 흰색\n",
        "\n",
        "plt.title('사용 시간 비율 / 사용자 비율',fontsize = 20, color = 'white')\n",
        "plt.show()\n",
        "\n",
        "#50대는 남성이, 60대 이상은 여성이 이를 많이 사용하는 것으로 나타남."
      ]
    },
    {
      "cell_type": "markdown",
      "metadata": {
        "id": "xvUGZV0IYlvY"
      },
      "source": [
        "경쟁사별 DAU 시계열 그래프"
      ]
    },
    {
      "cell_type": "code",
      "execution_count": null,
      "metadata": {
        "id": "hDJ3wyz4YlvY"
      },
      "outputs": [],
      "source": [
        "monn = pd.read_csv('슬립모니터/슬립모니터_기본사용량_사용자_수.csv',index_col=0)\n",
        "monn['date'] = pd.to_datetime(monn['date'])\n",
        "monn[\"And\"] = monn[\"And\"].str.replace(pat=r'[명]', repl=r'', regex=True)\n",
        "monn[\"And\"] = monn[\"And\"].str.replace(pat=r'[,]', repl=r'', regex=True)\n",
        "monn[\"And\"] = monn[\"And\"].astype('float64')"
      ]
    },
    {
      "cell_type": "code",
      "execution_count": null,
      "metadata": {
        "id": "jFdv9T2cYlvZ",
        "outputId": "e096d129-fb91-4c33-cdcf-642d57e311bc"
      },
      "outputs": [
        {
          "data": {
            "text/html": [
              "<div>\n",
              "<style scoped>\n",
              "    .dataframe tbody tr th:only-of-type {\n",
              "        vertical-align: middle;\n",
              "    }\n",
              "\n",
              "    .dataframe tbody tr th {\n",
              "        vertical-align: top;\n",
              "    }\n",
              "\n",
              "    .dataframe thead th {\n",
              "        text-align: right;\n",
              "    }\n",
              "</style>\n",
              "<table border=\"1\" class=\"dataframe\">\n",
              "  <thead>\n",
              "    <tr style=\"text-align: right;\">\n",
              "      <th></th>\n",
              "      <th>date</th>\n",
              "      <th>And</th>\n",
              "    </tr>\n",
              "  </thead>\n",
              "  <tbody>\n",
              "    <tr>\n",
              "      <th>0</th>\n",
              "      <td>2021-10-20</td>\n",
              "      <td>1829.0</td>\n",
              "    </tr>\n",
              "    <tr>\n",
              "      <th>1</th>\n",
              "      <td>2021-10-21</td>\n",
              "      <td>1763.0</td>\n",
              "    </tr>\n",
              "    <tr>\n",
              "      <th>2</th>\n",
              "      <td>2021-10-22</td>\n",
              "      <td>1532.0</td>\n",
              "    </tr>\n",
              "    <tr>\n",
              "      <th>3</th>\n",
              "      <td>2021-10-23</td>\n",
              "      <td>1320.0</td>\n",
              "    </tr>\n",
              "    <tr>\n",
              "      <th>4</th>\n",
              "      <td>2021-10-24</td>\n",
              "      <td>1566.0</td>\n",
              "    </tr>\n",
              "    <tr>\n",
              "      <th>...</th>\n",
              "      <td>...</td>\n",
              "      <td>...</td>\n",
              "    </tr>\n",
              "    <tr>\n",
              "      <th>87</th>\n",
              "      <td>2022-01-15</td>\n",
              "      <td>1748.0</td>\n",
              "    </tr>\n",
              "    <tr>\n",
              "      <th>88</th>\n",
              "      <td>2022-01-16</td>\n",
              "      <td>1878.0</td>\n",
              "    </tr>\n",
              "    <tr>\n",
              "      <th>89</th>\n",
              "      <td>2022-01-17</td>\n",
              "      <td>1998.0</td>\n",
              "    </tr>\n",
              "    <tr>\n",
              "      <th>90</th>\n",
              "      <td>2022-01-18</td>\n",
              "      <td>1898.0</td>\n",
              "    </tr>\n",
              "    <tr>\n",
              "      <th>91</th>\n",
              "      <td>2022-01-19</td>\n",
              "      <td>1951.0</td>\n",
              "    </tr>\n",
              "  </tbody>\n",
              "</table>\n",
              "<p>92 rows × 2 columns</p>\n",
              "</div>"
            ],
            "text/plain": [
              "         date     And\n",
              "0  2021-10-20  1829.0\n",
              "1  2021-10-21  1763.0\n",
              "2  2021-10-22  1532.0\n",
              "3  2021-10-23  1320.0\n",
              "4  2021-10-24  1566.0\n",
              "..        ...     ...\n",
              "87 2022-01-15  1748.0\n",
              "88 2022-01-16  1878.0\n",
              "89 2022-01-17  1998.0\n",
              "90 2022-01-18  1898.0\n",
              "91 2022-01-19  1951.0\n",
              "\n",
              "[92 rows x 2 columns]"
            ]
          },
          "execution_count": 4,
          "metadata": {},
          "output_type": "execute_result"
        }
      ],
      "source": [
        "calmn = pd.read_csv('Calm/Calm_기본사용량_사용자_수.csv',index_col=0)\n",
        "calmn['date'] = pd.to_datetime(calmn['date'])\n",
        "calmn[\"And\"] = calmn[\"And\"].str.replace(pat=r'[명]', repl=r'', regex=True)\n",
        "calmn[\"And\"] = calmn[\"And\"].str.replace(pat=r'[,]', repl=r'', regex=True)\n",
        "calmn[\"And\"] = calmn[\"And\"].astype('float64')\n",
        "calmn"
      ]
    },
    {
      "cell_type": "code",
      "execution_count": null,
      "metadata": {
        "id": "pyqYUA0EYlvZ"
      },
      "outputs": [],
      "source": [
        "soundn = pd.read_csv('수면소리/수면소리_기본사용량_사용자_수.csv',index_col=0)\n",
        "soundn['date'] = pd.to_datetime(soundn['date'])\n",
        "soundn[\"And\"] = soundn[\"And\"].str.replace(pat=r'[명]', repl=r'', regex=True)\n",
        "soundn[\"And\"] = soundn[\"And\"].str.replace(pat=r'[,]', repl=r'', regex=True)\n",
        "soundn[\"And\"] = soundn[\"And\"].astype('float64')"
      ]
    },
    {
      "cell_type": "code",
      "execution_count": null,
      "metadata": {
        "id": "g2BM58fkYlvZ"
      },
      "outputs": [],
      "source": [
        "cyclen = pd.read_csv('슬립사이클/슬립사이클_기본사용량_사용자_수.csv',index_col=0)\n",
        "cyclen['date'] = pd.to_datetime(cyclen['date'])\n",
        "cyclen[\"And\"] = cyclen[\"And\"].str.replace(pat=r'[명]', repl=r'', regex=True)\n",
        "cyclen[\"And\"] = cyclen[\"And\"].str.replace(pat=r'[,]', repl=r'', regex=True)\n",
        "cyclen[\"And\"] = cyclen[\"And\"].astype('float64')"
      ]
    },
    {
      "cell_type": "code",
      "execution_count": null,
      "metadata": {
        "id": "WgtU90q1Ylva"
      },
      "outputs": [],
      "source": [
        "snoren = pd.read_csv('스노어랩/스노어랩_기본사용량_사용자_수.csv',index_col=0)\n",
        "snoren['date'] = pd.to_datetime(snoren['date'])\n",
        "snoren[\"And\"] = snoren[\"And\"].str.replace(pat=r'[명]', repl=r'', regex=True)\n",
        "snoren[\"And\"] = snoren[\"And\"].str.replace(pat=r'[,]', repl=r'', regex=True)\n",
        "snoren[\"And\"] = snoren[\"And\"].astype('float64')"
      ]
    },
    {
      "cell_type": "code",
      "execution_count": null,
      "metadata": {
        "scrolled": true,
        "id": "WOuegwHkYlva",
        "outputId": "004292e7-6947-428e-b2a8-932699e68161"
      },
      "outputs": [
        {
          "name": "stderr",
          "output_type": "stream",
          "text": [
            "<ipython-input-41-74200f49dc74>:12: MatplotlibDeprecationWarning: The 'b' parameter of grid() has been renamed 'visible' since Matplotlib 3.5; support for the old name will be dropped two minor releases later.\n",
            "  plt.grid(b=False) #grid 아예 없앤거!\n"
          ]
        },
        {
          "data": {
            "image/png": "[encoded data removed]",
            "text/plain": [
              "<Figure size 432x288 with 1 Axes>"
            ]
          },
          "metadata": {},
          "output_type": "display_data"
        }
      ],
      "source": [
        "plt.figsize=(22,10)\n",
        "s1 = plt.plot(calmn['date'],calmn['And'],color='#716BFF')\n",
        "#s2 = plt.plot(SaAn['date'],SaAn['And'],color='red')\n",
        "s3 = plt.plot(soundn['date'],soundn['And'],color='#8984FF')\n",
        "s4 = plt.plot(snoren['date'],snoren['And'],color='#4038FF') #...\n",
        "s5 = plt.plot(monn['date'],monn['And'],color='#5851FF')\n",
        "s6 = plt.plot(cyclen['date'],cyclen['And'],color='#271EFF')\n",
        "\n",
        "plt.rc('figure', facecolor = '#242424')#그래프 밖 테마색\n",
        "ax = plt.gca()\n",
        "ax.set_facecolor('#242424')#그래프 배경색\n",
        "plt.grid(b=False) #grid 아예 없앤거!\n",
        "\n",
        "ax.spines['right'].set_visible(False) #오른쪽 테두리 제거\n",
        "ax.spines['top'].set_visible(False) #위 테두리 제거\n",
        "ax.spines['left'].set_visible(False) #왼쪽 테두리 제거\n",
        "ax.tick_params(axis='y', colors='white') #y축 변수들 흰색\n",
        "ax.tick_params(axis='x', colors='white') #y축 변수들 흰색\n",
        "\n",
        "plt.xticks(rotation=30,fontsize = 5)\n",
        "plt.yticks(fontsize = 7)\n",
        "\n",
        "variable_1 = mpatches.Patch(color='#8984FF',label='수면소리')\n",
        "variable_2 = mpatches.Patch(color='#4038FF',label='스노어랩')\n",
        "variable_3 = mpatches.Patch(color='#716BFF',label='Calm')\n",
        "variable_4 = mpatches.Patch(color='#5851FF',label='슬립모니터')\n",
        "variable_5 = mpatches.Patch(color='#271EFF',label='슬립사이클')\n",
        "\n",
        "plt.legend(handles=[variable_5, variable_2, variable_4,variable_3, variable_1]\n",
        "          , loc ='best',  frameon=True, facecolor='#242424',edgecolor='#242424',\n",
        "                 fontsize = 5,labelcolor='white',\n",
        "          bbox_to_anchor=(1.0, 0.9))\n",
        "plt.title('어플별 사용자수 추이',fontsize = 15, color = 'white')\n",
        "\n",
        "plt.show()"
      ]
    }
  ],
  "metadata": {
    "kernelspec": {
      "display_name": "Python 3",
      "language": "python",
      "name": "python3"
    },
    "language_info": {
      "codemirror_mode": {
        "name": "ipython",
        "version": 3
      },
      "file_extension": ".py",
      "mimetype": "text/x-python",
      "name": "python",
      "nbconvert_exporter": "python",
      "pygments_lexer": "ipython3",
      "version": "3.8.3"
    },
    "colab": {
      "name": "데모그래픽 분석",
      "provenance": []
    }
  },
  "nbformat": 4,
  "nbformat_minor": 0
}