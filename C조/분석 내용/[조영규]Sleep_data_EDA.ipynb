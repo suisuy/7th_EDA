{
 "cells": [
  {
   "cell_type": "code",
   "execution_count": 5,
   "id": "09033a40",
   "metadata": {
    "ExecuteTime": {
     "end_time": "2022-01-26T13:35:32.547083Z",
     "start_time": "2022-01-26T13:35:32.537082Z"
    }
   },
   "outputs": [],
   "source": [
    "import matplotlib.pyplot as plt\n",
    "from matplotlib import rc\n",
    "import seaborn as sns\n",
    "%matplotlib inline\n",
    "\n",
    "import collections"
   ]
  },
  {
   "cell_type": "code",
   "execution_count": 8,
   "id": "f0ce56f2",
   "metadata": {
    "ExecuteTime": {
     "end_time": "2022-01-26T13:35:33.552455Z",
     "start_time": "2022-01-26T13:35:32.578113Z"
    }
   },
   "outputs": [],
   "source": [
    "import pandas as pd \n",
    "import numpy as np \n",
    "import os \n",
    "\n",
    "import re\n",
    "\n",
    "import nltk\n",
    "# from konlpy.corpus import kobill\n",
    "\n",
    "from collections import Counter\n",
    "import math"
   ]
  },
  {
   "cell_type": "markdown",
   "id": "d334a62e",
   "metadata": {},
   "source": [
    "## __한글 서체 지정하기__"
   ]
  },
  {
   "cell_type": "code",
   "execution_count": 6,
   "id": "4c7f1182",
   "metadata": {
    "ExecuteTime": {
     "end_time": "2022-01-26T13:35:32.562108Z",
     "start_time": "2022-01-26T13:35:32.548082Z"
    }
   },
   "outputs": [],
   "source": [
    "# rc('font', family='AppleGothic')\n",
    "\n",
    "# plt.rcParams['axes.unicode_minus'] = False"
   ]
  },
  {
   "cell_type": "code",
   "execution_count": 7,
   "id": "fd27693f",
   "metadata": {
    "ExecuteTime": {
     "end_time": "2022-01-26T13:35:32.577111Z",
     "start_time": "2022-01-26T13:35:32.563116Z"
    }
   },
   "outputs": [],
   "source": [
    "import matplotlib.font_manager as fm\n",
    "from matplotlib import font_manager, rc\n",
    "import os\n",
    "\n",
    "if os.name == 'posix':\n",
    "    plt.rc(\"font\", family=\"AppleGothic\")\n",
    "else:\n",
    "    plt.rc(\"font\", family=\"Malgun Gothic\")"
   ]
  },
  {
   "cell_type": "code",
   "execution_count": 9,
   "id": "fe4d55b1",
   "metadata": {
    "ExecuteTime": {
     "end_time": "2022-01-26T13:35:33.582453Z",
     "start_time": "2022-01-26T13:35:33.553468Z"
    }
   },
   "outputs": [
    {
     "data": {
      "text/html": [
       "<div>\n",
       "<style scoped>\n",
       "    .dataframe tbody tr th:only-of-type {\n",
       "        vertical-align: middle;\n",
       "    }\n",
       "\n",
       "    .dataframe tbody tr th {\n",
       "        vertical-align: top;\n",
       "    }\n",
       "\n",
       "    .dataframe thead th {\n",
       "        text-align: right;\n",
       "    }\n",
       "</style>\n",
       "<table border=\"1\" class=\"dataframe\">\n",
       "  <thead>\n",
       "    <tr style=\"text-align: right;\">\n",
       "      <th></th>\n",
       "      <th>타임스탬프</th>\n",
       "      <th>나이가 어떻게 되시나요?</th>\n",
       "      <th>성별이 어떻게 되시나요?</th>\n",
       "      <th>현재 어떤 신분이신가요?</th>\n",
       "      <th>수면과 관련하여 어려움을 겪으시나요?</th>\n",
       "      <th>스마트 워치를 사용하시나요?</th>\n",
       "      <th>스마트 워치를 차고 주무시나요?</th>\n",
       "      <th>수면 어플을 써보신 적이 있으신가요?</th>\n",
       "      <th>어떤 어플을 쓰셨나요?</th>\n",
       "      <th>어플을 사용하신 이유가 무엇인가요?</th>\n",
       "      <th>가장 잠이 필요한 시기나 순간은 언제인가요? (ex. 시험 기간)</th>\n",
       "      <th>잠을 잘 못 잘 때 어떤 방법으로 해결하시나요?</th>\n",
       "      <th>가장 잠이 필요한 시기나 순간은 언제인가요? (ex. 시험 기간).1</th>\n",
       "      <th>잠을 잘 못 잘 때 어떤 방법으로 해결하시나요?.1</th>\n",
       "    </tr>\n",
       "  </thead>\n",
       "  <tbody>\n",
       "    <tr>\n",
       "      <th>0</th>\n",
       "      <td>11.21.2021 22:45:59</td>\n",
       "      <td>33</td>\n",
       "      <td>남성</td>\n",
       "      <td>직장인</td>\n",
       "      <td>3</td>\n",
       "      <td>아니오</td>\n",
       "      <td>아니오</td>\n",
       "      <td>아니오</td>\n",
       "      <td>NaN</td>\n",
       "      <td>NaN</td>\n",
       "      <td>NaN</td>\n",
       "      <td>NaN</td>\n",
       "      <td>근무 시간이 길 때</td>\n",
       "      <td>누워서 뒤척인다</td>\n",
       "    </tr>\n",
       "    <tr>\n",
       "      <th>1</th>\n",
       "      <td>11.22.2021 0:44:14</td>\n",
       "      <td>25</td>\n",
       "      <td>여성</td>\n",
       "      <td>직장인</td>\n",
       "      <td>4</td>\n",
       "      <td>아니오</td>\n",
       "      <td>아니오</td>\n",
       "      <td>아니오</td>\n",
       "      <td>NaN</td>\n",
       "      <td>NaN</td>\n",
       "      <td>NaN</td>\n",
       "      <td>NaN</td>\n",
       "      <td>숙취해소</td>\n",
       "      <td>캐모마일 티 마시기, 온열안대 착용, 마사지 등 몸을 풀어주는 스트레칭</td>\n",
       "    </tr>\n",
       "    <tr>\n",
       "      <th>2</th>\n",
       "      <td>11.22.2021 8:23:51</td>\n",
       "      <td>24</td>\n",
       "      <td>여성</td>\n",
       "      <td>학생</td>\n",
       "      <td>6</td>\n",
       "      <td>아니오</td>\n",
       "      <td>아니오</td>\n",
       "      <td>네</td>\n",
       "      <td>슬립사이클</td>\n",
       "      <td>수면 모니터링</td>\n",
       "      <td>다음날 일정이 많고 몸을 많이 쓸 때, 시험 기간</td>\n",
       "      <td>잠이 안오면 어떤 방법을 써도 효과가 없어서 그냥 샙니다</td>\n",
       "      <td>NaN</td>\n",
       "      <td>NaN</td>\n",
       "    </tr>\n",
       "    <tr>\n",
       "      <th>3</th>\n",
       "      <td>11.22.2021 15:11:45</td>\n",
       "      <td>29</td>\n",
       "      <td>여성</td>\n",
       "      <td>직장인</td>\n",
       "      <td>8</td>\n",
       "      <td>예</td>\n",
       "      <td>아니오</td>\n",
       "      <td>아니오</td>\n",
       "      <td>NaN</td>\n",
       "      <td>NaN</td>\n",
       "      <td>NaN</td>\n",
       "      <td>NaN</td>\n",
       "      <td>매일</td>\n",
       "      <td>수면음악듣기</td>\n",
       "    </tr>\n",
       "    <tr>\n",
       "      <th>4</th>\n",
       "      <td>11.22.2021 16:05:51</td>\n",
       "      <td>29</td>\n",
       "      <td>남성</td>\n",
       "      <td>직장인</td>\n",
       "      <td>8</td>\n",
       "      <td>예</td>\n",
       "      <td>예</td>\n",
       "      <td>아니오</td>\n",
       "      <td>NaN</td>\n",
       "      <td>NaN</td>\n",
       "      <td>NaN</td>\n",
       "      <td>NaN</td>\n",
       "      <td>마감이 많이 몰리는 월말 월초</td>\n",
       "      <td>일단 누워서 버텨봅니다ㅜ</td>\n",
       "    </tr>\n",
       "    <tr>\n",
       "      <th>...</th>\n",
       "      <td>...</td>\n",
       "      <td>...</td>\n",
       "      <td>...</td>\n",
       "      <td>...</td>\n",
       "      <td>...</td>\n",
       "      <td>...</td>\n",
       "      <td>...</td>\n",
       "      <td>...</td>\n",
       "      <td>...</td>\n",
       "      <td>...</td>\n",
       "      <td>...</td>\n",
       "      <td>...</td>\n",
       "      <td>...</td>\n",
       "      <td>...</td>\n",
       "    </tr>\n",
       "    <tr>\n",
       "      <th>1261</th>\n",
       "      <td>1.4.2022 11:19:37</td>\n",
       "      <td>30</td>\n",
       "      <td>남성</td>\n",
       "      <td>직장인</td>\n",
       "      <td>4</td>\n",
       "      <td>아니오</td>\n",
       "      <td>아니오</td>\n",
       "      <td>아니오</td>\n",
       "      <td>NaN</td>\n",
       "      <td>NaN</td>\n",
       "      <td>NaN</td>\n",
       "      <td>NaN</td>\n",
       "      <td>매주중</td>\n",
       "      <td>편안한 수면 매트 교체</td>\n",
       "    </tr>\n",
       "    <tr>\n",
       "      <th>1262</th>\n",
       "      <td>1.4.2022 11:23:53</td>\n",
       "      <td>30</td>\n",
       "      <td>여성</td>\n",
       "      <td>직장인</td>\n",
       "      <td>8</td>\n",
       "      <td>예</td>\n",
       "      <td>아니오</td>\n",
       "      <td>아니오</td>\n",
       "      <td>NaN</td>\n",
       "      <td>NaN</td>\n",
       "      <td>NaN</td>\n",
       "      <td>NaN</td>\n",
       "      <td>언제나</td>\n",
       "      <td>유튜브 시청</td>\n",
       "    </tr>\n",
       "    <tr>\n",
       "      <th>1263</th>\n",
       "      <td>1.4.2022 20:20:49</td>\n",
       "      <td>22</td>\n",
       "      <td>여성</td>\n",
       "      <td>학생</td>\n",
       "      <td>7</td>\n",
       "      <td>아니오</td>\n",
       "      <td>아니오</td>\n",
       "      <td>아니오</td>\n",
       "      <td>NaN</td>\n",
       "      <td>NaN</td>\n",
       "      <td>NaN</td>\n",
       "      <td>NaN</td>\n",
       "      <td>몸이 아플때, 방학기간때</td>\n",
       "      <td>속으로 숫자 세리거나 그냥 눈감고 가만히 있음</td>\n",
       "    </tr>\n",
       "    <tr>\n",
       "      <th>1264</th>\n",
       "      <td>1.7.2022 11:51:57</td>\n",
       "      <td>23</td>\n",
       "      <td>남성</td>\n",
       "      <td>학생</td>\n",
       "      <td>7</td>\n",
       "      <td>아니오</td>\n",
       "      <td>아니오</td>\n",
       "      <td>아니오</td>\n",
       "      <td>NaN</td>\n",
       "      <td>NaN</td>\n",
       "      <td>NaN</td>\n",
       "      <td>NaN</td>\n",
       "      <td>항상 필요하다</td>\n",
       "      <td>유튜브 보다가 눈이 감길때 잔다</td>\n",
       "    </tr>\n",
       "    <tr>\n",
       "      <th>1265</th>\n",
       "      <td>1.8.2022 15:48:45</td>\n",
       "      <td>22</td>\n",
       "      <td>남성</td>\n",
       "      <td>학생</td>\n",
       "      <td>3</td>\n",
       "      <td>예</td>\n",
       "      <td>예</td>\n",
       "      <td>네</td>\n",
       "      <td>슬립워치</td>\n",
       "      <td>수면 모니터링, 수면 분석 리포트</td>\n",
       "      <td>잠 적게 잔 날 하루종일</td>\n",
       "      <td>해결안함..</td>\n",
       "      <td>NaN</td>\n",
       "      <td>NaN</td>\n",
       "    </tr>\n",
       "  </tbody>\n",
       "</table>\n",
       "<p>1266 rows × 14 columns</p>\n",
       "</div>"
      ],
      "text/plain": [
       "                    타임스탬프 나이가 어떻게 되시나요? 성별이 어떻게 되시나요? 현재 어떤 신분이신가요?  \\\n",
       "0     11.21.2021 22:45:59            33            남성           직장인   \n",
       "1      11.22.2021 0:44:14            25            여성           직장인   \n",
       "2      11.22.2021 8:23:51            24            여성            학생   \n",
       "3     11.22.2021 15:11:45            29            여성           직장인   \n",
       "4     11.22.2021 16:05:51            29            남성           직장인   \n",
       "...                   ...           ...           ...           ...   \n",
       "1261    1.4.2022 11:19:37            30            남성           직장인   \n",
       "1262    1.4.2022 11:23:53            30            여성           직장인   \n",
       "1263    1.4.2022 20:20:49            22            여성            학생   \n",
       "1264    1.7.2022 11:51:57            23            남성            학생   \n",
       "1265    1.8.2022 15:48:45            22            남성            학생   \n",
       "\n",
       "      수면과 관련하여 어려움을 겪으시나요? 스마트 워치를 사용하시나요? 스마트 워치를 차고 주무시나요?  \\\n",
       "0                        3             아니오               아니오   \n",
       "1                        4             아니오               아니오   \n",
       "2                        6             아니오               아니오   \n",
       "3                        8               예               아니오   \n",
       "4                        8               예                 예   \n",
       "...                    ...             ...               ...   \n",
       "1261                     4             아니오               아니오   \n",
       "1262                     8               예               아니오   \n",
       "1263                     7             아니오               아니오   \n",
       "1264                     7             아니오               아니오   \n",
       "1265                     3               예                 예   \n",
       "\n",
       "     수면 어플을 써보신 적이 있으신가요? 어떤 어플을 쓰셨나요? 어플을 사용하신 이유가 무엇인가요?  \\\n",
       "0                     아니오          NaN                 NaN   \n",
       "1                     아니오          NaN                 NaN   \n",
       "2                       네        슬립사이클             수면 모니터링   \n",
       "3                     아니오          NaN                 NaN   \n",
       "4                     아니오          NaN                 NaN   \n",
       "...                   ...          ...                 ...   \n",
       "1261                  아니오          NaN                 NaN   \n",
       "1262                  아니오          NaN                 NaN   \n",
       "1263                  아니오          NaN                 NaN   \n",
       "1264                  아니오          NaN                 NaN   \n",
       "1265                    네         슬립워치  수면 모니터링, 수면 분석 리포트   \n",
       "\n",
       "     가장 잠이 필요한 시기나 순간은 언제인가요? (ex. 시험 기간)       잠을 잘 못 잘 때 어떤 방법으로 해결하시나요?  \\\n",
       "0                                     NaN                              NaN   \n",
       "1                                     NaN                              NaN   \n",
       "2             다음날 일정이 많고 몸을 많이 쓸 때, 시험 기간  잠이 안오면 어떤 방법을 써도 효과가 없어서 그냥 샙니다   \n",
       "3                                     NaN                              NaN   \n",
       "4                                     NaN                              NaN   \n",
       "...                                   ...                              ...   \n",
       "1261                                  NaN                              NaN   \n",
       "1262                                  NaN                              NaN   \n",
       "1263                                  NaN                              NaN   \n",
       "1264                                  NaN                              NaN   \n",
       "1265                        잠 적게 잔 날 하루종일                           해결안함..   \n",
       "\n",
       "     가장 잠이 필요한 시기나 순간은 언제인가요? (ex. 시험 기간).1  \\\n",
       "0                                근무 시간이 길 때   \n",
       "1                                      숙취해소   \n",
       "2                                       NaN   \n",
       "3                                        매일   \n",
       "4                          마감이 많이 몰리는 월말 월초   \n",
       "...                                     ...   \n",
       "1261                                    매주중   \n",
       "1262                                    언제나   \n",
       "1263                          몸이 아플때, 방학기간때   \n",
       "1264                                항상 필요하다   \n",
       "1265                                    NaN   \n",
       "\n",
       "                 잠을 잘 못 잘 때 어떤 방법으로 해결하시나요?.1  \n",
       "0                                    누워서 뒤척인다  \n",
       "1     캐모마일 티 마시기, 온열안대 착용, 마사지 등 몸을 풀어주는 스트레칭  \n",
       "2                                         NaN  \n",
       "3                                      수면음악듣기  \n",
       "4                               일단 누워서 버텨봅니다ㅜ  \n",
       "...                                       ...  \n",
       "1261                             편안한 수면 매트 교체  \n",
       "1262                                   유튜브 시청  \n",
       "1263                속으로 숫자 세리거나 그냥 눈감고 가만히 있음  \n",
       "1264                        유튜브 보다가 눈이 감길때 잔다  \n",
       "1265                                      NaN  \n",
       "\n",
       "[1266 rows x 14 columns]"
      ]
     },
     "execution_count": 9,
     "metadata": {},
     "output_type": "execute_result"
    }
   ],
   "source": [
    "data1 = pd.read_csv(\"1.Sleep-Data.csv\", encoding='utf-8')\n",
    "data1"
   ]
  },
  {
   "cell_type": "code",
   "execution_count": 12,
   "id": "74b4b576",
   "metadata": {
    "ExecuteTime": {
     "end_time": "2022-01-26T13:35:33.627455Z",
     "start_time": "2022-01-26T13:35:33.614425Z"
    }
   },
   "outputs": [
    {
     "data": {
      "text/plain": [
       "타임스탬프                                       0\n",
       "나이가 어떻게 되시나요?                               0\n",
       "성별이 어떻게 되시나요?                               0\n",
       "현재 어떤 신분이신가요?                               0\n",
       "수면과 관련하여 어려움을 겪으시나요?                        0\n",
       "스마트 워치를 사용하시나요?                             0\n",
       "스마트 워치를 차고 주무시나요?                           0\n",
       "수면 어플을 써보신 적이 있으신가요?                        0\n",
       "어떤 어플을 쓰셨나요?                              917\n",
       "어플을 사용하신 이유가 무엇인가요?                       917\n",
       "가장 잠이 필요한 시기나 순간은 언제인가요? (ex. 시험 기간)      917\n",
       "잠을 잘 못 잘 때 어떤 방법으로 해결하시나요?                933\n",
       "가장 잠이 필요한 시기나 순간은 언제인가요? (ex. 시험 기간).1    349\n",
       "잠을 잘 못 잘 때 어떤 방법으로 해결하시나요?.1              370\n",
       "dtype: int64"
      ]
     },
     "execution_count": 12,
     "metadata": {},
     "output_type": "execute_result"
    }
   ],
   "source": [
    "data.isnull().sum()"
   ]
  },
  {
   "cell_type": "markdown",
   "id": "f90ee394",
   "metadata": {},
   "source": [
    "## 나이 전처리: 숫자만 가져오기 "
   ]
  },
  {
   "cell_type": "code",
   "execution_count": 14,
   "id": "4be86379",
   "metadata": {
    "ExecuteTime": {
     "end_time": "2022-01-26T13:35:33.657457Z",
     "start_time": "2022-01-26T13:35:33.643427Z"
    },
    "scrolled": true
   },
   "outputs": [
    {
     "data": {
      "text/plain": [
       "array(['10대', '12살', '13', '14', '15', '16', '17', '18', '19', '19세', '2',\n",
       "       '20', '2001년생 21살입니다.', '20살', '20세', '21', '21(한국나이)', '21살',\n",
       "       '21세', '21세 (만 20세)', '22', '22살', '22살 ', '22세', '23', '230',\n",
       "       '23살', '23세', '24', '24살', '24세', '25', '25살', '25세', '26', '26살',\n",
       "       '26살!', '26세', '27', '28', '28세', '29', '30', '31', '32', '33',\n",
       "       '34', '35', '36', '39', '40', '44', '45', '46', '49', '49세', '50',\n",
       "       '50대', '51', '51세', '52', '52세', '53', '53세', '54', '55', '56',\n",
       "       '56세', '57', '59', '60', '61', '63', '64세', '65', '66', '67',\n",
       "       '67세', '70', '만 19세', '만 20세', '만 21', '만 21세', '만 22', '만 22세',\n",
       "       '만 24', '만 24세', '만 50세', '만23', '만24', '이윤정', '이재원', '최윤영', '허지은',\n",
       "       '현재 만 19살입니다', '현재 만20세 ', '휘경동에 거주하고 있는 99년생, 23살 입니다'],\n",
       "      dtype=object)"
      ]
     },
     "execution_count": 14,
     "metadata": {},
     "output_type": "execute_result"
    }
   ],
   "source": [
    "np.unique(data.iloc[:,1].values)"
   ]
  },
  {
   "cell_type": "code",
   "execution_count": 15,
   "id": "4f985b48",
   "metadata": {
    "ExecuteTime": {
     "end_time": "2022-01-26T13:35:33.672423Z",
     "start_time": "2022-01-26T13:35:33.658455Z"
    }
   },
   "outputs": [],
   "source": [
    "def find_number(x):\n",
    "    numbers =  re.findall(\"\\d+\", x)\n",
    "    for num in numbers:\n",
    "        if int(num) < 100:\n",
    "            return int(num)\n",
    "    return None"
   ]
  },
  {
   "cell_type": "markdown",
   "id": "a8461ede",
   "metadata": {},
   "source": [
    "## 중복되는 컬럼 합치기"
   ]
  },
  {
   "cell_type": "code",
   "execution_count": 19,
   "id": "bcee48a0",
   "metadata": {
    "ExecuteTime": {
     "end_time": "2022-01-26T13:35:33.867456Z",
     "start_time": "2022-01-26T13:35:33.718455Z"
    }
   },
   "outputs": [],
   "source": [
    "x_list = []\n",
    "y_list = []\n",
    "\n",
    "for i in range(len(data)):\n",
    "    x1, x2 = data.iloc[i,-4], data.iloc[i,-2] \n",
    "    y1, y2 = data.iloc[i,-3], data.iloc[i,-1] \n",
    "#     print(x1, x2)\n",
    "#     print(y1, y2)\n",
    "    \n",
    "    if x1 == x1: # x1이 nan값인지 확인\n",
    "        x_list.append(x1)\n",
    "    else:\n",
    "        x_list.append(x2)\n",
    "    \n",
    "    if y1 == y1: # x1이 nan값인지 확인\n",
    "        y_list.append(y1)\n",
    "    else:\n",
    "        y_list.append(y2)        \n",
    "        \n",
    "#     break"
   ]
  },
  {
   "cell_type": "code",
   "execution_count": 20,
   "id": "438a000f",
   "metadata": {
    "ExecuteTime": {
     "end_time": "2022-01-26T13:35:33.882446Z",
     "start_time": "2022-01-26T13:35:33.868452Z"
    }
   },
   "outputs": [],
   "source": [
    "data.iloc[:, -4] = x_list"
   ]
  },
  {
   "cell_type": "code",
   "execution_count": 21,
   "id": "7c704c03",
   "metadata": {
    "ExecuteTime": {
     "end_time": "2022-01-26T13:35:33.897425Z",
     "start_time": "2022-01-26T13:35:33.883455Z"
    }
   },
   "outputs": [],
   "source": [
    "data.iloc[:, -3] = y_list"
   ]
  },
  {
   "cell_type": "code",
   "execution_count": 23,
   "id": "a08ac950",
   "metadata": {
    "ExecuteTime": {
     "end_time": "2022-01-26T13:35:33.942426Z",
     "start_time": "2022-01-26T13:35:33.913452Z"
    }
   },
   "outputs": [
    {
     "data": {
      "text/html": [
       "<div>\n",
       "<style scoped>\n",
       "    .dataframe tbody tr th:only-of-type {\n",
       "        vertical-align: middle;\n",
       "    }\n",
       "\n",
       "    .dataframe tbody tr th {\n",
       "        vertical-align: top;\n",
       "    }\n",
       "\n",
       "    .dataframe thead th {\n",
       "        text-align: right;\n",
       "    }\n",
       "</style>\n",
       "<table border=\"1\" class=\"dataframe\">\n",
       "  <thead>\n",
       "    <tr style=\"text-align: right;\">\n",
       "      <th></th>\n",
       "      <th>타임스탬프</th>\n",
       "      <th>나이가 어떻게 되시나요?</th>\n",
       "      <th>성별이 어떻게 되시나요?</th>\n",
       "      <th>현재 어떤 신분이신가요?</th>\n",
       "      <th>수면과 관련하여 어려움을 겪으시나요?</th>\n",
       "      <th>스마트 워치를 사용하시나요?</th>\n",
       "      <th>스마트 워치를 차고 주무시나요?</th>\n",
       "      <th>수면 어플을 써보신 적이 있으신가요?</th>\n",
       "      <th>어떤 어플을 쓰셨나요?</th>\n",
       "      <th>어플을 사용하신 이유가 무엇인가요?</th>\n",
       "      <th>가장 잠이 필요한 시기나 순간은 언제인가요? (ex. 시험 기간)</th>\n",
       "      <th>잠을 잘 못 잘 때 어떤 방법으로 해결하시나요?</th>\n",
       "    </tr>\n",
       "  </thead>\n",
       "  <tbody>\n",
       "    <tr>\n",
       "      <th>0</th>\n",
       "      <td>11.21.2021 22:45:59</td>\n",
       "      <td>33.0</td>\n",
       "      <td>남성</td>\n",
       "      <td>직장인</td>\n",
       "      <td>3</td>\n",
       "      <td>아니오</td>\n",
       "      <td>아니오</td>\n",
       "      <td>아니오</td>\n",
       "      <td>NaN</td>\n",
       "      <td>NaN</td>\n",
       "      <td>근무 시간이 길 때</td>\n",
       "      <td>누워서 뒤척인다</td>\n",
       "    </tr>\n",
       "    <tr>\n",
       "      <th>1</th>\n",
       "      <td>11.22.2021 0:44:14</td>\n",
       "      <td>25.0</td>\n",
       "      <td>여성</td>\n",
       "      <td>직장인</td>\n",
       "      <td>4</td>\n",
       "      <td>아니오</td>\n",
       "      <td>아니오</td>\n",
       "      <td>아니오</td>\n",
       "      <td>NaN</td>\n",
       "      <td>NaN</td>\n",
       "      <td>숙취해소</td>\n",
       "      <td>캐모마일 티 마시기, 온열안대 착용, 마사지 등 몸을 풀어주는 스트레칭</td>\n",
       "    </tr>\n",
       "    <tr>\n",
       "      <th>2</th>\n",
       "      <td>11.22.2021 8:23:51</td>\n",
       "      <td>24.0</td>\n",
       "      <td>여성</td>\n",
       "      <td>학생</td>\n",
       "      <td>6</td>\n",
       "      <td>아니오</td>\n",
       "      <td>아니오</td>\n",
       "      <td>네</td>\n",
       "      <td>슬립사이클</td>\n",
       "      <td>수면 모니터링</td>\n",
       "      <td>다음날 일정이 많고 몸을 많이 쓸 때, 시험 기간</td>\n",
       "      <td>잠이 안오면 어떤 방법을 써도 효과가 없어서 그냥 샙니다</td>\n",
       "    </tr>\n",
       "    <tr>\n",
       "      <th>3</th>\n",
       "      <td>11.22.2021 15:11:45</td>\n",
       "      <td>29.0</td>\n",
       "      <td>여성</td>\n",
       "      <td>직장인</td>\n",
       "      <td>8</td>\n",
       "      <td>예</td>\n",
       "      <td>아니오</td>\n",
       "      <td>아니오</td>\n",
       "      <td>NaN</td>\n",
       "      <td>NaN</td>\n",
       "      <td>매일</td>\n",
       "      <td>수면음악듣기</td>\n",
       "    </tr>\n",
       "    <tr>\n",
       "      <th>4</th>\n",
       "      <td>11.22.2021 16:05:51</td>\n",
       "      <td>29.0</td>\n",
       "      <td>남성</td>\n",
       "      <td>직장인</td>\n",
       "      <td>8</td>\n",
       "      <td>예</td>\n",
       "      <td>예</td>\n",
       "      <td>아니오</td>\n",
       "      <td>NaN</td>\n",
       "      <td>NaN</td>\n",
       "      <td>마감이 많이 몰리는 월말 월초</td>\n",
       "      <td>일단 누워서 버텨봅니다ㅜ</td>\n",
       "    </tr>\n",
       "    <tr>\n",
       "      <th>...</th>\n",
       "      <td>...</td>\n",
       "      <td>...</td>\n",
       "      <td>...</td>\n",
       "      <td>...</td>\n",
       "      <td>...</td>\n",
       "      <td>...</td>\n",
       "      <td>...</td>\n",
       "      <td>...</td>\n",
       "      <td>...</td>\n",
       "      <td>...</td>\n",
       "      <td>...</td>\n",
       "      <td>...</td>\n",
       "    </tr>\n",
       "    <tr>\n",
       "      <th>1261</th>\n",
       "      <td>1.4.2022 11:19:37</td>\n",
       "      <td>30.0</td>\n",
       "      <td>남성</td>\n",
       "      <td>직장인</td>\n",
       "      <td>4</td>\n",
       "      <td>아니오</td>\n",
       "      <td>아니오</td>\n",
       "      <td>아니오</td>\n",
       "      <td>NaN</td>\n",
       "      <td>NaN</td>\n",
       "      <td>매주중</td>\n",
       "      <td>편안한 수면 매트 교체</td>\n",
       "    </tr>\n",
       "    <tr>\n",
       "      <th>1262</th>\n",
       "      <td>1.4.2022 11:23:53</td>\n",
       "      <td>30.0</td>\n",
       "      <td>여성</td>\n",
       "      <td>직장인</td>\n",
       "      <td>8</td>\n",
       "      <td>예</td>\n",
       "      <td>아니오</td>\n",
       "      <td>아니오</td>\n",
       "      <td>NaN</td>\n",
       "      <td>NaN</td>\n",
       "      <td>언제나</td>\n",
       "      <td>유튜브 시청</td>\n",
       "    </tr>\n",
       "    <tr>\n",
       "      <th>1263</th>\n",
       "      <td>1.4.2022 20:20:49</td>\n",
       "      <td>22.0</td>\n",
       "      <td>여성</td>\n",
       "      <td>학생</td>\n",
       "      <td>7</td>\n",
       "      <td>아니오</td>\n",
       "      <td>아니오</td>\n",
       "      <td>아니오</td>\n",
       "      <td>NaN</td>\n",
       "      <td>NaN</td>\n",
       "      <td>몸이 아플때, 방학기간때</td>\n",
       "      <td>속으로 숫자 세리거나 그냥 눈감고 가만히 있음</td>\n",
       "    </tr>\n",
       "    <tr>\n",
       "      <th>1264</th>\n",
       "      <td>1.7.2022 11:51:57</td>\n",
       "      <td>23.0</td>\n",
       "      <td>남성</td>\n",
       "      <td>학생</td>\n",
       "      <td>7</td>\n",
       "      <td>아니오</td>\n",
       "      <td>아니오</td>\n",
       "      <td>아니오</td>\n",
       "      <td>NaN</td>\n",
       "      <td>NaN</td>\n",
       "      <td>항상 필요하다</td>\n",
       "      <td>유튜브 보다가 눈이 감길때 잔다</td>\n",
       "    </tr>\n",
       "    <tr>\n",
       "      <th>1265</th>\n",
       "      <td>1.8.2022 15:48:45</td>\n",
       "      <td>22.0</td>\n",
       "      <td>남성</td>\n",
       "      <td>학생</td>\n",
       "      <td>3</td>\n",
       "      <td>예</td>\n",
       "      <td>예</td>\n",
       "      <td>네</td>\n",
       "      <td>슬립워치</td>\n",
       "      <td>수면 모니터링, 수면 분석 리포트</td>\n",
       "      <td>잠 적게 잔 날 하루종일</td>\n",
       "      <td>해결안함..</td>\n",
       "    </tr>\n",
       "  </tbody>\n",
       "</table>\n",
       "<p>1266 rows × 12 columns</p>\n",
       "</div>"
      ],
      "text/plain": [
       "                    타임스탬프  나이가 어떻게 되시나요? 성별이 어떻게 되시나요? 현재 어떤 신분이신가요?  \\\n",
       "0     11.21.2021 22:45:59           33.0            남성           직장인   \n",
       "1      11.22.2021 0:44:14           25.0            여성           직장인   \n",
       "2      11.22.2021 8:23:51           24.0            여성            학생   \n",
       "3     11.22.2021 15:11:45           29.0            여성           직장인   \n",
       "4     11.22.2021 16:05:51           29.0            남성           직장인   \n",
       "...                   ...            ...           ...           ...   \n",
       "1261    1.4.2022 11:19:37           30.0            남성           직장인   \n",
       "1262    1.4.2022 11:23:53           30.0            여성           직장인   \n",
       "1263    1.4.2022 20:20:49           22.0            여성            학생   \n",
       "1264    1.7.2022 11:51:57           23.0            남성            학생   \n",
       "1265    1.8.2022 15:48:45           22.0            남성            학생   \n",
       "\n",
       "      수면과 관련하여 어려움을 겪으시나요? 스마트 워치를 사용하시나요? 스마트 워치를 차고 주무시나요?  \\\n",
       "0                        3             아니오               아니오   \n",
       "1                        4             아니오               아니오   \n",
       "2                        6             아니오               아니오   \n",
       "3                        8               예               아니오   \n",
       "4                        8               예                 예   \n",
       "...                    ...             ...               ...   \n",
       "1261                     4             아니오               아니오   \n",
       "1262                     8               예               아니오   \n",
       "1263                     7             아니오               아니오   \n",
       "1264                     7             아니오               아니오   \n",
       "1265                     3               예                 예   \n",
       "\n",
       "     수면 어플을 써보신 적이 있으신가요? 어떤 어플을 쓰셨나요? 어플을 사용하신 이유가 무엇인가요?  \\\n",
       "0                     아니오          NaN                 NaN   \n",
       "1                     아니오          NaN                 NaN   \n",
       "2                       네        슬립사이클             수면 모니터링   \n",
       "3                     아니오          NaN                 NaN   \n",
       "4                     아니오          NaN                 NaN   \n",
       "...                   ...          ...                 ...   \n",
       "1261                  아니오          NaN                 NaN   \n",
       "1262                  아니오          NaN                 NaN   \n",
       "1263                  아니오          NaN                 NaN   \n",
       "1264                  아니오          NaN                 NaN   \n",
       "1265                    네         슬립워치  수면 모니터링, 수면 분석 리포트   \n",
       "\n",
       "     가장 잠이 필요한 시기나 순간은 언제인가요? (ex. 시험 기간)  \\\n",
       "0                              근무 시간이 길 때   \n",
       "1                                    숙취해소   \n",
       "2             다음날 일정이 많고 몸을 많이 쓸 때, 시험 기간   \n",
       "3                                      매일   \n",
       "4                        마감이 많이 몰리는 월말 월초   \n",
       "...                                   ...   \n",
       "1261                                  매주중   \n",
       "1262                                  언제나   \n",
       "1263                        몸이 아플때, 방학기간때   \n",
       "1264                              항상 필요하다   \n",
       "1265                        잠 적게 잔 날 하루종일   \n",
       "\n",
       "                   잠을 잘 못 잘 때 어떤 방법으로 해결하시나요?  \n",
       "0                                    누워서 뒤척인다  \n",
       "1     캐모마일 티 마시기, 온열안대 착용, 마사지 등 몸을 풀어주는 스트레칭  \n",
       "2             잠이 안오면 어떤 방법을 써도 효과가 없어서 그냥 샙니다  \n",
       "3                                      수면음악듣기  \n",
       "4                               일단 누워서 버텨봅니다ㅜ  \n",
       "...                                       ...  \n",
       "1261                             편안한 수면 매트 교체  \n",
       "1262                                   유튜브 시청  \n",
       "1263                속으로 숫자 세리거나 그냥 눈감고 가만히 있음  \n",
       "1264                        유튜브 보다가 눈이 감길때 잔다  \n",
       "1265                                   해결안함..  \n",
       "\n",
       "[1266 rows x 12 columns]"
      ]
     },
     "execution_count": 23,
     "metadata": {},
     "output_type": "execute_result"
    }
   ],
   "source": [
    "data = data.drop([data.columns[-2], data.columns[-1]], axis=1)\n",
    "data"
   ]
  },
  {
   "cell_type": "markdown",
   "id": "30e36abf",
   "metadata": {},
   "source": [
    "## __나이가 nan 값인 row는 삭제하기__"
   ]
  },
  {
   "cell_type": "code",
   "execution_count": 24,
   "id": "5981121c",
   "metadata": {
    "ExecuteTime": {
     "end_time": "2022-01-26T13:35:33.972422Z",
     "start_time": "2022-01-26T13:35:33.944425Z"
    }
   },
   "outputs": [],
   "source": [
    "data = data.dropna(subset=['나이가 어떻게 되시나요?'])"
   ]
  },
  {
   "cell_type": "markdown",
   "id": "0c94817f",
   "metadata": {},
   "source": [
    "## 어플 전처리 "
   ]
  },
  {
   "cell_type": "code",
   "execution_count": 28,
   "id": "d293f390",
   "metadata": {
    "ExecuteTime": {
     "end_time": "2022-01-26T13:35:34.032423Z",
     "start_time": "2022-01-26T13:35:34.019454Z"
    }
   },
   "outputs": [],
   "source": [
    "new_columns = ['시간', '나이', '성별', '직업','수면장애여부', '스마트워치 사용여부', '수면시 스마스워치','어플사용여부', '어플종류', '어플사용이유',\n",
    " '잠 필요 시기', '수면장애 해결법']"
   ]
  },
  {
   "cell_type": "code",
   "execution_count": 29,
   "id": "33630e35",
   "metadata": {
    "ExecuteTime": {
     "end_time": "2022-01-26T13:35:34.047422Z",
     "start_time": "2022-01-26T13:35:34.033424Z"
    }
   },
   "outputs": [],
   "source": [
    "data.columns = new_columns"
   ]
  },
  {
   "cell_type": "code",
   "execution_count": 30,
   "id": "d10046ee",
   "metadata": {
    "ExecuteTime": {
     "end_time": "2022-01-26T13:35:34.062453Z",
     "start_time": "2022-01-26T13:35:34.048423Z"
    }
   },
   "outputs": [
    {
     "data": {
      "text/html": [
       "<div>\n",
       "<style scoped>\n",
       "    .dataframe tbody tr th:only-of-type {\n",
       "        vertical-align: middle;\n",
       "    }\n",
       "\n",
       "    .dataframe tbody tr th {\n",
       "        vertical-align: top;\n",
       "    }\n",
       "\n",
       "    .dataframe thead th {\n",
       "        text-align: right;\n",
       "    }\n",
       "</style>\n",
       "<table border=\"1\" class=\"dataframe\">\n",
       "  <thead>\n",
       "    <tr style=\"text-align: right;\">\n",
       "      <th></th>\n",
       "      <th>시간</th>\n",
       "      <th>나이</th>\n",
       "      <th>성별</th>\n",
       "      <th>직업</th>\n",
       "      <th>수면장애여부</th>\n",
       "      <th>스마트워치 사용여부</th>\n",
       "      <th>수면시 스마스워치</th>\n",
       "      <th>어플사용여부</th>\n",
       "      <th>어플종류</th>\n",
       "      <th>어플사용이유</th>\n",
       "      <th>잠 필요 시기</th>\n",
       "      <th>수면장애 해결법</th>\n",
       "    </tr>\n",
       "  </thead>\n",
       "  <tbody>\n",
       "    <tr>\n",
       "      <th>0</th>\n",
       "      <td>11.21.2021 22:45:59</td>\n",
       "      <td>33.0</td>\n",
       "      <td>남성</td>\n",
       "      <td>직장인</td>\n",
       "      <td>3</td>\n",
       "      <td>아니오</td>\n",
       "      <td>아니오</td>\n",
       "      <td>아니오</td>\n",
       "      <td>NaN</td>\n",
       "      <td>NaN</td>\n",
       "      <td>근무 시간이 길 때</td>\n",
       "      <td>누워서 뒤척인다</td>\n",
       "    </tr>\n",
       "    <tr>\n",
       "      <th>1</th>\n",
       "      <td>11.22.2021 0:44:14</td>\n",
       "      <td>25.0</td>\n",
       "      <td>여성</td>\n",
       "      <td>직장인</td>\n",
       "      <td>4</td>\n",
       "      <td>아니오</td>\n",
       "      <td>아니오</td>\n",
       "      <td>아니오</td>\n",
       "      <td>NaN</td>\n",
       "      <td>NaN</td>\n",
       "      <td>숙취해소</td>\n",
       "      <td>캐모마일 티 마시기, 온열안대 착용, 마사지 등 몸을 풀어주는 스트레칭</td>\n",
       "    </tr>\n",
       "    <tr>\n",
       "      <th>2</th>\n",
       "      <td>11.22.2021 8:23:51</td>\n",
       "      <td>24.0</td>\n",
       "      <td>여성</td>\n",
       "      <td>학생</td>\n",
       "      <td>6</td>\n",
       "      <td>아니오</td>\n",
       "      <td>아니오</td>\n",
       "      <td>네</td>\n",
       "      <td>슬립사이클</td>\n",
       "      <td>수면 모니터링</td>\n",
       "      <td>다음날 일정이 많고 몸을 많이 쓸 때, 시험 기간</td>\n",
       "      <td>잠이 안오면 어떤 방법을 써도 효과가 없어서 그냥 샙니다</td>\n",
       "    </tr>\n",
       "    <tr>\n",
       "      <th>3</th>\n",
       "      <td>11.22.2021 15:11:45</td>\n",
       "      <td>29.0</td>\n",
       "      <td>여성</td>\n",
       "      <td>직장인</td>\n",
       "      <td>8</td>\n",
       "      <td>예</td>\n",
       "      <td>아니오</td>\n",
       "      <td>아니오</td>\n",
       "      <td>NaN</td>\n",
       "      <td>NaN</td>\n",
       "      <td>매일</td>\n",
       "      <td>수면음악듣기</td>\n",
       "    </tr>\n",
       "    <tr>\n",
       "      <th>4</th>\n",
       "      <td>11.22.2021 16:05:51</td>\n",
       "      <td>29.0</td>\n",
       "      <td>남성</td>\n",
       "      <td>직장인</td>\n",
       "      <td>8</td>\n",
       "      <td>예</td>\n",
       "      <td>예</td>\n",
       "      <td>아니오</td>\n",
       "      <td>NaN</td>\n",
       "      <td>NaN</td>\n",
       "      <td>마감이 많이 몰리는 월말 월초</td>\n",
       "      <td>일단 누워서 버텨봅니다ㅜ</td>\n",
       "    </tr>\n",
       "  </tbody>\n",
       "</table>\n",
       "</div>"
      ],
      "text/plain": [
       "                    시간    나이  성별   직업  수면장애여부 스마트워치 사용여부 수면시 스마스워치 어플사용여부  \\\n",
       "0  11.21.2021 22:45:59  33.0  남성  직장인       3        아니오       아니오    아니오   \n",
       "1   11.22.2021 0:44:14  25.0  여성  직장인       4        아니오       아니오    아니오   \n",
       "2   11.22.2021 8:23:51  24.0  여성   학생       6        아니오       아니오      네   \n",
       "3  11.22.2021 15:11:45  29.0  여성  직장인       8          예       아니오    아니오   \n",
       "4  11.22.2021 16:05:51  29.0  남성  직장인       8          예         예    아니오   \n",
       "\n",
       "    어플종류   어플사용이유                      잠 필요 시기  \\\n",
       "0    NaN      NaN                   근무 시간이 길 때   \n",
       "1    NaN      NaN                         숙취해소   \n",
       "2  슬립사이클  수면 모니터링  다음날 일정이 많고 몸을 많이 쓸 때, 시험 기간   \n",
       "3    NaN      NaN                           매일   \n",
       "4    NaN      NaN             마감이 많이 몰리는 월말 월초   \n",
       "\n",
       "                                  수면장애 해결법  \n",
       "0                                 누워서 뒤척인다  \n",
       "1  캐모마일 티 마시기, 온열안대 착용, 마사지 등 몸을 풀어주는 스트레칭  \n",
       "2          잠이 안오면 어떤 방법을 써도 효과가 없어서 그냥 샙니다  \n",
       "3                                   수면음악듣기  \n",
       "4                            일단 누워서 버텨봅니다ㅜ  "
      ]
     },
     "execution_count": 30,
     "metadata": {},
     "output_type": "execute_result"
    }
   ],
   "source": [
    "data.head()"
   ]
  },
  {
   "cell_type": "code",
   "execution_count": 31,
   "id": "a7246708",
   "metadata": {
    "ExecuteTime": {
     "end_time": "2022-01-26T13:35:34.077453Z",
     "start_time": "2022-01-26T13:35:34.063457Z"
    }
   },
   "outputs": [
    {
     "data": {
      "text/plain": [
       "array([nan, '슬립사이클', '필로우', '없음', '삼성워치', 'Snoreclock', '예전에 스마트워치',\n",
       "       '오토슬립', '자연소리 재생어플', 'sleep', 'sleep as android',\n",
       "       'Do i snore and grind', '수면유도음악  및 빗소리등', '기억 안남',\n",
       "       '기억안나는데..써봤어요..', '애플 건강 기본 앱', '애플 건강 앱 내 수면기능', '슬립워치',\n",
       "       'SleepTime', '알람몬', '슬립지', '기억안남', '슬립스네일', '슬립모니터, 삼성 헬스 기본',\n",
       "       '기억은 안나는데 수면 유도 asmr 앱', '애플 기본 건강어플', '슬립사이클, 슬립시어리', '명상앱',\n",
       "       '삼성 헬스', '갤럭시 헬스 내장', '슬립사이클도 썼고, calm이라는 명상 어플로 수면유도명상 애용해요!',\n",
       "       '유튜브', 'Sleep as Android', '스노어랩', '미밴드', 'Sleepytime', '모르겠어요',\n",
       "       '아이폰 기본 수면 어플', '슬립모니터', '슬립타운', 'Sleep Time (수면 주기 스마트 알람 시계)',\n",
       "       '잠 자는 시간 계산해주는 어플', '아이폰 건강앱', '기억이 안나용', 'Bettersleep', '슬립 모니터',\n",
       "       '기억안남.', '기억이 안나요', '가민', 'Asmr  아무앱', '아이폰 기본 앱', '핸드폰 기본 수면 어플',\n",
       "       '삼성헬스', '삼성헬스, 녹음', '기억이 안나요...', 'Asmr 어플(이름이 기억 안 나요...!)',\n",
       "       '샤오미 미밴드에 있는 수면분석', '삼성헬스케어', '코골이 어플', '삼성헬스 슬립타운',\n",
       "       '런타스틱 슬립베터(지금은 서비스 종료함)', '중복선택이 안돼 적습니다. (슬립사이클, 오토슬립)', '유튜브 채널',\n",
       "       'Sleep Monitor', '삭제한 지 꽤 되어 어플 이름이 기억이 안 남',\n",
       "       '애플워치 수면앱(애플 건강앱 연동)', '워치 내 기본 어플', '갤럭시 헬스', '트로스트', '핸드폰 기본 어플',\n",
       "       '기억이 안나요ㅠ', '애플워치 자체 앱', 'sleel as android', '아이폰 앱의 수면 도우미',\n",
       "       '애플 수면, 삼성 갤럭시워치 수면', '아이폰 건강 기본 어플', '기억안남 ㅠ', '애플기본',\n",
       "       '유튜브 - 수면영상', 'S헬스', '기억이안남.', 'clam', '애플에 기본 수면어플', '수면트래커',\n",
       "       '달팽이수면', '슬립사이클, 오토슬립 - 복수선택이 안되네용', '워치 수면기능', 'Sleep as android',\n",
       "       'Sleep Monitor ', 'calm blog'], dtype=object)"
      ]
     },
     "execution_count": 31,
     "metadata": {},
     "output_type": "execute_result"
    }
   ],
   "source": [
    "data['어플종류'].unique()"
   ]
  },
  {
   "cell_type": "code",
   "execution_count": 34,
   "id": "5cf21e25",
   "metadata": {
    "ExecuteTime": {
     "end_time": "2022-01-26T13:35:34.122423Z",
     "start_time": "2022-01-26T13:35:34.108425Z"
    }
   },
   "outputs": [],
   "source": [
    "def change_app_name(x) :\n",
    "    if x in ['삼성헬스', '삼성 헬스', '갤럭시 헬스','삼성워치','스마트워치','아이폰','기본', '애플', '삼성' '애플워치' 'S헬스','수면트래커']:\n",
    "        return '기본어플'\n",
    "    elif x in  ['수면유도음악','Asmr']:\n",
    "        return 'Asmr'\n",
    "    elif x in  ['슬립모니터','슬립 모니터','Sleep Monitor']:\n",
    "        return '슬립모니터'\n",
    "    elif x in ['Sleepytime','Sleepy Time']:\n",
    "        return '슬리피타임'\n",
    "    elif x in ['calm blog','clam','calm']:\n",
    "        return 'calm'\n",
    "    elif x in ['sleep as android','Sleep as Android','sleel as android','Sleep as android']:\n",
    "        return 'Sleep as android'\n",
    "    elif x in ['기억', '모르겠어요']:\n",
    "        return '까먹음'    \n",
    "    else :\n",
    "        return x"
   ]
  },
  {
   "cell_type": "code",
   "execution_count": 35,
   "id": "1edd881f",
   "metadata": {
    "ExecuteTime": {
     "end_time": "2022-01-26T13:35:34.137457Z",
     "start_time": "2022-01-26T13:35:34.123426Z"
    }
   },
   "outputs": [
    {
     "name": "stderr",
     "output_type": "stream",
     "text": [
      "<ipython-input-35-85f4d2eb5d7a>:1: SettingWithCopyWarning: \n",
      "A value is trying to be set on a copy of a slice from a DataFrame.\n",
      "Try using .loc[row_indexer,col_indexer] = value instead\n",
      "\n",
      "See the caveats in the documentation: https://pandas.pydata.org/pandas-docs/stable/user_guide/indexing.html#returning-a-view-versus-a-copy\n",
      "  data['어플라벨'] = data['어플종류'].apply(change_app_name)\n"
     ]
    }
   ],
   "source": [
    "data['어플라벨'] = data['어플종류'].apply(change_app_name)"
   ]
  },
  {
   "cell_type": "code",
   "execution_count": 36,
   "id": "9d0505f7",
   "metadata": {
    "ExecuteTime": {
     "end_time": "2022-01-26T13:35:34.152423Z",
     "start_time": "2022-01-26T13:35:34.138424Z"
    },
    "scrolled": true
   },
   "outputs": [
    {
     "data": {
      "text/plain": [
       "array([nan, '슬립사이클', '필로우', '없음', '기본어플', 'Snoreclock', '예전에 스마트워치',\n",
       "       '오토슬립', '자연소리 재생어플', 'sleep', 'Sleep as android',\n",
       "       'Do i snore and grind', '수면유도음악  및 빗소리등', '기억 안남',\n",
       "       '기억안나는데..써봤어요..', '애플 건강 기본 앱', '애플 건강 앱 내 수면기능', '슬립워치',\n",
       "       'SleepTime', '알람몬', '슬립지', '기억안남', '슬립스네일', '슬립모니터, 삼성 헬스 기본',\n",
       "       '기억은 안나는데 수면 유도 asmr 앱', '애플 기본 건강어플', '슬립사이클, 슬립시어리', '명상앱',\n",
       "       '갤럭시 헬스 내장', '슬립사이클도 썼고, calm이라는 명상 어플로 수면유도명상 애용해요!', '유튜브',\n",
       "       '스노어랩', '미밴드', '슬리피타임', '까먹음', '아이폰 기본 수면 어플', '슬립모니터', '슬립타운',\n",
       "       'Sleep Time (수면 주기 스마트 알람 시계)', '잠 자는 시간 계산해주는 어플', '아이폰 건강앱',\n",
       "       '기억이 안나용', 'Bettersleep', '기억안남.', '기억이 안나요', '가민', 'Asmr  아무앱',\n",
       "       '아이폰 기본 앱', '핸드폰 기본 수면 어플', '삼성헬스, 녹음', '기억이 안나요...',\n",
       "       'Asmr 어플(이름이 기억 안 나요...!)', '샤오미 미밴드에 있는 수면분석', '삼성헬스케어', '코골이 어플',\n",
       "       '삼성헬스 슬립타운', '런타스틱 슬립베터(지금은 서비스 종료함)',\n",
       "       '중복선택이 안돼 적습니다. (슬립사이클, 오토슬립)', '유튜브 채널',\n",
       "       '삭제한 지 꽤 되어 어플 이름이 기억이 안 남', '애플워치 수면앱(애플 건강앱 연동)', '워치 내 기본 어플',\n",
       "       '트로스트', '핸드폰 기본 어플', '기억이 안나요ㅠ', '애플워치 자체 앱', '아이폰 앱의 수면 도우미',\n",
       "       '애플 수면, 삼성 갤럭시워치 수면', '아이폰 건강 기본 어플', '기억안남 ㅠ', '애플기본',\n",
       "       '유튜브 - 수면영상', 'S헬스', '기억이안남.', 'calm', '애플에 기본 수면어플', '달팽이수면',\n",
       "       '슬립사이클, 오토슬립 - 복수선택이 안되네용', '워치 수면기능', 'Sleep Monitor '],\n",
       "      dtype=object)"
      ]
     },
     "execution_count": 36,
     "metadata": {},
     "output_type": "execute_result"
    }
   ],
   "source": [
    "data['어플라벨'].unique()"
   ]
  },
  {
   "cell_type": "markdown",
   "id": "028b0cf9",
   "metadata": {},
   "source": [
    "## __나이 별로 groupby__"
   ]
  },
  {
   "attachments": {
    "image.png": {
     "image/png": "[encoded data removed]"
    }
   },
   "cell_type": "markdown",
   "id": "fc45b6f3",
   "metadata": {},
   "source": [
    "![image.png](attachment:image.png)"
   ]
  },
  {
   "cell_type": "code",
   "execution_count": 38,
   "id": "596edfe3",
   "metadata": {
    "ExecuteTime": {
     "end_time": "2022-01-26T13:35:34.182449Z",
     "start_time": "2022-01-26T13:35:34.168423Z"
    }
   },
   "outputs": [],
   "source": [
    "labels = ['13-17',\n",
    " '18-24',\n",
    " '25-34',\n",
    " '35-44',\n",
    " '45-54']"
   ]
  },
  {
   "cell_type": "code",
   "execution_count": 39,
   "id": "0f318cdf",
   "metadata": {
    "ExecuteTime": {
     "end_time": "2022-01-26T13:35:34.197446Z",
     "start_time": "2022-01-26T13:35:34.183454Z"
    }
   },
   "outputs": [],
   "source": [
    "bins = [13, 17, 24, 34, 44, 54]"
   ]
  },
  {
   "cell_type": "code",
   "execution_count": 41,
   "id": "1bc818bc",
   "metadata": {
    "ExecuteTime": {
     "end_time": "2022-01-26T13:35:34.242453Z",
     "start_time": "2022-01-26T13:35:34.228453Z"
    }
   },
   "outputs": [
    {
     "name": "stderr",
     "output_type": "stream",
     "text": [
      "<ipython-input-41-cfc934b1943e>:1: SettingWithCopyWarning: \n",
      "A value is trying to be set on a copy of a slice from a DataFrame.\n",
      "Try using .loc[row_indexer,col_indexer] = value instead\n",
      "\n",
      "See the caveats in the documentation: https://pandas.pydata.org/pandas-docs/stable/user_guide/indexing.html#returning-a-view-versus-a-copy\n",
      "  data['age group'] = pd.cut(data['나이'], bins, labels=labels)\n"
     ]
    }
   ],
   "source": [
    "data['age group'] = pd.cut(data['나이'], bins, labels=labels)"
   ]
  },
  {
   "cell_type": "code",
   "execution_count": 42,
   "id": "5477575e",
   "metadata": {
    "ExecuteTime": {
     "end_time": "2022-01-26T13:35:34.272424Z",
     "start_time": "2022-01-26T13:35:34.243453Z"
    },
    "scrolled": false
   },
   "outputs": [
    {
     "data": {
      "text/html": [
       "<div>\n",
       "<style scoped>\n",
       "    .dataframe tbody tr th:only-of-type {\n",
       "        vertical-align: middle;\n",
       "    }\n",
       "\n",
       "    .dataframe tbody tr th {\n",
       "        vertical-align: top;\n",
       "    }\n",
       "\n",
       "    .dataframe thead th {\n",
       "        text-align: right;\n",
       "    }\n",
       "</style>\n",
       "<table border=\"1\" class=\"dataframe\">\n",
       "  <thead>\n",
       "    <tr style=\"text-align: right;\">\n",
       "      <th></th>\n",
       "      <th>시간</th>\n",
       "      <th>나이</th>\n",
       "      <th>성별</th>\n",
       "      <th>직업</th>\n",
       "      <th>수면장애여부</th>\n",
       "      <th>스마트워치 사용여부</th>\n",
       "      <th>수면시 스마스워치</th>\n",
       "      <th>어플사용여부</th>\n",
       "      <th>어플종류</th>\n",
       "      <th>어플사용이유</th>\n",
       "      <th>잠 필요 시기</th>\n",
       "      <th>수면장애 해결법</th>\n",
       "      <th>어플라벨</th>\n",
       "      <th>age group</th>\n",
       "    </tr>\n",
       "  </thead>\n",
       "  <tbody>\n",
       "    <tr>\n",
       "      <th>0</th>\n",
       "      <td>11.21.2021 22:45:59</td>\n",
       "      <td>33.0</td>\n",
       "      <td>남성</td>\n",
       "      <td>직장인</td>\n",
       "      <td>3</td>\n",
       "      <td>아니오</td>\n",
       "      <td>아니오</td>\n",
       "      <td>아니오</td>\n",
       "      <td>NaN</td>\n",
       "      <td>NaN</td>\n",
       "      <td>근무 시간이 길 때</td>\n",
       "      <td>누워서 뒤척인다</td>\n",
       "      <td>NaN</td>\n",
       "      <td>25-34</td>\n",
       "    </tr>\n",
       "    <tr>\n",
       "      <th>1</th>\n",
       "      <td>11.22.2021 0:44:14</td>\n",
       "      <td>25.0</td>\n",
       "      <td>여성</td>\n",
       "      <td>직장인</td>\n",
       "      <td>4</td>\n",
       "      <td>아니오</td>\n",
       "      <td>아니오</td>\n",
       "      <td>아니오</td>\n",
       "      <td>NaN</td>\n",
       "      <td>NaN</td>\n",
       "      <td>숙취해소</td>\n",
       "      <td>캐모마일 티 마시기, 온열안대 착용, 마사지 등 몸을 풀어주는 스트레칭</td>\n",
       "      <td>NaN</td>\n",
       "      <td>25-34</td>\n",
       "    </tr>\n",
       "    <tr>\n",
       "      <th>2</th>\n",
       "      <td>11.22.2021 8:23:51</td>\n",
       "      <td>24.0</td>\n",
       "      <td>여성</td>\n",
       "      <td>학생</td>\n",
       "      <td>6</td>\n",
       "      <td>아니오</td>\n",
       "      <td>아니오</td>\n",
       "      <td>네</td>\n",
       "      <td>슬립사이클</td>\n",
       "      <td>수면 모니터링</td>\n",
       "      <td>다음날 일정이 많고 몸을 많이 쓸 때, 시험 기간</td>\n",
       "      <td>잠이 안오면 어떤 방법을 써도 효과가 없어서 그냥 샙니다</td>\n",
       "      <td>슬립사이클</td>\n",
       "      <td>18-24</td>\n",
       "    </tr>\n",
       "    <tr>\n",
       "      <th>3</th>\n",
       "      <td>11.22.2021 15:11:45</td>\n",
       "      <td>29.0</td>\n",
       "      <td>여성</td>\n",
       "      <td>직장인</td>\n",
       "      <td>8</td>\n",
       "      <td>예</td>\n",
       "      <td>아니오</td>\n",
       "      <td>아니오</td>\n",
       "      <td>NaN</td>\n",
       "      <td>NaN</td>\n",
       "      <td>매일</td>\n",
       "      <td>수면음악듣기</td>\n",
       "      <td>NaN</td>\n",
       "      <td>25-34</td>\n",
       "    </tr>\n",
       "    <tr>\n",
       "      <th>4</th>\n",
       "      <td>11.22.2021 16:05:51</td>\n",
       "      <td>29.0</td>\n",
       "      <td>남성</td>\n",
       "      <td>직장인</td>\n",
       "      <td>8</td>\n",
       "      <td>예</td>\n",
       "      <td>예</td>\n",
       "      <td>아니오</td>\n",
       "      <td>NaN</td>\n",
       "      <td>NaN</td>\n",
       "      <td>마감이 많이 몰리는 월말 월초</td>\n",
       "      <td>일단 누워서 버텨봅니다ㅜ</td>\n",
       "      <td>NaN</td>\n",
       "      <td>25-34</td>\n",
       "    </tr>\n",
       "    <tr>\n",
       "      <th>...</th>\n",
       "      <td>...</td>\n",
       "      <td>...</td>\n",
       "      <td>...</td>\n",
       "      <td>...</td>\n",
       "      <td>...</td>\n",
       "      <td>...</td>\n",
       "      <td>...</td>\n",
       "      <td>...</td>\n",
       "      <td>...</td>\n",
       "      <td>...</td>\n",
       "      <td>...</td>\n",
       "      <td>...</td>\n",
       "      <td>...</td>\n",
       "      <td>...</td>\n",
       "    </tr>\n",
       "    <tr>\n",
       "      <th>1261</th>\n",
       "      <td>1.4.2022 11:19:37</td>\n",
       "      <td>30.0</td>\n",
       "      <td>남성</td>\n",
       "      <td>직장인</td>\n",
       "      <td>4</td>\n",
       "      <td>아니오</td>\n",
       "      <td>아니오</td>\n",
       "      <td>아니오</td>\n",
       "      <td>NaN</td>\n",
       "      <td>NaN</td>\n",
       "      <td>매주중</td>\n",
       "      <td>편안한 수면 매트 교체</td>\n",
       "      <td>NaN</td>\n",
       "      <td>25-34</td>\n",
       "    </tr>\n",
       "    <tr>\n",
       "      <th>1262</th>\n",
       "      <td>1.4.2022 11:23:53</td>\n",
       "      <td>30.0</td>\n",
       "      <td>여성</td>\n",
       "      <td>직장인</td>\n",
       "      <td>8</td>\n",
       "      <td>예</td>\n",
       "      <td>아니오</td>\n",
       "      <td>아니오</td>\n",
       "      <td>NaN</td>\n",
       "      <td>NaN</td>\n",
       "      <td>언제나</td>\n",
       "      <td>유튜브 시청</td>\n",
       "      <td>NaN</td>\n",
       "      <td>25-34</td>\n",
       "    </tr>\n",
       "    <tr>\n",
       "      <th>1263</th>\n",
       "      <td>1.4.2022 20:20:49</td>\n",
       "      <td>22.0</td>\n",
       "      <td>여성</td>\n",
       "      <td>학생</td>\n",
       "      <td>7</td>\n",
       "      <td>아니오</td>\n",
       "      <td>아니오</td>\n",
       "      <td>아니오</td>\n",
       "      <td>NaN</td>\n",
       "      <td>NaN</td>\n",
       "      <td>몸이 아플때, 방학기간때</td>\n",
       "      <td>속으로 숫자 세리거나 그냥 눈감고 가만히 있음</td>\n",
       "      <td>NaN</td>\n",
       "      <td>18-24</td>\n",
       "    </tr>\n",
       "    <tr>\n",
       "      <th>1264</th>\n",
       "      <td>1.7.2022 11:51:57</td>\n",
       "      <td>23.0</td>\n",
       "      <td>남성</td>\n",
       "      <td>학생</td>\n",
       "      <td>7</td>\n",
       "      <td>아니오</td>\n",
       "      <td>아니오</td>\n",
       "      <td>아니오</td>\n",
       "      <td>NaN</td>\n",
       "      <td>NaN</td>\n",
       "      <td>항상 필요하다</td>\n",
       "      <td>유튜브 보다가 눈이 감길때 잔다</td>\n",
       "      <td>NaN</td>\n",
       "      <td>18-24</td>\n",
       "    </tr>\n",
       "    <tr>\n",
       "      <th>1265</th>\n",
       "      <td>1.8.2022 15:48:45</td>\n",
       "      <td>22.0</td>\n",
       "      <td>남성</td>\n",
       "      <td>학생</td>\n",
       "      <td>3</td>\n",
       "      <td>예</td>\n",
       "      <td>예</td>\n",
       "      <td>네</td>\n",
       "      <td>슬립워치</td>\n",
       "      <td>수면 모니터링, 수면 분석 리포트</td>\n",
       "      <td>잠 적게 잔 날 하루종일</td>\n",
       "      <td>해결안함..</td>\n",
       "      <td>슬립워치</td>\n",
       "      <td>18-24</td>\n",
       "    </tr>\n",
       "  </tbody>\n",
       "</table>\n",
       "<p>1261 rows × 14 columns</p>\n",
       "</div>"
      ],
      "text/plain": [
       "                       시간    나이  성별   직업  수면장애여부 스마트워치 사용여부 수면시 스마스워치 어플사용여부  \\\n",
       "0     11.21.2021 22:45:59  33.0  남성  직장인       3        아니오       아니오    아니오   \n",
       "1      11.22.2021 0:44:14  25.0  여성  직장인       4        아니오       아니오    아니오   \n",
       "2      11.22.2021 8:23:51  24.0  여성   학생       6        아니오       아니오      네   \n",
       "3     11.22.2021 15:11:45  29.0  여성  직장인       8          예       아니오    아니오   \n",
       "4     11.22.2021 16:05:51  29.0  남성  직장인       8          예         예    아니오   \n",
       "...                   ...   ...  ..  ...     ...        ...       ...    ...   \n",
       "1261    1.4.2022 11:19:37  30.0  남성  직장인       4        아니오       아니오    아니오   \n",
       "1262    1.4.2022 11:23:53  30.0  여성  직장인       8          예       아니오    아니오   \n",
       "1263    1.4.2022 20:20:49  22.0  여성   학생       7        아니오       아니오    아니오   \n",
       "1264    1.7.2022 11:51:57  23.0  남성   학생       7        아니오       아니오    아니오   \n",
       "1265    1.8.2022 15:48:45  22.0  남성   학생       3          예         예      네   \n",
       "\n",
       "       어플종류              어플사용이유                      잠 필요 시기  \\\n",
       "0       NaN                 NaN                   근무 시간이 길 때   \n",
       "1       NaN                 NaN                         숙취해소   \n",
       "2     슬립사이클             수면 모니터링  다음날 일정이 많고 몸을 많이 쓸 때, 시험 기간   \n",
       "3       NaN                 NaN                           매일   \n",
       "4       NaN                 NaN             마감이 많이 몰리는 월말 월초   \n",
       "...     ...                 ...                          ...   \n",
       "1261    NaN                 NaN                          매주중   \n",
       "1262    NaN                 NaN                          언제나   \n",
       "1263    NaN                 NaN                몸이 아플때, 방학기간때   \n",
       "1264    NaN                 NaN                      항상 필요하다   \n",
       "1265   슬립워치  수면 모니터링, 수면 분석 리포트                잠 적게 잔 날 하루종일   \n",
       "\n",
       "                                     수면장애 해결법   어플라벨 age group  \n",
       "0                                    누워서 뒤척인다    NaN     25-34  \n",
       "1     캐모마일 티 마시기, 온열안대 착용, 마사지 등 몸을 풀어주는 스트레칭    NaN     25-34  \n",
       "2             잠이 안오면 어떤 방법을 써도 효과가 없어서 그냥 샙니다  슬립사이클     18-24  \n",
       "3                                      수면음악듣기    NaN     25-34  \n",
       "4                               일단 누워서 버텨봅니다ㅜ    NaN     25-34  \n",
       "...                                       ...    ...       ...  \n",
       "1261                             편안한 수면 매트 교체    NaN     25-34  \n",
       "1262                                   유튜브 시청    NaN     25-34  \n",
       "1263                속으로 숫자 세리거나 그냥 눈감고 가만히 있음    NaN     18-24  \n",
       "1264                        유튜브 보다가 눈이 감길때 잔다    NaN     18-24  \n",
       "1265                                   해결안함..   슬립워치     18-24  \n",
       "\n",
       "[1261 rows x 14 columns]"
      ]
     },
     "execution_count": 42,
     "metadata": {},
     "output_type": "execute_result"
    }
   ],
   "source": [
    "data"
   ]
  },
  {
   "cell_type": "markdown",
   "id": "691affa5",
   "metadata": {},
   "source": [
    "# 데이터 분석"
   ]
  },
  {
   "cell_type": "markdown",
   "id": "020a4027",
   "metadata": {},
   "source": [
    "## 설문조사 전반적인 데이터 파악 "
   ]
  },
  {
   "cell_type": "code",
   "execution_count": 43,
   "id": "53842611",
   "metadata": {
    "ExecuteTime": {
     "end_time": "2022-01-26T13:35:34.287422Z",
     "start_time": "2022-01-26T13:35:34.273425Z"
    }
   },
   "outputs": [
    {
     "data": {
      "text/plain": [
       "0       33.0\n",
       "1       25.0\n",
       "2       24.0\n",
       "3       29.0\n",
       "4       29.0\n",
       "        ... \n",
       "1261    30.0\n",
       "1262    30.0\n",
       "1263    22.0\n",
       "1264    23.0\n",
       "1265    22.0\n",
       "Name: 나이, Length: 1261, dtype: float64"
      ]
     },
     "execution_count": 43,
     "metadata": {},
     "output_type": "execute_result"
    }
   ],
   "source": [
    "data['나이']"
   ]
  },
  {
   "cell_type": "code",
   "execution_count": 44,
   "id": "4a52cfc3",
   "metadata": {
    "ExecuteTime": {
     "end_time": "2022-01-26T13:35:34.557423Z",
     "start_time": "2022-01-26T13:35:34.288425Z"
    }
   },
   "outputs": [
    {
     "data": {
      "image/png": "[encoded data removed]",
      "text/plain": [
       "<Figure size 432x288 with 1 Axes>"
      ]
     },
     "metadata": {
      "needs_background": "light"
     },
     "output_type": "display_data"
    }
   ],
   "source": [
    "#seaborn으로 다른 컬럼 살펴보기.\n",
    "sns.histplot(data = data, \n",
    "             bins=10,\n",
    "             x= '나이',\n",
    "             discrete = False,\n",
    "             color = 'red')\n",
    "#             kde=True)\n",
    "plt.xticks(range(0,100,10))\n",
    "plt.show()"
   ]
  },
  {
   "cell_type": "code",
   "execution_count": 46,
   "id": "1e15e4c9",
   "metadata": {
    "ExecuteTime": {
     "end_time": "2022-01-26T13:35:42.191729Z",
     "start_time": "2022-01-26T13:35:42.030806Z"
    }
   },
   "outputs": [
    {
     "data": {
      "image/png": "[encoded data removed]",
      "text/plain": [
       "<Figure size 432x288 with 1 Axes>"
      ]
     },
     "metadata": {
      "needs_background": "light"
     },
     "output_type": "display_data"
    }
   ],
   "source": [
    "#seaborn으로 다른 컬럼 살펴보기.\n",
    "sns.histplot(data = data, \n",
    "             bins=10,\n",
    "             x= '수면장애여부',\n",
    "             discrete = True,\n",
    "             color = 'red')\n",
    "plt.xticks(range(0,10,1))\n",
    "plt.show()"
   ]
  },
  {
   "cell_type": "code",
   "execution_count": 48,
   "id": "bc8d3116",
   "metadata": {
    "ExecuteTime": {
     "end_time": "2022-01-26T13:36:11.747821Z",
     "start_time": "2022-01-26T13:36:11.622806Z"
    }
   },
   "outputs": [
    {
     "data": {
      "image/png": "[encoded data removed]",
      "text/plain": [
       "<Figure size 432x288 with 1 Axes>"
      ]
     },
     "metadata": {
      "needs_background": "light"
     },
     "output_type": "display_data"
    }
   ],
   "source": [
    "#seaborn으로 다른 컬럼 살펴보기.\n",
    "sns.histplot(data = data, \n",
    "             bins=10,\n",
    "             x= '스마트워치 사용여부',\n",
    "             discrete = True,\n",
    "             color = 'red')\n",
    "# plt.xticks(range(0,10,1))\n",
    "plt.show()"
   ]
  },
  {
   "cell_type": "code",
   "execution_count": 281,
   "id": "d86b99bc",
   "metadata": {
    "ExecuteTime": {
     "end_time": "2022-01-26T13:37:52.371154Z",
     "start_time": "2022-01-26T13:37:52.230154Z"
    }
   },
   "outputs": [
    {
     "data": {
      "image/png": "[encoded data removed]",
      "text/plain": [
       "<Figure size 432x288 with 1 Axes>"
      ]
     },
     "metadata": {
      "needs_background": "light"
     },
     "output_type": "display_data"
    }
   ],
   "source": [
    "#seaborn으로 다른 컬럼 살펴보기.\n",
    "fig = plt.gca()\n",
    "sns.histplot(data = data, \n",
    "             bins=10,\n",
    "             y= '직업',\n",
    "             discrete = True,\n",
    "             color = 'red')\n",
    "fig.yaxis.label.set_size(16)\n",
    "# plt.xticks(range(0,10,1))\n",
    "plt.show()"
   ]
  },
  {
   "cell_type": "code",
   "execution_count": 49,
   "id": "da6e301f",
   "metadata": {
    "ExecuteTime": {
     "end_time": "2022-01-25T09:18:10.359228Z",
     "start_time": "2022-01-25T09:18:10.345226Z"
    }
   },
   "outputs": [
    {
     "data": {
      "text/plain": [
       "age group  수면장애여부\n",
       "13-17      1           0\n",
       "           2           0\n",
       "           3           1\n",
       "           4           0\n",
       "           5           1\n",
       "           6           0\n",
       "           7           5\n",
       "           8           1\n",
       "           9           1\n",
       "           10          0\n",
       "18-24      1          20\n",
       "           2          29\n",
       "           3          81\n",
       "           4          72\n",
       "           5          39\n",
       "           6          77\n",
       "           7         159\n",
       "           8         224\n",
       "           9          80\n",
       "           10         83\n",
       "25-34      1           8\n",
       "           2           9\n",
       "           3          24\n",
       "           4          16\n",
       "           5          15\n",
       "           6          21\n",
       "           7          75\n",
       "           8          85\n",
       "           9          25\n",
       "           10         40\n",
       "35-44      1           0\n",
       "           2           0\n",
       "           3           0\n",
       "           4           1\n",
       "           5           2\n",
       "           6           2\n",
       "           7           3\n",
       "           8           2\n",
       "           9           0\n",
       "           10          0\n",
       "45-54      1           5\n",
       "           2           4\n",
       "           3           5\n",
       "           4           4\n",
       "           5           6\n",
       "           6           4\n",
       "           7           1\n",
       "           8           5\n",
       "           9           3\n",
       "           10          1\n",
       "Name: 수면장애여부, dtype: int64"
      ]
     },
     "execution_count": 49,
     "metadata": {},
     "output_type": "execute_result"
    }
   ],
   "source": [
    "data.groupby(['age group', '수면장애여부'])['수면장애여부'].count()"
   ]
  },
  {
   "cell_type": "code",
   "execution_count": 60,
   "id": "58c71602",
   "metadata": {},
   "outputs": [
    {
     "data": {
      "image/png": "[encoded data removed]",
      "text/plain": [
       "<Figure size 432x288 with 1 Axes>"
      ]
     },
     "metadata": {
      "needs_background": "light"
     },
     "output_type": "display_data"
    }
   ],
   "source": [
    "sns.boxplot(data = data, x = 'age group', y = '수면장애여부')\n",
    "plt.show()"
   ]
  },
  {
   "cell_type": "code",
   "execution_count": 234,
   "id": "b5157a17",
   "metadata": {},
   "outputs": [],
   "source": [
    "?sns.boxplot"
   ]
  },
  {
   "cell_type": "code",
   "execution_count": 241,
   "id": "4a052108",
   "metadata": {},
   "outputs": [
    {
     "data": {
      "image/png": "[encoded data removed]",
      "text/plain": [
       "<Figure size 720x720 with 1 Axes>"
      ]
     },
     "metadata": {
      "needs_background": "light"
     },
     "output_type": "display_data"
    }
   ],
   "source": [
    "fig = plt.figure(figsize=(10,10))\n",
    "sns.boxplot(data = data, x = '직업', y = '수면장애여부', width=0.5)\n",
    "plt.show()"
   ]
  },
  {
   "cell_type": "markdown",
   "id": "58068342",
   "metadata": {},
   "source": [
    "나이대가 올라갈 수록 수면장애여부가 낮아진다"
   ]
  },
  {
   "cell_type": "markdown",
   "id": "9348e8ec",
   "metadata": {},
   "source": [
    "## 스마트워치 사용여부"
   ]
  },
  {
   "cell_type": "code",
   "execution_count": 65,
   "id": "f0b15a5a",
   "metadata": {},
   "outputs": [],
   "source": [
    "def yes_or_no_to_numeric(x):\n",
    "    if x == '예':\n",
    "        return 1\n",
    "    if x == '아니오':\n",
    "        return 0 "
   ]
  },
  {
   "cell_type": "code",
   "execution_count": 67,
   "id": "35d162e0",
   "metadata": {},
   "outputs": [
    {
     "data": {
      "text/plain": [
       "0       아니오\n",
       "1       아니오\n",
       "2       아니오\n",
       "3         예\n",
       "4         예\n",
       "       ... \n",
       "1261    아니오\n",
       "1262      예\n",
       "1263    아니오\n",
       "1264    아니오\n",
       "1265      예\n",
       "Name: 스마트워치 사용여부, Length: 1261, dtype: object"
      ]
     },
     "execution_count": 67,
     "metadata": {},
     "output_type": "execute_result"
    }
   ],
   "source": [
    "data['스마트워치 사용여부']"
   ]
  },
  {
   "cell_type": "code",
   "execution_count": 69,
   "id": "6ea2b0dc",
   "metadata": {},
   "outputs": [
    {
     "name": "stderr",
     "output_type": "stream",
     "text": [
      "/var/folders/8r/zqvjdcfd6896s3d9mqw4bkvh0000gn/T/ipykernel_11386/1325695209.py:1: SettingWithCopyWarning: \n",
      "A value is trying to be set on a copy of a slice from a DataFrame.\n",
      "Try using .loc[row_indexer,col_indexer] = value instead\n",
      "\n",
      "See the caveats in the documentation: https://pandas.pydata.org/pandas-docs/stable/user_guide/indexing.html#returning-a-view-versus-a-copy\n",
      "  data['스마트워치 사용여부'] = data['스마트워치 사용여부'].apply(yes_or_no_to_numeric)\n"
     ]
    }
   ],
   "source": [
    "data['스마트워치 사용여부'] = data['스마트워치 사용여부'].apply(yes_or_no_to_numeric)"
   ]
  },
  {
   "cell_type": "code",
   "execution_count": 80,
   "id": "0a9d3340",
   "metadata": {},
   "outputs": [
    {
     "data": {
      "image/png": "[encoded data removed]",
      "text/plain": [
       "<Figure size 432x288 with 1 Axes>"
      ]
     },
     "metadata": {
      "needs_background": "light"
     },
     "output_type": "display_data"
    }
   ],
   "source": [
    "sns.histplot(data = data, \n",
    "            x= 'age group',\n",
    "            discrete = True,\n",
    "            hue = '스마트워치 사용여부',\n",
    "             multiple = 'stack'\n",
    "            )\n",
    "# plt.yticks(range(0,600,50))\n",
    "plt.show()"
   ]
  },
  {
   "cell_type": "code",
   "execution_count": 79,
   "id": "c0db4d73",
   "metadata": {},
   "outputs": [
    {
     "data": {
      "text/plain": [
       "age group  스마트워치 사용여부\n",
       "13-17      0               8\n",
       "           1               1\n",
       "18-24      0             592\n",
       "           1             272\n",
       "25-34      0             176\n",
       "           1             142\n",
       "35-44      0               3\n",
       "           1               7\n",
       "45-54      0              35\n",
       "           1               3\n",
       "Name: 스마트워치 사용여부, dtype: int64"
      ]
     },
     "execution_count": 79,
     "metadata": {},
     "output_type": "execute_result"
    }
   ],
   "source": [
    "data.groupby(['age group', '스마트워치 사용여부'])['스마트워치 사용여부'].count()"
   ]
  },
  {
   "cell_type": "markdown",
   "id": "8669838e",
   "metadata": {},
   "source": [
    "35-44를 제외하고는 전 연령에서 스마트워치를 사용하지 않는 비율이 높음. (35-44도 표본이 너무 적음) "
   ]
  },
  {
   "cell_type": "markdown",
   "id": "d40ca127",
   "metadata": {},
   "source": [
    "## 수면시 스마트워치"
   ]
  },
  {
   "cell_type": "code",
   "execution_count": 84,
   "id": "76932579",
   "metadata": {},
   "outputs": [
    {
     "data": {
      "text/plain": [
       "0       아니오\n",
       "1       아니오\n",
       "2       아니오\n",
       "3       아니오\n",
       "4         예\n",
       "       ... \n",
       "1261    아니오\n",
       "1262    아니오\n",
       "1263    아니오\n",
       "1264    아니오\n",
       "1265      예\n",
       "Name: 수면시 스마스워치, Length: 1261, dtype: object"
      ]
     },
     "execution_count": 84,
     "metadata": {},
     "output_type": "execute_result"
    }
   ],
   "source": [
    "data['수면시 스마스워치']"
   ]
  },
  {
   "cell_type": "code",
   "execution_count": 85,
   "id": "5b2b9869",
   "metadata": {},
   "outputs": [
    {
     "name": "stderr",
     "output_type": "stream",
     "text": [
      "/var/folders/8r/zqvjdcfd6896s3d9mqw4bkvh0000gn/T/ipykernel_11386/2434992041.py:1: SettingWithCopyWarning: \n",
      "A value is trying to be set on a copy of a slice from a DataFrame.\n",
      "Try using .loc[row_indexer,col_indexer] = value instead\n",
      "\n",
      "See the caveats in the documentation: https://pandas.pydata.org/pandas-docs/stable/user_guide/indexing.html#returning-a-view-versus-a-copy\n",
      "  data['수면시 스마스워치'] = data['수면시 스마스워치'].apply(yes_or_no_to_numeric)\n"
     ]
    }
   ],
   "source": [
    "data['수면시 스마스워치'] = data['수면시 스마스워치'].apply(yes_or_no_to_numeric)"
   ]
  },
  {
   "cell_type": "code",
   "execution_count": 87,
   "id": "ca71aa90",
   "metadata": {},
   "outputs": [
    {
     "data": {
      "image/png": "[encoded data removed]",
      "text/plain": [
       "<Figure size 432x288 with 1 Axes>"
      ]
     },
     "metadata": {
      "needs_background": "light"
     },
     "output_type": "display_data"
    }
   ],
   "source": [
    "sns.histplot(data = data, \n",
    "            x= 'age group',\n",
    "            discrete = True,\n",
    "            hue = '수면시 스마스워치',\n",
    "             multiple = 'stack'\n",
    "            )\n",
    "# plt.yticks(range(0,600,50))\n",
    "plt.show()"
   ]
  },
  {
   "cell_type": "markdown",
   "id": "b1111e4c",
   "metadata": {},
   "source": [
    "## 어플 사용 여부"
   ]
  },
  {
   "cell_type": "code",
   "execution_count": 105,
   "id": "4b0070ae",
   "metadata": {},
   "outputs": [
    {
     "data": {
      "text/plain": [
       "0       아니오\n",
       "1       아니오\n",
       "2         네\n",
       "3       아니오\n",
       "4       아니오\n",
       "       ... \n",
       "1261    아니오\n",
       "1262    아니오\n",
       "1263    아니오\n",
       "1264    아니오\n",
       "1265      네\n",
       "Name: 어플사용여부, Length: 1261, dtype: object"
      ]
     },
     "execution_count": 105,
     "metadata": {},
     "output_type": "execute_result"
    }
   ],
   "source": [
    "data['어플사용여부']"
   ]
  },
  {
   "cell_type": "code",
   "execution_count": 106,
   "id": "dd59cc53",
   "metadata": {},
   "outputs": [],
   "source": [
    "def yes_or_no_to_numeric2(x):\n",
    "    if x == '네':\n",
    "        return 1\n",
    "    if x == '아니오':\n",
    "        return 0 "
   ]
  },
  {
   "cell_type": "code",
   "execution_count": 107,
   "id": "a552b5ec",
   "metadata": {},
   "outputs": [
    {
     "name": "stderr",
     "output_type": "stream",
     "text": [
      "/var/folders/8r/zqvjdcfd6896s3d9mqw4bkvh0000gn/T/ipykernel_11386/2985826485.py:1: SettingWithCopyWarning: \n",
      "A value is trying to be set on a copy of a slice from a DataFrame.\n",
      "Try using .loc[row_indexer,col_indexer] = value instead\n",
      "\n",
      "See the caveats in the documentation: https://pandas.pydata.org/pandas-docs/stable/user_guide/indexing.html#returning-a-view-versus-a-copy\n",
      "  data['어플사용여부'] = data['어플사용여부'].apply(yes_or_no_to_numeric2)\n"
     ]
    }
   ],
   "source": [
    "data['어플사용여부'] = data['어플사용여부'].apply(yes_or_no_to_numeric2)"
   ]
  },
  {
   "cell_type": "code",
   "execution_count": 108,
   "id": "7ad9c06e",
   "metadata": {},
   "outputs": [
    {
     "data": {
      "image/png": "[encoded data removed]",
      "text/plain": [
       "<Figure size 432x288 with 1 Axes>"
      ]
     },
     "metadata": {
      "needs_background": "light"
     },
     "output_type": "display_data"
    }
   ],
   "source": [
    "sns.histplot(data = data, \n",
    "            x= 'age group',\n",
    "            discrete = True,\n",
    "            hue = '어플사용여부',\n",
    "             multiple = 'stack'\n",
    "            )\n",
    "# plt.yticks(range(0,600,50))\n",
    "plt.show()"
   ]
  },
  {
   "cell_type": "code",
   "execution_count": 109,
   "id": "63c75b97",
   "metadata": {},
   "outputs": [
    {
     "data": {
      "text/plain": [
       "age group  어플사용여부\n",
       "13-17      0           8\n",
       "           1           1\n",
       "18-24      0         620\n",
       "           1         244\n",
       "25-34      0         224\n",
       "           1          94\n",
       "35-44      0           5\n",
       "           1           5\n",
       "45-54      0          35\n",
       "           1           3\n",
       "Name: 어플사용여부, dtype: int64"
      ]
     },
     "execution_count": 109,
     "metadata": {},
     "output_type": "execute_result"
    }
   ],
   "source": [
    "data.groupby(['age group', '어플사용여부'])['어플사용여부'].count()"
   ]
  },
  {
   "cell_type": "markdown",
   "id": "27b15811",
   "metadata": {},
   "source": [
    "## 어플사용이유"
   ]
  },
  {
   "cell_type": "code",
   "execution_count": 112,
   "id": "76d7e65c",
   "metadata": {},
   "outputs": [
    {
     "data": {
      "text/plain": [
       "age group  어플사용이유                                  \n",
       "13-17      수면 모니터링                                     1\n",
       "           수면 모니터링, 수면 분석 리포트                          0\n",
       "           수면 모니터링, 수면 분석 리포트, 수면 유도                   0\n",
       "           수면 모니터링, 수면 분석 리포트, 수면 유도, 코골이, 이갈이 등 녹음    0\n",
       "           수면 모니터링, 수면 분석 리포트, 코골이, 이갈이 등 녹음           0\n",
       "                                                      ..\n",
       "45-54      알람, 수면 분석 리포트, 수면 유도                        0\n",
       "           알람, 수면 분석 리포트, 코골이, 이갈이 등 녹음                0\n",
       "           알람, 수면 유도                                   0\n",
       "           알람, 코골이, 이갈이 등 녹음                           0\n",
       "           코골이, 이갈이 등 녹음                               0\n",
       "Name: 어플사용이유, Length: 120, dtype: int64"
      ]
     },
     "execution_count": 112,
     "metadata": {},
     "output_type": "execute_result"
    }
   ],
   "source": [
    "data.groupby(['age group', '어플사용이유'])['어플사용이유'].count()"
   ]
  },
  {
   "cell_type": "code",
   "execution_count": 308,
   "id": "656e6e41",
   "metadata": {},
   "outputs": [],
   "source": [
    "age_group = '25-34'"
   ]
  },
  {
   "cell_type": "code",
   "execution_count": 309,
   "id": "945ccb8a",
   "metadata": {},
   "outputs": [],
   "source": [
    "def split_reason(x):\n",
    "    if x!=x:\n",
    "        return x\n",
    "    else:\n",
    "        return x.split(', ')\n",
    "        "
   ]
  },
  {
   "cell_type": "code",
   "execution_count": 310,
   "id": "ba2ea653",
   "metadata": {},
   "outputs": [
    {
     "name": "stderr",
     "output_type": "stream",
     "text": [
      "/var/folders/8r/zqvjdcfd6896s3d9mqw4bkvh0000gn/T/ipykernel_11386/1205459457.py:1: SettingWithCopyWarning: \n",
      "A value is trying to be set on a copy of a slice from a DataFrame.\n",
      "Try using .loc[row_indexer,col_indexer] = value instead\n",
      "\n",
      "See the caveats in the documentation: https://pandas.pydata.org/pandas-docs/stable/user_guide/indexing.html#returning-a-view-versus-a-copy\n",
      "  data['어플사용이유_split'] = data['어플사용이유'].apply(split_reason)\n"
     ]
    }
   ],
   "source": [
    "data['어플사용이유_split'] = data['어플사용이유'].apply(split_reason)"
   ]
  },
  {
   "cell_type": "code",
   "execution_count": 311,
   "id": "460e76c0",
   "metadata": {},
   "outputs": [
    {
     "data": {
      "text/plain": [
       "0          NaN\n",
       "1          NaN\n",
       "2    [수면 모니터링]\n",
       "3          NaN\n",
       "4          NaN\n",
       "Name: 어플사용이유_split, dtype: object"
      ]
     },
     "execution_count": 311,
     "metadata": {},
     "output_type": "execute_result"
    }
   ],
   "source": [
    "data['어플사용이유_split'].head()"
   ]
  },
  {
   "cell_type": "code",
   "execution_count": 312,
   "id": "66980f48",
   "metadata": {},
   "outputs": [],
   "source": [
    "def count_reason(x):\n",
    "    if x!=x:\n",
    "        return x\n",
    "    else:\n",
    "        return collections.Counter(x)\n",
    "        "
   ]
  },
  {
   "cell_type": "code",
   "execution_count": 314,
   "id": "3feaedb6",
   "metadata": {},
   "outputs": [],
   "source": [
    "reason_dict = dict()"
   ]
  },
  {
   "cell_type": "code",
   "execution_count": 315,
   "id": "93763b26",
   "metadata": {
    "ExecuteTime": {
     "end_time": "2022-01-25T09:18:10.359228Z",
     "start_time": "2022-01-25T09:18:10.345226Z"
    }
   },
   "outputs": [],
   "source": [
    "reason_list = ['수면 모니터링', '수면 분석 리포트', '수면 유도' ,'코골이, 이갈이 등 녹음','알람']\n",
    "\n",
    "for x in reason_list:\n",
    "    reason_dict[x] = 0"
   ]
  },
  {
   "cell_type": "code",
   "execution_count": 316,
   "id": "885829c7",
   "metadata": {},
   "outputs": [],
   "source": [
    "def reason_sum(x):\n",
    "    if x!=x:\n",
    "        return x\n",
    "    else:\n",
    "        keys = x.keys()\n",
    "        for key in keys:\n",
    "            try:\n",
    "                reason_dict[key] += x[key] \n",
    "            except:\n",
    "                reason_dict[key] = x[key]"
   ]
  },
  {
   "cell_type": "code",
   "execution_count": 317,
   "id": "f4586216",
   "metadata": {},
   "outputs": [
    {
     "data": {
      "text/plain": [
       "0      NaN\n",
       "1      NaN\n",
       "3      NaN\n",
       "4      NaN\n",
       "5      NaN\n",
       "        ..\n",
       "1241   NaN\n",
       "1250   NaN\n",
       "1260   NaN\n",
       "1261   NaN\n",
       "1262   NaN\n",
       "Name: 어플사용이유_split, Length: 318, dtype: float64"
      ]
     },
     "execution_count": 317,
     "metadata": {},
     "output_type": "execute_result"
    }
   ],
   "source": [
    "data[data['age group'] == age_group]['어플사용이유_split'].apply(count_reason).apply(reason_sum)"
   ]
  },
  {
   "cell_type": "code",
   "execution_count": 318,
   "id": "ae0a273b",
   "metadata": {},
   "outputs": [
    {
     "data": {
      "text/plain": [
       "{'수면 모니터링': 66,\n",
       " '수면 분석 리포트': 49,\n",
       " '수면 유도': 14,\n",
       " '코골이, 이갈이 등 녹음': 0,\n",
       " '알람': 39,\n",
       " '코골이': 17,\n",
       " '이갈이 등 녹음': 17}"
      ]
     },
     "execution_count": 318,
     "metadata": {},
     "output_type": "execute_result"
    }
   ],
   "source": [
    "reason_dict"
   ]
  },
  {
   "cell_type": "code",
   "execution_count": 319,
   "id": "37736ec0",
   "metadata": {},
   "outputs": [],
   "source": [
    "reason_dict['코골이, 이갈이 등 녹음'] += reason_dict['코골이']"
   ]
  },
  {
   "cell_type": "code",
   "execution_count": 320,
   "id": "0755c0a9",
   "metadata": {},
   "outputs": [],
   "source": [
    "del reason_dict['코골이']"
   ]
  },
  {
   "cell_type": "code",
   "execution_count": 321,
   "id": "299800f1",
   "metadata": {},
   "outputs": [],
   "source": [
    "del reason_dict['이갈이 등 녹음']"
   ]
  },
  {
   "cell_type": "code",
   "execution_count": 322,
   "id": "a54cca8c",
   "metadata": {},
   "outputs": [
    {
     "data": {
      "text/plain": [
       "{'수면 모니터링': 66, '수면 분석 리포트': 49, '수면 유도': 14, '코골이, 이갈이 등 녹음': 17, '알람': 39}"
      ]
     },
     "execution_count": 322,
     "metadata": {},
     "output_type": "execute_result"
    }
   ],
   "source": [
    "reason_dict"
   ]
  },
  {
   "cell_type": "code",
   "execution_count": 323,
   "id": "1206a465",
   "metadata": {},
   "outputs": [],
   "source": [
    "group_names = list(reason_dict.keys())\n",
    "group_sizes = list(reason_dict.values())\n",
    "group_colors = ['yellowgreen', 'lightskyblue', 'lightcoral', 'red', 'blue']\n",
    "group_explodes = (0.05, 0.05, 0.1, 0.1, 0.1) # explode 1st slice  #0.1로 간격을 부여. 0은 간격 없는 것. default = 0."
   ]
  },
  {
   "cell_type": "code",
   "execution_count": 324,
   "id": "ec8d1761",
   "metadata": {},
   "outputs": [
    {
     "data": {
      "image/png": "[encoded data removed]",
      "text/plain": [
       "<Figure size 432x288 with 1 Axes>"
      ]
     },
     "metadata": {},
     "output_type": "display_data"
    }
   ],
   "source": [
    "plt.pie(group_sizes, \n",
    "        explode=group_explodes, # pie 간의 간격 지정, default : pie 사이 간격 무\n",
    "        labels=group_names, \n",
    "        colors=group_colors, \n",
    "        autopct='%1.2f%%', # 우리가 부여한 숫자가 알아서 퍼센트로 변함. 그 퍼센트의 소수점 자릿수 지정 \n",
    "        #소숫점 지정할 때는 정수부분은 보통 1을 씀.\n",
    "        shadow=True, # 입체적으로 표현 가능\n",
    "        textprops={'fontsize': 10}) # text font size\n",
    "\n",
    "plt.axis('equal') # x축과 y축 길이 동일하게 지정, 원 모양\n",
    "plt.title(age_group, fontsize=20)\n",
    "plt.show()  "
   ]
  },
  {
   "cell_type": "markdown",
   "id": "aa75f380",
   "metadata": {},
   "source": [
    "## __워드 클라우드 시각화__"
   ]
  },
  {
   "cell_type": "code",
   "execution_count": 247,
   "id": "88e4f725",
   "metadata": {},
   "outputs": [
    {
     "data": {
      "text/plain": [
       "(array([ 1,  2,  3,  4,  5,  6,  7,  8,  9, 10]),\n",
       " array([ 33,  43, 113,  93,  65, 110, 247, 320, 110, 127]))"
      ]
     },
     "execution_count": 247,
     "metadata": {},
     "output_type": "execute_result"
    }
   ],
   "source": [
    "np.unique(data['수면장애여부'], return_counts=True)"
   ]
  },
  {
   "cell_type": "code",
   "execution_count": 252,
   "id": "07162d7b",
   "metadata": {},
   "outputs": [
    {
     "data": {
      "text/html": [
       "<div>\n",
       "<style scoped>\n",
       "    .dataframe tbody tr th:only-of-type {\n",
       "        vertical-align: middle;\n",
       "    }\n",
       "\n",
       "    .dataframe tbody tr th {\n",
       "        vertical-align: top;\n",
       "    }\n",
       "\n",
       "    .dataframe thead th {\n",
       "        text-align: right;\n",
       "    }\n",
       "</style>\n",
       "<table border=\"1\" class=\"dataframe\">\n",
       "  <thead>\n",
       "    <tr style=\"text-align: right;\">\n",
       "      <th></th>\n",
       "      <th>시간</th>\n",
       "      <th>나이</th>\n",
       "      <th>성별</th>\n",
       "      <th>직업</th>\n",
       "      <th>수면장애여부</th>\n",
       "      <th>스마트워치 사용여부</th>\n",
       "      <th>수면시 스마스워치</th>\n",
       "      <th>어플사용여부</th>\n",
       "      <th>어플종류</th>\n",
       "      <th>어플사용이유</th>\n",
       "      <th>잠 필요 시기</th>\n",
       "      <th>수면장애 해결법</th>\n",
       "      <th>어플라벨</th>\n",
       "      <th>age group</th>\n",
       "      <th>어플사용이유_split</th>\n",
       "    </tr>\n",
       "  </thead>\n",
       "  <tbody>\n",
       "    <tr>\n",
       "      <th>2</th>\n",
       "      <td>11.22.2021 8:23:51</td>\n",
       "      <td>24.0</td>\n",
       "      <td>여성</td>\n",
       "      <td>학생</td>\n",
       "      <td>6</td>\n",
       "      <td>0</td>\n",
       "      <td>0</td>\n",
       "      <td>1</td>\n",
       "      <td>슬립사이클</td>\n",
       "      <td>수면 모니터링</td>\n",
       "      <td>다음날 일정이 많고 몸을 많이 쓸 때, 시험 기간</td>\n",
       "      <td>잠이 안오면 어떤 방법을 써도 효과가 없어서 그냥 샙니다</td>\n",
       "      <td>슬립사이클</td>\n",
       "      <td>18-24</td>\n",
       "      <td>[수면 모니터링]</td>\n",
       "    </tr>\n",
       "    <tr>\n",
       "      <th>3</th>\n",
       "      <td>11.22.2021 15:11:45</td>\n",
       "      <td>29.0</td>\n",
       "      <td>여성</td>\n",
       "      <td>직장인</td>\n",
       "      <td>8</td>\n",
       "      <td>1</td>\n",
       "      <td>0</td>\n",
       "      <td>0</td>\n",
       "      <td>NaN</td>\n",
       "      <td>NaN</td>\n",
       "      <td>매일</td>\n",
       "      <td>수면음악듣기</td>\n",
       "      <td>NaN</td>\n",
       "      <td>25-34</td>\n",
       "      <td>NaN</td>\n",
       "    </tr>\n",
       "    <tr>\n",
       "      <th>4</th>\n",
       "      <td>11.22.2021 16:05:51</td>\n",
       "      <td>29.0</td>\n",
       "      <td>남성</td>\n",
       "      <td>직장인</td>\n",
       "      <td>8</td>\n",
       "      <td>1</td>\n",
       "      <td>1</td>\n",
       "      <td>0</td>\n",
       "      <td>NaN</td>\n",
       "      <td>NaN</td>\n",
       "      <td>마감이 많이 몰리는 월말 월초</td>\n",
       "      <td>일단 누워서 버텨봅니다ㅜ</td>\n",
       "      <td>NaN</td>\n",
       "      <td>25-34</td>\n",
       "      <td>NaN</td>\n",
       "    </tr>\n",
       "    <tr>\n",
       "      <th>6</th>\n",
       "      <td>11.22.2021 20:17:36</td>\n",
       "      <td>15.0</td>\n",
       "      <td>남성</td>\n",
       "      <td>학생</td>\n",
       "      <td>7</td>\n",
       "      <td>0</td>\n",
       "      <td>0</td>\n",
       "      <td>0</td>\n",
       "      <td>NaN</td>\n",
       "      <td>NaN</td>\n",
       "      <td>지금</td>\n",
       "      <td>피곤하게 만든다</td>\n",
       "      <td>NaN</td>\n",
       "      <td>13-17</td>\n",
       "      <td>NaN</td>\n",
       "    </tr>\n",
       "    <tr>\n",
       "      <th>7</th>\n",
       "      <td>11.22.2021 21:17:03</td>\n",
       "      <td>27.0</td>\n",
       "      <td>여성</td>\n",
       "      <td>직장인</td>\n",
       "      <td>8</td>\n",
       "      <td>1</td>\n",
       "      <td>0</td>\n",
       "      <td>1</td>\n",
       "      <td>필로우</td>\n",
       "      <td>수면 모니터링, 코골이, 이갈이 등 녹음</td>\n",
       "      <td>평소</td>\n",
       "      <td>잠이 올 때까지 핸드폰을 한다.</td>\n",
       "      <td>필로우</td>\n",
       "      <td>25-34</td>\n",
       "      <td>[수면 모니터링, 코골이, 이갈이 등 녹음]</td>\n",
       "    </tr>\n",
       "    <tr>\n",
       "      <th>...</th>\n",
       "      <td>...</td>\n",
       "      <td>...</td>\n",
       "      <td>...</td>\n",
       "      <td>...</td>\n",
       "      <td>...</td>\n",
       "      <td>...</td>\n",
       "      <td>...</td>\n",
       "      <td>...</td>\n",
       "      <td>...</td>\n",
       "      <td>...</td>\n",
       "      <td>...</td>\n",
       "      <td>...</td>\n",
       "      <td>...</td>\n",
       "      <td>...</td>\n",
       "      <td>...</td>\n",
       "    </tr>\n",
       "    <tr>\n",
       "      <th>1259</th>\n",
       "      <td>12.31.2021 13:49:04</td>\n",
       "      <td>22.0</td>\n",
       "      <td>여성</td>\n",
       "      <td>학생</td>\n",
       "      <td>7</td>\n",
       "      <td>0</td>\n",
       "      <td>0</td>\n",
       "      <td>0</td>\n",
       "      <td>NaN</td>\n",
       "      <td>NaN</td>\n",
       "      <td>요새 코로나 시국 때문에 학교에서 대면수업을 할 일이 없어서 새벽에 늦게자고 낮에 ...</td>\n",
       "      <td>딱히 뭘 해도 잠이 안와서 잠들 때까지 그냥 억지로 눈감고 버팁니다...ㅎ</td>\n",
       "      <td>NaN</td>\n",
       "      <td>18-24</td>\n",
       "      <td>NaN</td>\n",
       "    </tr>\n",
       "    <tr>\n",
       "      <th>1260</th>\n",
       "      <td>1.2.2022 22:19:41</td>\n",
       "      <td>31.0</td>\n",
       "      <td>남성</td>\n",
       "      <td>학생</td>\n",
       "      <td>7</td>\n",
       "      <td>1</td>\n",
       "      <td>1</td>\n",
       "      <td>0</td>\n",
       "      <td>NaN</td>\n",
       "      <td>NaN</td>\n",
       "      <td>평상시</td>\n",
       "      <td>커튼</td>\n",
       "      <td>NaN</td>\n",
       "      <td>25-34</td>\n",
       "      <td>NaN</td>\n",
       "    </tr>\n",
       "    <tr>\n",
       "      <th>1262</th>\n",
       "      <td>1.4.2022 11:23:53</td>\n",
       "      <td>30.0</td>\n",
       "      <td>여성</td>\n",
       "      <td>직장인</td>\n",
       "      <td>8</td>\n",
       "      <td>1</td>\n",
       "      <td>0</td>\n",
       "      <td>0</td>\n",
       "      <td>NaN</td>\n",
       "      <td>NaN</td>\n",
       "      <td>언제나</td>\n",
       "      <td>유튜브 시청</td>\n",
       "      <td>NaN</td>\n",
       "      <td>25-34</td>\n",
       "      <td>NaN</td>\n",
       "    </tr>\n",
       "    <tr>\n",
       "      <th>1263</th>\n",
       "      <td>1.4.2022 20:20:49</td>\n",
       "      <td>22.0</td>\n",
       "      <td>여성</td>\n",
       "      <td>학생</td>\n",
       "      <td>7</td>\n",
       "      <td>0</td>\n",
       "      <td>0</td>\n",
       "      <td>0</td>\n",
       "      <td>NaN</td>\n",
       "      <td>NaN</td>\n",
       "      <td>몸이 아플때, 방학기간때</td>\n",
       "      <td>속으로 숫자 세리거나 그냥 눈감고 가만히 있음</td>\n",
       "      <td>NaN</td>\n",
       "      <td>18-24</td>\n",
       "      <td>NaN</td>\n",
       "    </tr>\n",
       "    <tr>\n",
       "      <th>1264</th>\n",
       "      <td>1.7.2022 11:51:57</td>\n",
       "      <td>23.0</td>\n",
       "      <td>남성</td>\n",
       "      <td>학생</td>\n",
       "      <td>7</td>\n",
       "      <td>0</td>\n",
       "      <td>0</td>\n",
       "      <td>0</td>\n",
       "      <td>NaN</td>\n",
       "      <td>NaN</td>\n",
       "      <td>항상 필요하다</td>\n",
       "      <td>유튜브 보다가 눈이 감길때 잔다</td>\n",
       "      <td>NaN</td>\n",
       "      <td>18-24</td>\n",
       "      <td>NaN</td>\n",
       "    </tr>\n",
       "  </tbody>\n",
       "</table>\n",
       "<p>914 rows × 15 columns</p>\n",
       "</div>"
      ],
      "text/plain": [
       "                       시간    나이  성별   직업  수면장애여부  스마트워치 사용여부  수면시 스마스워치  \\\n",
       "2      11.22.2021 8:23:51  24.0  여성   학생       6           0          0   \n",
       "3     11.22.2021 15:11:45  29.0  여성  직장인       8           1          0   \n",
       "4     11.22.2021 16:05:51  29.0  남성  직장인       8           1          1   \n",
       "6     11.22.2021 20:17:36  15.0  남성   학생       7           0          0   \n",
       "7     11.22.2021 21:17:03  27.0  여성  직장인       8           1          0   \n",
       "...                   ...   ...  ..  ...     ...         ...        ...   \n",
       "1259  12.31.2021 13:49:04  22.0  여성   학생       7           0          0   \n",
       "1260    1.2.2022 22:19:41  31.0  남성   학생       7           1          1   \n",
       "1262    1.4.2022 11:23:53  30.0  여성  직장인       8           1          0   \n",
       "1263    1.4.2022 20:20:49  22.0  여성   학생       7           0          0   \n",
       "1264    1.7.2022 11:51:57  23.0  남성   학생       7           0          0   \n",
       "\n",
       "      어플사용여부   어플종류                  어플사용이유  \\\n",
       "2          1  슬립사이클                 수면 모니터링   \n",
       "3          0    NaN                     NaN   \n",
       "4          0    NaN                     NaN   \n",
       "6          0    NaN                     NaN   \n",
       "7          1    필로우  수면 모니터링, 코골이, 이갈이 등 녹음   \n",
       "...      ...    ...                     ...   \n",
       "1259       0    NaN                     NaN   \n",
       "1260       0    NaN                     NaN   \n",
       "1262       0    NaN                     NaN   \n",
       "1263       0    NaN                     NaN   \n",
       "1264       0    NaN                     NaN   \n",
       "\n",
       "                                                잠 필요 시기  \\\n",
       "2                           다음날 일정이 많고 몸을 많이 쓸 때, 시험 기간   \n",
       "3                                                    매일   \n",
       "4                                      마감이 많이 몰리는 월말 월초   \n",
       "6                                                    지금   \n",
       "7                                                    평소   \n",
       "...                                                 ...   \n",
       "1259  요새 코로나 시국 때문에 학교에서 대면수업을 할 일이 없어서 새벽에 늦게자고 낮에 ...   \n",
       "1260                                                평상시   \n",
       "1262                                                언제나   \n",
       "1263                                      몸이 아플때, 방학기간때   \n",
       "1264                                            항상 필요하다   \n",
       "\n",
       "                                       수면장애 해결법   어플라벨 age group  \\\n",
       "2               잠이 안오면 어떤 방법을 써도 효과가 없어서 그냥 샙니다  슬립사이클     18-24   \n",
       "3                                        수면음악듣기    NaN     25-34   \n",
       "4                                 일단 누워서 버텨봅니다ㅜ    NaN     25-34   \n",
       "6                                      피곤하게 만든다    NaN     13-17   \n",
       "7                             잠이 올 때까지 핸드폰을 한다.    필로우     25-34   \n",
       "...                                         ...    ...       ...   \n",
       "1259  딱히 뭘 해도 잠이 안와서 잠들 때까지 그냥 억지로 눈감고 버팁니다...ㅎ    NaN     18-24   \n",
       "1260                                        커튼     NaN     25-34   \n",
       "1262                                     유튜브 시청    NaN     25-34   \n",
       "1263                  속으로 숫자 세리거나 그냥 눈감고 가만히 있음    NaN     18-24   \n",
       "1264                          유튜브 보다가 눈이 감길때 잔다    NaN     18-24   \n",
       "\n",
       "                  어플사용이유_split  \n",
       "2                    [수면 모니터링]  \n",
       "3                          NaN  \n",
       "4                          NaN  \n",
       "6                          NaN  \n",
       "7     [수면 모니터링, 코골이, 이갈이 등 녹음]  \n",
       "...                        ...  \n",
       "1259                       NaN  \n",
       "1260                       NaN  \n",
       "1262                       NaN  \n",
       "1263                       NaN  \n",
       "1264                       NaN  \n",
       "\n",
       "[914 rows x 15 columns]"
      ]
     },
     "execution_count": 252,
     "metadata": {},
     "output_type": "execute_result"
    }
   ],
   "source": [
    "need_sleep_data = data[data['수면장애여부']>=6]\n",
    "need_sleep_data"
   ]
  },
  {
   "cell_type": "code",
   "execution_count": 257,
   "id": "6447111d",
   "metadata": {},
   "outputs": [],
   "source": [
    "from konlpy.tag import Okt"
   ]
  },
  {
   "cell_type": "code",
   "execution_count": 254,
   "id": "d7c46109",
   "metadata": {},
   "outputs": [
    {
     "data": {
      "text/plain": [
       "2                 잠이 안오면 어떤 방법을 써도 효과가 없어서 그냥 샙니다\n",
       "3                                          수면음악듣기\n",
       "4                                   일단 누워서 버텨봅니다ㅜ\n",
       "6                                        피곤하게 만든다\n",
       "7                               잠이 올 때까지 핸드폰을 한다.\n",
       "                          ...                    \n",
       "1259    딱히 뭘 해도 잠이 안와서 잠들 때까지 그냥 억지로 눈감고 버팁니다...ㅎ\n",
       "1260                                          커튼 \n",
       "1262                                       유튜브 시청\n",
       "1263                    속으로 숫자 세리거나 그냥 눈감고 가만히 있음\n",
       "1264                            유튜브 보다가 눈이 감길때 잔다\n",
       "Name: 수면장애 해결법, Length: 914, dtype: object"
      ]
     },
     "execution_count": 254,
     "metadata": {},
     "output_type": "execute_result"
    }
   ],
   "source": [
    "need_sleep_data.loc[:, '수면장애 해결법'].astype(str)"
   ]
  },
  {
   "cell_type": "code",
   "execution_count": 1,
   "id": "3ca69f74",
   "metadata": {
    "collapsed": true
   },
   "outputs": [
    {
     "ename": "NameError",
     "evalue": "name 'Okt' is not defined",
     "output_type": "error",
     "traceback": [
      "\u001b[0;31m---------------------------------------------------------------------------\u001b[0m",
      "\u001b[0;31mNameError\u001b[0m                                 Traceback (most recent call last)",
      "\u001b[0;32m/var/folders/8r/zqvjdcfd6896s3d9mqw4bkvh0000gn/T/ipykernel_97867/2939839691.py\u001b[0m in \u001b[0;36m<module>\u001b[0;34m\u001b[0m\n\u001b[0;32m----> 1\u001b[0;31m \u001b[0mt\u001b[0m \u001b[0;34m=\u001b[0m \u001b[0mOkt\u001b[0m\u001b[0;34m(\u001b[0m\u001b[0;34m)\u001b[0m\u001b[0;34m\u001b[0m\u001b[0;34m\u001b[0m\u001b[0m\n\u001b[0m",
      "\u001b[0;31mNameError\u001b[0m: name 'Okt' is not defined"
     ]
    }
   ],
   "source": [
    "t = Okt()"
   ]
  },
  {
   "cell_type": "code",
   "execution_count": 259,
   "id": "d4d4936d",
   "metadata": {},
   "outputs": [],
   "source": [
    "word_df = need_sleep_data.loc[:, '수면장애 해결법'].apply(lambda x: t.nouns(str(x)))"
   ]
  },
  {
   "cell_type": "code",
   "execution_count": 260,
   "id": "8839a068",
   "metadata": {},
   "outputs": [],
   "source": [
    "word_list = []\n",
    "for x in word_df:\n",
    "    word_list += x\n",
    "    "
   ]
  },
  {
   "cell_type": "code",
   "execution_count": 264,
   "id": "0bbb406b",
   "metadata": {},
   "outputs": [
    {
     "data": {
      "text/plain": [
       "2760"
      ]
     },
     "execution_count": 264,
     "metadata": {},
     "output_type": "execute_result"
    }
   ],
   "source": [
    "len(word_list)"
   ]
  },
  {
   "cell_type": "code",
   "execution_count": 263,
   "id": "8ba0e093",
   "metadata": {},
   "outputs": [],
   "source": [
    "stop_words = \"때 함 것 잠 그냥\"\n",
    "stop_words = set(stop_words.split(' '))\n",
    "# 불용어를 제외한 단어만 남기기\n",
    "result = [word for word in word_list if not word in stop_words]"
   ]
  },
  {
   "cell_type": "code",
   "execution_count": 272,
   "id": "82074bd7",
   "metadata": {},
   "outputs": [],
   "source": [
    "counts = Counter(result)\n",
    "tags = counts.most_common(100)"
   ]
  },
  {
   "cell_type": "code",
   "execution_count": 277,
   "id": "fd0026e5",
   "metadata": {},
   "outputs": [
    {
     "data": {
      "text/plain": [
       "2              [잠, 방법, 효과, 그냥]\n",
       "3                 [수면, 음악, 듣기]\n",
       "4                         [일단]\n",
       "6                           []\n",
       "7                  [잠, 때, 핸드폰]\n",
       "                 ...          \n",
       "1259    [뭘, 해도, 잠, 때, 그냥, 억지로]\n",
       "1260                      [커튼]\n",
       "1262                 [유튜브, 시청]\n",
       "1263       [속, 숫자, 세리, 거나, 그냥]\n",
       "1264               [유튜브, 눈, 때]\n",
       "Name: 수면장애 해결법, Length: 914, dtype: object"
      ]
     },
     "execution_count": 277,
     "metadata": {},
     "output_type": "execute_result"
    }
   ],
   "source": [
    "word_df"
   ]
  },
  {
   "cell_type": "code",
   "execution_count": 273,
   "id": "08aa0649",
   "metadata": {},
   "outputs": [
    {
     "data": {
      "text/plain": [
       "[('유튜브', 125),\n",
       " ('수면', 98),\n",
       " ('눈', 84),\n",
       " ('유도', 60),\n",
       " ('감고', 58),\n",
       " ('영상', 53),\n",
       " ('음악', 46),\n",
       " ('계속', 42),\n",
       " ('핸드폰', 40),\n",
       " ('듣기', 38),\n",
       " ('노력', 28),\n",
       " ('밤', 28),\n",
       " ('생각', 25),\n",
       " ('노래', 24),\n",
       " ('명상', 24),\n",
       " ('낮잠', 24),\n",
       " ('휴대폰', 24),\n",
       " ('커피', 22),\n",
       " ('등', 21),\n",
       " ('운동', 21),\n",
       " ('제', 20),\n",
       " ('틀', 20),\n",
       " ('시청', 20),\n",
       " ('거나', 18),\n",
       " ('술', 18),\n",
       " ('몸', 18),\n",
       " ('해결', 18),\n",
       " ('폰', 18),\n",
       " ('쪽잠', 17),\n",
       " ('억지로', 16),\n",
       " ('뒤척', 16),\n",
       " ('자기', 16),\n",
       " ('날', 15),\n",
       " ('책', 15),\n",
       " ('다른', 14),\n",
       " ('방법', 13),\n",
       " ('다음', 13),\n",
       " ('보기', 13),\n",
       " ('소리', 13),\n",
       " ('일어나서', 13),\n",
       " ('안', 13),\n",
       " ('안대', 12),\n",
       " ('최대한', 12),\n",
       " ('물', 12),\n",
       " ('경우', 12),\n",
       " ('일', 12),\n",
       " ('포기', 11),\n",
       " ('못', 11),\n",
       " ('자세', 10),\n",
       " ('마시기', 10),\n",
       " ('시간', 10),\n",
       " ('침대', 9),\n",
       " ('하루', 9),\n",
       " ('사용', 9),\n",
       " ('밤샘', 9),\n",
       " ('복용', 9),\n",
       " ('자', 8),\n",
       " ('카페인', 8),\n",
       " ('섭취', 8),\n",
       " ('호흡', 8),\n",
       " ('일단', 7),\n",
       " ('감상', 7),\n",
       " ('넷플릭스', 7),\n",
       " ('무작정', 7),\n",
       " ('다시', 7),\n",
       " ('해', 7),\n",
       " ('일찍', 6),\n",
       " ('자지', 6),\n",
       " ('오디오북', 6),\n",
       " ('후', 6),\n",
       " ('더', 6),\n",
       " ('약', 6),\n",
       " ('자고', 6),\n",
       " ('보고', 6),\n",
       " ('공부', 6),\n",
       " ('심호흡', 6),\n",
       " ('거', 6),\n",
       " ('법', 6),\n",
       " ('우유', 6),\n",
       " ('스트레칭', 6),\n",
       " ('양', 6),\n",
       " ('멍', 6),\n",
       " ('청', 6),\n",
       " ('수면제', 5),\n",
       " ('기도', 5),\n",
       " ('스마트폰', 5),\n",
       " ('백색소음', 5),\n",
       " ('유투브', 5),\n",
       " ('기다림', 5),\n",
       " ('밤새기', 5),\n",
       " ('다가', 5),\n",
       " ('듭니', 5),\n",
       " ('숙면', 5),\n",
       " ('걸', 5),\n",
       " ('산책', 5),\n",
       " ('에너지', 5),\n",
       " ('이나', 5),\n",
       " ('라디오', 5),\n",
       " ('시도', 5),\n",
       " ('브레이', 5)]"
      ]
     },
     "execution_count": 273,
     "metadata": {},
     "output_type": "execute_result"
    }
   ],
   "source": [
    "tags"
   ]
  },
  {
   "cell_type": "code",
   "execution_count": 274,
   "id": "0e217e04",
   "metadata": {},
   "outputs": [],
   "source": [
    "font = '/Library/Fonts/NanumSquareOTFLight.otf'"
   ]
  },
  {
   "cell_type": "code",
   "execution_count": 275,
   "id": "270d042e",
   "metadata": {},
   "outputs": [],
   "source": [
    "from wordcloud import WordCloud\n",
    "word_cloud = WordCloud(font_path=font,background_color='black',max_font_size=400, colormap='prism').generate_from_frequencies(dict(tags))"
   ]
  },
  {
   "cell_type": "code",
   "execution_count": 276,
   "id": "35874101",
   "metadata": {},
   "outputs": [
    {
     "data": {
      "text/plain": [
       "(-0.5, 399.5, 199.5, -0.5)"
      ]
     },
     "execution_count": 276,
     "metadata": {},
     "output_type": "execute_result"
    },
    {
     "data": {
      "image/png": "[encoded data removed]",
      "text/plain": [
       "<Figure size 720x576 with 1 Axes>"
      ]
     },
     "metadata": {
      "needs_background": "light"
     },
     "output_type": "display_data"
    }
   ],
   "source": [
    "import matplotlib.pyplot as plt\n",
    "plt.figure(figsize=(10,8))\n",
    "plt.imshow(word_cloud)\n",
    "plt.axis('off')"
   ]
  },
  {
   "cell_type": "code",
   "execution_count": 288,
   "id": "19b816da",
   "metadata": {},
   "outputs": [],
   "source": [
    "def check_word(x):\n",
    "    for word in x:\n",
    "        if word in ['유튜브', '수면', '눈', '유도']:\n",
    "            return True\n",
    "    return False"
   ]
  },
  {
   "cell_type": "code",
   "execution_count": 289,
   "id": "7d4eb095",
   "metadata": {},
   "outputs": [],
   "source": [
    "# 유튜브, 수면, 눈, 유도 어떤 문장들이 있는지 보기 \n",
    "new_idx = word_df.apply(check_word)"
   ]
  },
  {
   "cell_type": "code",
   "execution_count": 294,
   "id": "2c33a4aa",
   "metadata": {},
   "outputs": [],
   "source": [
    "need_sleep_data[new_idx]['수면장애 해결법'].to_csv(\"수면장애해결법.csv\", encoding='utf-8')"
   ]
  }
 ],
 "metadata": {
  "kernelspec": {
   "display_name": "Python 3 (ipykernel)",
   "language": "python",
   "name": "python3"
  },
  "language_info": {
   "codemirror_mode": {
    "name": "ipython",
    "version": 3
   },
   "file_extension": ".py",
   "mimetype": "text/x-python",
   "name": "python",
   "nbconvert_exporter": "python",
   "pygments_lexer": "ipython3",
   "version": "3.8.12"
  },
  "toc": {
   "base_numbering": 1,
   "nav_menu": {},
   "number_sections": true,
   "sideBar": true,
   "skip_h1_title": false,
   "title_cell": "Table of Contents",
   "title_sidebar": "Contents",
   "toc_cell": false,
   "toc_position": {},
   "toc_section_display": true,
   "toc_window_display": false
  },
  "varInspector": {
   "cols": {
    "lenName": 16,
    "lenType": 16,
    "lenVar": 40
   },
   "kernels_config": {
    "python": {
     "delete_cmd_postfix": "",
     "delete_cmd_prefix": "del ",
     "library": "var_list.py",
     "varRefreshCmd": "print(var_dic_list())"
    },
    "r": {
     "delete_cmd_postfix": ") ",
     "delete_cmd_prefix": "rm(",
     "library": "var_list.r",
     "varRefreshCmd": "cat(var_dic_list()) "
    }
   },
   "types_to_exclude": [
    "module",
    "function",
    "builtin_function_or_method",
    "instance",
    "_Feature"
   ],
   "window_display": false
  }
 },
 "nbformat": 4,
 "nbformat_minor": 5
}
